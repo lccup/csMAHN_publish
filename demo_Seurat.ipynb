{
 "cells": [
  {
   "cell_type": "markdown",
   "id": "fef8cbcf-b11d-4530-8623-d8440e68b497",
   "metadata": {},
   "source": [
    "# demo_Seurat"
   ]
  },
  {
   "cell_type": "code",
   "execution_count": 1,
   "id": "22e9a1b0-c9de-4c67-a5de-7a2fee98d390",
   "metadata": {},
   "outputs": [
    {
     "name": "stderr",
     "output_type": "stream",
     "text": [
      "── \u001b[1mAttaching core tidyverse packages\u001b[22m ──────────────────────── tidyverse 2.0.0 ──\n",
      "\u001b[32m✔\u001b[39m \u001b[34mdplyr    \u001b[39m 1.1.4     \u001b[32m✔\u001b[39m \u001b[34mreadr    \u001b[39m 2.1.5\n",
      "\u001b[32m✔\u001b[39m \u001b[34mforcats  \u001b[39m 1.0.0     \u001b[32m✔\u001b[39m \u001b[34mstringr  \u001b[39m 1.5.1\n",
      "\u001b[32m✔\u001b[39m \u001b[34mggplot2  \u001b[39m 3.5.0     \u001b[32m✔\u001b[39m \u001b[34mtibble   \u001b[39m 3.2.1\n",
      "\u001b[32m✔\u001b[39m \u001b[34mlubridate\u001b[39m 1.9.3     \u001b[32m✔\u001b[39m \u001b[34mtidyr    \u001b[39m 1.3.1\n",
      "\u001b[32m✔\u001b[39m \u001b[34mpurrr    \u001b[39m 1.0.2     \n",
      "── \u001b[1mConflicts\u001b[22m ────────────────────────────────────────── tidyverse_conflicts() ──\n",
      "\u001b[31m✖\u001b[39m \u001b[34mdplyr\u001b[39m::\u001b[32mfilter()\u001b[39m masks \u001b[34mstats\u001b[39m::filter()\n",
      "\u001b[31m✖\u001b[39m \u001b[34mdplyr\u001b[39m::\u001b[32mlag()\u001b[39m    masks \u001b[34mstats\u001b[39m::lag()\n",
      "\u001b[36mℹ\u001b[39m Use the conflicted package (\u001b[3m\u001b[34m<http://conflicted.r-lib.org/>\u001b[39m\u001b[23m) to force all conflicts to become errors\n",
      "Loading required package: SeuratObject\n",
      "\n",
      "Loading required package: sp\n",
      "\n",
      "‘SeuratObject’ was built under R 4.3.2 but the current version is\n",
      "4.3.3; it is recomended that you reinstall ‘SeuratObject’ as the ABI\n",
      "for R may have changed\n",
      "\n",
      "‘SeuratObject’ was built with package ‘Matrix’ 1.6.3 but the current\n",
      "version is 1.6.5; it is recomended that you reinstall ‘SeuratObject’ as\n",
      "the ABI for ‘Matrix’ may have changed\n",
      "\n",
      "\n",
      "Attaching package: ‘SeuratObject’\n",
      "\n",
      "\n",
      "The following object is masked from ‘package:base’:\n",
      "\n",
      "    intersect\n",
      "\n",
      "\n"
     ]
    },
    {
     "name": "stdout",
     "output_type": "stream",
     "text": [
      "\n",
      "> function----------------------------------------\n",
      "serurat_to_mtx\n",
      "\n",
      "> Map_Seruat function-----------------------------\n",
      "Map_Seruat_normalize\n",
      "Map_Seruat_cluster\n",
      "Map_Seruat_mapquery\n",
      "precess_after_Seurat\n",
      "run_Seurat\t\t\t[simply]\n",
      "\n",
      "> other-------------------------------------------\n",
      "get_path_varmap\n"
     ]
    }
   ],
   "source": [
    "# p_root must be definded before source the r script\n",
    "p_root = file.path('.')\n",
    "source(file.path(p_root,'func_r_map_seruat.r'))"
   ]
  },
  {
   "cell_type": "code",
   "execution_count": 2,
   "id": "1993bd16-cea5-4529-b5fa-5f5f14721e75",
   "metadata": {
    "scrolled": true
   },
   "outputs": [
    {
     "name": "stderr",
     "output_type": "stream",
     "text": [
      "\u001b[1mRows: \u001b[22m\u001b[34m1\u001b[39m \u001b[1mColumns: \u001b[22m\u001b[34m10\u001b[39m\n",
      "\u001b[36m──\u001b[39m \u001b[1mColumn specification\u001b[22m \u001b[36m────────────────────────────────────────────────────────\u001b[39m\n",
      "\u001b[1mDelimiter:\u001b[22m \",\"\n",
      "\u001b[31mchr\u001b[39m (10): tissue, sp_ref, path_ref, name_ref, sp_simple_ref, sp_que, path_qu...\n",
      "\n",
      "\u001b[36mℹ\u001b[39m Use `spec()` to retrieve the full column specification for this data.\n",
      "\u001b[36mℹ\u001b[39m Specify the column types or set `show_col_types = FALSE` to quiet this message.\n"
     ]
    },
    {
     "data": {
      "text/html": [
       "<table class=\"dataframe\">\n",
       "<caption>A tibble: 1 × 10</caption>\n",
       "<thead>\n",
       "\t<tr><th scope=col>tissue</th><th scope=col>sp_ref</th><th scope=col>path_ref</th><th scope=col>name_ref</th><th scope=col>sp_simple_ref</th><th scope=col>sp_que</th><th scope=col>path_que</th><th scope=col>name_que</th><th scope=col>sp_simple_que</th><th scope=col>key_cell_type</th></tr>\n",
       "\t<tr><th scope=col>&lt;chr&gt;</th><th scope=col>&lt;chr&gt;</th><th scope=col>&lt;chr&gt;</th><th scope=col>&lt;chr&gt;</th><th scope=col>&lt;chr&gt;</th><th scope=col>&lt;chr&gt;</th><th scope=col>&lt;chr&gt;</th><th scope=col>&lt;chr&gt;</th><th scope=col>&lt;chr&gt;</th><th scope=col>&lt;chr&gt;</th></tr>\n",
       "</thead>\n",
       "<tbody>\n",
       "\t<tr><td>LC</td><td>human</td><td>./run/cache/disease/LC_h_DendriticCells</td><td>LChDCs</td><td>h</td><td>mouse</td><td>./run/cache/disease/LC_m_DendriticCells</td><td>LCmDCs</td><td>m</td><td>sub_cell_type</td></tr>\n",
       "</tbody>\n",
       "</table>\n"
      ],
      "text/latex": [
       "A tibble: 1 × 10\n",
       "\\begin{tabular}{llllllllll}\n",
       " tissue & sp\\_ref & path\\_ref & name\\_ref & sp\\_simple\\_ref & sp\\_que & path\\_que & name\\_que & sp\\_simple\\_que & key\\_cell\\_type\\\\\n",
       " <chr> & <chr> & <chr> & <chr> & <chr> & <chr> & <chr> & <chr> & <chr> & <chr>\\\\\n",
       "\\hline\n",
       "\t LC & human & ./run/cache/disease/LC\\_h\\_DendriticCells & LChDCs & h & mouse & ./run/cache/disease/LC\\_m\\_DendriticCells & LCmDCs & m & sub\\_cell\\_type\\\\\n",
       "\\end{tabular}\n"
      ],
      "text/markdown": [
       "\n",
       "A tibble: 1 × 10\n",
       "\n",
       "| tissue &lt;chr&gt; | sp_ref &lt;chr&gt; | path_ref &lt;chr&gt; | name_ref &lt;chr&gt; | sp_simple_ref &lt;chr&gt; | sp_que &lt;chr&gt; | path_que &lt;chr&gt; | name_que &lt;chr&gt; | sp_simple_que &lt;chr&gt; | key_cell_type &lt;chr&gt; |\n",
       "|---|---|---|---|---|---|---|---|---|---|\n",
       "| LC | human | ./run/cache/disease/LC_h_DendriticCells | LChDCs | h | mouse | ./run/cache/disease/LC_m_DendriticCells | LCmDCs | m | sub_cell_type |\n",
       "\n"
      ],
      "text/plain": [
       "  tissue sp_ref path_ref                                name_ref sp_simple_ref\n",
       "1 LC     human  ./run/cache/disease/LC_h_DendriticCells LChDCs   h            \n",
       "  sp_que path_que                                name_que sp_simple_que\n",
       "1 mouse  ./run/cache/disease/LC_m_DendriticCells LCmDCs   m            \n",
       "  key_cell_type\n",
       "1 sub_cell_type"
      ]
     },
     "metadata": {},
     "output_type": "display_data"
    }
   ],
   "source": [
    "df_para <- read_csv('parameter_demo.csv')\n",
    " \n",
    "df_para = df_para %>% mutate(\n",
    "    path_ref = file.path(p_cache,path_ref),\n",
    "    path_que = file.path(p_cache,path_que)\n",
    ")\n",
    "# cat(df_para %>% colnames(), sep = \"\\n\")\n",
    "df_para"
   ]
  },
  {
   "cell_type": "code",
   "execution_count": 3,
   "id": "cec27447-1a34-45df-b243-d5a9f74b1c40",
   "metadata": {},
   "outputs": [],
   "source": [
    "run = function(tissue,\n",
    "    sp_ref,path_ref,name_ref,sp_simple_ref,\n",
    "    sp_que,path_que,name_que,sp_simple_que,\n",
    "    key_cell_type,aligned)\n",
    "{\n",
    "    is_1v1 = TRUE\n",
    "    path_varmap = get_path_varmap(sp_ref,sp_que)\n",
    "    cat(sprintf('\\n[path_varmap] %s\\n',path_varmap))\n",
    "    \n",
    "    dims = 1:20\n",
    "    resolution = 0.1\n",
    "    refdata = list(\".\" = key_cell_type)\n",
    "    \n",
    "    # Seurat;pancreas_human-map-pancreas_mouse\n",
    "    resdir_tag = sprintf('Seurat;%s-map-%s;is_1v1=True',\n",
    "                        name_ref,name_que)\n",
    "    resdir = p_res\n",
    "    # cat(sprintf('\\n[resdir_tag] %s\\n',resdir_tag))\n",
    "    # print(c(dir.exists(path_ref),dir.exists(path_que),file.exists(path_varmap)))\n",
    "    run_Seurat(\n",
    "        path_adata1 = path_ref,\n",
    "        path_adata2 = path_que,        \n",
    "        path_varmap=path_varmap,\n",
    "        key_class1=key_cell_type,\n",
    "        key_class2=key_cell_type,\n",
    "        sp1=sp_simple_ref,sp2=sp_simple_que,\n",
    "        tissue_name = tissue,\n",
    "        resdir=resdir,resdir_tag=resdir_tag,\n",
    "        dims=dims,\n",
    "        resolution=resolution,\n",
    "        refdata=refdata, aligned =aligned ,is_1v1=is_1v1\n",
    "    )\n",
    "}\n",
    "\n",
    "\n",
    "    \n",
    "\n",
    "# for healty\n",
    "run_aligned = function(tissue,\n",
    "    sp_ref,path_ref,name_ref,sp_simple_ref,\n",
    "    sp_que,path_que,name_que,sp_simple_que,\n",
    "    key_cell_type)\n",
    "{\n",
    "    run(tissue,\n",
    "        sp_ref,path_ref,name_ref,sp_simple_ref,\n",
    "        sp_que,path_que,name_que,sp_simple_que,\n",
    "        key_cell_type,aligned=TRUE)\n",
    "}\n",
    "# for disease LC,Mtb,RA\n",
    "run_not_aligned = function(tissue,\n",
    "    sp_ref,path_ref,name_ref,sp_simple_ref,\n",
    "    sp_que,path_que,name_que,sp_simple_que,\n",
    "    key_cell_type)\n",
    "{\n",
    "    run(tissue,\n",
    "        sp_ref,path_ref,name_ref,sp_simple_ref,\n",
    "        sp_que,path_que,name_que,sp_simple_que,\n",
    "        key_cell_type,aligned=FALSE)\n",
    "}"
   ]
  },
  {
   "cell_type": "code",
   "execution_count": 4,
   "id": "cb275838-c2bd-4690-a425-28a482742ff4",
   "metadata": {},
   "outputs": [
    {
     "data": {
      "text/html": [
       "<table class=\"dataframe\">\n",
       "<caption>A tibble: 1 × 10</caption>\n",
       "<thead>\n",
       "\t<tr><th scope=col>tissue</th><th scope=col>sp_ref</th><th scope=col>path_ref</th><th scope=col>name_ref</th><th scope=col>sp_simple_ref</th><th scope=col>sp_que</th><th scope=col>path_que</th><th scope=col>name_que</th><th scope=col>sp_simple_que</th><th scope=col>key_cell_type</th></tr>\n",
       "\t<tr><th scope=col>&lt;chr&gt;</th><th scope=col>&lt;chr&gt;</th><th scope=col>&lt;chr&gt;</th><th scope=col>&lt;chr&gt;</th><th scope=col>&lt;chr&gt;</th><th scope=col>&lt;chr&gt;</th><th scope=col>&lt;chr&gt;</th><th scope=col>&lt;chr&gt;</th><th scope=col>&lt;chr&gt;</th><th scope=col>&lt;chr&gt;</th></tr>\n",
       "</thead>\n",
       "<tbody>\n",
       "\t<tr><td>demo</td><td>human</td><td>./run/cache/disease/LC_h_DendriticCells</td><td>LChDCs</td><td>h</td><td>mouse</td><td>./run/cache/disease/LC_m_DendriticCells</td><td>LCmDCs</td><td>m</td><td>sub_cell_type</td></tr>\n",
       "</tbody>\n",
       "</table>\n"
      ],
      "text/latex": [
       "A tibble: 1 × 10\n",
       "\\begin{tabular}{llllllllll}\n",
       " tissue & sp\\_ref & path\\_ref & name\\_ref & sp\\_simple\\_ref & sp\\_que & path\\_que & name\\_que & sp\\_simple\\_que & key\\_cell\\_type\\\\\n",
       " <chr> & <chr> & <chr> & <chr> & <chr> & <chr> & <chr> & <chr> & <chr> & <chr>\\\\\n",
       "\\hline\n",
       "\t demo & human & ./run/cache/disease/LC\\_h\\_DendriticCells & LChDCs & h & mouse & ./run/cache/disease/LC\\_m\\_DendriticCells & LCmDCs & m & sub\\_cell\\_type\\\\\n",
       "\\end{tabular}\n"
      ],
      "text/markdown": [
       "\n",
       "A tibble: 1 × 10\n",
       "\n",
       "| tissue &lt;chr&gt; | sp_ref &lt;chr&gt; | path_ref &lt;chr&gt; | name_ref &lt;chr&gt; | sp_simple_ref &lt;chr&gt; | sp_que &lt;chr&gt; | path_que &lt;chr&gt; | name_que &lt;chr&gt; | sp_simple_que &lt;chr&gt; | key_cell_type &lt;chr&gt; |\n",
       "|---|---|---|---|---|---|---|---|---|---|\n",
       "| demo | human | ./run/cache/disease/LC_h_DendriticCells | LChDCs | h | mouse | ./run/cache/disease/LC_m_DendriticCells | LCmDCs | m | sub_cell_type |\n",
       "\n"
      ],
      "text/plain": [
       "  tissue sp_ref path_ref                                name_ref sp_simple_ref\n",
       "1 demo   human  ./run/cache/disease/LC_h_DendriticCells LChDCs   h            \n",
       "  sp_que path_que                                name_que sp_simple_que\n",
       "1 mouse  ./run/cache/disease/LC_m_DendriticCells LCmDCs   m            \n",
       "  key_cell_type\n",
       "1 sub_cell_type"
      ]
     },
     "metadata": {},
     "output_type": "display_data"
    }
   ],
   "source": [
    "df_para = df_para %>% mutate(\n",
    "    tissue = 'demo'\n",
    ")\n",
    "df_para"
   ]
  },
  {
   "cell_type": "code",
   "execution_count": 5,
   "id": "c36303d5-7733-46f5-83fd-407cd60368f6",
   "metadata": {},
   "outputs": [
    {
     "name": "stdout",
     "output_type": "stream",
     "text": [
      "\n",
      "[path_varmap] ./homo/human_to_mouse.txt\n",
      "[has finish] ./res/demo_h-corss-m;Seurat;LChDCs-map-LCmDCs;is_1v1=True\n"
     ]
    }
   ],
   "source": [
    "df_para %>% pwalk(run_not_aligned)"
   ]
  },
  {
   "cell_type": "code",
   "execution_count": 6,
   "id": "cb8e8dca-8b03-41c1-85f8-2132bda7b364",
   "metadata": {},
   "outputs": [
    {
     "name": "stdout",
     "output_type": "stream",
     "text": [
      "\n",
      "[finish]\n"
     ]
    }
   ],
   "source": [
    "cat('\\n[finish]\\n')"
   ]
  }
 ],
 "metadata": {
  "kernelspec": {
   "display_name": "R_publish",
   "language": "R",
   "name": "r_publish"
  },
  "language_info": {
   "codemirror_mode": "r",
   "file_extension": ".r",
   "mimetype": "text/x-r-source",
   "name": "R",
   "pygments_lexer": "r",
   "version": "4.3.3"
  }
 },
 "nbformat": 4,
 "nbformat_minor": 5
}
