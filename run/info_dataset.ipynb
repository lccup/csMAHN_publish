{
 "cells": [
  {
   "cell_type": "markdown",
   "id": "9ac20ea0-0946-4344-9b71-4529dbfc1f49",
   "metadata": {},
   "source": [
    "# info dataset\n",
    "\n",
    "dataset 的信息和超链接"
   ]
  },
  {
   "cell_type": "markdown",
   "id": "d50f9796-4000-4d0b-a715-54f0c95cf7c6",
   "metadata": {},
   "source": [
    "# healthy"
   ]
  },
  {
   "cell_type": "markdown",
   "id": "f48160c9-df6d-4888-947c-83c672191e21",
   "metadata": {},
   "source": [
    "## HCL and MCA\n",
    "\n",
    "[HCL](https://bis.zju.edu.cn/HCL/gallery.html)\n",
    "\n",
    "[MCA](https://bis.zju.edu.cn/MCA/gallery.html)"
   ]
  },
  {
   "cell_type": "markdown",
   "id": "0ae7d3c3-81d2-46fa-b12d-488a5c20cd24",
   "metadata": {},
   "source": [
    "## Retina\n",
    "\n",
    "> [came PMC9977153](https://www.ncbi.nlm.nih.gov/pmc/articles/PMC9977153/)\n",
    ">> For distant species, the markers of homologous cell types can be quite diverse. For example, for the major cell types in the retina defined by scRNA-seq data, there are only a few shared DEGs for human, mouse, chicken, and zebrafish (Supplemental Fig. S16A), which limits the performance of many marker-based methods for cross-species cell-type assignment. Here we took the retinal scRNA-seq data of **adult zebrafish (Hoang et al. 2020) as the reference**, and applied CAME to assign the retinal cells for two distant species, **human (Menon et al. 2019)** and **mouse (Macosko et al. 2015)**, and a nonmodel species, **chick (Hoang et al. 2020)**\n",
    "\n",
    "+ [zebrafish and chick | Hoang et al. 2020](https://www.ncbi.nlm.nih.gov/pmc/articles/PMC7899183/)\n",
    "+ [mouse | Macosko et al. 2015](https://www.ncbi.nlm.nih.gov/pmc/articles/PMC4481139/)\n",
    "+ [human | Menon et al. 2019](https://www.ncbi.nlm.nih.gov/pmc/articles/PMC6814749/)\n",
    "    > [healthy]Retinas collected for this study had no known retinal disease and no abnormalities indicative of disease pathology\n",
    "\n",
    "|Dataset|Organism|Organ|Platform|Number of cells|\n",
    "|:-:|:-:|:-:|:-:|:-:|\n",
    "|Menon_microfluidics|Homo sapiens|Retina|microfluidics|20,091|\n",
    "\n",
    "[GSE137846](https://www.ncbi.nlm.nih.gov/geo/query/acc.cgi?acc=GSE137846)\n",
    "```\n",
    "GSM4089762\tMacula retina 6hr Seq-Well 视网膜黄斑\n",
    "GSM4089763\tPeripheral retina 6hr Seq-Well 视网膜外周\n",
    "GSM4089764\tMacula retina 8hr Seq-Well\n",
    "GSM4089765\tPeripheral retina 8hr Seq-Well\n",
    "GSM4089766\tMacula retina 24hr Seq-Well read 1\n",
    "```\n"
   ]
  },
  {
   "cell_type": "markdown",
   "id": "f29c8e37-00b6-486f-aee7-a566f34eb8a7",
   "metadata": {},
   "source": [
    "# disease\n",
    "\n",
    "## LC\n",
    "\n",
    "> human and mouse [Immunity;PMC6620049](https://www.ncbi.nlm.nih.gov/pmc/articles/PMC6620049/)\n",
    "\n",
    "[GSE127465](https://www.ncbi.nlm.nih.gov/geo/query/acc.cgi?acc=GSE127465)\n",
    "\n",
    "\n",
    "\n",
    "|sp|tissue|status|\n",
    "|:-:|:-:|:-:|\n",
    "|h|blood|tumor|\n",
    "|h|liver|tumor|\n",
    "|m|liver|tumor|\n",
    "|m|liver|healthy|\n",
    "\n",
    "\n",
    "+ immue cell 大类群\n",
    "+ immue cell 亚类\n",
    "    + Neutrophil\n",
    "    + Dendritic Cells\n",
    "    + Monocyte"
   ]
  },
  {
   "cell_type": "markdown",
   "id": "02b37fdd-9aa1-4b59-a996-0723c931728b",
   "metadata": {},
   "source": [
    "## RA\n",
    "||link|aricle|note|\n",
    "|:-|:-|:-|:-|\n",
    "|human SDY997|[human Amp-Phase-1](https://singlecell.broadinstitute.org/single_cell/study/SCP279/amp-phase-1);[human SDY997](https://www.immport.org/shared/study/SDY997)|[Nat Immunol;PMID:31061532](https://www.ncbi.nlm.nih.gov/pmc/articles/PMC6602051/)||\n",
    "|mouse GSE145286|[mouse RA_GSE145286](https://www.ncbi.nlm.nih.gov/geo/query/acc.cgi?acc=GSE145286);[mouse RA_SCP469](https://singlecell.broadinstitute.org/single_cell/study/SCP469/synovial-fibroblast-positional-identity-controlled-by-inductive-notch-signaling-underlies-pathologic-damage-in-inflammatory-arthritis?cluster=UMAP%20mouse&spatialGroups=--&annotation=cell_type--group--study&subsample=all#study-visualize)|[Nature;PMID: 32499639](https://www.ncbi.nlm.nih.gov/pmc/articles/PMC7841716/)||"
   ]
  },
  {
   "cell_type": "markdown",
   "id": "d814a33f-c2d8-419c-bba7-8f7ccd2d0814",
   "metadata": {},
   "source": [
    "\n",
    "## Mtb\n",
    "\n",
    "||link|aricle|note|\n",
    "|:-|:-|:-|:-|\n",
    "|Mtb mouse and human|[Mtb_mh_GSE167232](https://www.ncbi.nlm.nih.gov/geo/query/acc.cgi?acc=GSE167232)|[J Exp Med; PMC8302446](https://www.ncbi.nlm.nih.gov/pmc/articles/PMC8302446/)||\n",
    "|Mtb_macaque|[Mtb_macaque_SCP642](https://singlecell.broadinstitute.org/single_cell/study/SCP642/cd8-lymphocytes-are-critical-for-early-control-of-tuberculosis-in-macaques#study-download)|[J Exp Med;PMID: 37843832](https://pubmed.ncbi.nlm.nih.gov/37843832/)||\n",
    "|COVVID_macaque-time|[GSE190659](https://www.ncbi.nlm.nih.gov/geo/query/acc.cgi?acc=GSE190659)|[PMID: 35115549](https://www.ncbi.nlm.nih.gov/pmc/articles/PMC8814034/)||\n",
    "|COVID_macaque (抛弃)|[COVID_macaque_GSE217483](https://www.ncbi.nlm.nih.gov/geo/query/acc.cgi?acc=GSE217483)|[Zool Res;PMC9700497](https://www.ncbi.nlm.nih.gov/pmc/articles/PMC9700497/)||\n"
   ]
  },
  {
   "cell_type": "markdown",
   "id": "7092d90f-7865-43b0-aa51-b187ef068598",
   "metadata": {
    "jp-MarkdownHeadingCollapsed": true
   },
   "source": [
    "## LN\n",
    "\n",
    "\n",
    "||link|aricle|note|\n",
    "|:-|:-|:-|:-|\n",
    "|human|[SDY997](https://www.immport.org/shared/study/SDY997);[Single Cell Protal: amp-phase-1 (t_SNE coordinates )](https://portals.broadinstitute.org/single_cell/study/amp-phase-1)|[PMID: 31209404](https://www.ncbi.nlm.nih.gov/pmc/articles/PMC6726437/)||\n",
    "|healthy mouse|[GSE107585](https://www.ncbi.nlm.nih.gov/geo/query/acc.cgi?acc=GSE107585)|[PMID: 29622724](https://www.ncbi.nlm.nih.gov/pmc/articles/PMC6188645/)||\n",
    "|SLE_GSE255441_未见刊|[SLE_GSE255441](https://www.ncbi.nlm.nih.gov/geo/query/acc.cgi?acc=GSE255441)|[PMID: 31209404](https://www.ncbi.nlm.nih.gov/pmc/articles/PMC6726437/)||\n",
    "\n",
    "kidney samples from pristane-induced **C57BL/6j lupus mice** treated with saline (n=2) and fecal microbiota transplanation (FMT) from MRL/MpJ mice (n=3)\n",
    "\n",
    "\n",
    "使用了它提供的基因集计算ISG-score"
   ]
  },
  {
   "cell_type": "markdown",
   "id": "b8b8d8e2-d5df-4000-b507-6d7d92601b24",
   "metadata": {},
   "source": [
    "## COVID\n",
    "\n",
    "\n",
    "[GEO Search COVID](https://www.ncbi.nlm.nih.gov/gds/?term=(scRNA)+AND+(COVID+or+SARS-CoV-2+)+AND+(Homo+sapiens%5BOrganism%5D))\n",
    "\n",
    "P3 has finished\n",
    "\n",
    "\n",
    "|dir|link|aricle|note|\n",
    "|:-|:-|:-|:-|\n",
    "|COVID_macaque-time|[GSE190659](https://www.ncbi.nlm.nih.gov/geo/query/acc.cgi?acc=GSE190659)|[PMID: 35115549](https://www.ncbi.nlm.nih.gov/pmc/articles/PMC8814034/)||\n",
    "|COVID_macaque (抛弃)|[GSE217483](https://www.ncbi.nlm.nih.gov/geo/query/acc.cgi?acc=GSE217483)|[PMC9700497](https://www.ncbi.nlm.nih.gov/pmc/articles/PMC9700497/)||\n",
    "|COVID_hu_GSE157344|[GSE157344](https://www.ncbi.nlm.nih.gov/geo/query/acc.cgi?acc=GSE157344)|[PMID: 33674591](https://www.ncbi.nlm.nih.gov/pmc/articles/PMC7935849/)|血液/支气管肺泡灌洗液|\n",
    "|COVID_hu_GSE145926|[GSE145926](https://www.ncbi.nlm.nih.gov/geo/query/acc.cgi?acc=GSE145926)|[PMID: 32398875](https://pubmed.ncbi.nlm.nih.gov/32398875/)|支气管肺泡灌洗液|\n",
    "|COVID_hu_GSE200562 (抛弃)|[GSE200562](https://www.ncbi.nlm.nih.gov/geo/query/acc.cgi?acc=GSE200562)||小鼠过继人类巨噬细胞|\n",
    "|COVID_hu_GSE155900|[GSE155900](https://www.ncbi.nlm.nih.gov/geo/query/acc.cgi?acc=GSE155900)|[PMID: 34047474](https://www.ncbi.nlm.nih.gov/pmc/articles/PMC8140187/)|成人/儿童 肺|\n",
    "|COVID_hu_GSE161382|[GSE161382](https://www.ncbi.nlm.nih.gov/geo/query/acc.cgi?acc=GSE161382)|[PMID: 33164753](https://www.ncbi.nlm.nih.gov/pmc/articles/PMC7688309/)|早产儿/儿童/成人 肺 snRNA-seq|"
   ]
  }
 ],
 "metadata": {
  "kernelspec": {
   "display_name": "publish",
   "language": "python",
   "name": "publish"
  },
  "language_info": {
   "codemirror_mode": {
    "name": "ipython",
    "version": 3
   },
   "file_extension": ".py",
   "mimetype": "text/x-python",
   "name": "python",
   "nbconvert_exporter": "python",
   "pygments_lexer": "ipython3",
   "version": "3.9.18"
  }
 },
 "nbformat": 4,
 "nbformat_minor": 5
}
