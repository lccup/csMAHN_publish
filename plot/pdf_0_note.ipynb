{
 "cells": [
  {
   "cell_type": "markdown",
   "id": "be1ee6d7-f2c6-427b-b967-469f850e4d44",
   "metadata": {},
   "source": [
    "# pdf_note\n",
    "\n",
    "已发现的软件包引用\n",
    "\n",
    "sns\n",
    "\n",
    "EnrichAnalysis"
   ]
  },
  {
   "cell_type": "markdown",
   "id": "d2e81882-a98c-4e05-b5f0-0d22de0e8970",
   "metadata": {
    "jp-MarkdownHeadingCollapsed": true
   },
   "source": [
    "## LC\n",
    "\n",
    "+ marker 上方的条可更改为对应细胞类型的颜色\n",
    "\n",
    "> LCall\n",
    "\n",
    "|cell_type|marker|gn_human|gn_mouse|\n",
    "|:-|:-|:-|:-|\n",
    "|mast cell|[CD203c](https://www.ncbi.nlm.nih.gov/gene/?term=CD203c)|ENPP3|Enpp1|\n",
    "||[CD117](https://www.ncbi.nlm.nih.gov/gene/?term=CD117)|KIT|Kit|\n",
    "||[FcεRIα](https://www.ncbi.nlm.nih.gov/gene/?term=FcεRIα) |FCER1A|Fcer1a|\n",
    "|Basophils|[CD49b](https://www.ncbi.nlm.nih.gov/gene/?term=CD49b)|ITGA2|Itga2|\n",
    "||[Fc-epsilon](https://www.ncbi.nlm.nih.gov/gene/?term=Fc-epsilon)|FCER1G|Fcer1g|"
   ]
  },
  {
   "cell_type": "markdown",
   "id": "f1218110-a17e-440d-a768-32a225e2c183",
   "metadata": {
    "jp-MarkdownHeadingCollapsed": true
   },
   "source": [
    "# Mtb\n",
    "\n",
    "未查找到肺部胞外感染Macaque的单细胞数据\n",
    "\n",
    "+ SIV（对应人类的HIV）\n",
    "+ 移植物抗宿主病 （GvHD）\n",
    "+ EBOV（埃博拉）\n",
    "+ 疟原虫,血液[GSE190659](https://www.ncbi.nlm.nih.gov/geo/query/acc.cgi?acc=GSE190659)\n",
    "\n",
    "“with AM being CD64+MerTK+SiglecF+ and IM CD64+MerTK+SiglecF−” ([Pisu 等, 2021, p. 2](zotero://select/library/items/4L7WFC75)) ([pdf](zotero://open-pdf/library/items/KP8VABJ4?page=2&annotation=M9NS9E64))\n",
    "\n",
    "|cell_type|marker|gn_mouse|gn_human|gn_macaque|note|\n",
    "|:-|:-|:-|:-|:-|:-|\n",
    "||Siglecf|Siglecf|SIGLEC6,CD33|SIGLEC6,CD33|m2m|\n",
    "\n",
    "|cell_type|marker|gn_mouse|gn_human|gn_macaque|note|\n",
    "|:-|:-|:-|:-|:-|:-|\n",
    "|||||||\n",
    "||CD11b|Itgam|ITGAM|ITGAM||\n",
    "||CD11c|Itgax|ITGAX|ITGAX||\n"
   ]
  },
  {
   "cell_type": "markdown",
   "id": "7e7869ec-6912-4b93-b3ca-5a419a8eb73e",
   "metadata": {},
   "source": [
    "# LN\n",
    "\n",
    "+ B cell的饼图，的标签位置调一调，尤其是那个SLE的标签\n",
    "+ UMAP似乎可以再小一些,可以考虑5\\*5 或者 6\\*6\n",
    "\n",
    "[cellsignal:人类免疫细胞标志物指南](https://www.cellsignal.cn/pathways/immune-cell-markers-human)\n",
    "\n",
    "[cellsignal:小鼠免疫细胞标志物指南](https://www.cellsignal.cn/pathways/immune-cell-markers-mouse)\n",
    "\n",
    "|cell_type|sub_cell_type|marker|gn_human|gn_mouse|\n",
    "|:-|:-|:-|:-|:-|\n",
    "|B cell||[CD19](https://www.ncbi.nlm.nih.gov/gene/?term=CD19)|CD19|Cd19|\n",
    "||naive|[IgD](https://www.ncbi.nlm.nih.gov/gene/?term=IgD)|IGHD|Ighd|\n",
    "||plasma cell|[Cd138](https://www.ncbi.nlm.nih.gov/gene/?term=cd138)|SDC1|Sdc1|\n",
    "|||[BCMA](https://www.ncbi.nlm.nih.gov/gene/?term=BCMA)|TNFRSF17|Tnfrsf17|\n",
    "|T cell||[CD3](https://www.ncbi.nlm.nih.gov/gene/?term=CD3)|CD3D,CD3E,CD3G|Cd3d,Cd3e,Cd3g|\n",
    "||naive|[CD62L](https://www.ncbi.nlm.nih.gov/gene/?term=CD62L)|SELL|Sell|\n",
    "|||[CD45R](https://www.ncbi.nlm.nih.gov/gene/?term=CD45R)|PTPRC|Ptprc|\n",
    "||activate|[CD69](https://www.ncbi.nlm.nih.gov/gene/?term=CD69)|CD69|Cd69|\n",
    "|||[CD25](https://www.ncbi.nlm.nih.gov/gene/?term=CD25)|IL2RA|Il2ra|\n",
    "\n",
    "\n"
   ]
  },
  {
   "cell_type": "markdown",
   "id": "966175b2-d5f6-474b-b998-b20ca65d1e10",
   "metadata": {},
   "source": [
    "[thermofisher:Th1](https://www.thermofisher.cn/cn/zh/home/life-science/cell-analysis/cell-analysis-learning-center/immunology-at-work/t-helper-1-cell-overview.html)\n",
    "\n",
    "[thermofisher:Th2](https://www.thermofisher.cn/cn/zh/home/life-science/cell-analysis/cell-analysis-learning-center/immunology-at-work/t-helper-2-cell-overview.html)\n",
    "\n",
    "[thermofisher:Th17](https://www.thermofisher.cn/cn/zh/home/life-science/cell-analysis/cell-analysis-learning-center/immunology-at-work/t-helper-17-cell-overview.html)\n",
    "\n",
    "|cell_type|sub_cell_type|marker|gn_human|gn_mouse|\n",
    "|:-|:-|:-|:-|:-|\n",
    "||Th1|Tbet|TBX21|Tbx21|\n",
    "|||STAT1|STAT1|Stat1|\n",
    "|||STAT4|STAT4|Stat4|\n",
    "||Th2|GATA3|GATA3|Gata3|\n",
    "|||BATF|BATF|Batf|\n",
    "||||||\n",
    "||||||\n",
    "||Th17|RORγt|RORC||\n",
    "||||||\n",
    "\n"
   ]
  }
 ],
 "metadata": {
  "kernelspec": {
   "display_name": "publish",
   "language": "python",
   "name": "publish"
  },
  "language_info": {
   "codemirror_mode": {
    "name": "ipython",
    "version": 3
   },
   "file_extension": ".py",
   "mimetype": "text/x-python",
   "name": "python",
   "nbconvert_exporter": "python",
   "pygments_lexer": "ipython3",
   "version": "3.9.18"
  }
 },
 "nbformat": 4,
 "nbformat_minor": 5
}
