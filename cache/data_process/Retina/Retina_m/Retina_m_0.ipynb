{
 "cells": [
  {
   "cell_type": "code",
   "execution_count": 1,
   "id": "6b3e0820-6ab9-481c-b415-4a09cef8080e",
   "metadata": {},
   "outputs": [
    {
     "name": "stderr",
     "output_type": "stream",
     "text": [
      "/public/workspace/licanchengup/apps/miniconda3/envs/csMAHN/lib/python3.9/site-packages/tqdm/auto.py:21: TqdmWarning: IProgress not found. Please update jupyter and ipywidgets. See https://ipywidgets.readthedocs.io/en/stable/user_install.html\n",
      "  from .autonotebook import tqdm as notebook_tqdm\n"
     ]
    }
   ],
   "source": [
    "from pathlib import Path\n",
    "import numpy as np\n",
    "import pandas as pd\n",
    "import scanpy as sc\n",
    "\n",
    "from IPython.display import display"
   ]
  },
  {
   "cell_type": "code",
   "execution_count": 2,
   "id": "be7e914c-6b7a-48d5-9eaa-8e58b7b3e5d4",
   "metadata": {},
   "outputs": [],
   "source": [
    "import sys\n",
    "p_link = Path('/public/workspace/licanchengup/link')\n",
    "p_test = p_link.joinpath('test')\n",
    "p_root = Path('/public/workspace/licanchengup/link/db/came/dataset/Retina')\n",
    "None if str(p_test) in sys.path else sys.path.append(str(p_test))"
   ]
  },
  {
   "cell_type": "code",
   "execution_count": 3,
   "id": "462ba526-7023-42f6-b66d-a8c53ccf07e4",
   "metadata": {},
   "outputs": [
    {
     "name": "stdout",
     "output_type": "stream",
     "text": [
      "\n",
      "[func]----------------------------------\n",
      "group_agg\n",
      "rm_rf\n",
      "get_path_varmap\n",
      "get_type_counts_info\t\taligned\n",
      "aligned_type\t\t\taligned\n",
      "test_came_and_csMAHN\n",
      "h5ad_to_mtx\n",
      "load_adata\n",
      "\n",
      "[result tools]--------------------------\n",
      "get_test_result_df\n",
      "show_umap\n",
      "get_res_obs\n",
      "get_publi_head\n",
      "\n",
      "[result tools][re plot umap]-----------\n",
      "get_df_color\t\t\tConvenient\n",
      "> [dssp umap]\n",
      "export_legend\n",
      "dssp_plot_umap_legend_sp\tConvenient\n",
      "dssp_plot_umap_legend_cell_type\tConvenient\n",
      "dssp_plot_umap\n",
      "dssp_get_umap_name\n",
      "dssp_plot_save_umap\t\tConvenient\n",
      "> [umap]\n",
      "get_default_df_color\n",
      "plot_umap\n",
      "get_umap_name\n",
      "plot_save_umap\t\t\tConvenient\n",
      "----------------------------------------\n",
      "    \n"
     ]
    }
   ],
   "source": [
    "from func import h5ad_to_mtx, group_agg"
   ]
  },
  {
   "cell_type": "code",
   "execution_count": 4,
   "id": "d26c3e8c-7f41-42ef-86db-fefe4fcd1d4a",
   "metadata": {
    "scrolled": true
   },
   "outputs": [
    {
     "data": {
      "text/plain": [
       "AnnData object with n_obs × n_vars = 44808 × 23288\n",
       "    obs: 'cell_type1', 'cluster_id', 'organism', 'dataset_name', 'platform', 'organ', 'data_type', 'cell_ontology_class', 'cell_ontology_id', 'n_genes', 'n_counts', '__libsize__'\n",
       "    var: 'variable_genes'\n",
       "    uns: 'cell_ontology_class_colors', 'cell_type1_colors', 'data_quality', 'neighbors', 'umap', 'variable_genes'\n",
       "    obsm: 'X_umap', 'latent'\n",
       "    obsp: 'connectivities', 'distances'"
      ]
     },
     "metadata": {},
     "output_type": "display_data"
    },
    {
     "data": {
      "text/html": [
       "<div>\n",
       "<style scoped>\n",
       "    .dataframe tbody tr th:only-of-type {\n",
       "        vertical-align: middle;\n",
       "    }\n",
       "\n",
       "    .dataframe tbody tr th {\n",
       "        vertical-align: top;\n",
       "    }\n",
       "\n",
       "    .dataframe thead th {\n",
       "        text-align: right;\n",
       "    }\n",
       "</style>\n",
       "<table border=\"1\" class=\"dataframe\">\n",
       "  <thead>\n",
       "    <tr style=\"text-align: right;\">\n",
       "      <th></th>\n",
       "      <th>cell_type1</th>\n",
       "      <th>cluster_id</th>\n",
       "      <th>organism</th>\n",
       "      <th>dataset_name</th>\n",
       "      <th>platform</th>\n",
       "      <th>organ</th>\n",
       "      <th>data_type</th>\n",
       "      <th>cell_ontology_class</th>\n",
       "      <th>cell_ontology_id</th>\n",
       "      <th>n_genes</th>\n",
       "      <th>n_counts</th>\n",
       "      <th>__libsize__</th>\n",
       "    </tr>\n",
       "    <tr>\n",
       "      <th>cell_id</th>\n",
       "      <th></th>\n",
       "      <th></th>\n",
       "      <th></th>\n",
       "      <th></th>\n",
       "      <th></th>\n",
       "      <th></th>\n",
       "      <th></th>\n",
       "      <th></th>\n",
       "      <th></th>\n",
       "      <th></th>\n",
       "      <th></th>\n",
       "      <th></th>\n",
       "    </tr>\n",
       "  </thead>\n",
       "  <tbody>\n",
       "    <tr>\n",
       "      <th>p1_AAAAAAACAGTC</th>\n",
       "      <td>muller</td>\n",
       "      <td>34</td>\n",
       "      <td>Mus musculus</td>\n",
       "      <td>Macosko</td>\n",
       "      <td>Drop-seq</td>\n",
       "      <td>Retina</td>\n",
       "      <td>raw</td>\n",
       "      <td>Muller cell</td>\n",
       "      <td>CL:0011107</td>\n",
       "      <td>1243</td>\n",
       "      <td>1864</td>\n",
       "      <td>1864.0</td>\n",
       "    </tr>\n",
       "    <tr>\n",
       "      <th>p1_AAAAAAATGGTA</th>\n",
       "      <td>rods</td>\n",
       "      <td>24</td>\n",
       "      <td>Mus musculus</td>\n",
       "      <td>Macosko</td>\n",
       "      <td>Drop-seq</td>\n",
       "      <td>Retina</td>\n",
       "      <td>raw</td>\n",
       "      <td>retinal rod cell</td>\n",
       "      <td>CL:0000604</td>\n",
       "      <td>488</td>\n",
       "      <td>818</td>\n",
       "      <td>818.0</td>\n",
       "    </tr>\n",
       "  </tbody>\n",
       "</table>\n",
       "</div>"
      ],
      "text/plain": [
       "                cell_type1 cluster_id      organism dataset_name  platform  \\\n",
       "cell_id                                                                      \n",
       "p1_AAAAAAACAGTC     muller         34  Mus musculus      Macosko  Drop-seq   \n",
       "p1_AAAAAAATGGTA       rods         24  Mus musculus      Macosko  Drop-seq   \n",
       "\n",
       "                  organ data_type cell_ontology_class cell_ontology_id  \\\n",
       "cell_id                                                                  \n",
       "p1_AAAAAAACAGTC  Retina       raw         Muller cell       CL:0011107   \n",
       "p1_AAAAAAATGGTA  Retina       raw    retinal rod cell       CL:0000604   \n",
       "\n",
       "                n_genes  n_counts  __libsize__  \n",
       "cell_id                                         \n",
       "p1_AAAAAAACAGTC    1243      1864       1864.0  \n",
       "p1_AAAAAAATGGTA     488       818        818.0  "
      ]
     },
     "metadata": {},
     "output_type": "display_data"
    },
    {
     "data": {
      "text/plain": [
       "(44808, 12)"
      ]
     },
     "metadata": {},
     "output_type": "display_data"
    },
    {
     "data": {
      "text/html": [
       "<div>\n",
       "<style scoped>\n",
       "    .dataframe tbody tr th:only-of-type {\n",
       "        vertical-align: middle;\n",
       "    }\n",
       "\n",
       "    .dataframe tbody tr th {\n",
       "        vertical-align: top;\n",
       "    }\n",
       "\n",
       "    .dataframe thead th {\n",
       "        text-align: right;\n",
       "    }\n",
       "</style>\n",
       "<table border=\"1\" class=\"dataframe\">\n",
       "  <thead>\n",
       "    <tr style=\"text-align: right;\">\n",
       "      <th></th>\n",
       "      <th>variable_genes</th>\n",
       "    </tr>\n",
       "  </thead>\n",
       "  <tbody>\n",
       "    <tr>\n",
       "      <th>0610005C13Rik</th>\n",
       "      <td>False</td>\n",
       "    </tr>\n",
       "    <tr>\n",
       "      <th>0610007P14Rik</th>\n",
       "      <td>False</td>\n",
       "    </tr>\n",
       "  </tbody>\n",
       "</table>\n",
       "</div>"
      ],
      "text/plain": [
       "               variable_genes\n",
       "0610005C13Rik           False\n",
       "0610007P14Rik           False"
      ]
     },
     "metadata": {},
     "output_type": "display_data"
    },
    {
     "data": {
      "text/plain": [
       "(23288, 1)"
      ]
     },
     "metadata": {},
     "output_type": "display_data"
    }
   ],
   "source": [
    "adata = sc.read_h5ad('Macosko.h5ad')\n",
    "display(\n",
    "    adata,\n",
    "    adata.obs.head(2),\n",
    "    adata.obs.shape,\n",
    "    adata.var.head(2),\n",
    "    adata.var.shape)"
   ]
  },
  {
   "cell_type": "markdown",
   "id": "ec6b8998-9975-4171-bc01-93597c8d5f6c",
   "metadata": {},
   "source": [
    "是count, perfectly"
   ]
  },
  {
   "cell_type": "code",
   "execution_count": 5,
   "id": "c7a555b9-f36e-42ee-a508-2e213ce1f15c",
   "metadata": {},
   "outputs": [
    {
     "data": {
      "text/plain": [
       "array([1., 1., 1., 1., 1., 1., 1., 1., 1., 1.], dtype=float32)"
      ]
     },
     "metadata": {},
     "output_type": "display_data"
    }
   ],
   "source": [
    "_temp = adata.X[:100, :100]\n",
    "display(np.ravel(_temp[_temp > 0])[:10])\n",
    "del _temp"
   ]
  },
  {
   "cell_type": "code",
   "execution_count": 6,
   "id": "56ece7d4-13b0-4454-8d08-8a45d33c5768",
   "metadata": {},
   "outputs": [
    {
     "name": "stdout",
     "output_type": "stream",
     "text": [
      "cell_type1\n",
      "cluster_id\n",
      "organism\n",
      "dataset_name\n",
      "platform\n",
      "organ\n",
      "data_type\n",
      "cell_ontology_class\n",
      "cell_ontology_id\n",
      "n_genes\n",
      "n_counts\n",
      "__libsize__\n"
     ]
    },
    {
     "data": {
      "text/html": [
       "<div>\n",
       "<style scoped>\n",
       "    .dataframe tbody tr th:only-of-type {\n",
       "        vertical-align: middle;\n",
       "    }\n",
       "\n",
       "    .dataframe tbody tr th {\n",
       "        vertical-align: top;\n",
       "    }\n",
       "\n",
       "    .dataframe thead th {\n",
       "        text-align: right;\n",
       "    }\n",
       "</style>\n",
       "<table border=\"1\" class=\"dataframe\">\n",
       "  <thead>\n",
       "    <tr style=\"text-align: right;\">\n",
       "      <th></th>\n",
       "      <th>cell_type1</th>\n",
       "      <th>cluster_id</th>\n",
       "      <th>organism</th>\n",
       "      <th>dataset_name</th>\n",
       "      <th>platform</th>\n",
       "      <th>organ</th>\n",
       "      <th>data_type</th>\n",
       "      <th>cell_ontology_class</th>\n",
       "      <th>cell_ontology_id</th>\n",
       "      <th>n_genes</th>\n",
       "      <th>n_counts</th>\n",
       "      <th>__libsize__</th>\n",
       "    </tr>\n",
       "    <tr>\n",
       "      <th>cell_id</th>\n",
       "      <th></th>\n",
       "      <th></th>\n",
       "      <th></th>\n",
       "      <th></th>\n",
       "      <th></th>\n",
       "      <th></th>\n",
       "      <th></th>\n",
       "      <th></th>\n",
       "      <th></th>\n",
       "      <th></th>\n",
       "      <th></th>\n",
       "      <th></th>\n",
       "    </tr>\n",
       "  </thead>\n",
       "  <tbody>\n",
       "    <tr>\n",
       "      <th>p1_AAAAAAACAGTC</th>\n",
       "      <td>muller</td>\n",
       "      <td>34</td>\n",
       "      <td>Mus musculus</td>\n",
       "      <td>Macosko</td>\n",
       "      <td>Drop-seq</td>\n",
       "      <td>Retina</td>\n",
       "      <td>raw</td>\n",
       "      <td>Muller cell</td>\n",
       "      <td>CL:0011107</td>\n",
       "      <td>1243</td>\n",
       "      <td>1864</td>\n",
       "      <td>1864.0</td>\n",
       "    </tr>\n",
       "    <tr>\n",
       "      <th>p1_AAAAAAATGGTA</th>\n",
       "      <td>rods</td>\n",
       "      <td>24</td>\n",
       "      <td>Mus musculus</td>\n",
       "      <td>Macosko</td>\n",
       "      <td>Drop-seq</td>\n",
       "      <td>Retina</td>\n",
       "      <td>raw</td>\n",
       "      <td>retinal rod cell</td>\n",
       "      <td>CL:0000604</td>\n",
       "      <td>488</td>\n",
       "      <td>818</td>\n",
       "      <td>818.0</td>\n",
       "    </tr>\n",
       "  </tbody>\n",
       "</table>\n",
       "</div>"
      ],
      "text/plain": [
       "                cell_type1 cluster_id      organism dataset_name  platform  \\\n",
       "cell_id                                                                      \n",
       "p1_AAAAAAACAGTC     muller         34  Mus musculus      Macosko  Drop-seq   \n",
       "p1_AAAAAAATGGTA       rods         24  Mus musculus      Macosko  Drop-seq   \n",
       "\n",
       "                  organ data_type cell_ontology_class cell_ontology_id  \\\n",
       "cell_id                                                                  \n",
       "p1_AAAAAAACAGTC  Retina       raw         Muller cell       CL:0011107   \n",
       "p1_AAAAAAATGGTA  Retina       raw    retinal rod cell       CL:0000604   \n",
       "\n",
       "                n_genes  n_counts  __libsize__  \n",
       "cell_id                                         \n",
       "p1_AAAAAAACAGTC    1243      1864       1864.0  \n",
       "p1_AAAAAAATGGTA     488       818        818.0  "
      ]
     },
     "metadata": {},
     "output_type": "display_data"
    }
   ],
   "source": [
    "print(*adata.obs.columns, sep='\\n')\n",
    "display(adata.obs.head(2))"
   ]
  },
  {
   "cell_type": "code",
   "execution_count": 7,
   "id": "a5a770a1-ed1b-46b2-aae7-39431b4f9aa5",
   "metadata": {},
   "outputs": [
    {
     "name": "stdout",
     "output_type": "stream",
     "text": [
      "cell_type1----------------------------------------\n"
     ]
    },
    {
     "data": {
      "text/plain": [
       "cell_type1\n",
       "rods                    29400\n",
       "bipolar                  6285\n",
       "amacrine                 4426\n",
       "cones                    1868\n",
       "muller                   1624\n",
       "ganglion                  432\n",
       "horizontal                252\n",
       "vascular_endothelium      252\n",
       "fibroblasts                85\n",
       "microglia                  67\n",
       "pericytes                  63\n",
       "astrocytes                 54\n",
       "Name: count, dtype: int64"
      ]
     },
     "metadata": {},
     "output_type": "display_data"
    },
    {
     "name": "stdout",
     "output_type": "stream",
     "text": [
      "cell_ontology_class-------------------------------\n"
     ]
    },
    {
     "data": {
      "text/plain": [
       "cell_ontology_class\n",
       "retinal rod cell                 29400\n",
       "retinal bipolar neuron            6285\n",
       "amacrine cell                     4426\n",
       "retinal cone cell                 1868\n",
       "Muller cell                       1624\n",
       "retinal ganglion cell              432\n",
       "blood vessel endothelial cell      252\n",
       "retina horizontal cell             252\n",
       "fibroblast                          85\n",
       "microglial cell                     67\n",
       "pericyte cell                       63\n",
       "astrocyte                           54\n",
       "Name: count, dtype: int64"
      ]
     },
     "metadata": {},
     "output_type": "display_data"
    }
   ],
   "source": [
    "for _ in 'cell_type1,cell_ontology_class'.split(','):\n",
    "    print(_.ljust(50, '-'))\n",
    "    display(adata.obs[_].value_counts(dropna=False))"
   ]
  },
  {
   "cell_type": "code",
   "execution_count": 8,
   "id": "30ed53a6-18ca-489d-b22c-5761d0667876",
   "metadata": {},
   "outputs": [
    {
     "data": {
      "text/html": [
       "<div>\n",
       "<style scoped>\n",
       "    .dataframe tbody tr th:only-of-type {\n",
       "        vertical-align: middle;\n",
       "    }\n",
       "\n",
       "    .dataframe tbody tr th {\n",
       "        vertical-align: top;\n",
       "    }\n",
       "\n",
       "    .dataframe thead th {\n",
       "        text-align: right;\n",
       "    }\n",
       "</style>\n",
       "<table border=\"1\" class=\"dataframe\">\n",
       "  <thead>\n",
       "    <tr style=\"text-align: right;\">\n",
       "      <th></th>\n",
       "      <th>cell_type1</th>\n",
       "      <th>cell_ontology_class</th>\n",
       "      <th>pre_ct</th>\n",
       "      <th>cell_type</th>\n",
       "    </tr>\n",
       "    <tr>\n",
       "      <th>cell_id</th>\n",
       "      <th></th>\n",
       "      <th></th>\n",
       "      <th></th>\n",
       "      <th></th>\n",
       "    </tr>\n",
       "  </thead>\n",
       "  <tbody>\n",
       "    <tr>\n",
       "      <th>p1_AAAAAAACAGTC</th>\n",
       "      <td>muller</td>\n",
       "      <td>Muller cell</td>\n",
       "      <td>muller</td>\n",
       "      <td>Macroglial cell</td>\n",
       "    </tr>\n",
       "    <tr>\n",
       "      <th>p1_AAAAAAATGGTA</th>\n",
       "      <td>rods</td>\n",
       "      <td>retinal rod cell</td>\n",
       "      <td>rods</td>\n",
       "      <td>Rods</td>\n",
       "    </tr>\n",
       "  </tbody>\n",
       "</table>\n",
       "</div>"
      ],
      "text/plain": [
       "                cell_type1 cell_ontology_class  pre_ct        cell_type\n",
       "cell_id                                                                \n",
       "p1_AAAAAAACAGTC     muller         Muller cell  muller  Macroglial cell\n",
       "p1_AAAAAAATGGTA       rods    retinal rod cell    rods             Rods"
      ]
     },
     "metadata": {},
     "output_type": "display_data"
    },
    {
     "data": {
      "text/plain": [
       "(44808, 4)"
      ]
     },
     "metadata": {},
     "output_type": "display_data"
    },
    {
     "name": "stdout",
     "output_type": "stream",
     "text": [
      "frist 10 data.X nonzero elements:\n",
      " [[1 1 1 1 1 1 1 1 1 1]]\n",
      "[out] /public/workspace/licanchengup/link/db/came/dataset/Retina/Macosko\n"
     ]
    }
   ],
   "source": [
    "adata.obs = adata.obs.loc[:, 'cell_type1,cell_ontology_class'.split(',')]\n",
    "adata.obs['pre_ct'] = adata.obs['cell_type1']\n",
    "adata.obs['cell_type'] = adata.obs['cell_ontology_class'].map( lambda k:\n",
    "{\n",
    "    'amacrine cell': 'AC',\n",
    "    'blood vessel endothelial cell': 'V/E cell',\n",
    "    'Muller cell': 'Macroglial cell',\n",
    "    'microglial cell': 'Microglia cell',\n",
    "    'pericyte cell': 'Pericyte cell',\n",
    "    \n",
    "    'retina horizontal cell': 'HC',\n",
    "    'retinal bipolar neuron': 'BC',\n",
    "    'retinal cone cell': 'Cones',\n",
    "    \n",
    "    'retinal rod cell': 'Rods',\n",
    "    'retinal ganglion cell': 'RGC',\n",
    "    # ?\n",
    "    'astrocyte': 'astrocyte',\n",
    "    'fibroblast': 'fibroblast'\n",
    "}.setdefault(k,k))\n",
    "display(adata.obs.head(2), adata.obs.shape)\n",
    "h5ad_to_mtx(adata, p_root.joinpath('Macosko'))"
   ]
  },
  {
   "cell_type": "code",
   "execution_count": 9,
   "id": "2d337efd-21ae-4de4-a8a4-ab9f74a18937",
   "metadata": {},
   "outputs": [],
   "source": [
    "\n",
    "# {k:'' for k in adata.obs['cell_ontology_class'].unique()}"
   ]
  }
 ],
 "metadata": {
  "kernelspec": {
   "display_name": "csMAHN",
   "language": "python",
   "name": "csmahn"
  },
  "language_info": {
   "codemirror_mode": {
    "name": "ipython",
    "version": 3
   },
   "file_extension": ".py",
   "mimetype": "text/x-python",
   "name": "python",
   "nbconvert_exporter": "python",
   "pygments_lexer": "ipython3",
   "version": "3.9.18"
  }
 },
 "nbformat": 4,
 "nbformat_minor": 5
}
