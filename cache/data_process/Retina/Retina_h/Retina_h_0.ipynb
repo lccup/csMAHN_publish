{
 "cells": [
  {
   "cell_type": "code",
   "execution_count": 1,
   "id": "ed4e9c34-764a-441e-aa19-74a765304501",
   "metadata": {},
   "outputs": [
    {
     "name": "stderr",
     "output_type": "stream",
     "text": [
      "/public/workspace/licanchengup/apps/miniconda3/envs/csMAHN/lib/python3.9/site-packages/tqdm/auto.py:21: TqdmWarning: IProgress not found. Please update jupyter and ipywidgets. See https://ipywidgets.readthedocs.io/en/stable/user_install.html\n",
      "  from .autonotebook import tqdm as notebook_tqdm\n"
     ]
    }
   ],
   "source": [
    "from pathlib import Path\n",
    "import numpy as np\n",
    "import pandas as pd\n",
    "import scanpy as sc\n",
    "\n",
    "from IPython.display import display"
   ]
  },
  {
   "cell_type": "code",
   "execution_count": 2,
   "id": "34d23420-2426-425b-8eac-ba00bc52b0d2",
   "metadata": {},
   "outputs": [],
   "source": [
    "import sys\n",
    "p_link = Path('/public/workspace/licanchengup/link')\n",
    "p_test = p_link.joinpath('test')\n",
    "p_root = Path('/public/workspace/licanchengup/link/db/came/dataset/Retina')\n",
    "None if str(p_test) in sys.path else sys.path.append(str(p_test))"
   ]
  },
  {
   "cell_type": "code",
   "execution_count": 3,
   "id": "911b7405-400b-495d-90b9-406d9b2e9263",
   "metadata": {},
   "outputs": [
    {
     "name": "stdout",
     "output_type": "stream",
     "text": [
      "\n",
      "[func]----------------------------------\n",
      "group_agg\n",
      "rm_rf\n",
      "get_path_varmap\n",
      "get_type_counts_info\t\taligned\n",
      "aligned_type\t\t\taligned\n",
      "test_came_and_csMAHN\n",
      "h5ad_to_mtx\n",
      "load_adata\n",
      "\n",
      "[result tools]--------------------------\n",
      "get_test_result_df\n",
      "show_umap\n",
      "get_res_obs\n",
      "get_publi_head\n",
      "\n",
      "[result tools][re plot umap]-----------\n",
      "get_df_color\t\t\tConvenient\n",
      "> [dssp umap]\n",
      "export_legend\n",
      "dssp_plot_umap_legend_sp\tConvenient\n",
      "dssp_plot_umap_legend_cell_type\tConvenient\n",
      "dssp_plot_umap\n",
      "dssp_get_umap_name\n",
      "dssp_plot_save_umap\t\tConvenient\n",
      "> [umap]\n",
      "get_default_df_color\n",
      "plot_umap\n",
      "get_umap_name\n",
      "plot_save_umap\t\t\tConvenient\n",
      "----------------------------------------\n",
      "    \n"
     ]
    }
   ],
   "source": [
    "from func import h5ad_to_mtx, group_agg"
   ]
  },
  {
   "cell_type": "code",
   "execution_count": 4,
   "id": "c7fad1db-125a-4839-be91-6f6126e6380a",
   "metadata": {},
   "outputs": [
    {
     "data": {
      "text/html": [
       "<div>\n",
       "<style scoped>\n",
       "    .dataframe tbody tr th:only-of-type {\n",
       "        vertical-align: middle;\n",
       "    }\n",
       "\n",
       "    .dataframe tbody tr th {\n",
       "        vertical-align: top;\n",
       "    }\n",
       "\n",
       "    .dataframe thead th {\n",
       "        text-align: right;\n",
       "    }\n",
       "</style>\n",
       "<table border=\"1\" class=\"dataframe\">\n",
       "  <thead>\n",
       "    <tr style=\"text-align: right;\">\n",
       "      <th>type</th>\n",
       "      <th>mtx</th>\n",
       "      <th>obs</th>\n",
       "      <th>var</th>\n",
       "    </tr>\n",
       "    <tr>\n",
       "      <th>gse_id</th>\n",
       "      <th></th>\n",
       "      <th></th>\n",
       "      <th></th>\n",
       "    </tr>\n",
       "  </thead>\n",
       "  <tbody>\n",
       "    <tr>\n",
       "      <th>GSE137537</th>\n",
       "      <td>GSE137537_counts.mtx.gz</td>\n",
       "      <td>GSE137537_sample_annotations.tsv.gz</td>\n",
       "      <td>GSE137537_gene_names.txt.gz</td>\n",
       "    </tr>\n",
       "    <tr>\n",
       "      <th>GSE137846</th>\n",
       "      <td>GSE137846_Seq-Well_counts.mtx.gz</td>\n",
       "      <td>GSE137846_Seq-Well_sample_annotations.txt.gz</td>\n",
       "      <td>GSE137846_Seq-Well_gene_names.txt.gz</td>\n",
       "    </tr>\n",
       "  </tbody>\n",
       "</table>\n",
       "</div>"
      ],
      "text/plain": [
       "type                                    mtx  \\\n",
       "gse_id                                        \n",
       "GSE137537           GSE137537_counts.mtx.gz   \n",
       "GSE137846  GSE137846_Seq-Well_counts.mtx.gz   \n",
       "\n",
       "type                                                obs  \\\n",
       "gse_id                                                    \n",
       "GSE137537           GSE137537_sample_annotations.tsv.gz   \n",
       "GSE137846  GSE137846_Seq-Well_sample_annotations.txt.gz   \n",
       "\n",
       "type                                        var  \n",
       "gse_id                                           \n",
       "GSE137537           GSE137537_gene_names.txt.gz  \n",
       "GSE137846  GSE137846_Seq-Well_gene_names.txt.gz  "
      ]
     },
     "execution_count": 4,
     "metadata": {},
     "output_type": "execute_result"
    }
   ],
   "source": [
    "df_path = pd.DataFrame({\n",
    "    'path': Path('.').iterdir()\n",
    "})\n",
    "df_path = df_path[df_path['path'].apply(lambda x: x.match('*GSE*'))]\n",
    "df_path['name'] = df_path['path'].apply(lambda x: x.stem)\n",
    "df_path['gse_id'] = df_path['name'].str.extract(\n",
    "    '^(GSE\\\\d+)_', expand=False)\n",
    "df_path['type'] = ''\n",
    "df_path['type'] = df_path['type'].mask(\n",
    "    df_path['name'].str.contains('gene'), 'var')\n",
    "df_path['type'] = df_path['type'].mask(\n",
    "    df_path['name'].str.contains('annotations'), 'obs')\n",
    "df_path['type'] = df_path['type'].mask(\n",
    "    df_path['name'].str.contains('counts'), 'mtx')\n",
    "df_path = df_path.pivot(index='gse_id', columns='type', values='path')\n",
    "df_path"
   ]
  },
  {
   "cell_type": "code",
   "execution_count": 5,
   "id": "39f78f6e-795e-4929-ba76-5ac082d0aef6",
   "metadata": {},
   "outputs": [
    {
     "data": {
      "text/plain": [
       "type\n",
       "mtx                GSE137846_Seq-Well_counts.mtx.gz\n",
       "obs    GSE137846_Seq-Well_sample_annotations.txt.gz\n",
       "var            GSE137846_Seq-Well_gene_names.txt.gz\n",
       "Name: GSE137846, dtype: object"
      ]
     },
     "execution_count": 5,
     "metadata": {},
     "output_type": "execute_result"
    }
   ],
   "source": [
    "res = {}\n",
    "for _i, _row in df_path.iterrows():\n",
    "    pass\n",
    "_row"
   ]
  },
  {
   "cell_type": "code",
   "execution_count": 6,
   "id": "b72d737c-7468-4afd-9ca9-2c7950b2a1eb",
   "metadata": {},
   "outputs": [
    {
     "data": {
      "text/html": [
       "<div>\n",
       "<style scoped>\n",
       "    .dataframe tbody tr th:only-of-type {\n",
       "        vertical-align: middle;\n",
       "    }\n",
       "\n",
       "    .dataframe tbody tr th {\n",
       "        vertical-align: top;\n",
       "    }\n",
       "\n",
       "    .dataframe thead tr th {\n",
       "        text-align: left;\n",
       "    }\n",
       "\n",
       "    .dataframe thead tr:last-of-type th {\n",
       "        text-align: right;\n",
       "    }\n",
       "</style>\n",
       "<table border=\"1\" class=\"dataframe\">\n",
       "  <thead>\n",
       "    <tr>\n",
       "      <th></th>\n",
       "      <th></th>\n",
       "      <th>tissue</th>\n",
       "    </tr>\n",
       "    <tr>\n",
       "      <th></th>\n",
       "      <th></th>\n",
       "      <th>count</th>\n",
       "    </tr>\n",
       "    <tr>\n",
       "      <th>individual</th>\n",
       "      <th>tissue</th>\n",
       "      <th></th>\n",
       "    </tr>\n",
       "  </thead>\n",
       "  <tbody>\n",
       "    <tr>\n",
       "      <th rowspan=\"2\" valign=\"top\">555</th>\n",
       "      <th>MR</th>\n",
       "      <td>1765</td>\n",
       "    </tr>\n",
       "    <tr>\n",
       "      <th>PR</th>\n",
       "      <td>2505</td>\n",
       "    </tr>\n",
       "    <tr>\n",
       "      <th rowspan=\"2\" valign=\"top\">574</th>\n",
       "      <th>MR2</th>\n",
       "      <td>5121</td>\n",
       "    </tr>\n",
       "    <tr>\n",
       "      <th>PR2</th>\n",
       "      <td>4137</td>\n",
       "    </tr>\n",
       "    <tr>\n",
       "      <th rowspan=\"2\" valign=\"top\">607</th>\n",
       "      <th>MR3</th>\n",
       "      <td>3119</td>\n",
       "    </tr>\n",
       "    <tr>\n",
       "      <th>PR3</th>\n",
       "      <td>3444</td>\n",
       "    </tr>\n",
       "  </tbody>\n",
       "</table>\n",
       "</div>"
      ],
      "text/plain": [
       "                  tissue\n",
       "                   count\n",
       "individual tissue       \n",
       "555        MR       1765\n",
       "           PR       2505\n",
       "574        MR2      5121\n",
       "           PR2      4137\n",
       "607        MR3      3119\n",
       "           PR3      3444"
      ]
     },
     "metadata": {},
     "output_type": "display_data"
    },
    {
     "data": {
      "text/plain": [
       "_batch\n",
       "574;MR2    5121\n",
       "574;PR2    4137\n",
       "607;PR3    3444\n",
       "607;MR3    3119\n",
       "555;PR     2505\n",
       "555;MR     1765\n",
       "Name: count, dtype: int64"
      ]
     },
     "metadata": {},
     "output_type": "display_data"
    },
    {
     "data": {
      "text/plain": [
       "AnnData object with n_obs × n_vars = 20091 × 19719\n",
       "    obs: '_batch', 'individual', 'tissue', 'Labels', 'x', 'y'"
      ]
     },
     "metadata": {},
     "output_type": "display_data"
    },
    {
     "data": {
      "text/html": [
       "<div>\n",
       "<style scoped>\n",
       "    .dataframe tbody tr th:only-of-type {\n",
       "        vertical-align: middle;\n",
       "    }\n",
       "\n",
       "    .dataframe tbody tr th {\n",
       "        vertical-align: top;\n",
       "    }\n",
       "\n",
       "    .dataframe thead th {\n",
       "        text-align: right;\n",
       "    }\n",
       "</style>\n",
       "<table border=\"1\" class=\"dataframe\">\n",
       "  <thead>\n",
       "    <tr style=\"text-align: right;\">\n",
       "      <th></th>\n",
       "      <th>_batch</th>\n",
       "      <th>individual</th>\n",
       "      <th>tissue</th>\n",
       "      <th>Labels</th>\n",
       "      <th>x</th>\n",
       "      <th>y</th>\n",
       "    </tr>\n",
       "    <tr>\n",
       "      <th>Barcode</th>\n",
       "      <th></th>\n",
       "      <th></th>\n",
       "      <th></th>\n",
       "      <th></th>\n",
       "      <th></th>\n",
       "      <th></th>\n",
       "    </tr>\n",
       "  </thead>\n",
       "  <tbody>\n",
       "    <tr>\n",
       "      <th>AAACCCAAGTTACTCG-1</th>\n",
       "      <td>574;MR2</td>\n",
       "      <td>574</td>\n",
       "      <td>MR2</td>\n",
       "      <td>Rods</td>\n",
       "      <td>1.196409</td>\n",
       "      <td>0.093193</td>\n",
       "    </tr>\n",
       "    <tr>\n",
       "      <th>AAACCCAGTGGAACAC-1</th>\n",
       "      <td>574;MR2</td>\n",
       "      <td>574</td>\n",
       "      <td>MR2</td>\n",
       "      <td>Rods</td>\n",
       "      <td>1.336815</td>\n",
       "      <td>0.444690</td>\n",
       "    </tr>\n",
       "  </tbody>\n",
       "</table>\n",
       "</div>"
      ],
      "text/plain": [
       "                     _batch  individual tissue Labels         x         y\n",
       "Barcode                                                                  \n",
       "AAACCCAAGTTACTCG-1  574;MR2         574    MR2   Rods  1.196409  0.093193\n",
       "AAACCCAGTGGAACAC-1  574;MR2         574    MR2   Rods  1.336815  0.444690"
      ]
     },
     "metadata": {},
     "output_type": "display_data"
    },
    {
     "data": {
      "text/plain": [
       "(20091, 6)"
      ]
     },
     "metadata": {},
     "output_type": "display_data"
    },
    {
     "data": {
      "text/html": [
       "<div>\n",
       "<style scoped>\n",
       "    .dataframe tbody tr th:only-of-type {\n",
       "        vertical-align: middle;\n",
       "    }\n",
       "\n",
       "    .dataframe tbody tr th {\n",
       "        vertical-align: top;\n",
       "    }\n",
       "\n",
       "    .dataframe thead th {\n",
       "        text-align: right;\n",
       "    }\n",
       "</style>\n",
       "<table border=\"1\" class=\"dataframe\">\n",
       "  <thead>\n",
       "    <tr style=\"text-align: right;\">\n",
       "      <th></th>\n",
       "    </tr>\n",
       "    <tr>\n",
       "      <th></th>\n",
       "    </tr>\n",
       "  </thead>\n",
       "  <tbody>\n",
       "    <tr>\n",
       "      <th>RP11-34P13.7</th>\n",
       "    </tr>\n",
       "    <tr>\n",
       "      <th>FO538757.2</th>\n",
       "    </tr>\n",
       "  </tbody>\n",
       "</table>\n",
       "</div>"
      ],
      "text/plain": [
       "Empty DataFrame\n",
       "Columns: []\n",
       "Index: [RP11-34P13.7, FO538757.2]"
      ]
     },
     "metadata": {},
     "output_type": "display_data"
    },
    {
     "data": {
      "text/plain": [
       "(19719, 0)"
      ]
     },
     "metadata": {},
     "output_type": "display_data"
    }
   ],
   "source": [
    "_row = df_path.loc['GSE137537', :]\n",
    "adata = sc.read_mtx(_row['mtx']).T\n",
    "df_obs = pd.read_csv(_row['obs'], sep='\\t', index_col=0)\n",
    "# print(*df_obs.columns,sep='\\n')\n",
    "# df_obs['tissue'] = df_obs['tissue'].map({\n",
    "#     'MR':'Macula-Retina',\n",
    "#     'PR':'Peripheral retina'\n",
    "# })\n",
    "df_obs = df_obs.loc[:, ~df_obs.columns.str.match('^scater_')]\n",
    "# display(adata,df_obs.head(2),df_obs.shape,df_var.head(2),df_var.shape)\n",
    "display(\n",
    "    group_agg(\n",
    "        df_obs, [\n",
    "            'individual', 'tissue'], {\n",
    "                'tissue': ['count']}, reindex=False))\n",
    "df_obs['_batch'] = df_obs.apply(\n",
    "    lambda _row: \"{individual};{tissue}\".format(\n",
    "        **_row), axis=1)\n",
    "display(df_obs['_batch'].value_counts())\n",
    "df_obs = df_obs.loc[:, '_batch,individual,tissue,Labels,x,y'.split(',')]\n",
    "\n",
    "df_var = pd.read_csv(_row['var'], index_col=0, header=None, names=[''])\n",
    "adata.var = df_var\n",
    "adata.var_names_make_unique()\n",
    "adata.obs = df_obs\n",
    "adata.obs_names_make_unique()\n",
    "display(\n",
    "    adata,\n",
    "    adata.obs.head(2),\n",
    "    adata.obs.shape,\n",
    "    adata.var.head(2),\n",
    "    adata.var.shape)\n",
    "res.update({\n",
    "    _row.name: adata\n",
    "})\n",
    "del _row, adata, df_obs, df_var"
   ]
  },
  {
   "cell_type": "code",
   "execution_count": 7,
   "id": "c5349eda-29b9-410a-bdf7-ab89239ed654",
   "metadata": {},
   "outputs": [
    {
     "data": {
      "text/html": [
       "<div>\n",
       "<style scoped>\n",
       "    .dataframe tbody tr th:only-of-type {\n",
       "        vertical-align: middle;\n",
       "    }\n",
       "\n",
       "    .dataframe tbody tr th {\n",
       "        vertical-align: top;\n",
       "    }\n",
       "\n",
       "    .dataframe thead tr th {\n",
       "        text-align: left;\n",
       "    }\n",
       "\n",
       "    .dataframe thead tr:last-of-type th {\n",
       "        text-align: right;\n",
       "    }\n",
       "</style>\n",
       "<table border=\"1\" class=\"dataframe\">\n",
       "  <thead>\n",
       "    <tr>\n",
       "      <th></th>\n",
       "      <th></th>\n",
       "      <th>tissue</th>\n",
       "    </tr>\n",
       "    <tr>\n",
       "      <th></th>\n",
       "      <th></th>\n",
       "      <th>count</th>\n",
       "    </tr>\n",
       "    <tr>\n",
       "      <th>individual</th>\n",
       "      <th>tissue</th>\n",
       "      <th></th>\n",
       "    </tr>\n",
       "  </thead>\n",
       "  <tbody>\n",
       "    <tr>\n",
       "      <th>time_28hrs</th>\n",
       "      <th>MR</th>\n",
       "      <td>470</td>\n",
       "    </tr>\n",
       "    <tr>\n",
       "      <th rowspan=\"2\" valign=\"top\">time_6hrs</th>\n",
       "      <th>MR</th>\n",
       "      <td>798</td>\n",
       "    </tr>\n",
       "    <tr>\n",
       "      <th>PR</th>\n",
       "      <td>490</td>\n",
       "    </tr>\n",
       "    <tr>\n",
       "      <th rowspan=\"2\" valign=\"top\">time_8hrs</th>\n",
       "      <th>MR</th>\n",
       "      <td>466</td>\n",
       "    </tr>\n",
       "    <tr>\n",
       "      <th>PR</th>\n",
       "      <td>1024</td>\n",
       "    </tr>\n",
       "  </tbody>\n",
       "</table>\n",
       "</div>"
      ],
      "text/plain": [
       "                  tissue\n",
       "                   count\n",
       "individual tissue       \n",
       "time_28hrs MR        470\n",
       "time_6hrs  MR        798\n",
       "           PR        490\n",
       "time_8hrs  MR        466\n",
       "           PR       1024"
      ]
     },
     "metadata": {},
     "output_type": "display_data"
    },
    {
     "data": {
      "text/plain": [
       "_batch\n",
       "time_8hrs;PR     1024\n",
       "time_6hrs;MR      798\n",
       "time_6hrs;PR      490\n",
       "time_28hrs;MR     470\n",
       "time_8hrs;MR      466\n",
       "Name: count, dtype: int64"
      ]
     },
     "metadata": {},
     "output_type": "display_data"
    },
    {
     "data": {
      "text/plain": [
       "AnnData object with n_obs × n_vars = 3248 × 18219\n",
       "    obs: '_batch', 'individual', 'tissue', 'Labels', 'x', 'y'"
      ]
     },
     "metadata": {},
     "output_type": "display_data"
    },
    {
     "data": {
      "text/html": [
       "<div>\n",
       "<style scoped>\n",
       "    .dataframe tbody tr th:only-of-type {\n",
       "        vertical-align: middle;\n",
       "    }\n",
       "\n",
       "    .dataframe tbody tr th {\n",
       "        vertical-align: top;\n",
       "    }\n",
       "\n",
       "    .dataframe thead th {\n",
       "        text-align: right;\n",
       "    }\n",
       "</style>\n",
       "<table border=\"1\" class=\"dataframe\">\n",
       "  <thead>\n",
       "    <tr style=\"text-align: right;\">\n",
       "      <th></th>\n",
       "      <th>_batch</th>\n",
       "      <th>individual</th>\n",
       "      <th>tissue</th>\n",
       "      <th>Labels</th>\n",
       "      <th>x</th>\n",
       "      <th>y</th>\n",
       "    </tr>\n",
       "  </thead>\n",
       "  <tbody>\n",
       "    <tr>\n",
       "      <th>GCCGTGGTATCA_MR8hrs</th>\n",
       "      <td>time_8hrs;MR</td>\n",
       "      <td>time_8hrs</td>\n",
       "      <td>MR</td>\n",
       "      <td>BPs</td>\n",
       "      <td>0.613604</td>\n",
       "      <td>-0.167617</td>\n",
       "    </tr>\n",
       "    <tr>\n",
       "      <th>GCCAGTAAACCC_MR8hrs</th>\n",
       "      <td>time_8hrs;MR</td>\n",
       "      <td>time_8hrs</td>\n",
       "      <td>MR</td>\n",
       "      <td>HCs</td>\n",
       "      <td>-0.431396</td>\n",
       "      <td>-0.593605</td>\n",
       "    </tr>\n",
       "  </tbody>\n",
       "</table>\n",
       "</div>"
      ],
      "text/plain": [
       "                           _batch individual tissue Labels         x         y\n",
       "GCCGTGGTATCA_MR8hrs  time_8hrs;MR  time_8hrs     MR    BPs  0.613604 -0.167617\n",
       "GCCAGTAAACCC_MR8hrs  time_8hrs;MR  time_8hrs     MR    HCs -0.431396 -0.593605"
      ]
     },
     "metadata": {},
     "output_type": "display_data"
    },
    {
     "data": {
      "text/plain": [
       "(3248, 6)"
      ]
     },
     "metadata": {},
     "output_type": "display_data"
    },
    {
     "data": {
      "text/html": [
       "<div>\n",
       "<style scoped>\n",
       "    .dataframe tbody tr th:only-of-type {\n",
       "        vertical-align: middle;\n",
       "    }\n",
       "\n",
       "    .dataframe tbody tr th {\n",
       "        vertical-align: top;\n",
       "    }\n",
       "\n",
       "    .dataframe thead th {\n",
       "        text-align: right;\n",
       "    }\n",
       "</style>\n",
       "<table border=\"1\" class=\"dataframe\">\n",
       "  <thead>\n",
       "    <tr style=\"text-align: right;\">\n",
       "      <th></th>\n",
       "    </tr>\n",
       "    <tr>\n",
       "      <th></th>\n",
       "    </tr>\n",
       "  </thead>\n",
       "  <tbody>\n",
       "    <tr>\n",
       "      <th>A1BG-AS1</th>\n",
       "    </tr>\n",
       "    <tr>\n",
       "      <th>A2M</th>\n",
       "    </tr>\n",
       "  </tbody>\n",
       "</table>\n",
       "</div>"
      ],
      "text/plain": [
       "Empty DataFrame\n",
       "Columns: []\n",
       "Index: [A1BG-AS1, A2M]"
      ]
     },
     "metadata": {},
     "output_type": "display_data"
    },
    {
     "data": {
      "text/plain": [
       "(18219, 0)"
      ]
     },
     "metadata": {},
     "output_type": "display_data"
    }
   ],
   "source": [
    "_row = df_path.loc['GSE137846', :]\n",
    "\n",
    "adata = sc.read_mtx(_row['mtx']).T\n",
    "df_obs = pd.read_csv(_row['obs'], sep='\\t')\n",
    "# print(*df_obs.columns,sep='\\n')\n",
    "# df_obs['tissue'] = df_obs['tissue'].map({\n",
    "#     'MR':'Macula-Retina',\n",
    "#     'PR':'Peripheral retina'\n",
    "# })\n",
    "df_obs = df_obs.loc[:, ~df_obs.columns.str.match('^scater_')]\n",
    "# display(adata,df_obs.head(2),df_obs.shape,df_var.head(2),df_var.shape)\n",
    "display(\n",
    "    group_agg(\n",
    "        df_obs, [\n",
    "            'individual', 'tissue'], {\n",
    "                'tissue': ['count']}, reindex=False))\n",
    "df_obs['_batch'] = df_obs.apply(\n",
    "    lambda _row: \"{individual};{tissue}\".format(\n",
    "        **_row), axis=1)\n",
    "display(df_obs['_batch'].value_counts())\n",
    "df_obs = df_obs.loc[:, '_batch,individual,tissue,Labels,x,y'.split(',')]\n",
    "\n",
    "df_var = pd.read_csv(_row['var'], index_col=0, header=None, names=[''])\n",
    "\n",
    "adata.var = df_var\n",
    "adata.var_names_make_unique()\n",
    "adata.obs = df_obs\n",
    "adata.obs_names_make_unique()\n",
    "display(\n",
    "    adata,\n",
    "    adata.obs.head(2),\n",
    "    adata.obs.shape,\n",
    "    adata.var.head(2),\n",
    "    adata.var.shape)\n",
    "res.update({\n",
    "    _row.name: adata\n",
    "})\n",
    "# del _row,adata,df_obs,df_var"
   ]
  },
  {
   "cell_type": "code",
   "execution_count": 8,
   "id": "4515f878-764f-4722-9152-859d2754fda2",
   "metadata": {},
   "outputs": [
    {
     "name": "stdout",
     "output_type": "stream",
     "text": [
      "GSE137537-----------------------------------------\n"
     ]
    },
    {
     "data": {
      "text/plain": [
       "True"
      ]
     },
     "metadata": {},
     "output_type": "display_data"
    },
    {
     "data": {
      "text/plain": [
       "True"
      ]
     },
     "metadata": {},
     "output_type": "display_data"
    },
    {
     "name": "stdout",
     "output_type": "stream",
     "text": [
      "GSE137846-----------------------------------------\n"
     ]
    },
    {
     "data": {
      "text/plain": [
       "True"
      ]
     },
     "metadata": {},
     "output_type": "display_data"
    },
    {
     "data": {
      "text/plain": [
       "True"
      ]
     },
     "metadata": {},
     "output_type": "display_data"
    }
   ],
   "source": [
    "for k, v in res.items():\n",
    "    print(k.ljust(50, '-'))\n",
    "    display(v.obs.index.is_unique, v.var.index.is_unique)"
   ]
  },
  {
   "cell_type": "code",
   "execution_count": 9,
   "id": "3b59d22b-c275-431a-9c2f-afa5e384abfd",
   "metadata": {},
   "outputs": [
    {
     "data": {
      "text/html": [
       "<div>\n",
       "<style scoped>\n",
       "    .dataframe tbody tr th:only-of-type {\n",
       "        vertical-align: middle;\n",
       "    }\n",
       "\n",
       "    .dataframe tbody tr th {\n",
       "        vertical-align: top;\n",
       "    }\n",
       "\n",
       "    .dataframe thead th {\n",
       "        text-align: right;\n",
       "    }\n",
       "</style>\n",
       "<table border=\"1\" class=\"dataframe\">\n",
       "  <thead>\n",
       "    <tr style=\"text-align: right;\">\n",
       "      <th></th>\n",
       "      <th>_batch</th>\n",
       "      <th>individual</th>\n",
       "      <th>tissue</th>\n",
       "      <th>Labels</th>\n",
       "      <th>x</th>\n",
       "      <th>y</th>\n",
       "      <th>pre_ct</th>\n",
       "      <th>cell_type</th>\n",
       "    </tr>\n",
       "  </thead>\n",
       "  <tbody>\n",
       "    <tr>\n",
       "      <th>AAACCCAAGTTACTCG-1;GSE137537</th>\n",
       "      <td>574;MR2</td>\n",
       "      <td>574</td>\n",
       "      <td>MR2</td>\n",
       "      <td>Rods</td>\n",
       "      <td>1.196409</td>\n",
       "      <td>0.093193</td>\n",
       "      <td>Rods</td>\n",
       "      <td>Rods</td>\n",
       "    </tr>\n",
       "    <tr>\n",
       "      <th>AAACCCAGTGGAACAC-1;GSE137537</th>\n",
       "      <td>574;MR2</td>\n",
       "      <td>574</td>\n",
       "      <td>MR2</td>\n",
       "      <td>Rods</td>\n",
       "      <td>1.336815</td>\n",
       "      <td>0.444690</td>\n",
       "      <td>Rods</td>\n",
       "      <td>Rods</td>\n",
       "    </tr>\n",
       "  </tbody>\n",
       "</table>\n",
       "</div>"
      ],
      "text/plain": [
       "                               _batch individual tissue Labels         x  \\\n",
       "AAACCCAAGTTACTCG-1;GSE137537  574;MR2        574    MR2   Rods  1.196409   \n",
       "AAACCCAGTGGAACAC-1;GSE137537  574;MR2        574    MR2   Rods  1.336815   \n",
       "\n",
       "                                     y pre_ct cell_type  \n",
       "AAACCCAAGTTACTCG-1;GSE137537  0.093193   Rods      Rods  \n",
       "AAACCCAGTGGAACAC-1;GSE137537  0.444690   Rods      Rods  "
      ]
     },
     "metadata": {},
     "output_type": "display_data"
    },
    {
     "data": {
      "text/plain": [
       "(23339, 8)"
      ]
     },
     "metadata": {},
     "output_type": "display_data"
    },
    {
     "name": "stdout",
     "output_type": "stream",
     "text": [
      "frist 10 data.X nonzero elements:\n",
      " [[2 1 1 1 1 1 1 1 1 1]]\n",
      "[out] /public/workspace/licanchengup/link/db/came/dataset/Retina/Menon_seqwell\n"
     ]
    }
   ],
   "source": [
    "adata = sc.concat(res, index_unique=';')\n",
    "adata.obs['pre_ct'] = adata.obs['Labels']\n",
    "adata.obs['cell_type'] = adata.obs['Labels'].map(lambda k: {\n",
    "    'ACs': 'AC',\n",
    "    'Endo': 'V/E cell',\n",
    "    'Macroglia': 'Macroglial cell',\n",
    "    'Microglia': 'Microglia cell',\n",
    "    'HCs': 'HC',\n",
    "    'Rods': 'Rods',\n",
    "    'Cones': 'Cones',\n",
    "    'RGCs': 'RGC',\n",
    "    # ?\n",
    "    'BPs': 'BPs',\n",
    "}.setdefault(k, k))\n",
    "display(adata.obs.head(2),adata.obs.shape)\n",
    "h5ad_to_mtx(adata, p_root.joinpath('Menon_seqwell'))"
   ]
  },
  {
   "cell_type": "markdown",
   "id": "5eb46621-adc4-49bc-90af-9735cecc0138",
   "metadata": {},
   "source": [
    "\n",
    "\n",
    "|||\n",
    "|:-|:-|\n",
    "|rod and cone photoreceptors|视杆和视锥光感受器|\n",
    "|bipolar cells|双极细胞|\n",
    "|amacrine cells|无长突细胞|\n",
    "|horizontal cells|水平细胞|\n",
    "|microglia|小胶质细胞|\n",
    "|retinal ganglion cells|视网膜神经节细胞|\n",
    "|vascular cells|血管细胞|\n",
    "|Müller glia|米勒胶质细胞|\n",
    "|astrocytes|星形胶质细胞|\n",
    "\n",
    "\n",
    "\n",
    "\n",
    "\n",
    "\n",
    "\n",
    "\n",
    "\n"
   ]
  },
  {
   "cell_type": "code",
   "execution_count": 10,
   "id": "65c4900a-cdf4-4695-ad92-0ac1e45a6601",
   "metadata": {},
   "outputs": [
    {
     "data": {
      "text/plain": [
       "True"
      ]
     },
     "metadata": {},
     "output_type": "display_data"
    },
    {
     "data": {
      "text/plain": [
       "True"
      ]
     },
     "metadata": {},
     "output_type": "display_data"
    }
   ],
   "source": [
    "display(adata.obs.index.is_unique,adata.var.index.is_unique)"
   ]
  },
  {
   "cell_type": "code",
   "execution_count": 11,
   "id": "3b59db7f-0b4f-4b67-95e0-a52137cd7b8c",
   "metadata": {},
   "outputs": [
    {
     "name": "stdout",
     "output_type": "stream",
     "text": [
      "'Rods':'',\n",
      "'ACs':'',\n",
      "'Macroglia':'',\n",
      "'BPs':'',\n",
      "'HCs':'',\n",
      "'Cones':'',\n",
      "'RGCs':'',\n",
      "'Endo':'',\n",
      "'Microglia':'',\n"
     ]
    }
   ],
   "source": [
    "for x in adata.obs['Labels'].unique():\n",
    "    print(\"'{}':'',\".format(x))"
   ]
  }
 ],
 "metadata": {
  "kernelspec": {
   "display_name": "csMAHN",
   "language": "python",
   "name": "csmahn"
  },
  "language_info": {
   "codemirror_mode": {
    "name": "ipython",
    "version": 3
   },
   "file_extension": ".py",
   "mimetype": "text/x-python",
   "name": "python",
   "nbconvert_exporter": "python",
   "pygments_lexer": "ipython3",
   "version": "3.9.18"
  }
 },
 "nbformat": 4,
 "nbformat_minor": 5
}
