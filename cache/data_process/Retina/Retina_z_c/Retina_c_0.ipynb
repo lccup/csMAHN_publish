{
 "cells": [
  {
   "cell_type": "code",
   "execution_count": 1,
   "id": "5735febc-f74a-40d9-bf51-1fd38997b0e6",
   "metadata": {},
   "outputs": [
    {
     "name": "stderr",
     "output_type": "stream",
     "text": [
      "/public/workspace/licanchengup/apps/miniconda3/envs/csMAHN/lib/python3.9/site-packages/tqdm/auto.py:21: TqdmWarning: IProgress not found. Please update jupyter and ipywidgets. See https://ipywidgets.readthedocs.io/en/stable/user_install.html\n",
      "  from .autonotebook import tqdm as notebook_tqdm\n"
     ]
    }
   ],
   "source": [
    "from pathlib import Path\n",
    "import numpy as np\n",
    "import pandas as pd\n",
    "import scanpy as sc\n",
    "\n",
    "from IPython.display import display"
   ]
  },
  {
   "cell_type": "code",
   "execution_count": 2,
   "id": "b991d6ba-c17a-4adc-a5c0-2b744528bbc4",
   "metadata": {},
   "outputs": [],
   "source": [
    "import sys\n",
    "p_link = Path('/public/workspace/licanchengup/link')\n",
    "p_test = p_link.joinpath('test')\n",
    "p_root = Path('/public/workspace/licanchengup/link/db/came/dataset/Retina')\n",
    "None if str(p_test) in sys.path else sys.path.append(str(p_test))"
   ]
  },
  {
   "cell_type": "code",
   "execution_count": 3,
   "id": "5c430571-6a53-4957-8618-c1f9588ea6ad",
   "metadata": {},
   "outputs": [
    {
     "name": "stdout",
     "output_type": "stream",
     "text": [
      "\n",
      "[func]----------------------------------\n",
      "group_agg\n",
      "rm_rf\n",
      "get_path_varmap\n",
      "get_type_counts_info\t\taligned\n",
      "aligned_type\t\t\taligned\n",
      "test_came_and_csMAHN\n",
      "h5ad_to_mtx\n",
      "load_adata\n",
      "\n",
      "[result tools]--------------------------\n",
      "get_test_result_df\n",
      "show_umap\n",
      "get_res_obs\n",
      "get_publi_head\n",
      "\n",
      "[result tools][re plot umap]-----------\n",
      "get_df_color\t\t\tConvenient\n",
      "> [dssp umap]\n",
      "export_legend\n",
      "dssp_plot_umap_legend_sp\tConvenient\n",
      "dssp_plot_umap_legend_cell_type\tConvenient\n",
      "dssp_plot_umap\n",
      "dssp_get_umap_name\n",
      "dssp_plot_save_umap\t\tConvenient\n",
      "> [umap]\n",
      "get_default_df_color\n",
      "plot_umap\n",
      "get_umap_name\n",
      "plot_save_umap\t\t\tConvenient\n",
      "----------------------------------------\n",
      "    \n"
     ]
    }
   ],
   "source": [
    "from func import h5ad_to_mtx, group_agg"
   ]
  },
  {
   "cell_type": "code",
   "execution_count": 4,
   "id": "fc82aca6-5205-4bae-9ad3-25354bb6f1f3",
   "metadata": {},
   "outputs": [
    {
     "data": {
      "text/plain": [
       "{'mtx': PosixPath('Single-cell-retinal-regeneration-master/Chick_NMDAandGF_count_matrix.mtx'),\n",
       " 'obs': PosixPath('Single-cell-retinal-regeneration-master/Chick_NMDAandGF_cell_features.tsv')}"
      ]
     },
     "execution_count": 4,
     "metadata": {},
     "output_type": "execute_result"
    }
   ],
   "source": [
    "# df_path = pd.DataFrame({\n",
    "#     'mtx': [Path('Single-cell-retinal-regeneration-master/Zebrafish_{}_count_matrix.mtx'.format(_))\n",
    "#             for _ in 'LD,NMDA,TNFa'.split(',')],\n",
    "#     'obs': [Path('Single-cell-retinal-regeneration-master/Zebrafish_{}_cell_features.tsv'.format(_))\n",
    "#             for _ in 'LD,NMDA,TNFa'.split(',')]\n",
    "\n",
    "# }, index='LD,NMDA,TNFa'.split(','))\n",
    "# display(df_path.head(2))\n",
    "\n",
    "# df_var = pd.read_csv(\n",
    "#     Path('Single-cell-retinal-regeneration-master/Zebrafish_gene_features.tsv'),\n",
    "#     sep='\\t',\n",
    "#     index_col=1)\n",
    "# display(df_var.head(2), df_var.shape, df_var.index.is_unique)\n",
    "\n",
    "# for _i, _row in df_path.iterrows():\n",
    "#     print(\n",
    "#         ','.join(\n",
    "#             pd.read_csv(\n",
    "#                 _row['obs'],\n",
    "#                 sep='\\t',\n",
    "#                 index_col=0).columns))\n",
    "\n",
    "# _row\n",
    "\n",
    "\n",
    "_row = {\n",
    "    'mtx': Path('Single-cell-retinal-regeneration-master/Chick_NMDAandGF_count_matrix.mtx'),\n",
    "    'obs': Path('Single-cell-retinal-regeneration-master/Chick_NMDAandGF_cell_features.tsv'),\n",
    "\n",
    "}\n",
    "_row"
   ]
  },
  {
   "cell_type": "code",
   "execution_count": 5,
   "id": "9f00c8b5-7b19-4929-998f-71e720288ddc",
   "metadata": {},
   "outputs": [
    {
     "data": {
      "text/plain": [
       "gene_name\n",
       "False    24654\n",
       "True        24\n",
       "Name: count, dtype: int64"
      ]
     },
     "metadata": {},
     "output_type": "display_data"
    },
    {
     "data": {
      "text/plain": [
       "gene_name\n",
       "False    24678\n",
       "Name: count, dtype: int64"
      ]
     },
     "metadata": {},
     "output_type": "display_data"
    },
    {
     "data": {
      "text/html": [
       "<div>\n",
       "<style scoped>\n",
       "    .dataframe tbody tr th:only-of-type {\n",
       "        vertical-align: middle;\n",
       "    }\n",
       "\n",
       "    .dataframe tbody tr th {\n",
       "        vertical-align: top;\n",
       "    }\n",
       "\n",
       "    .dataframe thead th {\n",
       "        text-align: right;\n",
       "    }\n",
       "</style>\n",
       "<table border=\"1\" class=\"dataframe\">\n",
       "  <thead>\n",
       "    <tr style=\"text-align: right;\">\n",
       "      <th></th>\n",
       "      <th>gene_id</th>\n",
       "      <th>gene_name</th>\n",
       "    </tr>\n",
       "  </thead>\n",
       "  <tbody>\n",
       "    <tr>\n",
       "      <th>ENSGALG00000045540</th>\n",
       "      <td>ENSGALG00000045540</td>\n",
       "      <td>ENSGALG00000045540</td>\n",
       "    </tr>\n",
       "    <tr>\n",
       "      <th>LOC430443</th>\n",
       "      <td>ENSGALG00000031626</td>\n",
       "      <td>LOC430443</td>\n",
       "    </tr>\n",
       "  </tbody>\n",
       "</table>\n",
       "</div>"
      ],
      "text/plain": [
       "                               gene_id           gene_name\n",
       "ENSGALG00000045540  ENSGALG00000045540  ENSGALG00000045540\n",
       "LOC430443           ENSGALG00000031626           LOC430443"
      ]
     },
     "metadata": {},
     "output_type": "display_data"
    },
    {
     "data": {
      "text/plain": [
       "(24678, 2)"
      ]
     },
     "metadata": {},
     "output_type": "display_data"
    },
    {
     "data": {
      "text/plain": [
       "False"
      ]
     },
     "metadata": {},
     "output_type": "display_data"
    }
   ],
   "source": [
    "df_var = pd.read_csv(\n",
    "    Path('Single-cell-retinal-regeneration-master/Chick_gene_features.tsv'),\n",
    "    sep='\\t',\n",
    "    index_col=None,\n",
    "    header=0,\n",
    "    names='gene_id,gene_name'.split(','))\n",
    "\n",
    "display(df_var['gene_name'].isna().value_counts())\n",
    "df_var['gene_name'] = df_var['gene_name'].mask(\n",
    "    df_var['gene_name'].isna(), df_var['gene_id'])\n",
    "display(df_var['gene_name'].isna().value_counts())\n",
    "df_var.index = df_var['gene_name'].to_numpy()\n",
    "display(df_var.head(2), df_var.shape, df_var.index.is_unique)"
   ]
  },
  {
   "cell_type": "code",
   "execution_count": 6,
   "id": "886f4736-156e-4a49-a466-32bca366d63f",
   "metadata": {},
   "outputs": [
    {
     "data": {
      "text/html": [
       "<div>\n",
       "<style scoped>\n",
       "    .dataframe tbody tr th:only-of-type {\n",
       "        vertical-align: middle;\n",
       "    }\n",
       "\n",
       "    .dataframe tbody tr th {\n",
       "        vertical-align: top;\n",
       "    }\n",
       "\n",
       "    .dataframe thead th {\n",
       "        text-align: right;\n",
       "    }\n",
       "</style>\n",
       "<table border=\"1\" class=\"dataframe\">\n",
       "  <thead>\n",
       "    <tr style=\"text-align: right;\">\n",
       "      <th></th>\n",
       "      <th>age</th>\n",
       "      <th>tissue</th>\n",
       "      <th>_batch</th>\n",
       "      <th>Cell.type</th>\n",
       "      <th>tSNE.1</th>\n",
       "      <th>tSNE.2</th>\n",
       "    </tr>\n",
       "    <tr>\n",
       "      <th>#Barcode</th>\n",
       "      <th></th>\n",
       "      <th></th>\n",
       "      <th></th>\n",
       "      <th></th>\n",
       "      <th></th>\n",
       "      <th></th>\n",
       "    </tr>\n",
       "  </thead>\n",
       "  <tbody>\n",
       "    <tr>\n",
       "      <th>AAACCTGCAGCGTCCA-chP10R1</th>\n",
       "      <td>P10</td>\n",
       "      <td>R1</td>\n",
       "      <td>P10 R1</td>\n",
       "      <td>Resting MG</td>\n",
       "      <td>10.044577</td>\n",
       "      <td>30.207655</td>\n",
       "    </tr>\n",
       "    <tr>\n",
       "      <th>AAACCTGTCTCAACTT-chP10R1</th>\n",
       "      <td>P10</td>\n",
       "      <td>R1</td>\n",
       "      <td>P10 R1</td>\n",
       "      <td>Resting MG</td>\n",
       "      <td>9.477344</td>\n",
       "      <td>30.907544</td>\n",
       "    </tr>\n",
       "  </tbody>\n",
       "</table>\n",
       "</div>"
      ],
      "text/plain": [
       "                          age tissue  _batch   Cell.type     tSNE.1     tSNE.2\n",
       "#Barcode                                                                      \n",
       "AAACCTGCAGCGTCCA-chP10R1  P10     R1  P10 R1  Resting MG  10.044577  30.207655\n",
       "AAACCTGTCTCAACTT-chP10R1  P10     R1  P10 R1  Resting MG   9.477344  30.907544"
      ]
     },
     "metadata": {},
     "output_type": "display_data"
    },
    {
     "data": {
      "text/plain": [
       "(80777, 6)"
      ]
     },
     "metadata": {},
     "output_type": "display_data"
    },
    {
     "data": {
      "text/plain": [
       "_batch\n",
       "P10 R2             11781\n",
       "72hr NMDA R1        9922\n",
       "48hr GF R2          9554\n",
       "72hr NMDA R2        8195\n",
       "24hr NMDA R2        7726\n",
       "48hr GF R1          7389\n",
       "48hr NMDA R2        6724\n",
       "48hr NMDA+GF R1     6055\n",
       "24hr NMDA R1        5113\n",
       "48hr NMDA+GF R2     4856\n",
       "P10 R1              2038\n",
       "48hr NMDA R1        1424\n",
       "Name: count, dtype: int64"
      ]
     },
     "metadata": {},
     "output_type": "display_data"
    },
    {
     "data": {
      "text/plain": [
       "Cell.type\n",
       "Activated MG        59555\n",
       "Resting MG           5293\n",
       "Cone BC              3726\n",
       "GABAergic AC         3712\n",
       "RGC                  2400\n",
       "Oligodendrocytes     1874\n",
       "NIRG                 1685\n",
       "Cones                1635\n",
       "Rods                  897\n",
       "Name: count, dtype: int64"
      ]
     },
     "metadata": {},
     "output_type": "display_data"
    },
    {
     "data": {
      "text/plain": [
       "True"
      ]
     },
     "metadata": {},
     "output_type": "display_data"
    },
    {
     "data": {
      "text/plain": [
       "False"
      ]
     },
     "metadata": {},
     "output_type": "display_data"
    },
    {
     "data": {
      "text/plain": [
       "AnnData object with n_obs × n_vars = 80777 × 24678\n",
       "    obs: 'age', 'tissue', '_batch', 'Cell.type', 'tSNE.1', 'tSNE.2'\n",
       "    var: 'gene_id', 'gene_name'"
      ]
     },
     "metadata": {},
     "output_type": "display_data"
    },
    {
     "data": {
      "text/html": [
       "<div>\n",
       "<style scoped>\n",
       "    .dataframe tbody tr th:only-of-type {\n",
       "        vertical-align: middle;\n",
       "    }\n",
       "\n",
       "    .dataframe tbody tr th {\n",
       "        vertical-align: top;\n",
       "    }\n",
       "\n",
       "    .dataframe thead th {\n",
       "        text-align: right;\n",
       "    }\n",
       "</style>\n",
       "<table border=\"1\" class=\"dataframe\">\n",
       "  <thead>\n",
       "    <tr style=\"text-align: right;\">\n",
       "      <th></th>\n",
       "      <th>age</th>\n",
       "      <th>tissue</th>\n",
       "      <th>_batch</th>\n",
       "      <th>Cell.type</th>\n",
       "      <th>tSNE.1</th>\n",
       "      <th>tSNE.2</th>\n",
       "    </tr>\n",
       "    <tr>\n",
       "      <th>#Barcode</th>\n",
       "      <th></th>\n",
       "      <th></th>\n",
       "      <th></th>\n",
       "      <th></th>\n",
       "      <th></th>\n",
       "      <th></th>\n",
       "    </tr>\n",
       "  </thead>\n",
       "  <tbody>\n",
       "    <tr>\n",
       "      <th>AAACCTGCAGCGTCCA-chP10R1</th>\n",
       "      <td>P10</td>\n",
       "      <td>R1</td>\n",
       "      <td>P10 R1</td>\n",
       "      <td>Resting MG</td>\n",
       "      <td>10.044577</td>\n",
       "      <td>30.207655</td>\n",
       "    </tr>\n",
       "    <tr>\n",
       "      <th>AAACCTGTCTCAACTT-chP10R1</th>\n",
       "      <td>P10</td>\n",
       "      <td>R1</td>\n",
       "      <td>P10 R1</td>\n",
       "      <td>Resting MG</td>\n",
       "      <td>9.477344</td>\n",
       "      <td>30.907544</td>\n",
       "    </tr>\n",
       "  </tbody>\n",
       "</table>\n",
       "</div>"
      ],
      "text/plain": [
       "                          age tissue  _batch   Cell.type     tSNE.1     tSNE.2\n",
       "#Barcode                                                                      \n",
       "AAACCTGCAGCGTCCA-chP10R1  P10     R1  P10 R1  Resting MG  10.044577  30.207655\n",
       "AAACCTGTCTCAACTT-chP10R1  P10     R1  P10 R1  Resting MG   9.477344  30.907544"
      ]
     },
     "metadata": {},
     "output_type": "display_data"
    },
    {
     "data": {
      "text/plain": [
       "(80777, 6)"
      ]
     },
     "metadata": {},
     "output_type": "display_data"
    },
    {
     "data": {
      "text/html": [
       "<div>\n",
       "<style scoped>\n",
       "    .dataframe tbody tr th:only-of-type {\n",
       "        vertical-align: middle;\n",
       "    }\n",
       "\n",
       "    .dataframe tbody tr th {\n",
       "        vertical-align: top;\n",
       "    }\n",
       "\n",
       "    .dataframe thead th {\n",
       "        text-align: right;\n",
       "    }\n",
       "</style>\n",
       "<table border=\"1\" class=\"dataframe\">\n",
       "  <thead>\n",
       "    <tr style=\"text-align: right;\">\n",
       "      <th></th>\n",
       "      <th>gene_id</th>\n",
       "      <th>gene_name</th>\n",
       "    </tr>\n",
       "  </thead>\n",
       "  <tbody>\n",
       "    <tr>\n",
       "      <th>ENSGALG00000045540</th>\n",
       "      <td>ENSGALG00000045540</td>\n",
       "      <td>ENSGALG00000045540</td>\n",
       "    </tr>\n",
       "    <tr>\n",
       "      <th>LOC430443</th>\n",
       "      <td>ENSGALG00000031626</td>\n",
       "      <td>LOC430443</td>\n",
       "    </tr>\n",
       "  </tbody>\n",
       "</table>\n",
       "</div>"
      ],
      "text/plain": [
       "                               gene_id           gene_name\n",
       "ENSGALG00000045540  ENSGALG00000045540  ENSGALG00000045540\n",
       "LOC430443           ENSGALG00000031626           LOC430443"
      ]
     },
     "metadata": {},
     "output_type": "display_data"
    },
    {
     "data": {
      "text/plain": [
       "(24678, 2)"
      ]
     },
     "metadata": {},
     "output_type": "display_data"
    }
   ],
   "source": [
    "# res = {}\n",
    "# for _i, _row in df_path.iterrows():\n",
    "#     pass\n",
    "#     print(_row.name.ljust(50, '-'))\n",
    "\n",
    "adata = sc.read_mtx(_row['mtx']).T\n",
    "\n",
    "df_obs = pd.read_csv(_row['obs'],\n",
    "                     sep='\\t',\n",
    "                     index_col=0).loc[:,\n",
    "                                      'Sample,Cell.type,tSNE.1,tSNE.2'.split(',')]\n",
    "df_obs = df_obs['Sample'].str.extract(\n",
    "    '^(?P<age>[^ ]+) (?P<tissue>[^ ]+)').join(df_obs)\n",
    "df_obs = df_obs.rename(columns={'Sample': '_batch'})\n",
    "display(\n",
    "    df_obs.head(2),\n",
    "    df_obs.shape,\n",
    "    df_obs['_batch'].value_counts(),\n",
    "    df_obs['Cell.type'].value_counts())\n",
    "adata.var = df_var\n",
    "adata.obs = df_obs\n",
    "display(adata.obs.index.is_unique, adata.var.index.is_unique)\n",
    "adata.var_names_make_unique()\n",
    "adata.obs_names_make_unique()\n",
    "display(\n",
    "    adata,\n",
    "    adata.obs.head(2),\n",
    "    adata.obs.shape,\n",
    "    adata.var.head(2),\n",
    "    adata.var.shape)\n",
    "# res.update({_row.name: adata})\n",
    "# del adata"
   ]
  },
  {
   "cell_type": "code",
   "execution_count": 7,
   "id": "4f2831b4-95bf-44d1-ac71-0b2cfb89da25",
   "metadata": {},
   "outputs": [
    {
     "name": "stdout",
     "output_type": "stream",
     "text": [
      "\n",
      " age-----------------------------------------------\n"
     ]
    },
    {
     "data": {
      "text/plain": [
       "age\n",
       "48hr    36002\n",
       "72hr    18117\n",
       "P10     13819\n",
       "24hr    12839\n",
       "Name: count, dtype: int64"
      ]
     },
     "metadata": {},
     "output_type": "display_data"
    },
    {
     "name": "stdout",
     "output_type": "stream",
     "text": [
      "\n",
      " tissue--------------------------------------------\n"
     ]
    },
    {
     "data": {
      "text/plain": [
       "tissue\n",
       "NMDA       39104\n",
       "GF         16943\n",
       "R2         11781\n",
       "NMDA+GF    10911\n",
       "R1          2038\n",
       "Name: count, dtype: int64"
      ]
     },
     "metadata": {},
     "output_type": "display_data"
    },
    {
     "name": "stdout",
     "output_type": "stream",
     "text": [
      "\n",
      " _batch--------------------------------------------\n"
     ]
    },
    {
     "data": {
      "text/plain": [
       "_batch\n",
       "P10 R2             11781\n",
       "72hr NMDA R1        9922\n",
       "48hr GF R2          9554\n",
       "72hr NMDA R2        8195\n",
       "24hr NMDA R2        7726\n",
       "48hr GF R1          7389\n",
       "48hr NMDA R2        6724\n",
       "48hr NMDA+GF R1     6055\n",
       "24hr NMDA R1        5113\n",
       "48hr NMDA+GF R2     4856\n",
       "P10 R1              2038\n",
       "48hr NMDA R1        1424\n",
       "Name: count, dtype: int64"
      ]
     },
     "metadata": {},
     "output_type": "display_data"
    },
    {
     "name": "stdout",
     "output_type": "stream",
     "text": [
      "\n",
      " Cell.type-----------------------------------------\n"
     ]
    },
    {
     "data": {
      "text/plain": [
       "Cell.type\n",
       "Activated MG        59555\n",
       "Resting MG           5293\n",
       "Cone BC              3726\n",
       "GABAergic AC         3712\n",
       "RGC                  2400\n",
       "Oligodendrocytes     1874\n",
       "NIRG                 1685\n",
       "Cones                1635\n",
       "Rods                  897\n",
       "Name: count, dtype: int64"
      ]
     },
     "metadata": {},
     "output_type": "display_data"
    },
    {
     "name": "stdout",
     "output_type": "stream",
     "text": [
      "\n",
      " pre_ct--------------------------------------------\n"
     ]
    },
    {
     "data": {
      "text/plain": [
       "pre_ct\n",
       "Activated MG        59555\n",
       "Resting MG           5293\n",
       "Cone BC              3726\n",
       "GABAergic AC         3712\n",
       "RGC                  2400\n",
       "Oligodendrocytes     1874\n",
       "NIRG                 1685\n",
       "Cones                1635\n",
       "Rods                  897\n",
       "Name: count, dtype: int64"
      ]
     },
     "metadata": {},
     "output_type": "display_data"
    },
    {
     "name": "stdout",
     "output_type": "stream",
     "text": [
      "\n",
      " cell_type-----------------------------------------\n"
     ]
    },
    {
     "data": {
      "text/plain": [
       "cell_type\n",
       "Macroglial cell    66722\n",
       "BC                  3726\n",
       "AC                  3712\n",
       "RGC                 2400\n",
       "chick_P10_NIRG      1685\n",
       "Cones               1635\n",
       "Rods                 897\n",
       "Name: count, dtype: int64"
      ]
     },
     "metadata": {},
     "output_type": "display_data"
    }
   ],
   "source": [
    "adata.obs['pre_ct'] = adata.obs['Cell.type']\n",
    "adata.obs['cell_type'] = adata.obs['Cell.type'].map(lambda k: {\n",
    "    'GABAergic AC': 'AC',\n",
    "\n",
    "    'Resting MG': 'Macroglial cell',\n",
    "    'Activated MG': 'Macroglial cell',\n",
    "    'Oligodendrocytes': 'Macroglial cell',\n",
    "\n",
    "    'Cone BC': 'BC',\n",
    "    'Rods': 'Rods',\n",
    "    'Cones': 'Cones',\n",
    "\n",
    "    'RGC': 'RGC',\n",
    "    'NIRG': 'chick_P10_NIRG'}.setdefault(k, k))\n",
    "for _ in 'age,tissue,_batch,Cell.type,pre_ct,cell_type'.split(','):\n",
    "    print('\\n', _.ljust(50, '-'))\n",
    "    display(adata.obs[_].value_counts())"
   ]
  },
  {
   "cell_type": "code",
   "execution_count": 8,
   "id": "ab206fc7-3723-48b4-9c49-e97ec578507e",
   "metadata": {},
   "outputs": [
    {
     "data": {
      "text/plain": [
       "age\n",
       "P10    13819\n",
       "Name: count, dtype: int64"
      ]
     },
     "metadata": {},
     "output_type": "display_data"
    },
    {
     "data": {
      "text/html": [
       "<div>\n",
       "<style scoped>\n",
       "    .dataframe tbody tr th:only-of-type {\n",
       "        vertical-align: middle;\n",
       "    }\n",
       "\n",
       "    .dataframe tbody tr th {\n",
       "        vertical-align: top;\n",
       "    }\n",
       "\n",
       "    .dataframe thead th {\n",
       "        text-align: right;\n",
       "    }\n",
       "</style>\n",
       "<table border=\"1\" class=\"dataframe\">\n",
       "  <thead>\n",
       "    <tr style=\"text-align: right;\">\n",
       "      <th></th>\n",
       "      <th>age</th>\n",
       "      <th>tissue</th>\n",
       "      <th>_batch</th>\n",
       "      <th>Cell.type</th>\n",
       "      <th>tSNE.1</th>\n",
       "      <th>tSNE.2</th>\n",
       "      <th>pre_ct</th>\n",
       "      <th>cell_type</th>\n",
       "    </tr>\n",
       "    <tr>\n",
       "      <th>#Barcode</th>\n",
       "      <th></th>\n",
       "      <th></th>\n",
       "      <th></th>\n",
       "      <th></th>\n",
       "      <th></th>\n",
       "      <th></th>\n",
       "      <th></th>\n",
       "      <th></th>\n",
       "    </tr>\n",
       "  </thead>\n",
       "  <tbody>\n",
       "    <tr>\n",
       "      <th>AAACCTGCAGCGTCCA-chP10R1</th>\n",
       "      <td>P10</td>\n",
       "      <td>R1</td>\n",
       "      <td>P10 R1</td>\n",
       "      <td>Resting MG</td>\n",
       "      <td>10.044577</td>\n",
       "      <td>30.207655</td>\n",
       "      <td>Resting MG</td>\n",
       "      <td>Macroglial cell</td>\n",
       "    </tr>\n",
       "    <tr>\n",
       "      <th>AAACCTGTCTCAACTT-chP10R1</th>\n",
       "      <td>P10</td>\n",
       "      <td>R1</td>\n",
       "      <td>P10 R1</td>\n",
       "      <td>Resting MG</td>\n",
       "      <td>9.477344</td>\n",
       "      <td>30.907544</td>\n",
       "      <td>Resting MG</td>\n",
       "      <td>Macroglial cell</td>\n",
       "    </tr>\n",
       "  </tbody>\n",
       "</table>\n",
       "</div>"
      ],
      "text/plain": [
       "                          age tissue  _batch   Cell.type     tSNE.1  \\\n",
       "#Barcode                                                              \n",
       "AAACCTGCAGCGTCCA-chP10R1  P10     R1  P10 R1  Resting MG  10.044577   \n",
       "AAACCTGTCTCAACTT-chP10R1  P10     R1  P10 R1  Resting MG   9.477344   \n",
       "\n",
       "                             tSNE.2      pre_ct        cell_type  \n",
       "#Barcode                                                          \n",
       "AAACCTGCAGCGTCCA-chP10R1  30.207655  Resting MG  Macroglial cell  \n",
       "AAACCTGTCTCAACTT-chP10R1  30.907544  Resting MG  Macroglial cell  "
      ]
     },
     "metadata": {},
     "output_type": "display_data"
    },
    {
     "data": {
      "text/plain": [
       "(13819, 8)"
      ]
     },
     "metadata": {},
     "output_type": "display_data"
    },
    {
     "data": {
      "text/plain": [
       "True"
      ]
     },
     "metadata": {},
     "output_type": "display_data"
    },
    {
     "data": {
      "text/plain": [
       "True"
      ]
     },
     "metadata": {},
     "output_type": "display_data"
    },
    {
     "name": "stdout",
     "output_type": "stream",
     "text": [
      "frist 10 data.X nonzero elements:\n",
      " [[1 1 2 1 2 1 1 2 1 2]]\n",
      "[out] /public/workspace/licanchengup/link/db/came/dataset/Retina/chicken_P10\n"
     ]
    }
   ],
   "source": [
    "_ = adata[adata.obs['age'] == 'P10',:].copy()\n",
    "display(_.obs['age'].value_counts())\n",
    "display(_.obs.head(2),_.obs.shape, _.obs.index.is_unique, _.var.index.is_unique)\n",
    "h5ad_to_mtx(_, p_root.joinpath('chicken_P10'))"
   ]
  },
  {
   "cell_type": "markdown",
   "id": "5df33da2-09cc-45ee-9bec-ee1214dcbc03",
   "metadata": {},
   "source": [
    "||||\n",
    "|:-|:-|:-|\n",
    "|AC| amacrine cells|无长突细胞；无轴突细胞；无突起细胞|\n",
    "|V/E cell| vascular/endothelial cells|血管/内皮细胞|\n",
    "|Macroglial cell||大胶质细胞|\n",
    "|Microglia cell||小胶质细胞|\n",
    "|Pericyte cell||周细胞|\n",
    "|Progenitor cell||祖细胞|\n",
    "|HC|||\n",
    "|BC| bipolar cells|双极细胞；双极性细胞|\n",
    "|Cones||视锥细胞|\n",
    "|RGC| retinal ganglion cells|视网膜神经节细胞|\n",
    "|RPE| retinal pigment epithelium|视网膜色素上皮细胞|\n",
    "|Rods||视杆细胞|\n",
    "|NIRG| nonastrocytic inner retinal glial cells|视网膜内非星形胶质细胞|"
   ]
  },
  {
   "cell_type": "code",
   "execution_count": 9,
   "id": "62ebf647-1d89-409d-9f6c-b0ace48b17f3",
   "metadata": {},
   "outputs": [
    {
     "name": "stdout",
     "output_type": "stream",
     "text": [
      "'Resting MG':'',\n",
      "'Cone BC':'',\n",
      "'Rods':'',\n",
      "'Oligodendrocytes':'',\n",
      "'GABAergic AC':'',\n",
      "'RGC':'',\n",
      "'Cones':'',\n",
      "'Activated MG':'',\n",
      "'NIRG':'',\n"
     ]
    }
   ],
   "source": [
    "for x in _.obs['Cell.type'].unique():\n",
    "    print(\"'{}':'',\".format(x))"
   ]
  }
 ],
 "metadata": {
  "kernelspec": {
   "display_name": "csMAHN",
   "language": "python",
   "name": "csmahn"
  },
  "language_info": {
   "codemirror_mode": {
    "name": "ipython",
    "version": 3
   },
   "file_extension": ".py",
   "mimetype": "text/x-python",
   "name": "python",
   "nbconvert_exporter": "python",
   "pygments_lexer": "ipython3",
   "version": "3.9.18"
  }
 },
 "nbformat": 4,
 "nbformat_minor": 5
}
