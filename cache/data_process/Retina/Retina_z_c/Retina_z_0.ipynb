{
 "cells": [
  {
   "cell_type": "markdown",
   "id": "e85ff57e-3d17-4a4f-aa9a-f5a968cd403f",
   "metadata": {},
   "source": [
    "> [came PMC9977153](https://www.ncbi.nlm.nih.gov/pmc/articles/PMC9977153/)\n",
    ">> For distant species, the markers of homologous cell types can be quite diverse. For example, for the major cell types in the retina defined by scRNA-seq data, there are only a few shared DEGs for human, mouse, chicken, and zebrafish (Supplemental Fig. S16A), which limits the performance of many marker-based methods for cross-species cell-type assignment. Here we took the retinal scRNA-seq data of **adult zebrafish (Hoang et al. 2020) as the reference**, and applied CAME to assign the retinal cells for two distant species, **human (Menon et al. 2019)** and **mouse (Macosko et al. 2015)**, and a nonmodel species, **chick (Hoang et al. 2020)**\n",
    "\n",
    ">> zebrafish_Adult 这数量不太对啊\n",
    "\n",
    "|Dataset|Organism|Organ|Platform|Number of cells|\n",
    "|:-|:-|:-|:-|:-|\n",
    "|Menon_microfluidics|Homo sapiens|Retina|microfluidics|20,091|\n",
    "|Menon_seqwell|Homo sapiens|Retina|Seq-Well|3,014|\n",
    "|Macosko|Mus musculus|Retina|Drop-seq|44,808|\n",
    "|zebrafish_LD_Adult|Danio rerio|Retina|10x|19,485|\n",
    "|zebrafish_NMDA_Adult|Danio rerio|Retina|10x|19,485|\n",
    "|zebrafish_NMDA_Adult|Danio rerio|Retina|10x|19,485|\n",
    "|chick_P10|Gallus gallus domesticus|Retina|10x|13,819|\n",
    "\n",
    "+ [zebrafish and chick | Hoang et al. 2020](https://www.ncbi.nlm.nih.gov/pmc/articles/PMC7899183/)\n",
    "+ [mouse | Macosko et al. 2015](https://www.ncbi.nlm.nih.gov/pmc/articles/PMC4481139/)\n",
    "+ [human | Menon et al. 2019](https://www.ncbi.nlm.nih.gov/pmc/articles/PMC6814749/)\n",
    "    > [healty]Retinas collected for this study had no known retinal disease and no abnormalities indicative of disease pathology\n",
    "\n",
    "|Dataset|Organism|Organ|Platform|Number of cells|\n",
    "|:-:|:-:|:-:|:-:|:-:|\n",
    "|Menon_microfluidics|Homo sapiens|Retina|microfluidics|20,091|\n",
    "\n",
    "[GSE137846](https://www.ncbi.nlm.nih.gov/geo/query/acc.cgi?acc=GSE137846)\n",
    "```\n",
    "GSM4089762\tMacula retina 6hr Seq-Well 视网膜黄斑\n",
    "GSM4089763\tPeripheral retina 6hr Seq-Well 视网膜外周\n",
    "GSM4089764\tMacula retina 8hr Seq-Well\n",
    "GSM4089765\tPeripheral retina 8hr Seq-Well\n",
    "GSM4089766\tMacula retina 24hr Seq-Well read 1\n",
    "```"
   ]
  },
  {
   "cell_type": "code",
   "execution_count": 1,
   "id": "5735febc-f74a-40d9-bf51-1fd38997b0e6",
   "metadata": {},
   "outputs": [
    {
     "name": "stderr",
     "output_type": "stream",
     "text": [
      "/public/workspace/licanchengup/apps/miniconda3/envs/csMAHN/lib/python3.9/site-packages/tqdm/auto.py:21: TqdmWarning: IProgress not found. Please update jupyter and ipywidgets. See https://ipywidgets.readthedocs.io/en/stable/user_install.html\n",
      "  from .autonotebook import tqdm as notebook_tqdm\n"
     ]
    }
   ],
   "source": [
    "from pathlib import Path\n",
    "import numpy as np\n",
    "import pandas as pd\n",
    "import scanpy as sc\n",
    "\n",
    "from IPython.display import display"
   ]
  },
  {
   "cell_type": "code",
   "execution_count": 2,
   "id": "b991d6ba-c17a-4adc-a5c0-2b744528bbc4",
   "metadata": {},
   "outputs": [],
   "source": [
    "import sys\n",
    "p_link = Path('/public/workspace/licanchengup/link')\n",
    "p_test = p_link.joinpath('test')\n",
    "p_root = Path('/public/workspace/licanchengup/link/db/came/dataset/Retina')\n",
    "None if str(p_test) in sys.path else sys.path.append(str(p_test))"
   ]
  },
  {
   "cell_type": "code",
   "execution_count": 3,
   "id": "5c430571-6a53-4957-8618-c1f9588ea6ad",
   "metadata": {},
   "outputs": [
    {
     "name": "stdout",
     "output_type": "stream",
     "text": [
      "\n",
      "[func]----------------------------------\n",
      "group_agg\n",
      "rm_rf\n",
      "get_path_varmap\n",
      "get_type_counts_info\t\taligned\n",
      "aligned_type\t\t\taligned\n",
      "test_came_and_csMAHN\n",
      "h5ad_to_mtx\n",
      "load_adata\n",
      "\n",
      "[result tools]--------------------------\n",
      "get_test_result_df\n",
      "show_umap\n",
      "get_res_obs\n",
      "get_publi_head\n",
      "\n",
      "[result tools][re plot umap]-----------\n",
      "get_df_color\t\t\tConvenient\n",
      "> [dssp umap]\n",
      "export_legend\n",
      "dssp_plot_umap_legend_sp\tConvenient\n",
      "dssp_plot_umap_legend_cell_type\tConvenient\n",
      "dssp_plot_umap\n",
      "dssp_get_umap_name\n",
      "dssp_plot_save_umap\t\tConvenient\n",
      "> [umap]\n",
      "get_default_df_color\n",
      "plot_umap\n",
      "get_umap_name\n",
      "plot_save_umap\t\t\tConvenient\n",
      "----------------------------------------\n",
      "    \n"
     ]
    }
   ],
   "source": [
    "from func import h5ad_to_mtx, group_agg"
   ]
  },
  {
   "cell_type": "code",
   "execution_count": 4,
   "id": "533583a7-b25c-4274-a568-d89b389f30d7",
   "metadata": {},
   "outputs": [
    {
     "data": {
      "text/html": [
       "<div>\n",
       "<style scoped>\n",
       "    .dataframe tbody tr th:only-of-type {\n",
       "        vertical-align: middle;\n",
       "    }\n",
       "\n",
       "    .dataframe tbody tr th {\n",
       "        vertical-align: top;\n",
       "    }\n",
       "\n",
       "    .dataframe thead th {\n",
       "        text-align: right;\n",
       "    }\n",
       "</style>\n",
       "<table border=\"1\" class=\"dataframe\">\n",
       "  <thead>\n",
       "    <tr style=\"text-align: right;\">\n",
       "      <th></th>\n",
       "      <th>mtx</th>\n",
       "      <th>obs</th>\n",
       "    </tr>\n",
       "  </thead>\n",
       "  <tbody>\n",
       "    <tr>\n",
       "      <th>LD</th>\n",
       "      <td>Single-cell-retinal-regeneration-master/Zebraf...</td>\n",
       "      <td>Single-cell-retinal-regeneration-master/Zebraf...</td>\n",
       "    </tr>\n",
       "    <tr>\n",
       "      <th>NMDA</th>\n",
       "      <td>Single-cell-retinal-regeneration-master/Zebraf...</td>\n",
       "      <td>Single-cell-retinal-regeneration-master/Zebraf...</td>\n",
       "    </tr>\n",
       "    <tr>\n",
       "      <th>TNFa</th>\n",
       "      <td>Single-cell-retinal-regeneration-master/Zebraf...</td>\n",
       "      <td>Single-cell-retinal-regeneration-master/Zebraf...</td>\n",
       "    </tr>\n",
       "  </tbody>\n",
       "</table>\n",
       "</div>"
      ],
      "text/plain": [
       "                                                    mtx  \\\n",
       "LD    Single-cell-retinal-regeneration-master/Zebraf...   \n",
       "NMDA  Single-cell-retinal-regeneration-master/Zebraf...   \n",
       "TNFa  Single-cell-retinal-regeneration-master/Zebraf...   \n",
       "\n",
       "                                                    obs  \n",
       "LD    Single-cell-retinal-regeneration-master/Zebraf...  \n",
       "NMDA  Single-cell-retinal-regeneration-master/Zebraf...  \n",
       "TNFa  Single-cell-retinal-regeneration-master/Zebraf...  "
      ]
     },
     "execution_count": 4,
     "metadata": {},
     "output_type": "execute_result"
    }
   ],
   "source": [
    "df_path = pd.DataFrame({\n",
    "    'mtx': [Path('Single-cell-retinal-regeneration-master/Zebrafish_{}_count_matrix.mtx'.format(_))\n",
    "            for _ in 'LD,NMDA,TNFa'.split(',')],\n",
    "    'obs': [Path('Single-cell-retinal-regeneration-master/Zebrafish_{}_cell_features.tsv'.format(_))\n",
    "            for _ in 'LD,NMDA,TNFa'.split(',')]\n",
    "\n",
    "}, index='LD,NMDA,TNFa'.split(','))\n",
    "df_path"
   ]
  },
  {
   "cell_type": "code",
   "execution_count": 5,
   "id": "96aba2c0-b8ba-49d2-88a7-db5d7cfe7c43",
   "metadata": {},
   "outputs": [
    {
     "data": {
      "text/html": [
       "<div>\n",
       "<style scoped>\n",
       "    .dataframe tbody tr th:only-of-type {\n",
       "        vertical-align: middle;\n",
       "    }\n",
       "\n",
       "    .dataframe tbody tr th {\n",
       "        vertical-align: top;\n",
       "    }\n",
       "\n",
       "    .dataframe thead th {\n",
       "        text-align: right;\n",
       "    }\n",
       "</style>\n",
       "<table border=\"1\" class=\"dataframe\">\n",
       "  <thead>\n",
       "    <tr style=\"text-align: right;\">\n",
       "      <th></th>\n",
       "      <th>#Ensembl.ID</th>\n",
       "    </tr>\n",
       "    <tr>\n",
       "      <th>Symbol</th>\n",
       "      <th></th>\n",
       "    </tr>\n",
       "  </thead>\n",
       "  <tbody>\n",
       "    <tr>\n",
       "      <th>rerg</th>\n",
       "      <td>ENSDARG00000104632</td>\n",
       "    </tr>\n",
       "    <tr>\n",
       "      <th>si:ch73-252i11.1</th>\n",
       "      <td>ENSDARG00000100660</td>\n",
       "    </tr>\n",
       "  </tbody>\n",
       "</table>\n",
       "</div>"
      ],
      "text/plain": [
       "                         #Ensembl.ID\n",
       "Symbol                              \n",
       "rerg              ENSDARG00000104632\n",
       "si:ch73-252i11.1  ENSDARG00000100660"
      ]
     },
     "metadata": {},
     "output_type": "display_data"
    },
    {
     "data": {
      "text/plain": [
       "(31498, 1)"
      ]
     },
     "metadata": {},
     "output_type": "display_data"
    },
    {
     "data": {
      "text/plain": [
       "False"
      ]
     },
     "metadata": {},
     "output_type": "display_data"
    }
   ],
   "source": [
    "df_var = pd.read_csv(\n",
    "    Path('Single-cell-retinal-regeneration-master/Zebrafish_gene_features.tsv'),\n",
    "    sep='\\t',\n",
    "    index_col=1)\n",
    "display(df_var.head(2), df_var.shape, df_var.index.is_unique)"
   ]
  },
  {
   "cell_type": "code",
   "execution_count": 6,
   "id": "48e211be-8e0d-4e43-b643-40c9f6947cbf",
   "metadata": {},
   "outputs": [
    {
     "name": "stdout",
     "output_type": "stream",
     "text": [
      "Sample,Cell.type,tSNE.1,tSNE.2,nGene,nUMI,Percentage.of.mitochondrial.genes,Percentage.of.ribosomal.protein.genes\n",
      "Sample,Cell.type,tSNE.1,tSNE.2,nGene,nUMI,Percentage.of.mitochondrial.genes,Percentage.of.ribosomal.protein.genes\n",
      "Sample,Cell.type,tSNE.1,tSNE.2,nGene,nUMI,Percentage.of.mitochondrial.genes,Percentage.of.ribosomal.protein.genes\n"
     ]
    },
    {
     "data": {
      "text/plain": [
       "mtx    Single-cell-retinal-regeneration-master/Zebraf...\n",
       "obs    Single-cell-retinal-regeneration-master/Zebraf...\n",
       "Name: TNFa, dtype: object"
      ]
     },
     "execution_count": 6,
     "metadata": {},
     "output_type": "execute_result"
    }
   ],
   "source": [
    "for _i, _row in df_path.iterrows():\n",
    "    print(\n",
    "        ','.join(\n",
    "            pd.read_csv(\n",
    "                _row['obs'],\n",
    "                sep='\\t',\n",
    "                index_col=0).columns))\n",
    "\n",
    "_row"
   ]
  },
  {
   "cell_type": "code",
   "execution_count": 7,
   "id": "886f4736-156e-4a49-a466-32bca366d63f",
   "metadata": {},
   "outputs": [
    {
     "name": "stdout",
     "output_type": "stream",
     "text": [
      "LD------------------------------------------------\n"
     ]
    },
    {
     "data": {
      "text/html": [
       "<div>\n",
       "<style scoped>\n",
       "    .dataframe tbody tr th:only-of-type {\n",
       "        vertical-align: middle;\n",
       "    }\n",
       "\n",
       "    .dataframe tbody tr th {\n",
       "        vertical-align: top;\n",
       "    }\n",
       "\n",
       "    .dataframe thead th {\n",
       "        text-align: right;\n",
       "    }\n",
       "</style>\n",
       "<table border=\"1\" class=\"dataframe\">\n",
       "  <thead>\n",
       "    <tr style=\"text-align: right;\">\n",
       "      <th></th>\n",
       "      <th>age</th>\n",
       "      <th>tissue</th>\n",
       "      <th>_batch</th>\n",
       "      <th>Cell.type</th>\n",
       "      <th>tSNE.1</th>\n",
       "      <th>tSNE.2</th>\n",
       "    </tr>\n",
       "    <tr>\n",
       "      <th>#Barcode</th>\n",
       "      <th></th>\n",
       "      <th></th>\n",
       "      <th></th>\n",
       "      <th></th>\n",
       "      <th></th>\n",
       "      <th></th>\n",
       "    </tr>\n",
       "  </thead>\n",
       "  <tbody>\n",
       "    <tr>\n",
       "      <th>AAACCTGCAAGAAAGG-zfAd00R1</th>\n",
       "      <td>Adult</td>\n",
       "      <td>R1</td>\n",
       "      <td>Adult R1</td>\n",
       "      <td>HC</td>\n",
       "      <td>22.214539</td>\n",
       "      <td>-23.589493</td>\n",
       "    </tr>\n",
       "    <tr>\n",
       "      <th>ACTGCTCAGTGAACAT-zfAd00R1</th>\n",
       "      <td>Adult</td>\n",
       "      <td>R1</td>\n",
       "      <td>Adult R1</td>\n",
       "      <td>HC</td>\n",
       "      <td>22.670850</td>\n",
       "      <td>-24.557162</td>\n",
       "    </tr>\n",
       "  </tbody>\n",
       "</table>\n",
       "</div>"
      ],
      "text/plain": [
       "                             age tissue    _batch Cell.type     tSNE.1  \\\n",
       "#Barcode                                                                 \n",
       "AAACCTGCAAGAAAGG-zfAd00R1  Adult     R1  Adult R1        HC  22.214539   \n",
       "ACTGCTCAGTGAACAT-zfAd00R1  Adult     R1  Adult R1        HC  22.670850   \n",
       "\n",
       "                              tSNE.2  \n",
       "#Barcode                              \n",
       "AAACCTGCAAGAAAGG-zfAd00R1 -23.589493  \n",
       "ACTGCTCAGTGAACAT-zfAd00R1 -24.557162  "
      ]
     },
     "metadata": {},
     "output_type": "display_data"
    },
    {
     "data": {
      "text/plain": [
       "(45153, 6)"
      ]
     },
     "metadata": {},
     "output_type": "display_data"
    },
    {
     "data": {
      "text/plain": [
       "_batch\n",
       "36hr LD R1    8426\n",
       "20hr LD       6784\n",
       "Adult R3      6499\n",
       "Adult R4      5511\n",
       "10hr LD       5226\n",
       "Adult R5      4988\n",
       "4hr LD        3475\n",
       "36hr LD R2    1757\n",
       "Adult R1      1617\n",
       "Adult R2       870\n",
       "Name: count, dtype: int64"
      ]
     },
     "metadata": {},
     "output_type": "display_data"
    },
    {
     "data": {
      "text/plain": [
       "Cell.type\n",
       "Resting MG          7738\n",
       "Rods                7294\n",
       "Activated MG        6905\n",
       "HC                  5083\n",
       "Cones               4197\n",
       "GABAergic AC        3078\n",
       "RGC                 2789\n",
       "Microglia           2520\n",
       "BC                  1532\n",
       "Glycinergic AC      1422\n",
       "Pericytes            916\n",
       "Progenitors          446\n",
       "V/E cells            427\n",
       "RPE                  422\n",
       "Oligodendrocytes     384\n",
       "Name: count, dtype: int64"
      ]
     },
     "metadata": {},
     "output_type": "display_data"
    },
    {
     "data": {
      "text/plain": [
       "True"
      ]
     },
     "metadata": {},
     "output_type": "display_data"
    },
    {
     "data": {
      "text/plain": [
       "False"
      ]
     },
     "metadata": {},
     "output_type": "display_data"
    },
    {
     "data": {
      "text/plain": [
       "AnnData object with n_obs × n_vars = 45153 × 31498\n",
       "    obs: 'age', 'tissue', '_batch', 'Cell.type', 'tSNE.1', 'tSNE.2'\n",
       "    var: '#Ensembl.ID'"
      ]
     },
     "metadata": {},
     "output_type": "display_data"
    },
    {
     "data": {
      "text/html": [
       "<div>\n",
       "<style scoped>\n",
       "    .dataframe tbody tr th:only-of-type {\n",
       "        vertical-align: middle;\n",
       "    }\n",
       "\n",
       "    .dataframe tbody tr th {\n",
       "        vertical-align: top;\n",
       "    }\n",
       "\n",
       "    .dataframe thead th {\n",
       "        text-align: right;\n",
       "    }\n",
       "</style>\n",
       "<table border=\"1\" class=\"dataframe\">\n",
       "  <thead>\n",
       "    <tr style=\"text-align: right;\">\n",
       "      <th></th>\n",
       "      <th>age</th>\n",
       "      <th>tissue</th>\n",
       "      <th>_batch</th>\n",
       "      <th>Cell.type</th>\n",
       "      <th>tSNE.1</th>\n",
       "      <th>tSNE.2</th>\n",
       "    </tr>\n",
       "    <tr>\n",
       "      <th>#Barcode</th>\n",
       "      <th></th>\n",
       "      <th></th>\n",
       "      <th></th>\n",
       "      <th></th>\n",
       "      <th></th>\n",
       "      <th></th>\n",
       "    </tr>\n",
       "  </thead>\n",
       "  <tbody>\n",
       "    <tr>\n",
       "      <th>AAACCTGCAAGAAAGG-zfAd00R1</th>\n",
       "      <td>Adult</td>\n",
       "      <td>R1</td>\n",
       "      <td>Adult R1</td>\n",
       "      <td>HC</td>\n",
       "      <td>22.214539</td>\n",
       "      <td>-23.589493</td>\n",
       "    </tr>\n",
       "    <tr>\n",
       "      <th>ACTGCTCAGTGAACAT-zfAd00R1</th>\n",
       "      <td>Adult</td>\n",
       "      <td>R1</td>\n",
       "      <td>Adult R1</td>\n",
       "      <td>HC</td>\n",
       "      <td>22.670850</td>\n",
       "      <td>-24.557162</td>\n",
       "    </tr>\n",
       "  </tbody>\n",
       "</table>\n",
       "</div>"
      ],
      "text/plain": [
       "                             age tissue    _batch Cell.type     tSNE.1  \\\n",
       "#Barcode                                                                 \n",
       "AAACCTGCAAGAAAGG-zfAd00R1  Adult     R1  Adult R1        HC  22.214539   \n",
       "ACTGCTCAGTGAACAT-zfAd00R1  Adult     R1  Adult R1        HC  22.670850   \n",
       "\n",
       "                              tSNE.2  \n",
       "#Barcode                              \n",
       "AAACCTGCAAGAAAGG-zfAd00R1 -23.589493  \n",
       "ACTGCTCAGTGAACAT-zfAd00R1 -24.557162  "
      ]
     },
     "metadata": {},
     "output_type": "display_data"
    },
    {
     "data": {
      "text/plain": [
       "(45153, 6)"
      ]
     },
     "metadata": {},
     "output_type": "display_data"
    },
    {
     "data": {
      "text/html": [
       "<div>\n",
       "<style scoped>\n",
       "    .dataframe tbody tr th:only-of-type {\n",
       "        vertical-align: middle;\n",
       "    }\n",
       "\n",
       "    .dataframe tbody tr th {\n",
       "        vertical-align: top;\n",
       "    }\n",
       "\n",
       "    .dataframe thead th {\n",
       "        text-align: right;\n",
       "    }\n",
       "</style>\n",
       "<table border=\"1\" class=\"dataframe\">\n",
       "  <thead>\n",
       "    <tr style=\"text-align: right;\">\n",
       "      <th></th>\n",
       "      <th>#Ensembl.ID</th>\n",
       "    </tr>\n",
       "    <tr>\n",
       "      <th>Symbol</th>\n",
       "      <th></th>\n",
       "    </tr>\n",
       "  </thead>\n",
       "  <tbody>\n",
       "    <tr>\n",
       "      <th>rerg</th>\n",
       "      <td>ENSDARG00000104632</td>\n",
       "    </tr>\n",
       "    <tr>\n",
       "      <th>si:ch73-252i11.1</th>\n",
       "      <td>ENSDARG00000100660</td>\n",
       "    </tr>\n",
       "  </tbody>\n",
       "</table>\n",
       "</div>"
      ],
      "text/plain": [
       "                         #Ensembl.ID\n",
       "Symbol                              \n",
       "rerg              ENSDARG00000104632\n",
       "si:ch73-252i11.1  ENSDARG00000100660"
      ]
     },
     "metadata": {},
     "output_type": "display_data"
    },
    {
     "data": {
      "text/plain": [
       "(31498, 1)"
      ]
     },
     "metadata": {},
     "output_type": "display_data"
    },
    {
     "name": "stdout",
     "output_type": "stream",
     "text": [
      "NMDA----------------------------------------------\n"
     ]
    },
    {
     "data": {
      "text/html": [
       "<div>\n",
       "<style scoped>\n",
       "    .dataframe tbody tr th:only-of-type {\n",
       "        vertical-align: middle;\n",
       "    }\n",
       "\n",
       "    .dataframe tbody tr th {\n",
       "        vertical-align: top;\n",
       "    }\n",
       "\n",
       "    .dataframe thead th {\n",
       "        text-align: right;\n",
       "    }\n",
       "</style>\n",
       "<table border=\"1\" class=\"dataframe\">\n",
       "  <thead>\n",
       "    <tr style=\"text-align: right;\">\n",
       "      <th></th>\n",
       "      <th>age</th>\n",
       "      <th>tissue</th>\n",
       "      <th>_batch</th>\n",
       "      <th>Cell.type</th>\n",
       "      <th>tSNE.1</th>\n",
       "      <th>tSNE.2</th>\n",
       "    </tr>\n",
       "    <tr>\n",
       "      <th>#Barcode</th>\n",
       "      <th></th>\n",
       "      <th></th>\n",
       "      <th></th>\n",
       "      <th></th>\n",
       "      <th></th>\n",
       "      <th></th>\n",
       "    </tr>\n",
       "  </thead>\n",
       "  <tbody>\n",
       "    <tr>\n",
       "      <th>AAACCTGCAAGAAAGG-zfAd00R1</th>\n",
       "      <td>Adult</td>\n",
       "      <td>R1</td>\n",
       "      <td>Adult R1</td>\n",
       "      <td>HC</td>\n",
       "      <td>-35.296160</td>\n",
       "      <td>-14.833732</td>\n",
       "    </tr>\n",
       "    <tr>\n",
       "      <th>ACTGCTCAGTGAACAT-zfAd00R1</th>\n",
       "      <td>Adult</td>\n",
       "      <td>R1</td>\n",
       "      <td>Adult R1</td>\n",
       "      <td>HC</td>\n",
       "      <td>-33.768618</td>\n",
       "      <td>-12.901787</td>\n",
       "    </tr>\n",
       "  </tbody>\n",
       "</table>\n",
       "</div>"
      ],
      "text/plain": [
       "                             age tissue    _batch Cell.type     tSNE.1  \\\n",
       "#Barcode                                                                 \n",
       "AAACCTGCAAGAAAGG-zfAd00R1  Adult     R1  Adult R1        HC -35.296160   \n",
       "ACTGCTCAGTGAACAT-zfAd00R1  Adult     R1  Adult R1        HC -33.768618   \n",
       "\n",
       "                              tSNE.2  \n",
       "#Barcode                              \n",
       "AAACCTGCAAGAAAGG-zfAd00R1 -14.833732  \n",
       "ACTGCTCAGTGAACAT-zfAd00R1 -12.901787  "
      ]
     },
     "metadata": {},
     "output_type": "display_data"
    },
    {
     "data": {
      "text/plain": [
       "(40236, 6)"
      ]
     },
     "metadata": {},
     "output_type": "display_data"
    },
    {
     "data": {
      "text/plain": [
       "_batch\n",
       "4hr NMDA04M    7387\n",
       "Adult R3       6499\n",
       "Adult R4       5511\n",
       "Adult R5       4988\n",
       "10hr NMDA      4727\n",
       "20hr NMDA      4603\n",
       "36hr NMDA      4034\n",
       "Adult R1       1617\n",
       "Adult R2        870\n",
       "Name: count, dtype: int64"
      ]
     },
     "metadata": {},
     "output_type": "display_data"
    },
    {
     "data": {
      "text/plain": [
       "Cell.type\n",
       "Resting MG        6393\n",
       "Activated MG      5485\n",
       "Rods              5481\n",
       "Cones             3678\n",
       "Cone BC           3175\n",
       "RGC               3086\n",
       "GABAergic AC      2870\n",
       "HC                2716\n",
       "Microglia         2146\n",
       "BC                1906\n",
       "Pericytes         1365\n",
       "Glycinergic AC     669\n",
       "V/E cells          461\n",
       "RPE                434\n",
       "Progenitors        371\n",
       "Name: count, dtype: int64"
      ]
     },
     "metadata": {},
     "output_type": "display_data"
    },
    {
     "data": {
      "text/plain": [
       "True"
      ]
     },
     "metadata": {},
     "output_type": "display_data"
    },
    {
     "data": {
      "text/plain": [
       "True"
      ]
     },
     "metadata": {},
     "output_type": "display_data"
    },
    {
     "data": {
      "text/plain": [
       "AnnData object with n_obs × n_vars = 40236 × 31498\n",
       "    obs: 'age', 'tissue', '_batch', 'Cell.type', 'tSNE.1', 'tSNE.2'\n",
       "    var: '#Ensembl.ID'"
      ]
     },
     "metadata": {},
     "output_type": "display_data"
    },
    {
     "data": {
      "text/html": [
       "<div>\n",
       "<style scoped>\n",
       "    .dataframe tbody tr th:only-of-type {\n",
       "        vertical-align: middle;\n",
       "    }\n",
       "\n",
       "    .dataframe tbody tr th {\n",
       "        vertical-align: top;\n",
       "    }\n",
       "\n",
       "    .dataframe thead th {\n",
       "        text-align: right;\n",
       "    }\n",
       "</style>\n",
       "<table border=\"1\" class=\"dataframe\">\n",
       "  <thead>\n",
       "    <tr style=\"text-align: right;\">\n",
       "      <th></th>\n",
       "      <th>age</th>\n",
       "      <th>tissue</th>\n",
       "      <th>_batch</th>\n",
       "      <th>Cell.type</th>\n",
       "      <th>tSNE.1</th>\n",
       "      <th>tSNE.2</th>\n",
       "    </tr>\n",
       "    <tr>\n",
       "      <th>#Barcode</th>\n",
       "      <th></th>\n",
       "      <th></th>\n",
       "      <th></th>\n",
       "      <th></th>\n",
       "      <th></th>\n",
       "      <th></th>\n",
       "    </tr>\n",
       "  </thead>\n",
       "  <tbody>\n",
       "    <tr>\n",
       "      <th>AAACCTGCAAGAAAGG-zfAd00R1</th>\n",
       "      <td>Adult</td>\n",
       "      <td>R1</td>\n",
       "      <td>Adult R1</td>\n",
       "      <td>HC</td>\n",
       "      <td>-35.296160</td>\n",
       "      <td>-14.833732</td>\n",
       "    </tr>\n",
       "    <tr>\n",
       "      <th>ACTGCTCAGTGAACAT-zfAd00R1</th>\n",
       "      <td>Adult</td>\n",
       "      <td>R1</td>\n",
       "      <td>Adult R1</td>\n",
       "      <td>HC</td>\n",
       "      <td>-33.768618</td>\n",
       "      <td>-12.901787</td>\n",
       "    </tr>\n",
       "  </tbody>\n",
       "</table>\n",
       "</div>"
      ],
      "text/plain": [
       "                             age tissue    _batch Cell.type     tSNE.1  \\\n",
       "#Barcode                                                                 \n",
       "AAACCTGCAAGAAAGG-zfAd00R1  Adult     R1  Adult R1        HC -35.296160   \n",
       "ACTGCTCAGTGAACAT-zfAd00R1  Adult     R1  Adult R1        HC -33.768618   \n",
       "\n",
       "                              tSNE.2  \n",
       "#Barcode                              \n",
       "AAACCTGCAAGAAAGG-zfAd00R1 -14.833732  \n",
       "ACTGCTCAGTGAACAT-zfAd00R1 -12.901787  "
      ]
     },
     "metadata": {},
     "output_type": "display_data"
    },
    {
     "data": {
      "text/plain": [
       "(40236, 6)"
      ]
     },
     "metadata": {},
     "output_type": "display_data"
    },
    {
     "data": {
      "text/html": [
       "<div>\n",
       "<style scoped>\n",
       "    .dataframe tbody tr th:only-of-type {\n",
       "        vertical-align: middle;\n",
       "    }\n",
       "\n",
       "    .dataframe tbody tr th {\n",
       "        vertical-align: top;\n",
       "    }\n",
       "\n",
       "    .dataframe thead th {\n",
       "        text-align: right;\n",
       "    }\n",
       "</style>\n",
       "<table border=\"1\" class=\"dataframe\">\n",
       "  <thead>\n",
       "    <tr style=\"text-align: right;\">\n",
       "      <th></th>\n",
       "      <th>#Ensembl.ID</th>\n",
       "    </tr>\n",
       "    <tr>\n",
       "      <th>Symbol</th>\n",
       "      <th></th>\n",
       "    </tr>\n",
       "  </thead>\n",
       "  <tbody>\n",
       "    <tr>\n",
       "      <th>rerg</th>\n",
       "      <td>ENSDARG00000104632</td>\n",
       "    </tr>\n",
       "    <tr>\n",
       "      <th>si:ch73-252i11.1</th>\n",
       "      <td>ENSDARG00000100660</td>\n",
       "    </tr>\n",
       "  </tbody>\n",
       "</table>\n",
       "</div>"
      ],
      "text/plain": [
       "                         #Ensembl.ID\n",
       "Symbol                              \n",
       "rerg              ENSDARG00000104632\n",
       "si:ch73-252i11.1  ENSDARG00000100660"
      ]
     },
     "metadata": {},
     "output_type": "display_data"
    },
    {
     "data": {
      "text/plain": [
       "(31498, 1)"
      ]
     },
     "metadata": {},
     "output_type": "display_data"
    },
    {
     "name": "stdout",
     "output_type": "stream",
     "text": [
      "TNFa----------------------------------------------\n"
     ]
    },
    {
     "data": {
      "text/html": [
       "<div>\n",
       "<style scoped>\n",
       "    .dataframe tbody tr th:only-of-type {\n",
       "        vertical-align: middle;\n",
       "    }\n",
       "\n",
       "    .dataframe tbody tr th {\n",
       "        vertical-align: top;\n",
       "    }\n",
       "\n",
       "    .dataframe thead th {\n",
       "        text-align: right;\n",
       "    }\n",
       "</style>\n",
       "<table border=\"1\" class=\"dataframe\">\n",
       "  <thead>\n",
       "    <tr style=\"text-align: right;\">\n",
       "      <th></th>\n",
       "      <th>age</th>\n",
       "      <th>tissue</th>\n",
       "      <th>_batch</th>\n",
       "      <th>Cell.type</th>\n",
       "      <th>tSNE.1</th>\n",
       "      <th>tSNE.2</th>\n",
       "    </tr>\n",
       "    <tr>\n",
       "      <th>#Barcode</th>\n",
       "      <th></th>\n",
       "      <th></th>\n",
       "      <th></th>\n",
       "      <th></th>\n",
       "      <th></th>\n",
       "      <th></th>\n",
       "    </tr>\n",
       "  </thead>\n",
       "  <tbody>\n",
       "    <tr>\n",
       "      <th>AAACCTGCAAGAAAGG-zfAd00R1</th>\n",
       "      <td>Adult</td>\n",
       "      <td>R1</td>\n",
       "      <td>Adult R1</td>\n",
       "      <td>Rods</td>\n",
       "      <td>18.679689</td>\n",
       "      <td>-20.307914</td>\n",
       "    </tr>\n",
       "    <tr>\n",
       "      <th>ACTGCTCAGTGAACAT-zfAd00R1</th>\n",
       "      <td>Adult</td>\n",
       "      <td>R1</td>\n",
       "      <td>Adult R1</td>\n",
       "      <td>Rods</td>\n",
       "      <td>17.279543</td>\n",
       "      <td>-21.054359</td>\n",
       "    </tr>\n",
       "  </tbody>\n",
       "</table>\n",
       "</div>"
      ],
      "text/plain": [
       "                             age tissue    _batch Cell.type     tSNE.1  \\\n",
       "#Barcode                                                                 \n",
       "AAACCTGCAAGAAAGG-zfAd00R1  Adult     R1  Adult R1      Rods  18.679689   \n",
       "ACTGCTCAGTGAACAT-zfAd00R1  Adult     R1  Adult R1      Rods  17.279543   \n",
       "\n",
       "                              tSNE.2  \n",
       "#Barcode                              \n",
       "AAACCTGCAAGAAAGG-zfAd00R1 -20.307914  \n",
       "ACTGCTCAGTGAACAT-zfAd00R1 -21.054359  "
      ]
     },
     "metadata": {},
     "output_type": "display_data"
    },
    {
     "data": {
      "text/plain": [
       "(48540, 6)"
      ]
     },
     "metadata": {},
     "output_type": "display_data"
    },
    {
     "data": {
      "text/plain": [
       "_batch\n",
       "72hr T+R       7931\n",
       "Adult R3       6499\n",
       "36hr T+R       6269\n",
       "Adult R4       5511\n",
       "10hr T+R R1    5347\n",
       "20hr T+R       5086\n",
       "Adult R5       4988\n",
       "10hr T+R R2    4422\n",
       "Adult R1       1617\n",
       "Adult R2        870\n",
       "Name: count, dtype: int64"
      ]
     },
     "metadata": {},
     "output_type": "display_data"
    },
    {
     "data": {
      "text/plain": [
       "Cell.type\n",
       "Resting MG          10469\n",
       "BC                   6692\n",
       "GABAergic AC         5076\n",
       "Cones                4703\n",
       "Rods                 4390\n",
       "Microglia            3872\n",
       "RGC                  3854\n",
       "Activated MG         3158\n",
       "HC                   2205\n",
       "Pericytes            1616\n",
       "Glycinergic AC        772\n",
       "V/E cells             529\n",
       "Progenitors           502\n",
       "Oligodendrocytes      418\n",
       "RPE                   284\n",
       "Name: count, dtype: int64"
      ]
     },
     "metadata": {},
     "output_type": "display_data"
    },
    {
     "data": {
      "text/plain": [
       "True"
      ]
     },
     "metadata": {},
     "output_type": "display_data"
    },
    {
     "data": {
      "text/plain": [
       "True"
      ]
     },
     "metadata": {},
     "output_type": "display_data"
    },
    {
     "data": {
      "text/plain": [
       "AnnData object with n_obs × n_vars = 48540 × 31498\n",
       "    obs: 'age', 'tissue', '_batch', 'Cell.type', 'tSNE.1', 'tSNE.2'\n",
       "    var: '#Ensembl.ID'"
      ]
     },
     "metadata": {},
     "output_type": "display_data"
    },
    {
     "data": {
      "text/html": [
       "<div>\n",
       "<style scoped>\n",
       "    .dataframe tbody tr th:only-of-type {\n",
       "        vertical-align: middle;\n",
       "    }\n",
       "\n",
       "    .dataframe tbody tr th {\n",
       "        vertical-align: top;\n",
       "    }\n",
       "\n",
       "    .dataframe thead th {\n",
       "        text-align: right;\n",
       "    }\n",
       "</style>\n",
       "<table border=\"1\" class=\"dataframe\">\n",
       "  <thead>\n",
       "    <tr style=\"text-align: right;\">\n",
       "      <th></th>\n",
       "      <th>age</th>\n",
       "      <th>tissue</th>\n",
       "      <th>_batch</th>\n",
       "      <th>Cell.type</th>\n",
       "      <th>tSNE.1</th>\n",
       "      <th>tSNE.2</th>\n",
       "    </tr>\n",
       "    <tr>\n",
       "      <th>#Barcode</th>\n",
       "      <th></th>\n",
       "      <th></th>\n",
       "      <th></th>\n",
       "      <th></th>\n",
       "      <th></th>\n",
       "      <th></th>\n",
       "    </tr>\n",
       "  </thead>\n",
       "  <tbody>\n",
       "    <tr>\n",
       "      <th>AAACCTGCAAGAAAGG-zfAd00R1</th>\n",
       "      <td>Adult</td>\n",
       "      <td>R1</td>\n",
       "      <td>Adult R1</td>\n",
       "      <td>Rods</td>\n",
       "      <td>18.679689</td>\n",
       "      <td>-20.307914</td>\n",
       "    </tr>\n",
       "    <tr>\n",
       "      <th>ACTGCTCAGTGAACAT-zfAd00R1</th>\n",
       "      <td>Adult</td>\n",
       "      <td>R1</td>\n",
       "      <td>Adult R1</td>\n",
       "      <td>Rods</td>\n",
       "      <td>17.279543</td>\n",
       "      <td>-21.054359</td>\n",
       "    </tr>\n",
       "  </tbody>\n",
       "</table>\n",
       "</div>"
      ],
      "text/plain": [
       "                             age tissue    _batch Cell.type     tSNE.1  \\\n",
       "#Barcode                                                                 \n",
       "AAACCTGCAAGAAAGG-zfAd00R1  Adult     R1  Adult R1      Rods  18.679689   \n",
       "ACTGCTCAGTGAACAT-zfAd00R1  Adult     R1  Adult R1      Rods  17.279543   \n",
       "\n",
       "                              tSNE.2  \n",
       "#Barcode                              \n",
       "AAACCTGCAAGAAAGG-zfAd00R1 -20.307914  \n",
       "ACTGCTCAGTGAACAT-zfAd00R1 -21.054359  "
      ]
     },
     "metadata": {},
     "output_type": "display_data"
    },
    {
     "data": {
      "text/plain": [
       "(48540, 6)"
      ]
     },
     "metadata": {},
     "output_type": "display_data"
    },
    {
     "data": {
      "text/html": [
       "<div>\n",
       "<style scoped>\n",
       "    .dataframe tbody tr th:only-of-type {\n",
       "        vertical-align: middle;\n",
       "    }\n",
       "\n",
       "    .dataframe tbody tr th {\n",
       "        vertical-align: top;\n",
       "    }\n",
       "\n",
       "    .dataframe thead th {\n",
       "        text-align: right;\n",
       "    }\n",
       "</style>\n",
       "<table border=\"1\" class=\"dataframe\">\n",
       "  <thead>\n",
       "    <tr style=\"text-align: right;\">\n",
       "      <th></th>\n",
       "      <th>#Ensembl.ID</th>\n",
       "    </tr>\n",
       "    <tr>\n",
       "      <th>Symbol</th>\n",
       "      <th></th>\n",
       "    </tr>\n",
       "  </thead>\n",
       "  <tbody>\n",
       "    <tr>\n",
       "      <th>rerg</th>\n",
       "      <td>ENSDARG00000104632</td>\n",
       "    </tr>\n",
       "    <tr>\n",
       "      <th>si:ch73-252i11.1</th>\n",
       "      <td>ENSDARG00000100660</td>\n",
       "    </tr>\n",
       "  </tbody>\n",
       "</table>\n",
       "</div>"
      ],
      "text/plain": [
       "                         #Ensembl.ID\n",
       "Symbol                              \n",
       "rerg              ENSDARG00000104632\n",
       "si:ch73-252i11.1  ENSDARG00000100660"
      ]
     },
     "metadata": {},
     "output_type": "display_data"
    },
    {
     "data": {
      "text/plain": [
       "(31498, 1)"
      ]
     },
     "metadata": {},
     "output_type": "display_data"
    }
   ],
   "source": [
    "res = {}\n",
    "for _i, _row in df_path.iterrows():\n",
    "    pass\n",
    "    print(_row.name.ljust(50, '-'))\n",
    "    adata = sc.read_mtx(_row['mtx']).T\n",
    "\n",
    "    df_obs = pd.read_csv(_row['obs'],\n",
    "                         sep='\\t',\n",
    "                         index_col=0).loc[:,\n",
    "                                          'Sample,Cell.type,tSNE.1,tSNE.2'.split(',')]\n",
    "    df_obs = df_obs['Sample'].str.extract(\n",
    "        '^(?P<age>[^ ]+) (?P<tissue>[^ ]+)').join(df_obs)\n",
    "    df_obs = df_obs.rename(columns={'Sample': '_batch'})\n",
    "    display(\n",
    "        df_obs.head(2),\n",
    "        df_obs.shape,\n",
    "        df_obs['_batch'].value_counts(),\n",
    "        df_obs['Cell.type'].value_counts())\n",
    "    adata.var = df_var\n",
    "    adata.obs = df_obs\n",
    "    display(adata.obs.index.is_unique, adata.var.index.is_unique)\n",
    "    adata.var_names_make_unique()\n",
    "    adata.obs_names_make_unique()\n",
    "    display(\n",
    "        adata,\n",
    "        adata.obs.head(2),\n",
    "        adata.obs.shape,\n",
    "        adata.var.head(2),\n",
    "        adata.var.shape)\n",
    "    res.update({_row.name: adata})\n",
    "    del adata"
   ]
  },
  {
   "cell_type": "code",
   "execution_count": 8,
   "id": "9b3ef00a-7582-4fd2-91c5-4dac48db383b",
   "metadata": {},
   "outputs": [
    {
     "name": "stderr",
     "output_type": "stream",
     "text": [
      "/public/workspace/licanchengup/apps/miniconda3/envs/csMAHN/lib/python3.9/site-packages/anndata/_core/anndata.py:1906: UserWarning: Observation names are not unique. To make them unique, call `.obs_names_make_unique`.\n",
      "  utils.warn_names_duplicates(\"obs\")\n"
     ]
    },
    {
     "data": {
      "text/plain": [
       "False"
      ]
     },
     "metadata": {},
     "output_type": "display_data"
    },
    {
     "data": {
      "text/plain": [
       "True"
      ]
     },
     "metadata": {},
     "output_type": "display_data"
    },
    {
     "data": {
      "text/plain": [
       "True"
      ]
     },
     "metadata": {},
     "output_type": "display_data"
    },
    {
     "data": {
      "text/plain": [
       "True"
      ]
     },
     "metadata": {},
     "output_type": "display_data"
    },
    {
     "data": {
      "text/plain": [
       "AnnData object with n_obs × n_vars = 133929 × 31498\n",
       "    obs: 'age', 'tissue', '_batch', 'Cell.type', 'tSNE.1', 'tSNE.2', 'pre_ct', 'cell_type'"
      ]
     },
     "metadata": {},
     "output_type": "display_data"
    },
    {
     "data": {
      "text/html": [
       "<div>\n",
       "<style scoped>\n",
       "    .dataframe tbody tr th:only-of-type {\n",
       "        vertical-align: middle;\n",
       "    }\n",
       "\n",
       "    .dataframe tbody tr th {\n",
       "        vertical-align: top;\n",
       "    }\n",
       "\n",
       "    .dataframe thead th {\n",
       "        text-align: right;\n",
       "    }\n",
       "</style>\n",
       "<table border=\"1\" class=\"dataframe\">\n",
       "  <thead>\n",
       "    <tr style=\"text-align: right;\">\n",
       "      <th></th>\n",
       "      <th>age</th>\n",
       "      <th>tissue</th>\n",
       "      <th>_batch</th>\n",
       "      <th>Cell.type</th>\n",
       "      <th>tSNE.1</th>\n",
       "      <th>tSNE.2</th>\n",
       "      <th>pre_ct</th>\n",
       "      <th>cell_type</th>\n",
       "    </tr>\n",
       "    <tr>\n",
       "      <th>#Barcode</th>\n",
       "      <th></th>\n",
       "      <th></th>\n",
       "      <th></th>\n",
       "      <th></th>\n",
       "      <th></th>\n",
       "      <th></th>\n",
       "      <th></th>\n",
       "      <th></th>\n",
       "    </tr>\n",
       "  </thead>\n",
       "  <tbody>\n",
       "    <tr>\n",
       "      <th>AAACCTGCAAGAAAGG-zfAd00R1</th>\n",
       "      <td>Adult</td>\n",
       "      <td>R1</td>\n",
       "      <td>Adult R1</td>\n",
       "      <td>HC</td>\n",
       "      <td>22.214539</td>\n",
       "      <td>-23.589493</td>\n",
       "      <td>HC</td>\n",
       "      <td>HC</td>\n",
       "    </tr>\n",
       "    <tr>\n",
       "      <th>ACTGCTCAGTGAACAT-zfAd00R1</th>\n",
       "      <td>Adult</td>\n",
       "      <td>R1</td>\n",
       "      <td>Adult R1</td>\n",
       "      <td>HC</td>\n",
       "      <td>22.670850</td>\n",
       "      <td>-24.557162</td>\n",
       "      <td>HC</td>\n",
       "      <td>HC</td>\n",
       "    </tr>\n",
       "  </tbody>\n",
       "</table>\n",
       "</div>"
      ],
      "text/plain": [
       "                             age tissue    _batch Cell.type     tSNE.1  \\\n",
       "#Barcode                                                                 \n",
       "AAACCTGCAAGAAAGG-zfAd00R1  Adult     R1  Adult R1        HC  22.214539   \n",
       "ACTGCTCAGTGAACAT-zfAd00R1  Adult     R1  Adult R1        HC  22.670850   \n",
       "\n",
       "                              tSNE.2 pre_ct cell_type  \n",
       "#Barcode                                               \n",
       "AAACCTGCAAGAAAGG-zfAd00R1 -23.589493     HC        HC  \n",
       "ACTGCTCAGTGAACAT-zfAd00R1 -24.557162     HC        HC  "
      ]
     },
     "metadata": {},
     "output_type": "display_data"
    },
    {
     "data": {
      "text/plain": [
       "(133929, 8)"
      ]
     },
     "metadata": {},
     "output_type": "display_data"
    },
    {
     "data": {
      "text/html": [
       "<div>\n",
       "<style scoped>\n",
       "    .dataframe tbody tr th:only-of-type {\n",
       "        vertical-align: middle;\n",
       "    }\n",
       "\n",
       "    .dataframe tbody tr th {\n",
       "        vertical-align: top;\n",
       "    }\n",
       "\n",
       "    .dataframe thead th {\n",
       "        text-align: right;\n",
       "    }\n",
       "</style>\n",
       "<table border=\"1\" class=\"dataframe\">\n",
       "  <thead>\n",
       "    <tr style=\"text-align: right;\">\n",
       "      <th></th>\n",
       "    </tr>\n",
       "    <tr>\n",
       "      <th>Symbol</th>\n",
       "    </tr>\n",
       "  </thead>\n",
       "  <tbody>\n",
       "    <tr>\n",
       "      <th>rerg</th>\n",
       "    </tr>\n",
       "    <tr>\n",
       "      <th>si:ch73-252i11.1</th>\n",
       "    </tr>\n",
       "  </tbody>\n",
       "</table>\n",
       "</div>"
      ],
      "text/plain": [
       "Empty DataFrame\n",
       "Columns: []\n",
       "Index: [rerg, si:ch73-252i11.1]"
      ]
     },
     "metadata": {},
     "output_type": "display_data"
    },
    {
     "data": {
      "text/plain": [
       "(31498, 0)"
      ]
     },
     "metadata": {},
     "output_type": "display_data"
    }
   ],
   "source": [
    "adata = sc.concat(res)\n",
    "display(adata.obs.index.is_unique, adata.var.index.is_unique)\n",
    "adata.var_names_make_unique()\n",
    "adata.obs_names_make_unique()\n",
    "display(adata.obs.index.is_unique, adata.var.index.is_unique)\n",
    "adata.obs['pre_ct'] = adata.obs['Cell.type']\n",
    "adata.obs['cell_type'] = adata.obs['Cell.type'].map(lambda k:{\n",
    "'Glycinergic AC':'AC',\n",
    "'GABAergic AC':'AC',\n",
    "'V/E cells':'V/E cell',\n",
    "\n",
    "'Resting MG':'Macroglial cell',\n",
    "'Activated MG':'Macroglial cell',\n",
    "'Oligodendrocytes':'Macroglial cell',\n",
    "'Microglia':'Microglia cell',\n",
    "\n",
    "'Pericytes':'Pericyte cell',\n",
    "'Progenitors':'Progenitor cell',\n",
    "\n",
    "'HC':'HC',\n",
    "\n",
    "'BC':'BC',\n",
    "'Cone BC':'BC',\n",
    "\n",
    "'Cones':'Cones',\n",
    "'RGC':'RGC',\n",
    "'RPE':'RPE',\n",
    "'Rods':'Rods',\n",
    "}.setdefault(k,k))\n",
    "display(\n",
    "    adata,\n",
    "    adata.obs.head(2),\n",
    "    adata.obs.shape,\n",
    "    adata.var.head(2),\n",
    "    adata.var.shape)"
   ]
  },
  {
   "cell_type": "code",
   "execution_count": 9,
   "id": "4f2831b4-95bf-44d1-ac71-0b2cfb89da25",
   "metadata": {},
   "outputs": [
    {
     "name": "stdout",
     "output_type": "stream",
     "text": [
      "\n",
      " age-----------------------------------------------\n"
     ]
    },
    {
     "data": {
      "text/plain": [
       "age\n",
       "Adult    58455\n",
       "36hr     20486\n",
       "10hr     19722\n",
       "20hr     16473\n",
       "4hr      10862\n",
       "72hr      7931\n",
       "Name: count, dtype: int64"
      ]
     },
     "metadata": {},
     "output_type": "display_data"
    },
    {
     "name": "stdout",
     "output_type": "stream",
     "text": [
      "\n",
      " tissue--------------------------------------------\n"
     ]
    },
    {
     "data": {
      "text/plain": [
       "tissue\n",
       "T+R        29055\n",
       "LD         25668\n",
       "R3         19497\n",
       "R4         16533\n",
       "R5         14964\n",
       "NMDA       13364\n",
       "NMDA04M     7387\n",
       "R1          4851\n",
       "R2          2610\n",
       "Name: count, dtype: int64"
      ]
     },
     "metadata": {},
     "output_type": "display_data"
    },
    {
     "name": "stdout",
     "output_type": "stream",
     "text": [
      "\n",
      " _batch--------------------------------------------\n"
     ]
    },
    {
     "data": {
      "text/plain": [
       "_batch\n",
       "Adult R3       19497\n",
       "Adult R4       16533\n",
       "Adult R5       14964\n",
       "36hr LD R1      8426\n",
       "72hr T+R        7931\n",
       "4hr NMDA04M     7387\n",
       "20hr LD         6784\n",
       "36hr T+R        6269\n",
       "10hr T+R R1     5347\n",
       "10hr LD         5226\n",
       "20hr T+R        5086\n",
       "Adult R1        4851\n",
       "10hr NMDA       4727\n",
       "20hr NMDA       4603\n",
       "10hr T+R R2     4422\n",
       "36hr NMDA       4034\n",
       "4hr LD          3475\n",
       "Adult R2        2610\n",
       "36hr LD R2      1757\n",
       "Name: count, dtype: int64"
      ]
     },
     "metadata": {},
     "output_type": "display_data"
    },
    {
     "name": "stdout",
     "output_type": "stream",
     "text": [
      "\n",
      " Cell.type-----------------------------------------\n"
     ]
    },
    {
     "data": {
      "text/plain": [
       "Cell.type\n",
       "Resting MG          24600\n",
       "Rods                17165\n",
       "Activated MG        15548\n",
       "Cones               12578\n",
       "GABAergic AC        11024\n",
       "BC                  10130\n",
       "HC                  10004\n",
       "RGC                  9729\n",
       "Microglia            8538\n",
       "Pericytes            3897\n",
       "Cone BC              3175\n",
       "Glycinergic AC       2863\n",
       "V/E cells            1417\n",
       "Progenitors          1319\n",
       "RPE                  1140\n",
       "Oligodendrocytes      802\n",
       "Name: count, dtype: int64"
      ]
     },
     "metadata": {},
     "output_type": "display_data"
    },
    {
     "name": "stdout",
     "output_type": "stream",
     "text": [
      "\n",
      " cell_type-----------------------------------------\n"
     ]
    },
    {
     "data": {
      "text/plain": [
       "cell_type\n",
       "Macroglial cell    40950\n",
       "Rods               17165\n",
       "AC                 13887\n",
       "BC                 13305\n",
       "Cones              12578\n",
       "HC                 10004\n",
       "RGC                 9729\n",
       "Microglia cell      8538\n",
       "Pericyte cell       3897\n",
       "V/E cell            1417\n",
       "Progenitor cell     1319\n",
       "RPE                 1140\n",
       "Name: count, dtype: int64"
      ]
     },
     "metadata": {},
     "output_type": "display_data"
    }
   ],
   "source": [
    "for _ in 'age,tissue,_batch,Cell.type,cell_type'.split(','):\n",
    "    print('\\n', _.ljust(50, '-'))\n",
    "    display(adata.obs[_].value_counts())"
   ]
  },
  {
   "cell_type": "code",
   "execution_count": 10,
   "id": "ab206fc7-3723-48b4-9c49-e97ec578507e",
   "metadata": {},
   "outputs": [
    {
     "data": {
      "text/plain": [
       "age\n",
       "Adult    58455\n",
       "Name: count, dtype: int64"
      ]
     },
     "metadata": {},
     "output_type": "display_data"
    },
    {
     "data": {
      "text/html": [
       "<div>\n",
       "<style scoped>\n",
       "    .dataframe tbody tr th:only-of-type {\n",
       "        vertical-align: middle;\n",
       "    }\n",
       "\n",
       "    .dataframe tbody tr th {\n",
       "        vertical-align: top;\n",
       "    }\n",
       "\n",
       "    .dataframe thead th {\n",
       "        text-align: right;\n",
       "    }\n",
       "</style>\n",
       "<table border=\"1\" class=\"dataframe\">\n",
       "  <thead>\n",
       "    <tr style=\"text-align: right;\">\n",
       "      <th></th>\n",
       "      <th>age</th>\n",
       "      <th>tissue</th>\n",
       "      <th>_batch</th>\n",
       "      <th>Cell.type</th>\n",
       "      <th>tSNE.1</th>\n",
       "      <th>tSNE.2</th>\n",
       "      <th>pre_ct</th>\n",
       "      <th>cell_type</th>\n",
       "    </tr>\n",
       "    <tr>\n",
       "      <th>#Barcode</th>\n",
       "      <th></th>\n",
       "      <th></th>\n",
       "      <th></th>\n",
       "      <th></th>\n",
       "      <th></th>\n",
       "      <th></th>\n",
       "      <th></th>\n",
       "      <th></th>\n",
       "    </tr>\n",
       "  </thead>\n",
       "  <tbody>\n",
       "    <tr>\n",
       "      <th>AAACCTGCAAGAAAGG-zfAd00R1</th>\n",
       "      <td>Adult</td>\n",
       "      <td>R1</td>\n",
       "      <td>Adult R1</td>\n",
       "      <td>HC</td>\n",
       "      <td>22.214539</td>\n",
       "      <td>-23.589493</td>\n",
       "      <td>HC</td>\n",
       "      <td>HC</td>\n",
       "    </tr>\n",
       "    <tr>\n",
       "      <th>ACTGCTCAGTGAACAT-zfAd00R1</th>\n",
       "      <td>Adult</td>\n",
       "      <td>R1</td>\n",
       "      <td>Adult R1</td>\n",
       "      <td>HC</td>\n",
       "      <td>22.670850</td>\n",
       "      <td>-24.557162</td>\n",
       "      <td>HC</td>\n",
       "      <td>HC</td>\n",
       "    </tr>\n",
       "  </tbody>\n",
       "</table>\n",
       "</div>"
      ],
      "text/plain": [
       "                             age tissue    _batch Cell.type     tSNE.1  \\\n",
       "#Barcode                                                                 \n",
       "AAACCTGCAAGAAAGG-zfAd00R1  Adult     R1  Adult R1        HC  22.214539   \n",
       "ACTGCTCAGTGAACAT-zfAd00R1  Adult     R1  Adult R1        HC  22.670850   \n",
       "\n",
       "                              tSNE.2 pre_ct cell_type  \n",
       "#Barcode                                               \n",
       "AAACCTGCAAGAAAGG-zfAd00R1 -23.589493     HC        HC  \n",
       "ACTGCTCAGTGAACAT-zfAd00R1 -24.557162     HC        HC  "
      ]
     },
     "metadata": {},
     "output_type": "display_data"
    },
    {
     "data": {
      "text/plain": [
       "age\n",
       "Adult    58455\n",
       "Name: count, dtype: int64"
      ]
     },
     "metadata": {},
     "output_type": "display_data"
    },
    {
     "data": {
      "text/plain": [
       "tissue\n",
       "R3    19497\n",
       "R4    16533\n",
       "R5    14964\n",
       "R1     4851\n",
       "R2     2610\n",
       "Name: count, dtype: int64"
      ]
     },
     "metadata": {},
     "output_type": "display_data"
    },
    {
     "data": {
      "text/plain": [
       "_batch\n",
       "Adult R3    19497\n",
       "Adult R4    16533\n",
       "Adult R5    14964\n",
       "Adult R1     4851\n",
       "Adult R2     2610\n",
       "Name: count, dtype: int64"
      ]
     },
     "metadata": {},
     "output_type": "display_data"
    },
    {
     "data": {
      "text/plain": [
       "(58455, 8)"
      ]
     },
     "metadata": {},
     "output_type": "display_data"
    },
    {
     "data": {
      "text/plain": [
       "True"
      ]
     },
     "metadata": {},
     "output_type": "display_data"
    },
    {
     "data": {
      "text/plain": [
       "True"
      ]
     },
     "metadata": {},
     "output_type": "display_data"
    },
    {
     "name": "stdout",
     "output_type": "stream",
     "text": [
      "frist 10 data.X nonzero elements:\n",
      " [[1 7 1 1 1 1 1 1 1 1]]\n",
      "[out] /public/workspace/licanchengup/link/db/came/dataset/Retina/zebrafish_Adult\n"
     ]
    }
   ],
   "source": [
    "_ = adata[adata.obs['age'] == 'Adult', :]\n",
    "_ = _.copy()\n",
    "display(_.obs['age'].value_counts())\n",
    "display(_.obs.head(2),_.obs['age'].value_counts(),\n",
    "        _.obs['tissue'].value_counts(),\n",
    "        _.obs['_batch'].value_counts())\n",
    "display(_.obs.shape,_.obs.index.is_unique,_.var.index.is_unique)\n",
    "h5ad_to_mtx(_, p_root.joinpath('zebrafish_Adult'))"
   ]
  },
  {
   "cell_type": "markdown",
   "id": "5df33da2-09cc-45ee-9bec-ee1214dcbc03",
   "metadata": {},
   "source": [
    "||||\n",
    "|:-|:-|:-|\n",
    "|AC| amacrine cells|无长突细胞；无轴突细胞；无突起细胞|\n",
    "|V/E cell| vascular/endothelial cells|血管/内皮细胞|\n",
    "|Macroglial cell||大胶质细胞|\n",
    "|Microglia cell||小胶质细胞|\n",
    "|Pericyte cell||周细胞|\n",
    "|Progenitor cell||祖细胞|\n",
    "|HC|||\n",
    "|BC| bipolar cells|双极细胞；双极性细胞|\n",
    "|Cones||视锥细胞|\n",
    "|RGC| retinal ganglion cells|视网膜神经节细胞|\n",
    "|RPE| retinal pigment epithelium|视网膜色素上皮细胞|\n",
    "|Rods||视杆细胞|\n",
    "|NIRG| nonastrocytic inner retinal glial cells|视网膜内非星形胶质细胞|"
   ]
  },
  {
   "cell_type": "code",
   "execution_count": 11,
   "id": "62ebf647-1d89-409d-9f6c-b0ace48b17f3",
   "metadata": {},
   "outputs": [
    {
     "name": "stdout",
     "output_type": "stream",
     "text": [
      "'HC':'',\n",
      "'BC':'',\n",
      "'Cones':'',\n",
      "'Rods':'',\n",
      "'Resting MG':'',\n",
      "'Activated MG':'',\n",
      "'GABAergic AC':'',\n",
      "'V/E cells':'',\n",
      "'RGC':'',\n",
      "'Oligodendrocytes':'',\n",
      "'Glycinergic AC':'',\n",
      "'Microglia':'',\n",
      "'RPE':'',\n",
      "'Pericytes':'',\n",
      "'Progenitors':'',\n",
      "'Cone BC':'',\n"
     ]
    }
   ],
   "source": [
    "for x in _.obs['Cell.type'].unique():\n",
    "    print(\"'{}':'',\".format(x))"
   ]
  }
 ],
 "metadata": {
  "kernelspec": {
   "display_name": "csMAHN",
   "language": "python",
   "name": "csmahn"
  },
  "language_info": {
   "codemirror_mode": {
    "name": "ipython",
    "version": 3
   },
   "file_extension": ".py",
   "mimetype": "text/x-python",
   "name": "python",
   "nbconvert_exporter": "python",
   "pygments_lexer": "ipython3",
   "version": "3.9.18"
  }
 },
 "nbformat": 4,
 "nbformat_minor": 5
}
