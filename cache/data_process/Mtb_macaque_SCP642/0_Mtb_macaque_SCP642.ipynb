{
 "cells": [
  {
   "cell_type": "markdown",
   "id": "c60ea58c-7b7c-4fd3-9c21-735588cf3865",
   "metadata": {},
   "source": [
    "[SCP642](https://singlecell.broadinstitute.org/single_cell/study/SCP642/cd8-lymphocytes-are-critical-for-early-control-of-tuberculosis-in-macaques#study-download)\n",
    "\n",
    "[PMID: 37843832](https://pubmed.ncbi.nlm.nih.gov/37843832/)\n",
    "\n",
    " **depleted innate and/or adaptive CD8+ lymphocytes in macaques**\n",
    "\n",
    " PMCID: PMC10579699 (available on 2024-04-16) 真难受2024年3月6日16:31:34\n",
    "\n",
    " treatment: CD8a,CD8b,IgG\n",
    " \n",
    " 看不了文献,不知道时怎么清除CD8的"
   ]
  },
  {
   "cell_type": "code",
   "execution_count": null,
   "id": "453a9b8a-01f0-442f-af27-6b6942c56198",
   "metadata": {},
   "outputs": [],
   "source": [
    "import sys\n",
    "from pathlib import Path\n",
    "p_root = Path('link','res_publish')\n",
    "\n",
    "None if str(p_root) in sys.path else sys.path.append(str(p_root))\n",
    "print(\"cd '{}'\".format(Path('.').absolute()))"
   ]
  },
  {
   "cell_type": "code",
   "execution_count": null,
   "id": "d7a1ffb1-129f-4bc0-8cd8-a72b05c819d2",
   "metadata": {},
   "outputs": [],
   "source": [
    "from func import *"
   ]
  },
  {
   "cell_type": "code",
   "execution_count": null,
   "id": "6d44ccb0-7b78-425d-9100-e3c102155483",
   "metadata": {},
   "outputs": [],
   "source": [
    "df_meta = pd.read_csv(\"formatted_metadata.csv\", header=[0, 1], index_col=0)\n",
    "df_meta.columns = [i[0] for i in df_meta.columns]\n",
    "\n",
    "# print(*df_meta.columns, sep='\\n')\n",
    "# for i in df.columns:\n",
    "# for i in 'treatment,tb_infection_dose,lung_region'.split(','):\n",
    "#     print('\\n',i.ljust(70,'-'))\n",
    "#     display(df_meta[i].value_counts())\n",
    "df_meta = df_meta.loc[:,\n",
    "                      'species__ontology_label,disease__ontology_label,organ__ontology_label,General_Celltypes,treatment,tb_infection_dose,CFU_TB_per_granuloma,total_thoracic_CFU,lung_region'.split(',')]\n",
    "\n",
    "df_meta = df_meta.rename(\n",
    "    columns={\n",
    "        'species__ontology_label': 'species',\n",
    "        'disease__ontology_label': 'disease',\n",
    "        'organ__ontology_label': 'organ'})\n",
    "display(df_meta.head(), df_meta.shape)"
   ]
  },
  {
   "cell_type": "markdown",
   "id": "9000dcdf-3fd4-4f53-b1d1-2d8a66d36ecf",
   "metadata": {},
   "source": [
    "\n",
    "|||\n",
    "|:-|:-|\n",
    "|species__ontology_label|Macaca fascicularis|\n",
    "|disease__ontology_label|tuberculosis|\n",
    "|library_preparation_protocol__ontology_label|Seq-Well S3|\n",
    "|organ__ontology_label|lung|\n",
    "|sex|unknown|\n",
    "\n",
    "\n",
    "treatment,tb_infection_dose,CFU_TB_per_granuloma,total_thoracic_CFU,lung_region\n",
    "\n",
    "CFU_TB_per_granuloma 各个肉芽肿的TB 的CFU\n",
    "\n",
    "total_thoracic_CFU   整个胸廓的TB 的CFU\n",
    "\n",
    "lung_region\n",
    "\n",
    "|  ||  |\n",
    "| :--: | :--: | :--: |\n",
    "| 右肺下叶 | RLL | Right Lower Lung |\n",
    "| 左肺下叶 | LLL | Left Lower Lung |\n",
    "| 肺尖 | ACC | Apex of Chest |\n",
    "| 右肺上叶 | RUL | Right Upper Lung |\n",
    "| 左肺上叶 | LUL | Left Upper Lung |\n",
    "| 左肺中叶 | LML | Left Middle Lung |"
   ]
  },
  {
   "cell_type": "code",
   "execution_count": null,
   "id": "70f03681-f52e-438a-8350-b8abd503d917",
   "metadata": {},
   "outputs": [],
   "source": [
    "p_temp = p_cache.joinpath('disease','temp_Mtb_macaque_SCP642.h5ad')\n",
    "adata = None\n",
    "if p_temp.exists():\n",
    "    adata = sc.read_h5ad(p_temp)\n",
    "else:\n",
    "    adata = sc.read_csv(\"UMI_counts_unfiltered.csv.gz\").T\n",
    "    adata.write_h5ad(p_temp)\n",
    "display(adata)"
   ]
  },
  {
   "cell_type": "markdown",
   "id": "fe0b8906-4910-4077-b7ed-7e2f6d411181",
   "metadata": {},
   "source": [
    "> h5ad 中不是count\n",
    "\n",
    "```python\n",
    "adata = sc.read_h5ad(\"all_cells.h5ad\")\n",
    "adata = sc.read_h5ad(\"all_cells.h5ad\")\n",
    "display(adata.obs.head(2),adata.obs.shape,adata.var.head(2),adata.var.shape)\n",
    "adata.obs.to_csv('all_cells_obs.csv',index=True)\n",
    "temp = adata.X[:100,:100]\n",
    "temp[temp > 0]\n",
    "# array([0.63858855, 1.007928  , 0.7136451 , ..., 1.1508739 , 0.70140564,\n",
    "#        0.34567025], dtype=float32)\n",
    "```\n",
    "\n"
   ]
  },
  {
   "cell_type": "code",
   "execution_count": null,
   "id": "248d841f-7ff8-4101-ac96-e6229e67adcb",
   "metadata": {},
   "outputs": [],
   "source": [
    "df_obs = pd.read_csv('all_cells_obs.csv', index_col=0)\n",
    "# Gran State --?\n",
    "# print(*df_obs.columns,sep='\\n')\n",
    "# display(df_obs[''].value_counts())\n",
    "df_obs = df_obs.loc[:,\n",
    "                    'batch,treatment,infection dose,lung region,CFU/granuloma,total thoracic CFU,General Celltypes'.split(',')]\n",
    "df_obs = df_obs.rename(columns={'CFU/granuloma': 'CFU_TB_per_granuloma',\n",
    "                       'General Celltypes': 'General_Celltypes',\n",
    "                       'infection dose': 'tb_infection_dose',\n",
    "                       'lung region': 'lung_region',\n",
    "                       'total thoracic CFU': 'total_thoracic_CFU'})\n",
    "display(df_obs.head(2), df_obs.shape,\n",
    "        pd.Series(adata.obs.index.isin(df_obs.index)).value_counts())"
   ]
  },
  {
   "cell_type": "code",
   "execution_count": null,
   "id": "892b91a8-3eee-4fc1-b524-4c9f677e1916",
   "metadata": {},
   "outputs": [],
   "source": [
    "display(df_obs.head(2), df_meta.head(2))"
   ]
  },
  {
   "cell_type": "code",
   "execution_count": null,
   "id": "ea2f3621-91ef-470b-bec9-a3b6515f8833",
   "metadata": {},
   "outputs": [],
   "source": [
    "display(\n",
    "    np.intersect1d(df_obs.columns, df_meta.columns),\n",
    "    np.setdiff1d(df_obs.columns, df_meta.columns),\n",
    "    np.setdiff1d(df_meta.columns, df_obs.columns)\n",
    "\n",
    ")\n",
    "\n",
    "df_obs = df_meta.loc[:, []].join(df_obs)\n",
    "for i in np.intersect1d(df_obs.columns, df_meta.columns):\n",
    "    print('df_obs == df_meta all {} key {} '.format((df_obs[i]==df_meta[i]).all(),i))\n",
    "\n",
    "df_obs = df_obs.join(df_meta.loc[:,np.setdiff1d(df_meta.columns, df_obs.columns)])\n",
    "display(df_obs.head(2),df_obs.shape)"
   ]
  },
  {
   "cell_type": "code",
   "execution_count": null,
   "id": "8f0aeff3-f77d-4ecc-abfc-1bcbab3a4091",
   "metadata": {},
   "outputs": [],
   "source": [
    "display(adata.obs.head(2),adata.obs.shape,df_obs.head(2),df_obs.shape)\n",
    "print('all of adata.obs.index is in df_obs.index\\n{} '.format(df_obs.index.isin(adata.obs.index).all()))"
   ]
  },
  {
   "cell_type": "code",
   "execution_count": null,
   "id": "890ec73a-5995-4a10-a7fa-224a844ae615",
   "metadata": {},
   "outputs": [],
   "source": [
    "display(adata.obs.shape)\n",
    "adata = adata[adata.obs.index.isin(df_obs.index)]\n",
    "adata.obs = adata.obs.loc[:,[]].join(df_obs)\n",
    "display(adata.obs.shape,adata.obs.head(2))"
   ]
  },
  {
   "cell_type": "code",
   "execution_count": null,
   "id": "de1f6dbf-a603-4bd0-8377-affd126964cf",
   "metadata": {},
   "outputs": [],
   "source": [
    "display(adata.obs.head(2))\n",
    "group_agg(adata.obs,'disease,treatment,tb_infection_dose,batch'.split(','),{'batch':['count']},reindex=False)"
   ]
  },
  {
   "cell_type": "code",
   "execution_count": null,
   "id": "f3884fbe-effe-481a-8ccb-40b9e8feeb75",
   "metadata": {
    "scrolled": true
   },
   "outputs": [],
   "source": [
    "adata.obs['_batch'] = adata.obs.apply(lambda row:'{treatment}_{tb_infection_dose}_{batch}'.format(**row),axis= 1)\n",
    "\n",
    "adata.obs['cell_type'] = adata.obs['General_Celltypes'].map(\n",
    "    lambda x:{'Macrophages/Monocytes':'macrophage'}.setdefault(x,''))"
   ]
  },
  {
   "cell_type": "code",
   "execution_count": null,
   "id": "ca7d853d-4fab-41dd-8c60-c1913f1b6745",
   "metadata": {},
   "outputs": [],
   "source": [
    "print(*adata.obs.columns,sep='\\n')"
   ]
  },
  {
   "cell_type": "code",
   "execution_count": null,
   "id": "41e8a942-20f0-46a4-9aa4-6676c27d30c1",
   "metadata": {},
   "outputs": [],
   "source": [
    "adata.obs = adata.obs.loc[\n",
    ":,'_batch,treatment,tb_infection_dose,batch,cell_type,species,disease,organ,lung_region,General_Celltypes,CFU_TB_per_granuloma,total_thoracic_CFU'.split(',')\n",
    "]\n",
    "display(display(adata.obs['General_Celltypes'].value_counts()),adata.obs['cell_type'].value_counts())\n",
    "adata_marc = adata[adata.obs['cell_type'] == 'macrophage']\n",
    "adata_marc.obs['macr_cell_type'] = adata_marc.obs['cell_type']\n",
    "display(adata_marc,adata_marc.obs['cell_type'].value_counts(),\n",
    "       adata_marc.obs['macr_cell_type'].value_counts())"
   ]
  },
  {
   "cell_type": "code",
   "execution_count": null,
   "id": "90e3c443-b099-4b4c-a350-3bdb4c0ff109",
   "metadata": {},
   "outputs": [],
   "source": [
    "h5ad_to_mtx(adata_marc,p_cache.joinpath(\n",
    "        'disease',\n",
    "        'Mtb_ma_macrophage_delCD8_SCP642'))\n"
   ]
  },
  {
   "cell_type": "code",
   "execution_count": null,
   "id": "9fd5add2-185d-43cc-b222-cba135221de9",
   "metadata": {},
   "outputs": [],
   "source": [
    "print(\"\\n[finish]\\n\".center(100,\"-\"))"
   ]
  }
 ],
 "metadata": {
  "kernelspec": {
   "display_name": "csMAHN",
   "language": "python",
   "name": "csmahn"
  },
  "language_info": {
   "codemirror_mode": {
    "name": "ipython",
    "version": 3
   },
   "file_extension": ".py",
   "mimetype": "text/x-python",
   "name": "python",
   "nbconvert_exporter": "python",
   "pygments_lexer": "ipython3",
   "version": "3.9.18"
  }
 },
 "nbformat": 4,
 "nbformat_minor": 5
}
