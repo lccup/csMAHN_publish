{
 "cells": [
  {
   "cell_type": "code",
   "execution_count": 1,
   "id": "2a673d61-8457-4712-a4d8-fb12f4b6e37b",
   "metadata": {
    "tags": []
   },
   "outputs": [
    {
     "data": {
      "text/plain": [
       "PosixPath('/public/workspace/licanchengup/link/disease')"
      ]
     },
     "metadata": {},
     "output_type": "display_data"
    }
   ],
   "source": [
    "from json import dumps, loads\n",
    "from pathlib import Path\n",
    "import sys\n",
    "\n",
    "import numpy as np\n",
    "import pandas as pd\n",
    "import scanpy as sc\n",
    "from scipy.sparse import csr_matrix\n",
    "from IPython.display import display\n",
    "\n",
    "p_link = Path(\"/public/workspace/licanchengup/link\")\n",
    "p_test = p_link.joinpath('test')\n",
    "p_disease = p_link.joinpath('disease')\n",
    "display(p_disease)"
   ]
  },
  {
   "cell_type": "code",
   "execution_count": 2,
   "id": "b49662a2-27be-4601-8282-5e035f58c9db",
   "metadata": {
    "tags": []
   },
   "outputs": [],
   "source": [
    "sys.path.append(str(p_test))"
   ]
  },
  {
   "cell_type": "code",
   "execution_count": 3,
   "id": "3d828ca9-ea77-45f9-a057-440a46a7ad06",
   "metadata": {
    "tags": []
   },
   "outputs": [
    {
     "name": "stdout",
     "output_type": "stream",
     "text": [
      "Help on function get_counts_from_adatas in module csMAHN.utils.preprocess:\n",
      "\n",
      "get_counts_from_adatas(adatas)\n",
      "    Assum adatas has been normalized\n",
      "    Get a pair of dataframes from a pair adatas\n",
      "    \n",
      "    :param adatas: a tuple of reference adata and query adata\n",
      "    :return: a tuple of reference raw counts dataframe and query raw counts dataframe\n",
      "\n",
      "Help on function get_counts_from_adatas in module func:\n",
      "\n",
      "get_counts_from_adatas(adatas)\n",
      "    补丁\n",
      "    version = 0.0.3\n",
      "\n",
      "\n",
      "[func]----------------------------------\n",
      "group_agg\n",
      "rm_rf\n",
      "get_path_varmap\n",
      "get_type_counts_info\t\taligned\n",
      "aligned_type\t\t\taligned\n",
      "test_came_and_csMAHN\n",
      "h5ad_to_mtx\n",
      "load_adata\n",
      "\n",
      "[result tools]--------------------------\n",
      "get_test_result_df\n",
      "show_umap\n",
      "get_res_obs\n",
      "get_publi_head\n",
      "\n",
      "[result tools][re plot umap]-----------\n",
      "get_df_color\t\t\tConvenient\n",
      "> [dssp umap]\n",
      "export_legend\n",
      "dssp_plot_umap_legend_sp\tConvenient\n",
      "dssp_plot_umap_legend_cell_type\tConvenient\n",
      "dssp_plot_umap\n",
      "dssp_get_umap_name\n",
      "dssp_plot_save_umap\t\tConvenient\n",
      "> [umap]\n",
      "get_default_df_color\n",
      "plot_umap\n",
      "get_umap_name\n",
      "plot_save_umap\t\t\tConvenient\n",
      "----------------------------------------\n",
      "    \n"
     ]
    }
   ],
   "source": [
    "from func import h5ad_to_mtx, group_agg"
   ]
  },
  {
   "cell_type": "code",
   "execution_count": 4,
   "id": "a111a1b6-7e02-4ff2-9de5-9911c7fdce13",
   "metadata": {
    "tags": []
   },
   "outputs": [
    {
     "data": {
      "text/html": [
       "<div>\n",
       "<style scoped>\n",
       "    .dataframe tbody tr th:only-of-type {\n",
       "        vertical-align: middle;\n",
       "    }\n",
       "\n",
       "    .dataframe tbody tr th {\n",
       "        vertical-align: top;\n",
       "    }\n",
       "\n",
       "    .dataframe thead th {\n",
       "        text-align: right;\n",
       "    }\n",
       "</style>\n",
       "<table border=\"1\" class=\"dataframe\">\n",
       "  <thead>\n",
       "    <tr style=\"text-align: right;\">\n",
       "      <th>type</th>\n",
       "      <th>barcodes</th>\n",
       "      <th>counts</th>\n",
       "      <th>genes</th>\n",
       "    </tr>\n",
       "    <tr>\n",
       "      <th>gse_id</th>\n",
       "      <th></th>\n",
       "      <th></th>\n",
       "      <th></th>\n",
       "    </tr>\n",
       "  </thead>\n",
       "  <tbody>\n",
       "    <tr>\n",
       "      <th>GSM4314258</th>\n",
       "      <td>GSE145286_RAW/GSM4314258_barcodes_sample1.txt.gz</td>\n",
       "      <td>GSE145286_RAW/GSM4314258_counts_sample1.mtx.gz</td>\n",
       "      <td>GSE145286_RAW/GSM4314258_genes_sample1.txt.gz</td>\n",
       "    </tr>\n",
       "    <tr>\n",
       "      <th>GSM4314259</th>\n",
       "      <td>GSE145286_RAW/GSM4314259_barcodes_sample2.txt.gz</td>\n",
       "      <td>GSE145286_RAW/GSM4314259_counts_sample2.mtx.gz</td>\n",
       "      <td>GSE145286_RAW/GSM4314259_genes_sample2.txt.gz</td>\n",
       "    </tr>\n",
       "    <tr>\n",
       "      <th>GSM4314260</th>\n",
       "      <td>GSE145286_RAW/GSM4314260_barcodes_sample3.txt.gz</td>\n",
       "      <td>GSE145286_RAW/GSM4314260_counts_sample3.mtx.gz</td>\n",
       "      <td>GSE145286_RAW/GSM4314260_genes_sample3.txt.gz</td>\n",
       "    </tr>\n",
       "    <tr>\n",
       "      <th>GSM4314261</th>\n",
       "      <td>GSE145286_RAW/GSM4314261_barcodes_sample4.txt.gz</td>\n",
       "      <td>GSE145286_RAW/GSM4314261_counts_sample4.mtx.gz</td>\n",
       "      <td>GSE145286_RAW/GSM4314261_genes_sample4.txt.gz</td>\n",
       "    </tr>\n",
       "    <tr>\n",
       "      <th>GSM4314262</th>\n",
       "      <td>GSE145286_RAW/GSM4314262_barcodes_sample5.txt.gz</td>\n",
       "      <td>GSE145286_RAW/GSM4314262_counts_sample5.mtx.gz</td>\n",
       "      <td>GSE145286_RAW/GSM4314262_genes_sample5.txt.gz</td>\n",
       "    </tr>\n",
       "    <tr>\n",
       "      <th>GSM4314263</th>\n",
       "      <td>GSE145286_RAW/GSM4314263_barcodes_sample6.txt.gz</td>\n",
       "      <td>GSE145286_RAW/GSM4314263_counts_sample6.mtx.gz</td>\n",
       "      <td>GSE145286_RAW/GSM4314263_genes_sample6.txt.gz</td>\n",
       "    </tr>\n",
       "  </tbody>\n",
       "</table>\n",
       "</div>"
      ],
      "text/plain": [
       "type                                                barcodes  \\\n",
       "gse_id                                                         \n",
       "GSM4314258  GSE145286_RAW/GSM4314258_barcodes_sample1.txt.gz   \n",
       "GSM4314259  GSE145286_RAW/GSM4314259_barcodes_sample2.txt.gz   \n",
       "GSM4314260  GSE145286_RAW/GSM4314260_barcodes_sample3.txt.gz   \n",
       "GSM4314261  GSE145286_RAW/GSM4314261_barcodes_sample4.txt.gz   \n",
       "GSM4314262  GSE145286_RAW/GSM4314262_barcodes_sample5.txt.gz   \n",
       "GSM4314263  GSE145286_RAW/GSM4314263_barcodes_sample6.txt.gz   \n",
       "\n",
       "type                                                counts  \\\n",
       "gse_id                                                       \n",
       "GSM4314258  GSE145286_RAW/GSM4314258_counts_sample1.mtx.gz   \n",
       "GSM4314259  GSE145286_RAW/GSM4314259_counts_sample2.mtx.gz   \n",
       "GSM4314260  GSE145286_RAW/GSM4314260_counts_sample3.mtx.gz   \n",
       "GSM4314261  GSE145286_RAW/GSM4314261_counts_sample4.mtx.gz   \n",
       "GSM4314262  GSE145286_RAW/GSM4314262_counts_sample5.mtx.gz   \n",
       "GSM4314263  GSE145286_RAW/GSM4314263_counts_sample6.mtx.gz   \n",
       "\n",
       "type                                                genes  \n",
       "gse_id                                                     \n",
       "GSM4314258  GSE145286_RAW/GSM4314258_genes_sample1.txt.gz  \n",
       "GSM4314259  GSE145286_RAW/GSM4314259_genes_sample2.txt.gz  \n",
       "GSM4314260  GSE145286_RAW/GSM4314260_genes_sample3.txt.gz  \n",
       "GSM4314261  GSE145286_RAW/GSM4314261_genes_sample4.txt.gz  \n",
       "GSM4314262  GSE145286_RAW/GSM4314262_genes_sample5.txt.gz  \n",
       "GSM4314263  GSE145286_RAW/GSM4314263_genes_sample6.txt.gz  "
      ]
     },
     "execution_count": 4,
     "metadata": {},
     "output_type": "execute_result"
    }
   ],
   "source": [
    "df_path = pd.DataFrame({'path': [i for i in Path(\n",
    "    'GSE145286_RAW').iterdir() if i.match('*sample*')]})\n",
    "df_path['name'] = df_path['path'].apply(lambda x: x.stem)\n",
    "df_path = df_path.join(df_path['name'].str.extract(\n",
    "    \"(?P<gse_id>GSM\\\\d+)_(?P<type>\\\\w+)_(?P<sample>sample\\\\d)\\\\.\"))\n",
    "df_path = df_path.pivot(index='gse_id', columns='type', values='path')\n",
    "df_path"
   ]
  },
  {
   "cell_type": "code",
   "execution_count": 5,
   "id": "92344c4e-9575-4d7b-b8d5-6245c327121d",
   "metadata": {
    "tags": []
   },
   "outputs": [
    {
     "data": {
      "text/plain": [
       "type\n",
       "barcodes    GSE145286_RAW/GSM4314263_barcodes_sample6.txt.gz\n",
       "counts        GSE145286_RAW/GSM4314263_counts_sample6.mtx.gz\n",
       "genes          GSE145286_RAW/GSM4314263_genes_sample6.txt.gz\n",
       "Name: GSM4314263, dtype: object"
      ]
     },
     "execution_count": 5,
     "metadata": {},
     "output_type": "execute_result"
    }
   ],
   "source": [
    "for i, row in df_path.iterrows():\n",
    "    row\n",
    "row"
   ]
  },
  {
   "cell_type": "code",
   "execution_count": 6,
   "id": "b15429e3-a87b-4422-95fa-384e83b01899",
   "metadata": {
    "tags": []
   },
   "outputs": [
    {
     "data": {
      "text/plain": [
       "'GSM4314263----------------------------------------'"
      ]
     },
     "metadata": {},
     "output_type": "display_data"
    },
    {
     "data": {
      "text/plain": [
       "AnnData object with n_obs × n_vars = 2109 × 31017\n",
       "    obs: 'gse_id'"
      ]
     },
     "metadata": {},
     "output_type": "display_data"
    },
    {
     "data": {
      "text/plain": [
       "(2109, 31017)"
      ]
     },
     "metadata": {},
     "output_type": "display_data"
    },
    {
     "data": {
      "text/html": [
       "<div>\n",
       "<style scoped>\n",
       "    .dataframe tbody tr th:only-of-type {\n",
       "        vertical-align: middle;\n",
       "    }\n",
       "\n",
       "    .dataframe tbody tr th {\n",
       "        vertical-align: top;\n",
       "    }\n",
       "\n",
       "    .dataframe thead th {\n",
       "        text-align: right;\n",
       "    }\n",
       "</style>\n",
       "<table border=\"1\" class=\"dataframe\">\n",
       "  <thead>\n",
       "    <tr style=\"text-align: right;\">\n",
       "      <th></th>\n",
       "      <th>gse_id</th>\n",
       "    </tr>\n",
       "  </thead>\n",
       "  <tbody>\n",
       "    <tr>\n",
       "      <th>AAACCTGAGCTTTGGT_BRI070</th>\n",
       "      <td>GSM4314263</td>\n",
       "    </tr>\n",
       "    <tr>\n",
       "      <th>AAACCTGGTGCTGTAT_BRI070</th>\n",
       "      <td>GSM4314263</td>\n",
       "    </tr>\n",
       "    <tr>\n",
       "      <th>AAACCTGTCATGTGGT_BRI070</th>\n",
       "      <td>GSM4314263</td>\n",
       "    </tr>\n",
       "    <tr>\n",
       "      <th>AAACCTGTCCTTTACA_BRI070</th>\n",
       "      <td>GSM4314263</td>\n",
       "    </tr>\n",
       "    <tr>\n",
       "      <th>AAACGGGAGTGTTGAA_BRI070</th>\n",
       "      <td>GSM4314263</td>\n",
       "    </tr>\n",
       "  </tbody>\n",
       "</table>\n",
       "</div>"
      ],
      "text/plain": [
       "                             gse_id\n",
       "AAACCTGAGCTTTGGT_BRI070  GSM4314263\n",
       "AAACCTGGTGCTGTAT_BRI070  GSM4314263\n",
       "AAACCTGTCATGTGGT_BRI070  GSM4314263\n",
       "AAACCTGTCCTTTACA_BRI070  GSM4314263\n",
       "AAACGGGAGTGTTGAA_BRI070  GSM4314263"
      ]
     },
     "metadata": {},
     "output_type": "display_data"
    },
    {
     "data": {
      "text/plain": [
       "(2109, 1)"
      ]
     },
     "metadata": {},
     "output_type": "display_data"
    },
    {
     "data": {
      "text/html": [
       "<div>\n",
       "<style scoped>\n",
       "    .dataframe tbody tr th:only-of-type {\n",
       "        vertical-align: middle;\n",
       "    }\n",
       "\n",
       "    .dataframe tbody tr th {\n",
       "        vertical-align: top;\n",
       "    }\n",
       "\n",
       "    .dataframe thead th {\n",
       "        text-align: right;\n",
       "    }\n",
       "</style>\n",
       "<table border=\"1\" class=\"dataframe\">\n",
       "  <thead>\n",
       "    <tr style=\"text-align: right;\">\n",
       "      <th></th>\n",
       "    </tr>\n",
       "  </thead>\n",
       "  <tbody>\n",
       "    <tr>\n",
       "      <th>0610005C13Rik</th>\n",
       "    </tr>\n",
       "    <tr>\n",
       "      <th>0610006L08Rik</th>\n",
       "    </tr>\n",
       "    <tr>\n",
       "      <th>0610009B22Rik</th>\n",
       "    </tr>\n",
       "    <tr>\n",
       "      <th>0610009O20Rik</th>\n",
       "    </tr>\n",
       "    <tr>\n",
       "      <th>0610010F05Rik</th>\n",
       "    </tr>\n",
       "  </tbody>\n",
       "</table>\n",
       "</div>"
      ],
      "text/plain": [
       "Empty DataFrame\n",
       "Columns: []\n",
       "Index: [0610005C13Rik, 0610006L08Rik, 0610009B22Rik, 0610009O20Rik, 0610010F05Rik]"
      ]
     },
     "metadata": {},
     "output_type": "display_data"
    },
    {
     "data": {
      "text/plain": [
       "(31017, 0)"
      ]
     },
     "metadata": {},
     "output_type": "display_data"
    },
    {
     "data": {
      "text/plain": [
       "AnnData object with n_obs × n_vars = 2109 × 31017\n",
       "    obs: 'gse_id'"
      ]
     },
     "execution_count": 6,
     "metadata": {},
     "output_type": "execute_result"
    }
   ],
   "source": [
    "def load_adata_frome_mtx(row, show=True):\n",
    "    adata = sc.read_mtx(row['counts']).T\n",
    "    df_obs = pd.read_csv(row['barcodes'], index_col=0, header=None)\n",
    "    df_obs.index.name = None\n",
    "    df_obs['gse_id'] = row.name\n",
    "\n",
    "    df_var = pd.read_csv(row['genes'], index_col=0, header=None)\n",
    "    df_var.index.name = None\n",
    "    adata.obs = df_obs\n",
    "    adata.var = df_var\n",
    "\n",
    "    display(\n",
    "        row.name.ljust(50, '-'),\n",
    "        adata,\n",
    "        adata.shape,\n",
    "        adata.obs.head(),\n",
    "        adata.obs.shape,\n",
    "        adata.var.head(),\n",
    "        adata.var.shape) if show else None\n",
    "    return adata\n",
    "\n",
    "\n",
    "load_adata_frome_mtx(row)"
   ]
  },
  {
   "cell_type": "code",
   "execution_count": 7,
   "id": "5663e56f-108c-4de0-9279-903809ad5419",
   "metadata": {
    "tags": []
   },
   "outputs": [
    {
     "data": {
      "text/html": [
       "<div>\n",
       "<style scoped>\n",
       "    .dataframe tbody tr th:only-of-type {\n",
       "        vertical-align: middle;\n",
       "    }\n",
       "\n",
       "    .dataframe tbody tr th {\n",
       "        vertical-align: top;\n",
       "    }\n",
       "\n",
       "    .dataframe thead th {\n",
       "        text-align: right;\n",
       "    }\n",
       "</style>\n",
       "<table border=\"1\" class=\"dataframe\">\n",
       "  <thead>\n",
       "    <tr style=\"text-align: right;\">\n",
       "      <th></th>\n",
       "      <th>gse_id</th>\n",
       "    </tr>\n",
       "  </thead>\n",
       "  <tbody>\n",
       "    <tr>\n",
       "      <th>AAACCTGAGAACAATC_BRI203</th>\n",
       "      <td>GSM4314258</td>\n",
       "    </tr>\n",
       "    <tr>\n",
       "      <th>AAACCTGAGCTCCCAG_BRI203</th>\n",
       "      <td>GSM4314258</td>\n",
       "    </tr>\n",
       "    <tr>\n",
       "      <th>AAACCTGAGGTGCTAG_BRI203</th>\n",
       "      <td>GSM4314258</td>\n",
       "    </tr>\n",
       "    <tr>\n",
       "      <th>AAACCTGCAGGTTTCA_BRI203</th>\n",
       "      <td>GSM4314258</td>\n",
       "    </tr>\n",
       "    <tr>\n",
       "      <th>AAACGGGAGGATGTAT_BRI203</th>\n",
       "      <td>GSM4314258</td>\n",
       "    </tr>\n",
       "  </tbody>\n",
       "</table>\n",
       "</div>"
      ],
      "text/plain": [
       "                             gse_id\n",
       "AAACCTGAGAACAATC_BRI203  GSM4314258\n",
       "AAACCTGAGCTCCCAG_BRI203  GSM4314258\n",
       "AAACCTGAGGTGCTAG_BRI203  GSM4314258\n",
       "AAACCTGCAGGTTTCA_BRI203  GSM4314258\n",
       "AAACGGGAGGATGTAT_BRI203  GSM4314258"
      ]
     },
     "execution_count": 7,
     "metadata": {},
     "output_type": "execute_result"
    }
   ],
   "source": [
    "data = {i: load_adata_frome_mtx(row, show=False)\n",
    "        for i, row in df_path.iterrows()\n",
    "        }\n",
    "adata = sc.concat(data)\n",
    "adata.obs.head()"
   ]
  },
  {
   "cell_type": "code",
   "execution_count": 8,
   "id": "7471a7dd-ac92-4051-b6ed-5af04f2d626e",
   "metadata": {
    "tags": []
   },
   "outputs": [
    {
     "data": {
      "text/html": [
       "<div>\n",
       "<style scoped>\n",
       "    .dataframe tbody tr th:only-of-type {\n",
       "        vertical-align: middle;\n",
       "    }\n",
       "\n",
       "    .dataframe tbody tr th {\n",
       "        vertical-align: top;\n",
       "    }\n",
       "\n",
       "    .dataframe thead th {\n",
       "        text-align: right;\n",
       "    }\n",
       "</style>\n",
       "<table border=\"1\" class=\"dataframe\">\n",
       "  <thead>\n",
       "    <tr style=\"text-align: right;\">\n",
       "      <th></th>\n",
       "      <th>sampleID</th>\n",
       "      <th>status</th>\n",
       "      <th>label</th>\n",
       "      <th>cell_type</th>\n",
       "      <th>cell_subtype</th>\n",
       "    </tr>\n",
       "    <tr>\n",
       "      <th>NAME</th>\n",
       "      <th></th>\n",
       "      <th></th>\n",
       "      <th></th>\n",
       "      <th></th>\n",
       "      <th></th>\n",
       "    </tr>\n",
       "  </thead>\n",
       "  <tbody>\n",
       "    <tr>\n",
       "      <th>TYPE</th>\n",
       "      <td>group</td>\n",
       "      <td>group</td>\n",
       "      <td>group</td>\n",
       "      <td>group</td>\n",
       "      <td>group</td>\n",
       "    </tr>\n",
       "    <tr>\n",
       "      <th>AAACCTGAGACAAAGG_BWH075</th>\n",
       "      <td>donor2</td>\n",
       "      <td>ra</td>\n",
       "      <td>tissue</td>\n",
       "      <td>Lining Fibroblasts</td>\n",
       "      <td>Lining Fibroblasts</td>\n",
       "    </tr>\n",
       "  </tbody>\n",
       "</table>\n",
       "</div>"
      ],
      "text/plain": [
       "                        sampleID status   label           cell_type  \\\n",
       "NAME                                                                  \n",
       "TYPE                       group  group   group               group   \n",
       "AAACCTGAGACAAAGG_BWH075   donor2     ra  tissue  Lining Fibroblasts   \n",
       "\n",
       "                               cell_subtype  \n",
       "NAME                                         \n",
       "TYPE                                  group  \n",
       "AAACCTGAGACAAAGG_BWH075  Lining Fibroblasts  "
      ]
     },
     "metadata": {},
     "output_type": "display_data"
    },
    {
     "data": {
      "text/plain": [
       "(18491, 1)"
      ]
     },
     "metadata": {},
     "output_type": "display_data"
    },
    {
     "data": {
      "text/plain": [
       "(18491, 6)"
      ]
     },
     "metadata": {},
     "output_type": "display_data"
    }
   ],
   "source": [
    "# ','.join(df_meta.columns)\n",
    "# sampleID,status,label,cell_type,cell_subtype,nUMI,nGene,percent_mito,pseudotime\n",
    "df_meta = pd.read_csv(\"SCP469/metadata/metaData.txt\",\n",
    "                      sep='\\t',\n",
    "                      index_col=0).loc[:,\n",
    "                                       'sampleID,status,label,cell_type,cell_subtype'.split(',')]\n",
    "# df_meta\n",
    "display(df_meta.head(2), adata.obs.shape, adata.obs.join(df_meta).shape)"
   ]
  },
  {
   "cell_type": "code",
   "execution_count": 9,
   "id": "fc178dc2-af48-4a9e-9e01-f6f9e14a1267",
   "metadata": {
    "tags": []
   },
   "outputs": [
    {
     "data": {
      "text/html": [
       "<div>\n",
       "<style scoped>\n",
       "    .dataframe tbody tr th:only-of-type {\n",
       "        vertical-align: middle;\n",
       "    }\n",
       "\n",
       "    .dataframe tbody tr th {\n",
       "        vertical-align: top;\n",
       "    }\n",
       "\n",
       "    .dataframe thead th {\n",
       "        text-align: right;\n",
       "    }\n",
       "</style>\n",
       "<table border=\"1\" class=\"dataframe\">\n",
       "  <thead>\n",
       "    <tr style=\"text-align: right;\">\n",
       "      <th></th>\n",
       "      <th>umap_x</th>\n",
       "      <th>umap_y</th>\n",
       "    </tr>\n",
       "  </thead>\n",
       "  <tbody>\n",
       "    <tr>\n",
       "      <th>AACCGCGTCCGAATGT_BRI203</th>\n",
       "      <td>2.419474</td>\n",
       "      <td>3.522746</td>\n",
       "    </tr>\n",
       "    <tr>\n",
       "      <th>GGGAATGAGGGTTCCC_BRI070</th>\n",
       "      <td>9.546767</td>\n",
       "      <td>2.541875</td>\n",
       "    </tr>\n",
       "    <tr>\n",
       "      <th>GTGCATATCGGACAAG_BRI069</th>\n",
       "      <td>-5.522621</td>\n",
       "      <td>3.016629</td>\n",
       "    </tr>\n",
       "    <tr>\n",
       "      <th>GTATTCTGTCTCCCTA_BRI070</th>\n",
       "      <td>6.104962</td>\n",
       "      <td>-3.867551</td>\n",
       "    </tr>\n",
       "    <tr>\n",
       "      <th>GCGGGTTCACTATCTT_BRI203</th>\n",
       "      <td>-5.607356</td>\n",
       "      <td>5.442302</td>\n",
       "    </tr>\n",
       "  </tbody>\n",
       "</table>\n",
       "</div>"
      ],
      "text/plain": [
       "                           umap_x    umap_y\n",
       "AACCGCGTCCGAATGT_BRI203  2.419474  3.522746\n",
       "GGGAATGAGGGTTCCC_BRI070  9.546767  2.541875\n",
       "GTGCATATCGGACAAG_BRI069 -5.522621  3.016629\n",
       "GTATTCTGTCTCCCTA_BRI070  6.104962 -3.867551\n",
       "GCGGGTTCACTATCTT_BRI203 -5.607356  5.442302"
      ]
     },
     "execution_count": 9,
     "metadata": {},
     "output_type": "execute_result"
    }
   ],
   "source": [
    "df_umap = pd.DataFrame(loads(\n",
    "    Path('SCP469/UMAP mouse.json').read_text())['data'])\n",
    "df_umap.index = df_umap['cells'].to_numpy()\n",
    "df_umap = df_umap.loc[:, 'x,y'.split(',')].rename(\n",
    "    columns={'x': 'umap_x', 'y': 'umap_y'})\n",
    "df_umap.head()"
   ]
  },
  {
   "cell_type": "code",
   "execution_count": 10,
   "id": "34810b31-929c-4784-93e7-c8b51b47dafb",
   "metadata": {
    "tags": []
   },
   "outputs": [
    {
     "data": {
      "text/plain": [
       "status\n",
       "case    10418\n",
       "ctrl     8073\n",
       "Name: count, dtype: int64"
      ]
     },
     "metadata": {},
     "output_type": "display_data"
    },
    {
     "data": {
      "text/plain": [
       "label\n",
       "KO     7762\n",
       "WT     5429\n",
       "ISO    3191\n",
       "N3     2109\n",
       "Name: count, dtype: int64"
      ]
     },
     "metadata": {},
     "output_type": "display_data"
    }
   ],
   "source": [
    "df_umap = df_umap.join(df_meta)\n",
    "df_umap = df_umap.loc[:,\n",
    "                      'sampleID,status,label,cell_type,umap_x,umap_y'.split(',')]\n",
    "display(df_umap['status'].value_counts(), df_umap['label'].value_counts())\n",
    "\n",
    "df_umap['status'] = df_umap['status'].map({'ctrl': 'Healty',\n",
    " 'case': 'RA'})\n",
    "df_umap['label'] = df_umap['label'].map({k: v for k, v in zip(\n",
    "    'WT,KO,ISO,N3'.split(','), 'WT,Notch3−/−,ISO,anti-NRR3'.split(','))})\n",
    "df_umap['CL'] = df_umap['cell_type'].map({'arterial': 'endothelial cell',\n",
    " 'bcell': 'B cell',\n",
    " 'chondrocytes': 'chondrocyte',\n",
    " 'intermediate': 'fibroblast',\n",
    " 'lining': 'fibroblast',\n",
    " 'myeloid': 'macrophage',\n",
    " 'neutrophil': 'neutrophil',\n",
    " 'pericyte_VSMC': 'pericyte',\n",
    " 'perivascular': 'fibroblast',\n",
    " 'sublining': 'fibroblast',\n",
    " 'tcell': 'T cell',\n",
    " 'venous': 'endothelial cell'})\n",
    "\n",
    "df_umap['batch'] = df_umap.apply(lambda row: '{status}_{label}'.format(**row), axis=1)\n",
    "df_umap = df_umap.loc[:,'status,label,batch,cell_type,CL,umap_x,umap_y'.split(',')]"
   ]
  },
  {
   "cell_type": "code",
   "execution_count": 11,
   "id": "79645d6d-ade7-471e-8da8-41555bcb96c2",
   "metadata": {
    "tags": []
   },
   "outputs": [
    {
     "data": {
      "text/html": [
       "<div>\n",
       "<style scoped>\n",
       "    .dataframe tbody tr th:only-of-type {\n",
       "        vertical-align: middle;\n",
       "    }\n",
       "\n",
       "    .dataframe tbody tr th {\n",
       "        vertical-align: top;\n",
       "    }\n",
       "\n",
       "    .dataframe thead th {\n",
       "        text-align: right;\n",
       "    }\n",
       "</style>\n",
       "<table border=\"1\" class=\"dataframe\">\n",
       "  <thead>\n",
       "    <tr style=\"text-align: right;\">\n",
       "      <th></th>\n",
       "      <th>status</th>\n",
       "      <th>label</th>\n",
       "      <th>batch</th>\n",
       "      <th>cell_type</th>\n",
       "      <th>CL</th>\n",
       "      <th>umap_x</th>\n",
       "      <th>umap_y</th>\n",
       "    </tr>\n",
       "  </thead>\n",
       "  <tbody>\n",
       "    <tr>\n",
       "      <th>AACCGCGTCCGAATGT_BRI203</th>\n",
       "      <td>Healty</td>\n",
       "      <td>WT</td>\n",
       "      <td>Healty_WT</td>\n",
       "      <td>lining</td>\n",
       "      <td>fibroblast</td>\n",
       "      <td>2.419474</td>\n",
       "      <td>3.522746</td>\n",
       "    </tr>\n",
       "    <tr>\n",
       "      <th>GGGAATGAGGGTTCCC_BRI070</th>\n",
       "      <td>RA</td>\n",
       "      <td>anti-NRR3</td>\n",
       "      <td>RA_anti-NRR3</td>\n",
       "      <td>myeloid</td>\n",
       "      <td>macrophage</td>\n",
       "      <td>9.546767</td>\n",
       "      <td>2.541875</td>\n",
       "    </tr>\n",
       "  </tbody>\n",
       "</table>\n",
       "</div>"
      ],
      "text/plain": [
       "                         status      label         batch cell_type  \\\n",
       "AACCGCGTCCGAATGT_BRI203  Healty         WT     Healty_WT    lining   \n",
       "GGGAATGAGGGTTCCC_BRI070      RA  anti-NRR3  RA_anti-NRR3   myeloid   \n",
       "\n",
       "                                 CL    umap_x    umap_y  \n",
       "AACCGCGTCCGAATGT_BRI203  fibroblast  2.419474  3.522746  \n",
       "GGGAATGAGGGTTCCC_BRI070  macrophage  9.546767  2.541875  "
      ]
     },
     "metadata": {},
     "output_type": "display_data"
    },
    {
     "data": {
      "text/html": [
       "<div>\n",
       "<style scoped>\n",
       "    .dataframe tbody tr th:only-of-type {\n",
       "        vertical-align: middle;\n",
       "    }\n",
       "\n",
       "    .dataframe tbody tr th {\n",
       "        vertical-align: top;\n",
       "    }\n",
       "\n",
       "    .dataframe thead th {\n",
       "        text-align: right;\n",
       "    }\n",
       "</style>\n",
       "<table border=\"1\" class=\"dataframe\">\n",
       "  <thead>\n",
       "    <tr style=\"text-align: right;\">\n",
       "      <th></th>\n",
       "      <th>status</th>\n",
       "      <th>label</th>\n",
       "      <th>batch</th>\n",
       "      <th>cell_type</th>\n",
       "      <th>CL</th>\n",
       "      <th>umap_x</th>\n",
       "      <th>umap_y</th>\n",
       "    </tr>\n",
       "  </thead>\n",
       "  <tbody>\n",
       "    <tr>\n",
       "      <th>AAACCTGAGAACAATC_BRI203</th>\n",
       "      <td>Healty</td>\n",
       "      <td>WT</td>\n",
       "      <td>Healty_WT</td>\n",
       "      <td>perivascular</td>\n",
       "      <td>fibroblast</td>\n",
       "      <td>-6.669090</td>\n",
       "      <td>-1.876773</td>\n",
       "    </tr>\n",
       "    <tr>\n",
       "      <th>AAACCTGAGCTCCCAG_BRI203</th>\n",
       "      <td>Healty</td>\n",
       "      <td>WT</td>\n",
       "      <td>Healty_WT</td>\n",
       "      <td>sublining</td>\n",
       "      <td>fibroblast</td>\n",
       "      <td>-5.238616</td>\n",
       "      <td>-1.053888</td>\n",
       "    </tr>\n",
       "  </tbody>\n",
       "</table>\n",
       "</div>"
      ],
      "text/plain": [
       "                         status label      batch     cell_type          CL  \\\n",
       "AAACCTGAGAACAATC_BRI203  Healty    WT  Healty_WT  perivascular  fibroblast   \n",
       "AAACCTGAGCTCCCAG_BRI203  Healty    WT  Healty_WT     sublining  fibroblast   \n",
       "\n",
       "                           umap_x    umap_y  \n",
       "AAACCTGAGAACAATC_BRI203 -6.669090 -1.876773  \n",
       "AAACCTGAGCTCCCAG_BRI203 -5.238616 -1.053888  "
      ]
     },
     "execution_count": 11,
     "metadata": {},
     "output_type": "execute_result"
    }
   ],
   "source": [
    "display(df_umap.head(2))\n",
    "adata.obs = adata.obs.loc[:, []].join(df_umap)\n",
    "adata.obs.head(2)"
   ]
  },
  {
   "cell_type": "code",
   "execution_count": 12,
   "id": "35fa1b93-3e8e-4a26-886a-e16276ee3be2",
   "metadata": {
    "tags": []
   },
   "outputs": [
    {
     "data": {
      "text/plain": [
       "scipy.sparse._csr.csr_matrix"
      ]
     },
     "metadata": {},
     "output_type": "display_data"
    },
    {
     "data": {
      "text/plain": [
       "scipy.sparse._csr.csr_matrix"
      ]
     },
     "metadata": {},
     "output_type": "display_data"
    }
   ],
   "source": [
    "display(type(adata.X))\n",
    "adata.X = csr_matrix(adata.X)\n",
    "display(type(adata.X))"
   ]
  },
  {
   "cell_type": "code",
   "execution_count": 14,
   "id": "5e0ae25a-17d9-42d1-a1af-2442ad67a9d4",
   "metadata": {
    "tags": []
   },
   "outputs": [
    {
     "name": "stdout",
     "output_type": "stream",
     "text": [
      "frist 10 data.X nonzero elements:\n",
      " [[1 1 1 1 2 2 1 1 1 1]]\n",
      "[out] RA_GSE145286_mouse\n"
     ]
    }
   ],
   "source": [
    "# adata.write_h5ad('RA_GSE145286_mouse.h5ad')\n",
    "# adata.obs.to_csv('RA_GSE145286_mouse_ann.csv',index=True)\n",
    "h5ad_to_mtx(adata,'RA_GSE145286_mouse')"
   ]
  }
 ],
 "metadata": {
  "kernelspec": {
   "display_name": "Python 3 (ipykernel)",
   "language": "python",
   "name": "python3"
  },
  "language_info": {
   "codemirror_mode": {
    "name": "ipython",
    "version": 3
   },
   "file_extension": ".py",
   "mimetype": "text/x-python",
   "name": "python",
   "nbconvert_exporter": "python",
   "pygments_lexer": "ipython3",
   "version": "3.12.2"
  }
 },
 "nbformat": 4,
 "nbformat_minor": 5
}
