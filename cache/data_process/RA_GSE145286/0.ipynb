{
 "cells": [
  {
   "cell_type": "code",
   "execution_count": 2,
   "id": "b16809a2-351c-4e9b-a619-4bcd42e5eec9",
   "metadata": {
    "tags": []
   },
   "outputs": [
    {
     "data": {
      "text/plain": [
       "PosixPath('/public/workspace/licanchengup/link/disease')"
      ]
     },
     "metadata": {},
     "output_type": "display_data"
    },
    {
     "name": "stdout",
     "output_type": "stream",
     "text": [
      "cd '/public/workspace/licanchengup/download/test/db/disease/dataset/RA_Notch-signaling'\n"
     ]
    }
   ],
   "source": [
    "from json import dumps, loads\n",
    "from pathlib import Path\n",
    "\n",
    "import numpy as np\n",
    "import pandas as pd\n",
    "import scanpy as sc\n",
    "from IPython.display import display\n",
    "\n",
    "p_disease = Path(\"/public/workspace/licanchengup/link/disease\")\n",
    "display(p_disease)\n",
    "print(\"cd '{}'\".format(Path('.').absolute()))"
   ]
  },
  {
   "cell_type": "code",
   "execution_count": 2,
   "id": "03a8ef94-885d-4bc6-8aeb-04d7624df3a1",
   "metadata": {
    "tags": []
   },
   "outputs": [
    {
     "name": "stdout",
     "output_type": "stream",
     "text": [
      "SCP469/expression/5d279d13328cee6499b7cb86/exprs_human_genes.tsv.gz\n",
      "SCP469/expression/5d279d13328cee6499b7cb86/exprs_human_barcodes.tsv.gz\n",
      "SCP469/expression/5d279d13328cee6499b7cb86/gene_sorted-exprs_human.mtx.gz\n"
     ]
    }
   ],
   "source": [
    "p_root = Path(\".\")\n",
    "\n",
    "p_cur = p_root.joinpath(\"SCP469\", \"expression\", \"5d279d13328cee6499b7cb86\")\n",
    "for i in p_cur.iterdir():\n",
    "    print(i)\n",
    "# sc.read_mtx"
   ]
  },
  {
   "cell_type": "code",
   "execution_count": null,
   "id": "a585df68-86a4-4358-b924-dfea36977f8e",
   "metadata": {
    "tags": []
   },
   "outputs": [],
   "source": [
    "adata = sc.read_mtx(p_cur.joinpath(\"gene_sorted-exprs_human.mtx.gz\")).T\n",
    "adata.obs.index = (\n",
    "    pd.read_csv(p_cur.joinpath(\"exprs_human_barcodes.tsv.gz\"), header=None)\n",
    "    .iloc[:, 0]\n",
    "    .to_numpy()\n",
    ")\n",
    "adata.var.index = (\n",
    "    pd.read_csv(p_cur.joinpath(\"exprs_human_genes.tsv.gz\"), header=None)\n",
    "    .iloc[:, 0]\n",
    "    .to_numpy()\n",
    ")\n",
    "adata"
   ]
  },
  {
   "cell_type": "code",
   "execution_count": null,
   "id": "5ecadbeb-30ee-47a7-bf7e-809f8d2ac851",
   "metadata": {
    "tags": []
   },
   "outputs": [],
   "source": [
    "arr = adata.X.todense()\n",
    "# arr = np.asarray(arr)\n",
    "arr[arr > 0][:10]"
   ]
  },
  {
   "cell_type": "markdown",
   "id": "c10982be-928e-42b6-83f3-34cc92fe30d5",
   "metadata": {},
   "source": [
    "# 无了"
   ]
  }
 ],
 "metadata": {
  "kernelspec": {
   "display_name": "Python 3 (ipykernel)",
   "language": "python",
   "name": "python3"
  },
  "language_info": {
   "codemirror_mode": {
    "name": "ipython",
    "version": 3
   },
   "file_extension": ".py",
   "mimetype": "text/x-python",
   "name": "python",
   "nbconvert_exporter": "python",
   "pygments_lexer": "ipython3",
   "version": "3.12.2"
  }
 },
 "nbformat": 4,
 "nbformat_minor": 5
}
