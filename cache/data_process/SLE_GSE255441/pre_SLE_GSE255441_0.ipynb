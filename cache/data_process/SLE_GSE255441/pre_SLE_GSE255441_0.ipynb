{
 "cells": [
  {
   "cell_type": "markdown",
   "id": "1cf2cd10-fb0d-405a-9b59-45153de65b5a",
   "metadata": {},
   "source": [
    "# 整理SLE_GSE255441\n",
    "\n",
    "[](https://www.ncbi.nlm.nih.gov/geo/query/acc.cgi?acc=GSE255441)\n",
    "\n",
    "(未见刊)\n",
    "\n",
    "肠道微生物群失调在系统性红斑狼疮（SLE）发病机制中的作用仍然难以捉摸。在这里，我们发现从健康小鼠到狼疮小鼠的粪便微生物群移植（FMT）可以改善狼疮样症状。微生物群重建有效地减少了系统类别转换重组，并提高了IGH幼稚同种型。微生物群分析显示，FMT后约氏乳杆菌富集，与嘌呤代谢产物显著相关。重要的是，约翰氏乳杆菌衍生的肌苷是嘌呤代谢的中间代谢产物，通过阻碍B细胞分化和减少肾脏B细胞浸润，有效缓解了狼疮样症状。我们进一步证明肌苷通过ERK-HIF-1α信号通路重新编程B细胞。\n",
    "\n",
    "\n",
    "\n",
    "kidney samples from pristane-induced C57BL/6j lupus mice treated with saline (n=2) and fecal microbiota transplanation (FMT) from MRL/MpJ mice (n=3).\n",
    "\n",
    "\n",
    "\n",
    "小鼠 肾脏 SLE小鼠2只 (移植了健康小鼠粪便的)SLE小鼠3只\n",
    "\n",
    "这数据真好啊，简直完美符合需求\n",
    "\n",
    "Public on Mar 31, 2024。。。。可恶，注释也没给啊啊啊啊\n",
    "\n",
    "|||||\n",
    "|:-|:-|:-|:-|\n",
    "|GSM8072526|15|replicate 1|scRNA-seq|\n",
    "|GSM8072527|D2|replicate 2|scRNA-seq|\n",
    "|GSM8072528|B42|replicate 1|scRNA-seq|\n",
    "|GSM8072529|B48|replicate 2|scRNA-seq|\n",
    "|GSM8072530|B50|replicate 3|scRNA-seq|\n",
    "\n",
    "\n",
    "这么推测，B42,B48,B50是FMT的小鼠\n",
    "\n",
    "~使用标签转移~别偷懒，改成手动注释，后面可能还要注释亚群"
   ]
  },
  {
   "cell_type": "code",
   "execution_count": 1,
   "id": "9394830c-8c66-4aa2-8467-95edc6aa55b1",
   "metadata": {},
   "outputs": [],
   "source": [
    "import sys\n",
    "from pathlib import Path\n",
    "p_root = Path(\"~licanchengup/link/res_publish\").expanduser()\n",
    "None if str(p_root) in sys.path else sys.path.append(str(p_root))"
   ]
  },
  {
   "cell_type": "code",
   "execution_count": 2,
   "id": "cf523afd-731f-4a12-b0d7-7681a7b28a0e",
   "metadata": {},
   "outputs": [
    {
     "name": "stderr",
     "output_type": "stream",
     "text": [
      "/public/workspace/licanchengup/apps/miniconda3/envs/publish/lib/python3.9/site-packages/tqdm/auto.py:21: TqdmWarning: IProgress not found. Please update jupyter and ipywidgets. See https://ipywidgets.readthedocs.io/en/stable/user_install.html\n",
      "  from .autonotebook import tqdm as notebook_tqdm\n",
      "2024-04-15 00:30:21.527477: I tensorflow/core/platform/cpu_feature_guard.cc:182] This TensorFlow binary is optimized to use available CPU instructions in performance-critical operations.\n",
      "To enable the following instructions: SSE4.1 SSE4.2 AVX AVX2 AVX512F FMA, in other operations, rebuild TensorFlow with the appropriate compiler flags.\n"
     ]
    },
    {
     "name": "stdout",
     "output_type": "stream",
     "text": [
      "\n",
      "-------------------------help-------------------------\n",
      "> parameter\n",
      "    p_root\t[name] res_publish\n",
      "        p_run, p_plot, p_res, p_cache, p_pdf\n",
      "    p_df_varmap\n",
      "    map_sp_reverse\n",
      "    rng\n",
      "> run\n",
      "    run_cross_species_models\n",
      "    h5ad_to_mtx\n",
      "    load_adata\n",
      "    get_path_varmap\n",
      "    find_path_from_para\n",
      "    load_normalized_adata\n",
      "\n",
      "> res\n",
      "    get_test_result_df\n",
      "    get_res_obs\n",
      "    get_adata_umap\n",
      "    show_umap\n",
      "\n",
      "> plot\n",
      "    get_color_map\n",
      "    show_color_map\n",
      "    show_color\n",
      "    plot_umap\n",
      "    savefig\n",
      "\n"
     ]
    }
   ],
   "source": [
    "from  func import *"
   ]
  },
  {
   "cell_type": "code",
   "execution_count": 3,
   "id": "21ec6912-2812-41cc-88fd-5a5d4c53bc0a",
   "metadata": {},
   "outputs": [
    {
     "data": {
      "text/html": [
       "<div>\n",
       "<style scoped>\n",
       "    .dataframe tbody tr th:only-of-type {\n",
       "        vertical-align: middle;\n",
       "    }\n",
       "\n",
       "    .dataframe tbody tr th {\n",
       "        vertical-align: top;\n",
       "    }\n",
       "\n",
       "    .dataframe thead th {\n",
       "        text-align: right;\n",
       "    }\n",
       "</style>\n",
       "<table border=\"1\" class=\"dataframe\">\n",
       "  <thead>\n",
       "    <tr style=\"text-align: right;\">\n",
       "      <th>type</th>\n",
       "      <th>sample</th>\n",
       "      <th>barcodes</th>\n",
       "      <th>features</th>\n",
       "      <th>matrix</th>\n",
       "      <th>treatment</th>\n",
       "    </tr>\n",
       "  </thead>\n",
       "  <tbody>\n",
       "    <tr>\n",
       "      <th>0</th>\n",
       "      <td>B42</td>\n",
       "      <td>GSE255441_RAW/GSM8072528_B42_barcodes.tsv.gz</td>\n",
       "      <td>GSE255441_RAW/GSM8072528_B42_features.tsv.gz</td>\n",
       "      <td>GSE255441_RAW/GSM8072528_B42_matrix.mtx.gz</td>\n",
       "      <td>SLE_FMT</td>\n",
       "    </tr>\n",
       "    <tr>\n",
       "      <th>1</th>\n",
       "      <td>B48</td>\n",
       "      <td>GSE255441_RAW/GSM8072529_B48_barcodes.tsv.gz</td>\n",
       "      <td>GSE255441_RAW/GSM8072529_B48_features.tsv.gz</td>\n",
       "      <td>GSE255441_RAW/GSM8072529_B48_matrix.mtx.gz</td>\n",
       "      <td>SLE_FMT</td>\n",
       "    </tr>\n",
       "    <tr>\n",
       "      <th>2</th>\n",
       "      <td>B50</td>\n",
       "      <td>GSE255441_RAW/GSM8072530_B50_barcodes.tsv.gz</td>\n",
       "      <td>GSE255441_RAW/GSM8072530_B50_features.tsv.gz</td>\n",
       "      <td>GSE255441_RAW/GSM8072530_B50_matrix.mtx.gz</td>\n",
       "      <td>SLE_FMT</td>\n",
       "    </tr>\n",
       "    <tr>\n",
       "      <th>3</th>\n",
       "      <td>C15</td>\n",
       "      <td>GSE255441_RAW/GSM8072526_C15_barcodes.tsv.gz</td>\n",
       "      <td>GSE255441_RAW/GSM8072526_C15_features.tsv.gz</td>\n",
       "      <td>GSE255441_RAW/GSM8072526_C15_matrix.mtx.gz</td>\n",
       "      <td>SLE</td>\n",
       "    </tr>\n",
       "    <tr>\n",
       "      <th>4</th>\n",
       "      <td>D2</td>\n",
       "      <td>GSE255441_RAW/GSM8072527_D2_barcodes.tsv.gz</td>\n",
       "      <td>GSE255441_RAW/GSM8072527_D2_features.tsv.gz</td>\n",
       "      <td>GSE255441_RAW/GSM8072527_D2_matrix.mtx.gz</td>\n",
       "      <td>SLE</td>\n",
       "    </tr>\n",
       "  </tbody>\n",
       "</table>\n",
       "</div>"
      ],
      "text/plain": [
       "type sample                                      barcodes  \\\n",
       "0       B42  GSE255441_RAW/GSM8072528_B42_barcodes.tsv.gz   \n",
       "1       B48  GSE255441_RAW/GSM8072529_B48_barcodes.tsv.gz   \n",
       "2       B50  GSE255441_RAW/GSM8072530_B50_barcodes.tsv.gz   \n",
       "3       C15  GSE255441_RAW/GSM8072526_C15_barcodes.tsv.gz   \n",
       "4        D2   GSE255441_RAW/GSM8072527_D2_barcodes.tsv.gz   \n",
       "\n",
       "type                                      features  \\\n",
       "0     GSE255441_RAW/GSM8072528_B42_features.tsv.gz   \n",
       "1     GSE255441_RAW/GSM8072529_B48_features.tsv.gz   \n",
       "2     GSE255441_RAW/GSM8072530_B50_features.tsv.gz   \n",
       "3     GSE255441_RAW/GSM8072526_C15_features.tsv.gz   \n",
       "4      GSE255441_RAW/GSM8072527_D2_features.tsv.gz   \n",
       "\n",
       "type                                      matrix treatment  \n",
       "0     GSE255441_RAW/GSM8072528_B42_matrix.mtx.gz   SLE_FMT  \n",
       "1     GSE255441_RAW/GSM8072529_B48_matrix.mtx.gz   SLE_FMT  \n",
       "2     GSE255441_RAW/GSM8072530_B50_matrix.mtx.gz   SLE_FMT  \n",
       "3     GSE255441_RAW/GSM8072526_C15_matrix.mtx.gz       SLE  \n",
       "4      GSE255441_RAW/GSM8072527_D2_matrix.mtx.gz       SLE  "
      ]
     },
     "execution_count": 3,
     "metadata": {},
     "output_type": "execute_result"
    }
   ],
   "source": [
    "df_path = pd.DataFrame({\n",
    "        'path':Path('GSE255441_RAW').iterdir()\n",
    "})\n",
    "df_path = df_path[df_path['path'].apply(lambda x:x.match('*gz'))]\n",
    "df_path['name'] = df_path['path'].apply(lambda x:x.name)\n",
    "df_path = df_path.join(\n",
    "    df_path['name'].str.extract(\n",
    "        \"^(?P<gsm_id>[^_]+)_(?P<sample>[^_]+)_(?P<type>[^_]+)\\.\\w{3}\\.gz\")\n",
    ")\n",
    "df_path = df_path.pivot(index = 'sample',columns='type',values='path').reset_index()\n",
    "# assert df_path.index.is_unique,'[Error] not uniuqe'\n",
    "df_path['treatment'] = 'SLE'\n",
    "df_path['treatment'] = df_path['treatment'].mask(\n",
    "    df_path['sample'].str.startswith('B'),\n",
    "    'SLE_FMT')\n",
    "df_path"
   ]
  },
  {
   "cell_type": "code",
   "execution_count": 4,
   "id": "a88688b3-01ce-4e39-bd6a-e882e142cc33",
   "metadata": {},
   "outputs": [
    {
     "name": "stdout",
     "output_type": "stream",
     "text": [
      "[1/5] B42-----------------------------------------------------------------\n",
      "[2/5] B48-----------------------------------------------------------------\n",
      "[3/5] B50-----------------------------------------------------------------\n",
      "[4/5] C15-----------------------------------------------------------------\n",
      "[5/5] D2------------------------------------------------------------------\n",
      "---------------------------------------------\n",
      "[finish]\n",
      "---------------------------------------------\n"
     ]
    }
   ],
   "source": [
    "adata = {}\n",
    "\n",
    "for i,row in df_path.iterrows():\n",
    "    print('\\r[{}/{}] {}'.format(i+1,df_path.shape[0],row['sample']).ljust(75,'-'))\n",
    "    _adata = None\n",
    "    _adata = sc.read_mtx(row['matrix']).T\n",
    "    \n",
    "    df_obs = pd.read_csv(row['barcodes'],header=None,index_col=0,)\n",
    "    df_obs.index.name = ''\n",
    "    df_var= pd.read_csv(row['features'],header=None,index_col=1,sep='\\t')\n",
    "    df_var.index.name = ''\n",
    "    df_var.columns = 'gene_id,gene_type'.split(',')\n",
    "    _adata.obs = df_obs\n",
    "    _adata.var = df_var\n",
    "    # display(_adata.obs.index.is_unique,_adata.var.index.is_unique)\n",
    "    _adata.obs_names_make_unique()\n",
    "    _adata.var_names_make_unique()\n",
    "    \n",
    "    _adata.obs['sample'] = row['sample']\n",
    "    _adata.obs['treatment'] = row['treatment']\n",
    "    # display(_adata,\n",
    "    #     _adata.obs.head(2),_adata.obs.shape,\n",
    "    #     _adata.var.head(2),_adata.var.shape\n",
    "    # )\n",
    "    \n",
    "    adata[row['sample']] = _adata\n",
    "    del _adata\n",
    "    \n",
    "print(\"\\n[finish]\\n\".center(100,\"-\"))"
   ]
  },
  {
   "cell_type": "code",
   "execution_count": 5,
   "id": "c68eee37-d716-4ec3-a24c-b0df33823030",
   "metadata": {},
   "outputs": [
    {
     "data": {
      "text/plain": [
       "AnnData object with n_obs × n_vars = 26237 × 27998\n",
       "    obs: '_batch', 'treatment', 'sample'"
      ]
     },
     "metadata": {},
     "output_type": "display_data"
    },
    {
     "data": {
      "text/html": [
       "<div>\n",
       "<style scoped>\n",
       "    .dataframe tbody tr th:only-of-type {\n",
       "        vertical-align: middle;\n",
       "    }\n",
       "\n",
       "    .dataframe tbody tr th {\n",
       "        vertical-align: top;\n",
       "    }\n",
       "\n",
       "    .dataframe thead th {\n",
       "        text-align: right;\n",
       "    }\n",
       "</style>\n",
       "<table border=\"1\" class=\"dataframe\">\n",
       "  <thead>\n",
       "    <tr style=\"text-align: right;\">\n",
       "      <th></th>\n",
       "      <th>_batch</th>\n",
       "      <th>treatment</th>\n",
       "      <th>sample</th>\n",
       "    </tr>\n",
       "    <tr>\n",
       "      <th></th>\n",
       "      <th></th>\n",
       "      <th></th>\n",
       "      <th></th>\n",
       "    </tr>\n",
       "  </thead>\n",
       "  <tbody>\n",
       "    <tr>\n",
       "      <th>AAACCCAGTAGACAGC-1;B42</th>\n",
       "      <td>SLE_FMT_B42</td>\n",
       "      <td>SLE_FMT</td>\n",
       "      <td>B42</td>\n",
       "    </tr>\n",
       "    <tr>\n",
       "      <th>AAACCCAGTCTCGGAC-1;B42</th>\n",
       "      <td>SLE_FMT_B42</td>\n",
       "      <td>SLE_FMT</td>\n",
       "      <td>B42</td>\n",
       "    </tr>\n",
       "  </tbody>\n",
       "</table>\n",
       "</div>"
      ],
      "text/plain": [
       "                             _batch treatment sample\n",
       "                                                    \n",
       "AAACCCAGTAGACAGC-1;B42  SLE_FMT_B42   SLE_FMT    B42\n",
       "AAACCCAGTCTCGGAC-1;B42  SLE_FMT_B42   SLE_FMT    B42"
      ]
     },
     "metadata": {},
     "output_type": "display_data"
    },
    {
     "data": {
      "text/plain": [
       "(26237, 3)"
      ]
     },
     "metadata": {},
     "output_type": "display_data"
    },
    {
     "data": {
      "text/html": [
       "<div>\n",
       "<style scoped>\n",
       "    .dataframe tbody tr th:only-of-type {\n",
       "        vertical-align: middle;\n",
       "    }\n",
       "\n",
       "    .dataframe tbody tr th {\n",
       "        vertical-align: top;\n",
       "    }\n",
       "\n",
       "    .dataframe thead th {\n",
       "        text-align: right;\n",
       "    }\n",
       "</style>\n",
       "<table border=\"1\" class=\"dataframe\">\n",
       "  <thead>\n",
       "    <tr style=\"text-align: right;\">\n",
       "      <th></th>\n",
       "    </tr>\n",
       "    <tr>\n",
       "      <th></th>\n",
       "    </tr>\n",
       "  </thead>\n",
       "  <tbody>\n",
       "    <tr>\n",
       "      <th>Xkr4</th>\n",
       "    </tr>\n",
       "    <tr>\n",
       "      <th>Gm1992</th>\n",
       "    </tr>\n",
       "  </tbody>\n",
       "</table>\n",
       "</div>"
      ],
      "text/plain": [
       "Empty DataFrame\n",
       "Columns: []\n",
       "Index: [Xkr4, Gm1992]"
      ]
     },
     "metadata": {},
     "output_type": "display_data"
    },
    {
     "data": {
      "text/plain": [
       "(27998, 0)"
      ]
     },
     "metadata": {},
     "output_type": "display_data"
    },
    {
     "data": {
      "text/plain": [
       "_batch\n",
       "SLE_FMT_B42    7003\n",
       "SLE_C15        5877\n",
       "SLE_FMT_B48    5593\n",
       "SLE_D2         4338\n",
       "SLE_FMT_B50    3426\n",
       "Name: count, dtype: int64"
      ]
     },
     "metadata": {},
     "output_type": "display_data"
    }
   ],
   "source": [
    "adata = sc.concat(adata,index_unique=';')\n",
    "adata.obs['_batch'] = df_apply_merge_field(adata.obs,'{treatment}_{sample}')\n",
    "adata.obs = adata.obs.loc[:,'_batch,treatment,sample'.split(',')]\n",
    "display(adata,\n",
    "    adata.obs.head(2),adata.obs.shape,\n",
    "    adata.var.head(2),adata.var.shape,\n",
    "    adata.obs['_batch'].value_counts()\n",
    ")"
   ]
  },
  {
   "cell_type": "code",
   "execution_count": 6,
   "id": "0b1e17a9-9fef-4744-869e-d08c30f8cc0e",
   "metadata": {},
   "outputs": [
    {
     "data": {
      "text/plain": [
       "matrix([[  1.,   1.,   5., ...,  85.,  18., 233.]], dtype=float32)"
      ]
     },
     "metadata": {},
     "output_type": "display_data"
    }
   ],
   "source": [
    "_temp = adata.X\n",
    "display(_temp[_temp > 0][:10])\n",
    "del _temp"
   ]
  },
  {
   "cell_type": "markdown",
   "id": "b972b885-a115-4c1e-b2a4-f295a21f155e",
   "metadata": {},
   "source": [
    "## 标签转移"
   ]
  },
  {
   "cell_type": "code",
   "execution_count": 7,
   "id": "aa003c2e-b5b6-4430-94b6-50d44d92a0c4",
   "metadata": {},
   "outputs": [
    {
     "data": {
      "text/html": [
       "<div>\n",
       "<style scoped>\n",
       "    .dataframe tbody tr th:only-of-type {\n",
       "        vertical-align: middle;\n",
       "    }\n",
       "\n",
       "    .dataframe tbody tr th {\n",
       "        vertical-align: top;\n",
       "    }\n",
       "\n",
       "    .dataframe thead th {\n",
       "        text-align: right;\n",
       "    }\n",
       "</style>\n",
       "<table border=\"1\" class=\"dataframe\">\n",
       "  <thead>\n",
       "    <tr style=\"text-align: right;\">\n",
       "      <th></th>\n",
       "      <th>_batch</th>\n",
       "      <th>treatment</th>\n",
       "      <th>sample</th>\n",
       "      <th>cell_type</th>\n",
       "      <th>predicted..</th>\n",
       "      <th>refUMAP_1</th>\n",
       "      <th>refUMAP_2</th>\n",
       "    </tr>\n",
       "    <tr>\n",
       "      <th>cell_name</th>\n",
       "      <th></th>\n",
       "      <th></th>\n",
       "      <th></th>\n",
       "      <th></th>\n",
       "      <th></th>\n",
       "      <th></th>\n",
       "      <th></th>\n",
       "    </tr>\n",
       "  </thead>\n",
       "  <tbody>\n",
       "    <tr>\n",
       "      <th>AAACCCAGTAGACAGC-1;B42</th>\n",
       "      <td>SLE_FMT_B42</td>\n",
       "      <td>SLE_FMT</td>\n",
       "      <td>B42</td>\n",
       "      <td>LOH</td>\n",
       "      <td>LOH</td>\n",
       "      <td>-0.791163</td>\n",
       "      <td>6.354379</td>\n",
       "    </tr>\n",
       "    <tr>\n",
       "      <th>AAACCCAGTCTCGGAC-1;B42</th>\n",
       "      <td>SLE_FMT_B42</td>\n",
       "      <td>SLE_FMT</td>\n",
       "      <td>B42</td>\n",
       "      <td>LOH</td>\n",
       "      <td>LOH</td>\n",
       "      <td>0.662887</td>\n",
       "      <td>4.750667</td>\n",
       "    </tr>\n",
       "  </tbody>\n",
       "</table>\n",
       "</div>"
      ],
      "text/plain": [
       "                             _batch treatment sample cell_type predicted..  \\\n",
       "cell_name                                                                    \n",
       "AAACCCAGTAGACAGC-1;B42  SLE_FMT_B42   SLE_FMT    B42       LOH         LOH   \n",
       "AAACCCAGTCTCGGAC-1;B42  SLE_FMT_B42   SLE_FMT    B42       LOH         LOH   \n",
       "\n",
       "                        refUMAP_1  refUMAP_2  \n",
       "cell_name                                     \n",
       "AAACCCAGTAGACAGC-1;B42  -0.791163   6.354379  \n",
       "AAACCCAGTCTCGGAC-1;B42   0.662887   4.750667  "
      ]
     },
     "metadata": {},
     "output_type": "display_data"
    },
    {
     "data": {
      "text/plain": [
       "AnnData object with n_obs × n_vars = 26237 × 27998\n",
       "    obs: '_batch', 'treatment', 'sample', 'cell_type', 'predicted..', 'refUMAP_1', 'refUMAP_2'"
      ]
     },
     "metadata": {},
     "output_type": "display_data"
    },
    {
     "data": {
      "text/html": [
       "<div>\n",
       "<style scoped>\n",
       "    .dataframe tbody tr th:only-of-type {\n",
       "        vertical-align: middle;\n",
       "    }\n",
       "\n",
       "    .dataframe tbody tr th {\n",
       "        vertical-align: top;\n",
       "    }\n",
       "\n",
       "    .dataframe thead th {\n",
       "        text-align: right;\n",
       "    }\n",
       "</style>\n",
       "<table border=\"1\" class=\"dataframe\">\n",
       "  <thead>\n",
       "    <tr style=\"text-align: right;\">\n",
       "      <th></th>\n",
       "      <th>_batch</th>\n",
       "      <th>treatment</th>\n",
       "      <th>sample</th>\n",
       "      <th>cell_type</th>\n",
       "      <th>predicted..</th>\n",
       "      <th>refUMAP_1</th>\n",
       "      <th>refUMAP_2</th>\n",
       "    </tr>\n",
       "    <tr>\n",
       "      <th></th>\n",
       "      <th></th>\n",
       "      <th></th>\n",
       "      <th></th>\n",
       "      <th></th>\n",
       "      <th></th>\n",
       "      <th></th>\n",
       "      <th></th>\n",
       "    </tr>\n",
       "  </thead>\n",
       "  <tbody>\n",
       "    <tr>\n",
       "      <th>AAACCCAGTAGACAGC-1;B42</th>\n",
       "      <td>SLE_FMT_B42</td>\n",
       "      <td>SLE_FMT</td>\n",
       "      <td>B42</td>\n",
       "      <td>LOH</td>\n",
       "      <td>LOH</td>\n",
       "      <td>-0.791163</td>\n",
       "      <td>6.354379</td>\n",
       "    </tr>\n",
       "    <tr>\n",
       "      <th>AAACCCAGTCTCGGAC-1;B42</th>\n",
       "      <td>SLE_FMT_B42</td>\n",
       "      <td>SLE_FMT</td>\n",
       "      <td>B42</td>\n",
       "      <td>LOH</td>\n",
       "      <td>LOH</td>\n",
       "      <td>0.662887</td>\n",
       "      <td>4.750667</td>\n",
       "    </tr>\n",
       "  </tbody>\n",
       "</table>\n",
       "</div>"
      ],
      "text/plain": [
       "                             _batch treatment sample cell_type predicted..  \\\n",
       "                                                                             \n",
       "AAACCCAGTAGACAGC-1;B42  SLE_FMT_B42   SLE_FMT    B42       LOH         LOH   \n",
       "AAACCCAGTCTCGGAC-1;B42  SLE_FMT_B42   SLE_FMT    B42       LOH         LOH   \n",
       "\n",
       "                        refUMAP_1  refUMAP_2  \n",
       "                                              \n",
       "AAACCCAGTAGACAGC-1;B42  -0.791163   6.354379  \n",
       "AAACCCAGTCTCGGAC-1;B42   0.662887   4.750667  "
      ]
     },
     "metadata": {},
     "output_type": "display_data"
    },
    {
     "data": {
      "text/plain": [
       "(26237, 7)"
      ]
     },
     "metadata": {},
     "output_type": "display_data"
    },
    {
     "data": {
      "text/html": [
       "<div>\n",
       "<style scoped>\n",
       "    .dataframe tbody tr th:only-of-type {\n",
       "        vertical-align: middle;\n",
       "    }\n",
       "\n",
       "    .dataframe tbody tr th {\n",
       "        vertical-align: top;\n",
       "    }\n",
       "\n",
       "    .dataframe thead th {\n",
       "        text-align: right;\n",
       "    }\n",
       "</style>\n",
       "<table border=\"1\" class=\"dataframe\">\n",
       "  <thead>\n",
       "    <tr style=\"text-align: right;\">\n",
       "      <th></th>\n",
       "    </tr>\n",
       "    <tr>\n",
       "      <th></th>\n",
       "    </tr>\n",
       "  </thead>\n",
       "  <tbody>\n",
       "    <tr>\n",
       "      <th>Xkr4</th>\n",
       "    </tr>\n",
       "    <tr>\n",
       "      <th>Gm1992</th>\n",
       "    </tr>\n",
       "  </tbody>\n",
       "</table>\n",
       "</div>"
      ],
      "text/plain": [
       "Empty DataFrame\n",
       "Columns: []\n",
       "Index: [Xkr4, Gm1992]"
      ]
     },
     "metadata": {},
     "output_type": "display_data"
    },
    {
     "data": {
      "text/plain": [
       "(27998, 0)"
      ]
     },
     "metadata": {},
     "output_type": "display_data"
    },
    {
     "data": {
      "text/plain": [
       "_batch\n",
       "SLE_FMT_B42    7003\n",
       "SLE_C15        5877\n",
       "SLE_FMT_B48    5593\n",
       "SLE_D2         4338\n",
       "SLE_FMT_B50    3426\n",
       "Name: count, dtype: int64"
      ]
     },
     "metadata": {},
     "output_type": "display_data"
    }
   ],
   "source": [
    "df_obs = pd.read_csv('obs_que_SLE_GSE255441.csv',index_col=0).rename(\n",
    "    columns={'X_batch':'_batch'})\n",
    "display(df_obs.head(2))\n",
    "adata.obs = adata.obs.loc[:,[]].join(df_obs)\n",
    "display(adata,\n",
    "    adata.obs.head(2),adata.obs.shape,\n",
    "    adata.var.head(2),adata.var.shape,\n",
    "    adata.obs['_batch'].value_counts()\n",
    ")"
   ]
  },
  {
   "cell_type": "code",
   "execution_count": 8,
   "id": "0dd6421e-58cf-435c-8c8d-40a7bfd6dfdb",
   "metadata": {},
   "outputs": [
    {
     "name": "stdout",
     "output_type": "stream",
     "text": [
      "frist 10 adata.X nonzero elements:\n",
      " [[ 1  1  5  1  5 11  1  1  3 14]]\n",
      "[out] /public/workspace/licanchengup/link/res_publish/run/cache/disease/SLE_mouse_LN_kidney\n"
     ]
    }
   ],
   "source": [
    "h5ad_to_mtx(adata,p_cache.joinpath('disease','SLE_mouse_LN_kidney'))"
   ]
  },
  {
   "cell_type": "markdown",
   "id": "b9d98e18-2fc8-4f63-836e-5d87607b5107",
   "metadata": {},
   "source": [
    "# 与健康小鼠肾合并"
   ]
  },
  {
   "cell_type": "code",
   "execution_count": 9,
   "id": "be66b73c-476a-42fc-8b9f-8badb1440a34",
   "metadata": {},
   "outputs": [
    {
     "data": {
      "text/plain": [
       "AnnData object with n_obs × n_vars = 43703 × 16272\n",
       "    obs: '_batch', 'cell_type', 'Cluster_Number', 'pre_cell_type'\n",
       "    var: 'gene_ids'"
      ]
     },
     "execution_count": 9,
     "metadata": {},
     "output_type": "execute_result"
    }
   ],
   "source": [
    "adata_healty = load_adata(p_cache.joinpath('healty/m_kidney'))\n",
    "adata_healty"
   ]
  },
  {
   "cell_type": "code",
   "execution_count": 18,
   "id": "01a90b71-47b9-48b6-a323-1b9851dcb5ae",
   "metadata": {},
   "outputs": [],
   "source": [
    "adata_merge = sc.concat(\n",
    "    {'healty':adata_healty,'SLE':adata},\n",
    "    index_unique=';')"
   ]
  },
  {
   "cell_type": "code",
   "execution_count": 29,
   "id": "6d55753a-8dac-404b-9607-57fd76a1a901",
   "metadata": {},
   "outputs": [
    {
     "data": {
      "text/plain": [
       "AnnData object with n_obs × n_vars = 69940 × 16261\n",
       "    obs: '_batch', 'cell_type', 'status', 'sub_cell_type'\n",
       "    var: 'gene_names', 'gene_ids'"
      ]
     },
     "metadata": {},
     "output_type": "display_data"
    },
    {
     "data": {
      "text/html": [
       "<div>\n",
       "<style scoped>\n",
       "    .dataframe tbody tr th:only-of-type {\n",
       "        vertical-align: middle;\n",
       "    }\n",
       "\n",
       "    .dataframe tbody tr th {\n",
       "        vertical-align: top;\n",
       "    }\n",
       "\n",
       "    .dataframe thead th {\n",
       "        text-align: right;\n",
       "    }\n",
       "</style>\n",
       "<table border=\"1\" class=\"dataframe\">\n",
       "  <thead>\n",
       "    <tr style=\"text-align: right;\">\n",
       "      <th></th>\n",
       "      <th>_batch</th>\n",
       "      <th>cell_type</th>\n",
       "      <th>status</th>\n",
       "      <th>sub_cell_type</th>\n",
       "    </tr>\n",
       "  </thead>\n",
       "  <tbody>\n",
       "    <tr>\n",
       "      <th>AAACCTGAGATATGCA-1;healty</th>\n",
       "      <td>lost_7_batches</td>\n",
       "      <td>LOH</td>\n",
       "      <td>healty</td>\n",
       "      <td>LOH</td>\n",
       "    </tr>\n",
       "    <tr>\n",
       "      <th>AAACCTGGTTGTGGCC-1;healty</th>\n",
       "      <td>lost_7_batches</td>\n",
       "      <td>CD-PC</td>\n",
       "      <td>healty</td>\n",
       "      <td>CD-PC</td>\n",
       "    </tr>\n",
       "  </tbody>\n",
       "</table>\n",
       "</div>"
      ],
      "text/plain": [
       "                                   _batch cell_type  status sub_cell_type\n",
       "AAACCTGAGATATGCA-1;healty  lost_7_batches       LOH  healty           LOH\n",
       "AAACCTGGTTGTGGCC-1;healty  lost_7_batches     CD-PC  healty         CD-PC"
      ]
     },
     "metadata": {},
     "output_type": "display_data"
    },
    {
     "data": {
      "text/plain": [
       "(69940, 4)"
      ]
     },
     "metadata": {},
     "output_type": "display_data"
    },
    {
     "data": {
      "text/html": [
       "<div>\n",
       "<style scoped>\n",
       "    .dataframe tbody tr th:only-of-type {\n",
       "        vertical-align: middle;\n",
       "    }\n",
       "\n",
       "    .dataframe tbody tr th {\n",
       "        vertical-align: top;\n",
       "    }\n",
       "\n",
       "    .dataframe thead th {\n",
       "        text-align: right;\n",
       "    }\n",
       "</style>\n",
       "<table border=\"1\" class=\"dataframe\">\n",
       "  <thead>\n",
       "    <tr style=\"text-align: right;\">\n",
       "      <th></th>\n",
       "      <th>gene_names</th>\n",
       "      <th>gene_ids</th>\n",
       "    </tr>\n",
       "  </thead>\n",
       "  <tbody>\n",
       "    <tr>\n",
       "      <th>Rp1</th>\n",
       "      <td>Rp1</td>\n",
       "      <td>Rp1</td>\n",
       "    </tr>\n",
       "    <tr>\n",
       "      <th>Sox17</th>\n",
       "      <td>Sox17</td>\n",
       "      <td>Sox17</td>\n",
       "    </tr>\n",
       "  </tbody>\n",
       "</table>\n",
       "</div>"
      ],
      "text/plain": [
       "      gene_names gene_ids\n",
       "Rp1          Rp1      Rp1\n",
       "Sox17      Sox17    Sox17"
      ]
     },
     "metadata": {},
     "output_type": "display_data"
    },
    {
     "data": {
      "text/plain": [
       "(16261, 2)"
      ]
     },
     "metadata": {},
     "output_type": "display_data"
    },
    {
     "data": {
      "text/plain": [
       "status\n",
       "healty     43703\n",
       "SLE_FMT    16022\n",
       "SLE        10215\n",
       "Name: count, dtype: int64"
      ]
     },
     "metadata": {},
     "output_type": "display_data"
    },
    {
     "data": {
      "text/plain": [
       "sub_cell_type\n",
       "LOH         42107\n",
       "CD-PC        9562\n",
       "NK           4242\n",
       "T lymph      3229\n",
       "CD-Trans     2478\n",
       "Marco        2056\n",
       "DCT          1710\n",
       "Podo         1291\n",
       "CD-IC         878\n",
       "Novel2        719\n",
       "Fib           618\n",
       "B lymph       567\n",
       "Neutro        292\n",
       "Novel1        110\n",
       "PT             81\n",
       "Name: count, dtype: int64"
      ]
     },
     "metadata": {},
     "output_type": "display_data"
    }
   ],
   "source": [
    "adata_merge.obs['sub_cell_type'] = adata_merge.obs['cell_type']\n",
    "adata_merge.obs['status'] = adata_merge.obs['_batch']\n",
    "adata_merge.obs['status'] = adata_merge.obs['status'].mask(\n",
    "    adata_merge.obs['_batch'].str.startswith('SLE'),\n",
    "    adata_merge.obs['status'].apply(\n",
    "    lambda x: '_'.join(\n",
    "            x.split('_')[\n",
    "                :-1])\n",
    "))\n",
    "adata_merge.obs['status'] = adata_merge.obs['status'].map(lambda k:{\n",
    "    'lost_7_batches':'healty'\n",
    "}.setdefault(k,k))\n",
    "\n",
    "display(adata_merge,\n",
    "    adata_merge.obs.head(2),adata_merge.obs.shape,\n",
    "    adata_merge.var.head(2),adata_merge.var.shape,\n",
    "    adata_merge.obs['status'].value_counts(),\n",
    "    adata_merge.obs['sub_cell_type'].value_counts()\n",
    ")"
   ]
  },
  {
   "cell_type": "code",
   "execution_count": 36,
   "id": "d773d627-4e2c-4bce-a3a5-0a596c149f5d",
   "metadata": {},
   "outputs": [
    {
     "data": {
      "text/plain": [
       "AnnData object with n_obs × n_vars = 69940 × 16261\n",
       "    obs: '_batch', 'cell_type', 'status', 'sub_cell_type'\n",
       "    var: 'gene_names', 'gene_ids'"
      ]
     },
     "metadata": {},
     "output_type": "display_data"
    },
    {
     "data": {
      "text/html": [
       "<div>\n",
       "<style scoped>\n",
       "    .dataframe tbody tr th:only-of-type {\n",
       "        vertical-align: middle;\n",
       "    }\n",
       "\n",
       "    .dataframe tbody tr th {\n",
       "        vertical-align: top;\n",
       "    }\n",
       "\n",
       "    .dataframe thead th {\n",
       "        text-align: right;\n",
       "    }\n",
       "</style>\n",
       "<table border=\"1\" class=\"dataframe\">\n",
       "  <thead>\n",
       "    <tr style=\"text-align: right;\">\n",
       "      <th></th>\n",
       "      <th>_batch</th>\n",
       "      <th>cell_type</th>\n",
       "      <th>status</th>\n",
       "      <th>sub_cell_type</th>\n",
       "    </tr>\n",
       "  </thead>\n",
       "  <tbody>\n",
       "    <tr>\n",
       "      <th>AAACCTGAGATATGCA-1;healty</th>\n",
       "      <td>lost_7_batches</td>\n",
       "      <td>LOH</td>\n",
       "      <td>healty</td>\n",
       "      <td>LOH</td>\n",
       "    </tr>\n",
       "    <tr>\n",
       "      <th>AAACCTGGTTGTGGCC-1;healty</th>\n",
       "      <td>lost_7_batches</td>\n",
       "      <td>CD-PC</td>\n",
       "      <td>healty</td>\n",
       "      <td>CD-PC</td>\n",
       "    </tr>\n",
       "  </tbody>\n",
       "</table>\n",
       "</div>"
      ],
      "text/plain": [
       "                                   _batch cell_type  status sub_cell_type\n",
       "AAACCTGAGATATGCA-1;healty  lost_7_batches       LOH  healty           LOH\n",
       "AAACCTGGTTGTGGCC-1;healty  lost_7_batches     CD-PC  healty         CD-PC"
      ]
     },
     "metadata": {},
     "output_type": "display_data"
    },
    {
     "data": {
      "text/plain": [
       "(69940, 4)"
      ]
     },
     "metadata": {},
     "output_type": "display_data"
    },
    {
     "data": {
      "text/html": [
       "<div>\n",
       "<style scoped>\n",
       "    .dataframe tbody tr th:only-of-type {\n",
       "        vertical-align: middle;\n",
       "    }\n",
       "\n",
       "    .dataframe tbody tr th {\n",
       "        vertical-align: top;\n",
       "    }\n",
       "\n",
       "    .dataframe thead th {\n",
       "        text-align: right;\n",
       "    }\n",
       "</style>\n",
       "<table border=\"1\" class=\"dataframe\">\n",
       "  <thead>\n",
       "    <tr style=\"text-align: right;\">\n",
       "      <th></th>\n",
       "      <th>gene_names</th>\n",
       "      <th>gene_ids</th>\n",
       "    </tr>\n",
       "  </thead>\n",
       "  <tbody>\n",
       "    <tr>\n",
       "      <th>Rp1</th>\n",
       "      <td>Rp1</td>\n",
       "      <td>Rp1</td>\n",
       "    </tr>\n",
       "    <tr>\n",
       "      <th>Sox17</th>\n",
       "      <td>Sox17</td>\n",
       "      <td>Sox17</td>\n",
       "    </tr>\n",
       "  </tbody>\n",
       "</table>\n",
       "</div>"
      ],
      "text/plain": [
       "      gene_names gene_ids\n",
       "Rp1          Rp1      Rp1\n",
       "Sox17      Sox17    Sox17"
      ]
     },
     "metadata": {},
     "output_type": "display_data"
    },
    {
     "data": {
      "text/plain": [
       "(16261, 2)"
      ]
     },
     "metadata": {},
     "output_type": "display_data"
    },
    {
     "name": "stdout",
     "output_type": "stream",
     "text": [
      "frist 10 adata.X nonzero elements:\n",
      " [[1 1 2 4 1 4 1 1 3 1]]\n",
      "[out] /public/workspace/licanchengup/link/res_publish/run/cache/disease/merge_mouse_kideny_healty_SLE\n"
     ]
    },
    {
     "data": {
      "text/plain": [
       "cell_type\n",
       "NK         4242\n",
       "T lymph    3229\n",
       "B lymph     567\n",
       "Neutro      292\n",
       "Name: count, dtype: int64"
      ]
     },
     "metadata": {},
     "output_type": "display_data"
    },
    {
     "name": "stderr",
     "output_type": "stream",
     "text": [
      "/public/workspace/licanchengup/link/res_publish/func.py:995: ImplicitModificationWarning: Trying to modify attribute `.var` of view, initializing view as actual.\n",
      "  adata.var[\"gene_names\"] = adata.var_names.to_numpy()\n"
     ]
    },
    {
     "name": "stdout",
     "output_type": "stream",
     "text": [
      "frist 10 adata.X nonzero elements:\n",
      " [[1 1 2 1 1 1 1 1 2 1]]\n",
      "[out] /public/workspace/licanchengup/link/res_publish/run/cache/disease/merge_mouse_kideny_healty_SLE_imm\n"
     ]
    },
    {
     "data": {
      "text/plain": [
       "sub_cell_type\n",
       "NK    4242\n",
       "Name: count, dtype: int64"
      ]
     },
     "metadata": {},
     "output_type": "display_data"
    },
    {
     "name": "stderr",
     "output_type": "stream",
     "text": [
      "/public/workspace/licanchengup/link/res_publish/func.py:995: ImplicitModificationWarning: Trying to modify attribute `.var` of view, initializing view as actual.\n",
      "  adata.var[\"gene_names\"] = adata.var_names.to_numpy()\n"
     ]
    },
    {
     "name": "stdout",
     "output_type": "stream",
     "text": [
      "frist 10 adata.X nonzero elements:\n",
      " [[1 1 1 5 1 1 9 1 1 1]]\n",
      "[out] /public/workspace/licanchengup/link/res_publish/run/cache/disease/merge_mouse_kideny_healty_SLE_imm_NK\n"
     ]
    },
    {
     "data": {
      "text/plain": [
       "sub_cell_type\n",
       "T lymph    3229\n",
       "Name: count, dtype: int64"
      ]
     },
     "metadata": {},
     "output_type": "display_data"
    },
    {
     "name": "stderr",
     "output_type": "stream",
     "text": [
      "/public/workspace/licanchengup/link/res_publish/func.py:995: ImplicitModificationWarning: Trying to modify attribute `.var` of view, initializing view as actual.\n",
      "  adata.var[\"gene_names\"] = adata.var_names.to_numpy()\n"
     ]
    },
    {
     "name": "stdout",
     "output_type": "stream",
     "text": [
      "frist 10 adata.X nonzero elements:\n",
      " [[1 1 2 1 1 1 1 1 2 1]]\n",
      "[out] /public/workspace/licanchengup/link/res_publish/run/cache/disease/merge_mouse_kideny_healty_SLE_imm_T\n"
     ]
    },
    {
     "data": {
      "text/plain": [
       "sub_cell_type\n",
       "B lymph    567\n",
       "Name: count, dtype: int64"
      ]
     },
     "metadata": {},
     "output_type": "display_data"
    },
    {
     "name": "stdout",
     "output_type": "stream",
     "text": [
      "frist 10 adata.X nonzero elements:\n",
      " [[1 1 1 1 3 1 1 8 1 1]]\n",
      "[out] /public/workspace/licanchengup/link/res_publish/run/cache/disease/merge_mouse_kideny_healty_SLE_imm_B\n"
     ]
    },
    {
     "name": "stderr",
     "output_type": "stream",
     "text": [
      "/public/workspace/licanchengup/link/res_publish/func.py:995: ImplicitModificationWarning: Trying to modify attribute `.var` of view, initializing view as actual.\n",
      "  adata.var[\"gene_names\"] = adata.var_names.to_numpy()\n"
     ]
    },
    {
     "data": {
      "text/plain": [
       "sub_cell_type\n",
       "Neutro    292\n",
       "Name: count, dtype: int64"
      ]
     },
     "metadata": {},
     "output_type": "display_data"
    },
    {
     "name": "stdout",
     "output_type": "stream",
     "text": [
      "frist 10 adata.X nonzero elements:\n",
      " [[3 1 1 4 1 1 6 1 1 1]]\n",
      "[out] /public/workspace/licanchengup/link/res_publish/run/cache/disease/merge_mouse_kideny_healty_SLE_imm_Neu\n"
     ]
    },
    {
     "name": "stderr",
     "output_type": "stream",
     "text": [
      "/public/workspace/licanchengup/link/res_publish/func.py:995: ImplicitModificationWarning: Trying to modify attribute `.var` of view, initializing view as actual.\n",
      "  adata.var[\"gene_names\"] = adata.var_names.to_numpy()\n"
     ]
    }
   ],
   "source": [
    "display(adata_merge,\n",
    "    adata_merge.obs.head(2),adata_merge.obs.shape,\n",
    "    adata_merge.var.head(2),adata_merge.var.shape,\n",
    "    # adata_merge.obs['_batch'].value_counts()\n",
    ")\n",
    "h5ad_to_mtx(adata_merge,p_cache\\\n",
    "            .joinpath('disease','merge_mouse_kideny_healty_SLE')\n",
    "           )\n",
    "adata_imm = subset_adata(adata_merge,'cell_type','Macro,Neutro,NK,B lymph,T lymph'.split(','))\n",
    "display(adata_imm.obs['cell_type'].value_counts())\n",
    "h5ad_to_mtx(adata_imm,p_cache\\\n",
    "            .joinpath('disease','merge_mouse_kideny_healty_SLE_imm')\n",
    "           )\n",
    "# for _ct,_label in zip('NK,T lymph,B lymph,Neutro'.split(','),'NK,T,B,Neu'.split(',')):\n",
    "for _ct,_label in zip('NK,T lymph,B lymph'.split(','),'NK,T,B'.split(',')):\n",
    "    _adata = subset_adata(adata_imm,'sub_cell_type',_ct)\n",
    "    display(_adata.obs['sub_cell_type'].value_counts())\n",
    "    h5ad_to_mtx(_adata,p_cache\\\n",
    "        .joinpath('disease','merge_mouse_kideny_healty_SLE_imm_{}'.format(_label)))\n",
    "    del _adata"
   ]
  },
  {
   "cell_type": "markdown",
   "id": "4ac2c4b6-3f85-4fc4-bf24-5654841cbe7d",
   "metadata": {},
   "source": [
    "# 走个流程看看"
   ]
  },
  {
   "cell_type": "code",
   "execution_count": null,
   "id": "830b5e22-e098-45b1-9b5b-a855e459c5e3",
   "metadata": {},
   "outputs": [],
   "source": [
    "adata_merge\n",
    "# Saving count data\n",
    "adata_merge.layers[\"counts\"] = adata_merge.X.copy()\n",
    "sc.pp.normalize_total(adata_merge)\n",
    "sc.pp.log1p(adata_merge)\n",
    "sc.pp.highly_variable_genes(adata_merge, n_top_genes=2000)\n",
    "sc.tl.pca(adata_merge)\n",
    "sc.pl.pca_variance_ratio(adata_merge, n_pcs=50, log=True)"
   ]
  },
  {
   "cell_type": "code",
   "execution_count": null,
   "id": "e78bc94e-6118-409a-8e3c-092383883bd8",
   "metadata": {},
   "outputs": [],
   "source": [
    "sc.pp.neighbors(adata_merge)\n",
    "sc.tl.umap(adata_merge)\n",
    "# Using the igraph implementation and a fixed number of iterations can be\n",
    "# significantly faster, especially for larger datasets\n",
    "sc.tl.leiden(adata_merge)\n",
    "sc.pl.umap(adata_merge, color=[\"leiden\"])"
   ]
  },
  {
   "cell_type": "code",
   "execution_count": null,
   "id": "ca0c4b09-57be-47d1-8b1a-facfa2213628",
   "metadata": {},
   "outputs": [],
   "source": [
    "sc.pl.umap(adata_merge,color=['cell_type'])"
   ]
  }
 ],
 "metadata": {
  "kernelspec": {
   "display_name": "publish",
   "language": "python",
   "name": "publish"
  },
  "language_info": {
   "codemirror_mode": {
    "name": "ipython",
    "version": 3
   },
   "file_extension": ".py",
   "mimetype": "text/x-python",
   "name": "python",
   "nbconvert_exporter": "python",
   "pygments_lexer": "ipython3",
   "version": "3.9.18"
  }
 },
 "nbformat": 4,
 "nbformat_minor": 5
}
