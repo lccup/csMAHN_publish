{
 "cells": [
  {
   "cell_type": "markdown",
   "id": "1cf2cd10-fb0d-405a-9b59-45153de65b5a",
   "metadata": {},
   "source": [
    "# 整理SLE_GSE255441\n",
    "\n",
    "[](https://www.ncbi.nlm.nih.gov/geo/query/acc.cgi?acc=GSE255441)\n",
    "\n",
    "(未见刊)\n",
    "\n",
    "肠道微生物群失调在系统性红斑狼疮（SLE）发病机制中的作用仍然难以捉摸。在这里，我们发现从健康小鼠到狼疮小鼠的粪便微生物群移植（FMT）可以改善狼疮样症状。微生物群重建有效地减少了系统类别转换重组，并提高了IGH幼稚同种型。微生物群分析显示，FMT后约氏乳杆菌富集，与嘌呤代谢产物显著相关。重要的是，约翰氏乳杆菌衍生的肌苷是嘌呤代谢的中间代谢产物，通过阻碍B细胞分化和减少肾脏B细胞浸润，有效缓解了狼疮样症状。我们进一步证明肌苷通过ERK-HIF-1α信号通路重新编程B细胞。\n",
    "\n",
    "\n",
    "\n",
    "kidney samples from pristane-induced C57BL/6j lupus mice treated with saline (n=2) and fecal microbiota transplanation (FMT) from MRL/MpJ mice (n=3).\n",
    "\n",
    "\n",
    "\n",
    "小鼠 肾脏 SLE小鼠2只 (移植了健康小鼠粪便的)SLE小鼠3只\n",
    "\n",
    "这数据真好啊，简直完美符合需求\n",
    "\n",
    "Public on Mar 31, 2024。。。。可恶，注释也没给啊啊啊啊\n",
    "\n",
    "|||||\n",
    "|:-|:-|:-|:-|\n",
    "|GSM8072526|15|replicate 1|scRNA-seq|\n",
    "|GSM8072527|D2|replicate 2|scRNA-seq|\n",
    "|GSM8072528|B42|replicate 1|scRNA-seq|\n",
    "|GSM8072529|B48|replicate 2|scRNA-seq|\n",
    "|GSM8072530|B50|replicate 3|scRNA-seq|\n",
    "\n",
    "\n",
    "这么推测，B42,B48,B50是FMT的小鼠\n",
    "\n",
    "~使用标签转移~别偷懒，改成手动注释，后面可能还要注释亚群"
   ]
  },
  {
   "cell_type": "code",
   "execution_count": null,
   "id": "9394830c-8c66-4aa2-8467-95edc6aa55b1",
   "metadata": {},
   "outputs": [],
   "source": [
    "import sys\n",
    "from pathlib import Path\n",
    "p_root = Path(\"~licanchengup/link/res_publish\").expanduser()\n",
    "None if str(p_root) in sys.path else sys.path.append(str(p_root))"
   ]
  },
  {
   "cell_type": "code",
   "execution_count": null,
   "id": "cf523afd-731f-4a12-b0d7-7681a7b28a0e",
   "metadata": {},
   "outputs": [],
   "source": [
    "from  func import *"
   ]
  },
  {
   "cell_type": "code",
   "execution_count": null,
   "id": "21ec6912-2812-41cc-88fd-5a5d4c53bc0a",
   "metadata": {},
   "outputs": [],
   "source": [
    "df_path = pd.DataFrame({\n",
    "        'path':Path('GSE255441_RAW').iterdir()\n",
    "})\n",
    "df_path = df_path[df_path['path'].apply(lambda x:x.match('*gz'))]\n",
    "df_path['name'] = df_path['path'].apply(lambda x:x.name)\n",
    "df_path = df_path.join(\n",
    "    df_path['name'].str.extract(\n",
    "        \"^(?P<gsm_id>[^_]+)_(?P<sample>[^_]+)_(?P<type>[^_]+)\\.\\w{3}\\.gz\")\n",
    ")\n",
    "df_path = df_path.pivot(index = 'sample',columns='type',values='path').reset_index()\n",
    "# assert df_path.index.is_unique,'[Error] not uniuqe'\n",
    "df_path['treatment'] = 'SLE'\n",
    "df_path['treatment'] = df_path['treatment'].mask(\n",
    "    df_path['sample'].str.startswith('B'),\n",
    "    'SLE_FMT')\n",
    "df_path"
   ]
  },
  {
   "cell_type": "code",
   "execution_count": null,
   "id": "a88688b3-01ce-4e39-bd6a-e882e142cc33",
   "metadata": {},
   "outputs": [],
   "source": [
    "adata = {}\n",
    "\n",
    "for i,row in df_path.iterrows():\n",
    "    print('\\r[{}/{}] {}'.format(i+1,df_path.shape[0],row['sample']).ljust(75,'-'))\n",
    "    _adata = None\n",
    "    _adata = sc.read_mtx(row['matrix']).T\n",
    "    \n",
    "    _df_obs = pd.read_csv(row['barcodes'],header=None,index_col=0,)\n",
    "    _df_obs.index.name = ''\n",
    "    _df_var= pd.read_csv(row['features'],header=None,index_col=1,sep='\\t')\n",
    "    _df_var.index.name = ''\n",
    "    _df_var.columns = 'gene_id,gene_type'.split(',')\n",
    "    _adata.obs = _df_obs\n",
    "    _adata.var = _df_var\n",
    "    # display(_adata.obs.index.is_unique,_adata.var.index.is_unique)\n",
    "    _adata.obs_names_make_unique()\n",
    "    _adata.var_names_make_unique()\n",
    "    \n",
    "    _adata.obs['sample'] = row['sample']\n",
    "    _adata.obs['treatment'] = row['treatment']\n",
    "    # display(_adata,\n",
    "    #     _adata.obs.head(2),_adata.obs.shape,\n",
    "    #     _adata.var.head(2),_adata.var.shape\n",
    "    # )\n",
    "    \n",
    "    adata[row['sample']] = _adata\n",
    "    del _adata,_df_obs,_df_var\n",
    "    \n",
    "print(\"\\n[finish]\\n\".center(100,\"-\"))"
   ]
  },
  {
   "cell_type": "code",
   "execution_count": null,
   "id": "c68eee37-d716-4ec3-a24c-b0df33823030",
   "metadata": {},
   "outputs": [],
   "source": [
    "adata = sc.concat(adata,index_unique=';')\n",
    "adata.obs['_batch'] = df_apply_merge_field(adata.obs,'{treatment}_{sample}')\n",
    "adata.obs = adata.obs.loc[:,'_batch,treatment,sample'.split(',')]\n",
    "display(adata,\n",
    "    adata.obs.head(2),adata.obs.shape,\n",
    "    adata.var.head(2),adata.var.shape,\n",
    "    adata.obs['_batch'].value_counts()\n",
    ")"
   ]
  },
  {
   "cell_type": "code",
   "execution_count": null,
   "id": "0b1e17a9-9fef-4744-869e-d08c30f8cc0e",
   "metadata": {},
   "outputs": [],
   "source": [
    "_temp = adata.X\n",
    "display(_temp[_temp > 0][:10])\n",
    "del _temp"
   ]
  },
  {
   "cell_type": "code",
   "execution_count": null,
   "id": "40a775e3-31c7-45db-9bbe-1ff5b1c208dd",
   "metadata": {},
   "outputs": [],
   "source": [
    "display(adata,\n",
    "    adata.obs.head(2),adata.obs.shape,\n",
    "    adata.var.head(2),adata.var.shape,\n",
    "    adata.obs['_batch'].value_counts()\n",
    ")\n",
    "h5ad_to_mtx(adata,p_cache.joinpath('disease','SLE_mouse_LN_kidney'))"
   ]
  },
  {
   "cell_type": "markdown",
   "id": "b972b885-a115-4c1e-b2a4-f295a21f155e",
   "metadata": {},
   "source": [
    "## `SLE_GSE255441_1_cluster`手动注释\n",
    "\n",
    "~标签转移~\n"
   ]
  },
  {
   "cell_type": "code",
   "execution_count": null,
   "id": "aa003c2e-b5b6-4430-94b6-50d44d92a0c4",
   "metadata": {},
   "outputs": [],
   "source": [
    "df_obs = pd.read_csv('obs_Seurat.csv',index_col=0).rename(\n",
    "    columns={'X_batch':'_batch'})\n",
    "display(df_obs.head(2))\n",
    "adata.obs = adata.obs.loc[:,'_batch,treatment,sample'.split(',')].join(df_obs)\n",
    "display(adata,\n",
    "    adata.obs.head(2),adata.obs.shape,\n",
    "    adata.var.head(2),adata.var.shape,\n",
    "    adata.obs['_batch'].value_counts()\n",
    ")\n",
    "display(adata.obs.shape,df_obs.shape)\n",
    "adata = adata[adata.obs.index.isin(df_obs.index)]\n",
    "display(adata.obs.shape,df_obs.shape)"
   ]
  },
  {
   "cell_type": "code",
   "execution_count": null,
   "id": "cf8044da-f85d-4c69-95d5-b6edee6df59f",
   "metadata": {},
   "outputs": [],
   "source": [
    "h5ad_to_mtx(adata,p_cache.joinpath('disease','SLE_mouse_LN_kidney'))"
   ]
  },
  {
   "cell_type": "markdown",
   "id": "b9d98e18-2fc8-4f63-836e-5d87607b5107",
   "metadata": {},
   "source": [
    "# 与健康小鼠肾合并"
   ]
  },
  {
   "cell_type": "code",
   "execution_count": null,
   "id": "0e4cc36d-9564-44c4-bca5-aead8043ef4d",
   "metadata": {},
   "outputs": [],
   "source": [
    "adata_healthy = load_adata(p_cache.joinpath('healthy/m_kidney'))\n",
    "adata_healthy\n",
    "adata_merge = sc.concat(\n",
    "    {'healthy':adata_healthy,'SLE':adata},\n",
    "    index_unique=';')\n",
    "adata_merge.obs['seurat_clusters'] = adata_merge.obs.apply(lambda row:\n",
    "    '{}_{}'.format(row.name.split(';')[-1],int(row['seurat_clusters']))\n",
    "                                         ,axis=1)"
   ]
  },
  {
   "cell_type": "code",
   "execution_count": null,
   "id": "bd8415b4-a68a-4b49-a082-58fbe2c621ad",
   "metadata": {},
   "outputs": [],
   "source": [
    "# obs_seurat_merge.csv 是 merge_cluster.ipynb 的输出\n",
    "_df_obs = pd.read_csv('obs_seurat_merge.csv',index_col=0)\n",
    "_df_obs['seurat_clusters'] = _df_obs['seurat_clusters'].astype(str)\n",
    "adata_merge = adata_merge[_df_obs.index,:]\n",
    "adata_merge.obs = adata_merge.obs.loc[:,[]].join(_df_obs)\n",
    "adata_merge.obsm['X_umap'] = adata_merge.obs.loc[:,'UMAP1,UMAP2'.split(',')].to_numpy()\n",
    "sc.pl.umap(adata_merge,color='seurat_clusters,cell_type'.split(','))"
   ]
  },
  {
   "cell_type": "markdown",
   "id": "4ac2c4b6-3f85-4fc4-bf24-5654841cbe7d",
   "metadata": {},
   "source": [
    "# 走个流程看看"
   ]
  },
  {
   "cell_type": "code",
   "execution_count": null,
   "id": "830b5e22-e098-45b1-9b5b-a855e459c5e3",
   "metadata": {},
   "outputs": [],
   "source": [
    "adata_merge\n",
    "# Saving count data\n",
    "adata_merge.layers[\"counts\"] = adata_merge.X.copy()\n",
    "sc.pp.normalize_total(adata_merge)\n",
    "sc.pp.log1p(adata_merge)\n",
    "sc.pp.highly_variable_genes(adata_merge, n_top_genes=2000, batch_key='_batch')\n",
    "sc.tl.pca(adata_merge)\n",
    "sc.pl.pca_variance_ratio(adata_merge, n_pcs=50, log=True)"
   ]
  },
  {
   "cell_type": "code",
   "execution_count": null,
   "id": "e78bc94e-6118-409a-8e3c-092383883bd8",
   "metadata": {},
   "outputs": [],
   "source": [
    "sc.pp.neighbors(adata_merge)\n",
    "sc.tl.umap(adata_merge)\n",
    "# Using the igraph implementation and a fixed number of iterations can be\n",
    "# significantly faster, especially for larger datasets\n",
    "sc.tl.leiden(adata_merge)\n",
    "sc.pl.umap(adata_merge, color=[\"leiden\",'cell_type'])"
   ]
  },
  {
   "cell_type": "code",
   "execution_count": null,
   "id": "3968f539-e5bb-4ac0-bcf4-e299c8c0e5e5",
   "metadata": {},
   "outputs": [],
   "source": [
    "display(adata_merge.obs.head(2))\n",
    "sc.pl.umap(adata_merge,color=['cell_type','status'],legend_loc='on data')"
   ]
  }
 ],
 "metadata": {
  "kernelspec": {
   "display_name": "publish",
   "language": "python",
   "name": "publish"
  },
  "language_info": {
   "codemirror_mode": {
    "name": "ipython",
    "version": 3
   },
   "file_extension": ".py",
   "mimetype": "text/x-python",
   "name": "python",
   "nbconvert_exporter": "python",
   "pygments_lexer": "ipython3",
   "version": "3.9.18"
  }
 },
 "nbformat": 4,
 "nbformat_minor": 5
}
