{
 "cells": [
  {
   "cell_type": "markdown",
   "id": "b36a2def-c4e8-411a-b89b-699a3afd35fa",
   "metadata": {},
   "source": [
    "\n",
    "+ seurat_clusters_article -> cell_type, sub_cell_type_1\n",
    "+ seuratObj ->  mtx\n",
    "    + rename cell -> add 'Mtb_mtb;'"
   ]
  },
  {
   "cell_type": "code",
   "execution_count": 1,
   "id": "e2b42b80-cea3-411d-8862-12b366d768fe",
   "metadata": {
    "tags": []
   },
   "outputs": [
    {
     "name": "stderr",
     "output_type": "stream",
     "text": [
      "── \u001b[1mAttaching core tidyverse packages\u001b[22m ──────────────────────── tidyverse 2.0.0 ──\n",
      "\u001b[32m✔\u001b[39m \u001b[34mdplyr    \u001b[39m 1.1.4     \u001b[32m✔\u001b[39m \u001b[34mreadr    \u001b[39m 2.1.5\n",
      "\u001b[32m✔\u001b[39m \u001b[34mforcats  \u001b[39m 1.0.0     \u001b[32m✔\u001b[39m \u001b[34mstringr  \u001b[39m 1.5.1\n",
      "\u001b[32m✔\u001b[39m \u001b[34mggplot2  \u001b[39m 3.5.0     \u001b[32m✔\u001b[39m \u001b[34mtibble   \u001b[39m 3.2.1\n",
      "\u001b[32m✔\u001b[39m \u001b[34mlubridate\u001b[39m 1.9.3     \u001b[32m✔\u001b[39m \u001b[34mtidyr    \u001b[39m 1.3.1\n",
      "\u001b[32m✔\u001b[39m \u001b[34mpurrr    \u001b[39m 1.0.2     \n",
      "── \u001b[1mConflicts\u001b[22m ────────────────────────────────────────── tidyverse_conflicts() ──\n",
      "\u001b[31m✖\u001b[39m \u001b[34mdplyr\u001b[39m::\u001b[32mfilter()\u001b[39m masks \u001b[34mstats\u001b[39m::filter()\n",
      "\u001b[31m✖\u001b[39m \u001b[34mdplyr\u001b[39m::\u001b[32mlag()\u001b[39m    masks \u001b[34mstats\u001b[39m::lag()\n",
      "\u001b[36mℹ\u001b[39m Use the conflicted package (\u001b[3m\u001b[34m<http://conflicted.r-lib.org/>\u001b[39m\u001b[23m) to force all conflicts to become errors\n",
      "Loading required package: SeuratObject\n",
      "\n",
      "Loading required package: sp\n",
      "\n",
      "‘SeuratObject’ was built under R 4.3.2 but the current version is\n",
      "4.3.3; it is recomended that you reinstall ‘SeuratObject’ as the ABI\n",
      "for R may have changed\n",
      "\n",
      "‘SeuratObject’ was built with package ‘Matrix’ 1.6.3 but the current\n",
      "version is 1.6.5; it is recomended that you reinstall ‘SeuratObject’ as\n",
      "the ABI for ‘Matrix’ may have changed\n",
      "\n",
      "\n",
      "Attaching package: ‘SeuratObject’\n",
      "\n",
      "\n",
      "The following object is masked from ‘package:base’:\n",
      "\n",
      "    intersect\n",
      "\n",
      "\n"
     ]
    }
   ],
   "source": [
    "library(tidyverse)\n",
    "library(Seurat)\n",
    "library(IRdisplay)"
   ]
  },
  {
   "cell_type": "code",
   "execution_count": 2,
   "id": "4c4563bc-90fc-4ae0-ba6a-60db80d9776b",
   "metadata": {
    "tags": []
   },
   "outputs": [
    {
     "name": "stdout",
     "output_type": "stream",
     "text": [
      "8 \n"
     ]
    },
    {
     "name": "stderr",
     "output_type": "stream",
     "text": [
      "\u001b[1mRows: \u001b[22m\u001b[34m1835\u001b[39m \u001b[1mColumns: \u001b[22m\u001b[34m7\u001b[39m\n",
      "\u001b[36m──\u001b[39m \u001b[1mColumn specification\u001b[22m \u001b[36m────────────────────────────────────────────────────────\u001b[39m\n",
      "\u001b[1mDelimiter:\u001b[22m \",\"\n",
      "\u001b[31mchr\u001b[39m (1): gene_name\n",
      "\u001b[32mdbl\u001b[39m (6): group, p_val, avg_log2FC, pct.1, pct.2, p_val_adj\n",
      "\n",
      "\u001b[36mℹ\u001b[39m Use `spec()` to retrieve the full column specification for this data.\n",
      "\u001b[36mℹ\u001b[39m Specify the column types or set `show_col_types = FALSE` to quiet this message.\n"
     ]
    },
    {
     "name": "stdout",
     "output_type": "stream",
     "text": [
      "9 \n"
     ]
    },
    {
     "name": "stderr",
     "output_type": "stream",
     "text": [
      "\u001b[1mRows: \u001b[22m\u001b[34m2274\u001b[39m \u001b[1mColumns: \u001b[22m\u001b[34m7\u001b[39m\n",
      "\u001b[36m──\u001b[39m \u001b[1mColumn specification\u001b[22m \u001b[36m────────────────────────────────────────────────────────\u001b[39m\n",
      "\u001b[1mDelimiter:\u001b[22m \",\"\n",
      "\u001b[31mchr\u001b[39m (1): gene_name\n",
      "\u001b[32mdbl\u001b[39m (6): group, p_val, avg_log2FC, pct.1, pct.2, p_val_adj\n",
      "\n",
      "\u001b[36mℹ\u001b[39m Use `spec()` to retrieve the full column specification for this data.\n",
      "\u001b[36mℹ\u001b[39m Specify the column types or set `show_col_types = FALSE` to quiet this message.\n"
     ]
    },
    {
     "name": "stdout",
     "output_type": "stream",
     "text": [
      "10 \n"
     ]
    },
    {
     "name": "stderr",
     "output_type": "stream",
     "text": [
      "\u001b[1mRows: \u001b[22m\u001b[34m325\u001b[39m \u001b[1mColumns: \u001b[22m\u001b[34m7\u001b[39m\n",
      "\u001b[36m──\u001b[39m \u001b[1mColumn specification\u001b[22m \u001b[36m────────────────────────────────────────────────────────\u001b[39m\n",
      "\u001b[1mDelimiter:\u001b[22m \",\"\n",
      "\u001b[31mchr\u001b[39m (1): gene_name\n",
      "\u001b[32mdbl\u001b[39m (6): group, p_val, avg_log2FC, pct.1, pct.2, p_val_adj\n",
      "\n",
      "\u001b[36mℹ\u001b[39m Use `spec()` to retrieve the full column specification for this data.\n",
      "\u001b[36mℹ\u001b[39m Specify the column types or set `show_col_types = FALSE` to quiet this message.\n"
     ]
    },
    {
     "name": "stdout",
     "output_type": "stream",
     "text": [
      "11 \n"
     ]
    },
    {
     "name": "stderr",
     "output_type": "stream",
     "text": [
      "\u001b[1mRows: \u001b[22m\u001b[34m772\u001b[39m \u001b[1mColumns: \u001b[22m\u001b[34m7\u001b[39m\n",
      "\u001b[36m──\u001b[39m \u001b[1mColumn specification\u001b[22m \u001b[36m────────────────────────────────────────────────────────\u001b[39m\n",
      "\u001b[1mDelimiter:\u001b[22m \",\"\n",
      "\u001b[31mchr\u001b[39m (1): gene_name\n",
      "\u001b[32mdbl\u001b[39m (6): group, p_val, avg_log2FC, pct.1, pct.2, p_val_adj\n",
      "\n",
      "\u001b[36mℹ\u001b[39m Use `spec()` to retrieve the full column specification for this data.\n",
      "\u001b[36mℹ\u001b[39m Specify the column types or set `show_col_types = FALSE` to quiet this message.\n"
     ]
    },
    {
     "name": "stdout",
     "output_type": "stream",
     "text": [
      "12 \n"
     ]
    },
    {
     "name": "stderr",
     "output_type": "stream",
     "text": [
      "\u001b[1mRows: \u001b[22m\u001b[34m879\u001b[39m \u001b[1mColumns: \u001b[22m\u001b[34m7\u001b[39m\n",
      "\u001b[36m──\u001b[39m \u001b[1mColumn specification\u001b[22m \u001b[36m────────────────────────────────────────────────────────\u001b[39m\n",
      "\u001b[1mDelimiter:\u001b[22m \",\"\n",
      "\u001b[31mchr\u001b[39m (1): gene_name\n",
      "\u001b[32mdbl\u001b[39m (6): group, p_val, avg_log2FC, pct.1, pct.2, p_val_adj\n",
      "\n",
      "\u001b[36mℹ\u001b[39m Use `spec()` to retrieve the full column specification for this data.\n",
      "\u001b[36mℹ\u001b[39m Specify the column types or set `show_col_types = FALSE` to quiet this message.\n"
     ]
    },
    {
     "name": "stdout",
     "output_type": "stream",
     "text": [
      "13 \n"
     ]
    },
    {
     "name": "stderr",
     "output_type": "stream",
     "text": [
      "\u001b[1mRows: \u001b[22m\u001b[34m323\u001b[39m \u001b[1mColumns: \u001b[22m\u001b[34m7\u001b[39m\n",
      "\u001b[36m──\u001b[39m \u001b[1mColumn specification\u001b[22m \u001b[36m────────────────────────────────────────────────────────\u001b[39m\n",
      "\u001b[1mDelimiter:\u001b[22m \",\"\n",
      "\u001b[31mchr\u001b[39m (1): gene_name\n",
      "\u001b[32mdbl\u001b[39m (6): group, p_val, avg_log2FC, pct.1, pct.2, p_val_adj\n",
      "\n",
      "\u001b[36mℹ\u001b[39m Use `spec()` to retrieve the full column specification for this data.\n",
      "\u001b[36mℹ\u001b[39m Specify the column types or set `show_col_types = FALSE` to quiet this message.\n"
     ]
    }
   ],
   "source": [
    "markers = NULL\n",
    "for(group in 8:13){\n",
    "    cat(group,'\\n')\n",
    "    p_out <- file.path(\"markers\", sprintf(\"mtb_%d.csv\", group))\n",
    "    temp_df =  read_csv(p_out) %>% filter(p_val_adj < 0.01) %>% arrange(desc(avg_log2FC))\n",
    "    # temp_df %>% rename(group = gourp) %>% write_csv(p_out)\n",
    "    \n",
    "    if(is.null(markers)){\n",
    "        markers = temp_df\n",
    "    }else{\n",
    "            markers = bind_rows(markers,temp_df)\n",
    "    }\n",
    "\n",
    "    \n",
    "}\n"
   ]
  },
  {
   "cell_type": "code",
   "execution_count": 3,
   "id": "2c5f8c34-2743-4b2a-b82d-eb4c32a37873",
   "metadata": {},
   "outputs": [
    {
     "data": {
      "text/html": [
       "<table class=\"dataframe\">\n",
       "<caption>A tibble: 2 × 7</caption>\n",
       "<thead>\n",
       "\t<tr><th scope=col>group</th><th scope=col>gene_name</th><th scope=col>p_val</th><th scope=col>avg_log2FC</th><th scope=col>pct.1</th><th scope=col>pct.2</th><th scope=col>p_val_adj</th></tr>\n",
       "\t<tr><th scope=col>&lt;dbl&gt;</th><th scope=col>&lt;chr&gt;</th><th scope=col>&lt;dbl&gt;</th><th scope=col>&lt;dbl&gt;</th><th scope=col>&lt;dbl&gt;</th><th scope=col>&lt;dbl&gt;</th><th scope=col>&lt;dbl&gt;</th></tr>\n",
       "</thead>\n",
       "<tbody>\n",
       "\t<tr><td>8</td><td>Adgre4</td><td>0.000000e+00</td><td>9.607770</td><td>0.363</td><td>0.002</td><td>0.000000e+00</td></tr>\n",
       "\t<tr><td>8</td><td>Il31ra</td><td>1.518045e-51</td><td>8.600822</td><td>0.016</td><td>0.000</td><td>3.434729e-47</td></tr>\n",
       "</tbody>\n",
       "</table>\n"
      ],
      "text/latex": [
       "A tibble: 2 × 7\n",
       "\\begin{tabular}{lllllll}\n",
       " group & gene\\_name & p\\_val & avg\\_log2FC & pct.1 & pct.2 & p\\_val\\_adj\\\\\n",
       " <dbl> & <chr> & <dbl> & <dbl> & <dbl> & <dbl> & <dbl>\\\\\n",
       "\\hline\n",
       "\t 8 & Adgre4 & 0.000000e+00 & 9.607770 & 0.363 & 0.002 & 0.000000e+00\\\\\n",
       "\t 8 & Il31ra & 1.518045e-51 & 8.600822 & 0.016 & 0.000 & 3.434729e-47\\\\\n",
       "\\end{tabular}\n"
      ],
      "text/markdown": [
       "\n",
       "A tibble: 2 × 7\n",
       "\n",
       "| group &lt;dbl&gt; | gene_name &lt;chr&gt; | p_val &lt;dbl&gt; | avg_log2FC &lt;dbl&gt; | pct.1 &lt;dbl&gt; | pct.2 &lt;dbl&gt; | p_val_adj &lt;dbl&gt; |\n",
       "|---|---|---|---|---|---|---|\n",
       "| 8 | Adgre4 | 0.000000e+00 | 9.607770 | 0.363 | 0.002 | 0.000000e+00 |\n",
       "| 8 | Il31ra | 1.518045e-51 | 8.600822 | 0.016 | 0.000 | 3.434729e-47 |\n",
       "\n"
      ],
      "text/plain": [
       "  group gene_name p_val        avg_log2FC pct.1 pct.2 p_val_adj   \n",
       "1 8     Adgre4    0.000000e+00 9.607770   0.363 0.002 0.000000e+00\n",
       "2 8     Il31ra    1.518045e-51 8.600822   0.016 0.000 3.434729e-47"
      ]
     },
     "metadata": {},
     "output_type": "display_data"
    },
    {
     "data": {
      "text/html": [
       "<table class=\"dataframe\">\n",
       "<caption>A grouped_df: 6 × 2</caption>\n",
       "<thead>\n",
       "\t<tr><th scope=col>group</th><th scope=col>n</th></tr>\n",
       "\t<tr><th scope=col>&lt;dbl&gt;</th><th scope=col>&lt;int&gt;</th></tr>\n",
       "</thead>\n",
       "<tbody>\n",
       "\t<tr><td> 8</td><td>1835</td></tr>\n",
       "\t<tr><td> 9</td><td>2274</td></tr>\n",
       "\t<tr><td>10</td><td> 325</td></tr>\n",
       "\t<tr><td>11</td><td> 772</td></tr>\n",
       "\t<tr><td>12</td><td> 879</td></tr>\n",
       "\t<tr><td>13</td><td> 323</td></tr>\n",
       "</tbody>\n",
       "</table>\n"
      ],
      "text/latex": [
       "A grouped\\_df: 6 × 2\n",
       "\\begin{tabular}{ll}\n",
       " group & n\\\\\n",
       " <dbl> & <int>\\\\\n",
       "\\hline\n",
       "\t  8 & 1835\\\\\n",
       "\t  9 & 2274\\\\\n",
       "\t 10 &  325\\\\\n",
       "\t 11 &  772\\\\\n",
       "\t 12 &  879\\\\\n",
       "\t 13 &  323\\\\\n",
       "\\end{tabular}\n"
      ],
      "text/markdown": [
       "\n",
       "A grouped_df: 6 × 2\n",
       "\n",
       "| group &lt;dbl&gt; | n &lt;int&gt; |\n",
       "|---|---|\n",
       "|  8 | 1835 |\n",
       "|  9 | 2274 |\n",
       "| 10 |  325 |\n",
       "| 11 |  772 |\n",
       "| 12 |  879 |\n",
       "| 13 |  323 |\n",
       "\n"
      ],
      "text/plain": [
       "  group n   \n",
       "1  8    1835\n",
       "2  9    2274\n",
       "3 10     325\n",
       "4 11     772\n",
       "5 12     879\n",
       "6 13     323"
      ]
     },
     "metadata": {},
     "output_type": "display_data"
    }
   ],
   "source": [
    "markers %>% head(2)\n",
    "markers  %>% group_by(group) %>% count"
   ]
  },
  {
   "cell_type": "code",
   "execution_count": 4,
   "id": "a3ebd8a6-5134-4273-8ffb-39adeb851eb6",
   "metadata": {
    "tags": []
   },
   "outputs": [
    {
     "data": {
      "text/html": [
       "<table class=\"dataframe\">\n",
       "<caption>A tibble: 10 × 7</caption>\n",
       "<thead>\n",
       "\t<tr><th scope=col>group</th><th scope=col>gene_name</th><th scope=col>p_val</th><th scope=col>avg_log2FC</th><th scope=col>pct.1</th><th scope=col>pct.2</th><th scope=col>p_val_adj</th></tr>\n",
       "\t<tr><th scope=col>&lt;dbl&gt;</th><th scope=col>&lt;chr&gt;</th><th scope=col>&lt;dbl&gt;</th><th scope=col>&lt;dbl&gt;</th><th scope=col>&lt;dbl&gt;</th><th scope=col>&lt;dbl&gt;</th><th scope=col>&lt;dbl&gt;</th></tr>\n",
       "</thead>\n",
       "<tbody>\n",
       "\t<tr><td>8</td><td>Adgre4</td><td> 0.000000e+00</td><td>9.607770</td><td>0.363</td><td>0.002</td><td> 0.000000e+00</td></tr>\n",
       "\t<tr><td>8</td><td>Il31ra</td><td> 1.518045e-51</td><td>8.600822</td><td>0.016</td><td>0.000</td><td> 3.434729e-47</td></tr>\n",
       "\t<tr><td>8</td><td>S1pr5 </td><td>2.316217e-116</td><td>7.940687</td><td>0.045</td><td>0.000</td><td>5.240674e-112</td></tr>\n",
       "\t<tr><td>8</td><td>Gjb2  </td><td> 6.948782e-73</td><td>7.784370</td><td>0.029</td><td>0.000</td><td> 1.572231e-68</td></tr>\n",
       "\t<tr><td>8</td><td>Tgfbr3</td><td> 2.781194e-69</td><td>7.645902</td><td>0.032</td><td>0.001</td><td> 6.292729e-65</td></tr>\n",
       "\t<tr><td>8</td><td>Cd300e</td><td>5.051429e-213</td><td>7.408675</td><td>0.083</td><td>0.001</td><td>1.142936e-208</td></tr>\n",
       "\t<tr><td>8</td><td>Ace   </td><td> 0.000000e+00</td><td>7.356778</td><td>0.304</td><td>0.005</td><td> 0.000000e+00</td></tr>\n",
       "\t<tr><td>8</td><td>Nxpe4 </td><td>3.345133e-107</td><td>7.284004</td><td>0.054</td><td>0.001</td><td>7.568698e-103</td></tr>\n",
       "\t<tr><td>8</td><td>Ifitm6</td><td> 0.000000e+00</td><td>6.995710</td><td>0.205</td><td>0.002</td><td> 0.000000e+00</td></tr>\n",
       "\t<tr><td>8</td><td>Pou2f2</td><td> 0.000000e+00</td><td>6.714748</td><td>0.523</td><td>0.018</td><td> 0.000000e+00</td></tr>\n",
       "</tbody>\n",
       "</table>\n"
      ],
      "text/latex": [
       "A tibble: 10 × 7\n",
       "\\begin{tabular}{lllllll}\n",
       " group & gene\\_name & p\\_val & avg\\_log2FC & pct.1 & pct.2 & p\\_val\\_adj\\\\\n",
       " <dbl> & <chr> & <dbl> & <dbl> & <dbl> & <dbl> & <dbl>\\\\\n",
       "\\hline\n",
       "\t 8 & Adgre4 &  0.000000e+00 & 9.607770 & 0.363 & 0.002 &  0.000000e+00\\\\\n",
       "\t 8 & Il31ra &  1.518045e-51 & 8.600822 & 0.016 & 0.000 &  3.434729e-47\\\\\n",
       "\t 8 & S1pr5  & 2.316217e-116 & 7.940687 & 0.045 & 0.000 & 5.240674e-112\\\\\n",
       "\t 8 & Gjb2   &  6.948782e-73 & 7.784370 & 0.029 & 0.000 &  1.572231e-68\\\\\n",
       "\t 8 & Tgfbr3 &  2.781194e-69 & 7.645902 & 0.032 & 0.001 &  6.292729e-65\\\\\n",
       "\t 8 & Cd300e & 5.051429e-213 & 7.408675 & 0.083 & 0.001 & 1.142936e-208\\\\\n",
       "\t 8 & Ace    &  0.000000e+00 & 7.356778 & 0.304 & 0.005 &  0.000000e+00\\\\\n",
       "\t 8 & Nxpe4  & 3.345133e-107 & 7.284004 & 0.054 & 0.001 & 7.568698e-103\\\\\n",
       "\t 8 & Ifitm6 &  0.000000e+00 & 6.995710 & 0.205 & 0.002 &  0.000000e+00\\\\\n",
       "\t 8 & Pou2f2 &  0.000000e+00 & 6.714748 & 0.523 & 0.018 &  0.000000e+00\\\\\n",
       "\\end{tabular}\n"
      ],
      "text/markdown": [
       "\n",
       "A tibble: 10 × 7\n",
       "\n",
       "| group &lt;dbl&gt; | gene_name &lt;chr&gt; | p_val &lt;dbl&gt; | avg_log2FC &lt;dbl&gt; | pct.1 &lt;dbl&gt; | pct.2 &lt;dbl&gt; | p_val_adj &lt;dbl&gt; |\n",
       "|---|---|---|---|---|---|---|\n",
       "| 8 | Adgre4 |  0.000000e+00 | 9.607770 | 0.363 | 0.002 |  0.000000e+00 |\n",
       "| 8 | Il31ra |  1.518045e-51 | 8.600822 | 0.016 | 0.000 |  3.434729e-47 |\n",
       "| 8 | S1pr5  | 2.316217e-116 | 7.940687 | 0.045 | 0.000 | 5.240674e-112 |\n",
       "| 8 | Gjb2   |  6.948782e-73 | 7.784370 | 0.029 | 0.000 |  1.572231e-68 |\n",
       "| 8 | Tgfbr3 |  2.781194e-69 | 7.645902 | 0.032 | 0.001 |  6.292729e-65 |\n",
       "| 8 | Cd300e | 5.051429e-213 | 7.408675 | 0.083 | 0.001 | 1.142936e-208 |\n",
       "| 8 | Ace    |  0.000000e+00 | 7.356778 | 0.304 | 0.005 |  0.000000e+00 |\n",
       "| 8 | Nxpe4  | 3.345133e-107 | 7.284004 | 0.054 | 0.001 | 7.568698e-103 |\n",
       "| 8 | Ifitm6 |  0.000000e+00 | 6.995710 | 0.205 | 0.002 |  0.000000e+00 |\n",
       "| 8 | Pou2f2 |  0.000000e+00 | 6.714748 | 0.523 | 0.018 |  0.000000e+00 |\n",
       "\n"
      ],
      "text/plain": [
       "   group gene_name p_val         avg_log2FC pct.1 pct.2 p_val_adj    \n",
       "1  8     Adgre4     0.000000e+00 9.607770   0.363 0.002  0.000000e+00\n",
       "2  8     Il31ra     1.518045e-51 8.600822   0.016 0.000  3.434729e-47\n",
       "3  8     S1pr5     2.316217e-116 7.940687   0.045 0.000 5.240674e-112\n",
       "4  8     Gjb2       6.948782e-73 7.784370   0.029 0.000  1.572231e-68\n",
       "5  8     Tgfbr3     2.781194e-69 7.645902   0.032 0.001  6.292729e-65\n",
       "6  8     Cd300e    5.051429e-213 7.408675   0.083 0.001 1.142936e-208\n",
       "7  8     Ace        0.000000e+00 7.356778   0.304 0.005  0.000000e+00\n",
       "8  8     Nxpe4     3.345133e-107 7.284004   0.054 0.001 7.568698e-103\n",
       "9  8     Ifitm6     0.000000e+00 6.995710   0.205 0.002  0.000000e+00\n",
       "10 8     Pou2f2     0.000000e+00 6.714748   0.523 0.018  0.000000e+00"
      ]
     },
     "metadata": {},
     "output_type": "display_data"
    }
   ],
   "source": [
    "# 11, Eomes -> T cell \n",
    "# markers %>% filter(group == 11)\n",
    "\n",
    "# 13, B cell\n",
    "# markers %>% filter(group == 13) %>% head(10)\n",
    "# markers %>% filter(group == 12) %>% head(10)\n",
    "\n",
    "# 8? Monocytes\n",
    "markers %>% filter(group == 8) %>% head(10)"
   ]
  },
  {
   "cell_type": "code",
   "execution_count": 5,
   "id": "71ca5f9b-3ffd-4e84-8fc9-11c3077d29ea",
   "metadata": {
    "tags": []
   },
   "outputs": [
    {
     "data": {
      "text/html": [
       "<table class=\"dataframe\">\n",
       "<caption>A spec_tbl_df: 2 × 7</caption>\n",
       "<thead>\n",
       "\t<tr><th scope=col>group</th><th scope=col>gene_name</th><th scope=col>p_val</th><th scope=col>avg_log2FC</th><th scope=col>pct.1</th><th scope=col>pct.2</th><th scope=col>p_val_adj</th></tr>\n",
       "\t<tr><th scope=col>&lt;dbl&gt;</th><th scope=col>&lt;chr&gt;</th><th scope=col>&lt;dbl&gt;</th><th scope=col>&lt;dbl&gt;</th><th scope=col>&lt;dbl&gt;</th><th scope=col>&lt;dbl&gt;</th><th scope=col>&lt;dbl&gt;</th></tr>\n",
       "</thead>\n",
       "<tbody>\n",
       "\t<tr><td>8</td><td>Ly6a</td><td>3.308217e-38</td><td>-1.676619</td><td>0.153</td><td>0.491</td><td>7.485171e-34</td></tr>\n",
       "\t<tr><td>9</td><td>Ly6a</td><td>1.893924e-19</td><td>-0.970720</td><td>0.238</td><td>0.489</td><td>4.285193e-15</td></tr>\n",
       "</tbody>\n",
       "</table>\n"
      ],
      "text/latex": [
       "A spec\\_tbl\\_df: 2 × 7\n",
       "\\begin{tabular}{lllllll}\n",
       " group & gene\\_name & p\\_val & avg\\_log2FC & pct.1 & pct.2 & p\\_val\\_adj\\\\\n",
       " <dbl> & <chr> & <dbl> & <dbl> & <dbl> & <dbl> & <dbl>\\\\\n",
       "\\hline\n",
       "\t 8 & Ly6a & 3.308217e-38 & -1.676619 & 0.153 & 0.491 & 7.485171e-34\\\\\n",
       "\t 9 & Ly6a & 1.893924e-19 & -0.970720 & 0.238 & 0.489 & 4.285193e-15\\\\\n",
       "\\end{tabular}\n"
      ],
      "text/markdown": [
       "\n",
       "A spec_tbl_df: 2 × 7\n",
       "\n",
       "| group &lt;dbl&gt; | gene_name &lt;chr&gt; | p_val &lt;dbl&gt; | avg_log2FC &lt;dbl&gt; | pct.1 &lt;dbl&gt; | pct.2 &lt;dbl&gt; | p_val_adj &lt;dbl&gt; |\n",
       "|---|---|---|---|---|---|---|\n",
       "| 8 | Ly6a | 3.308217e-38 | -1.676619 | 0.153 | 0.491 | 7.485171e-34 |\n",
       "| 9 | Ly6a | 1.893924e-19 | -0.970720 | 0.238 | 0.489 | 4.285193e-15 |\n",
       "\n"
      ],
      "text/plain": [
       "  group gene_name p_val        avg_log2FC pct.1 pct.2 p_val_adj   \n",
       "1 8     Ly6a      3.308217e-38 -1.676619  0.153 0.491 7.485171e-34\n",
       "2 9     Ly6a      1.893924e-19 -0.970720  0.238 0.489 4.285193e-15"
      ]
     },
     "metadata": {},
     "output_type": "display_data"
    },
    {
     "data": {
      "text/html": [
       "<table class=\"dataframe\">\n",
       "<caption>A spec_tbl_df: 1 × 7</caption>\n",
       "<thead>\n",
       "\t<tr><th scope=col>group</th><th scope=col>gene_name</th><th scope=col>p_val</th><th scope=col>avg_log2FC</th><th scope=col>pct.1</th><th scope=col>pct.2</th><th scope=col>p_val_adj</th></tr>\n",
       "\t<tr><th scope=col>&lt;dbl&gt;</th><th scope=col>&lt;chr&gt;</th><th scope=col>&lt;dbl&gt;</th><th scope=col>&lt;dbl&gt;</th><th scope=col>&lt;dbl&gt;</th><th scope=col>&lt;dbl&gt;</th><th scope=col>&lt;dbl&gt;</th></tr>\n",
       "</thead>\n",
       "<tbody>\n",
       "\t<tr><td>13</td><td>AC133103.3</td><td>1.807499e-43</td><td>8.99976</td><td>0.011</td><td>0</td><td>4.089646e-39</td></tr>\n",
       "</tbody>\n",
       "</table>\n"
      ],
      "text/latex": [
       "A spec\\_tbl\\_df: 1 × 7\n",
       "\\begin{tabular}{lllllll}\n",
       " group & gene\\_name & p\\_val & avg\\_log2FC & pct.1 & pct.2 & p\\_val\\_adj\\\\\n",
       " <dbl> & <chr> & <dbl> & <dbl> & <dbl> & <dbl> & <dbl>\\\\\n",
       "\\hline\n",
       "\t 13 & AC133103.3 & 1.807499e-43 & 8.99976 & 0.011 & 0 & 4.089646e-39\\\\\n",
       "\\end{tabular}\n"
      ],
      "text/markdown": [
       "\n",
       "A spec_tbl_df: 1 × 7\n",
       "\n",
       "| group &lt;dbl&gt; | gene_name &lt;chr&gt; | p_val &lt;dbl&gt; | avg_log2FC &lt;dbl&gt; | pct.1 &lt;dbl&gt; | pct.2 &lt;dbl&gt; | p_val_adj &lt;dbl&gt; |\n",
       "|---|---|---|---|---|---|---|\n",
       "| 13 | AC133103.3 | 1.807499e-43 | 8.99976 | 0.011 | 0 | 4.089646e-39 |\n",
       "\n"
      ],
      "text/plain": [
       "  group gene_name  p_val        avg_log2FC pct.1 pct.2 p_val_adj   \n",
       "1 13    AC133103.3 1.807499e-43 8.99976    0.011 0     4.089646e-39"
      ]
     },
     "metadata": {},
     "output_type": "display_data"
    }
   ],
   "source": [
    "# 8,Macrophages/T-cells\n",
    "# 8,Macrophages/B-cells\n",
    "# markers %>% filter(gene_name == 'Ly6l')\n",
    "markers %>% filter(gene_name == 'Ly6a')\n",
    "\n",
    "# 9,Neutrophils\n",
    "# markers %>% filter(gene_name == 'Egr1')\n",
    "\n",
    "# 10,DC\n",
    "# markers %>% filter(gene_name == 'Cst7')\n",
    "\n",
    "\n",
    "markers %>% filter(str_detect(gene_name,'.?103.?'))"
   ]
  },
  {
   "cell_type": "markdown",
   "id": "84bda19d-39d0-49ae-88b6-5daa2287dc0a",
   "metadata": {},
   "source": [
    "# Seruat -> mtx"
   ]
  },
  {
   "cell_type": "code",
   "execution_count": null,
   "id": "8f8baa49-5d0e-4067-9ce1-c070125bd56b",
   "metadata": {
    "tags": []
   },
   "outputs": [],
   "source": [
    "source(file.path('~/link/res_publish','func_r_map_seurat.r'))"
   ]
  },
  {
   "cell_type": "code",
   "execution_count": 7,
   "id": "54c5a2f7-be97-4f03-99e3-aa47688d01a4",
   "metadata": {
    "scrolled": true,
    "tags": []
   },
   "outputs": [
    {
     "name": "stderr",
     "output_type": "stream",
     "text": [
      "\u001b[1mRows: \u001b[22m\u001b[34m17101\u001b[39m \u001b[1mColumns: \u001b[22m\u001b[34m9\u001b[39m\n",
      "\u001b[36m──\u001b[39m \u001b[1mColumn specification\u001b[22m \u001b[36m────────────────────────────────────────────────────────\u001b[39m\n",
      "\u001b[1mDelimiter:\u001b[22m \",\"\n",
      "\u001b[31mchr\u001b[39m (6): cell_id, treatment, protein, batch, cell_type, sub_cell_type_1\n",
      "\u001b[32mdbl\u001b[39m (3): seurat_clusters_article, umap_1, umap_2\n",
      "\n",
      "\u001b[36mℹ\u001b[39m Use `spec()` to retrieve the full column specification for this data.\n",
      "\u001b[36mℹ\u001b[39m Specify the column types or set `show_col_types = FALSE` to quiet this message.\n"
     ]
    },
    {
     "data": {
      "text/html": [
       "<table class=\"dataframe\">\n",
       "<caption>A tibble: 2 × 9</caption>\n",
       "<thead>\n",
       "\t<tr><th scope=col>cell_id</th><th scope=col>seurat_clusters_article</th><th scope=col>treatment</th><th scope=col>protein</th><th scope=col>batch</th><th scope=col>cell_type</th><th scope=col>sub_cell_type_1</th><th scope=col>umap_1</th><th scope=col>umap_2</th></tr>\n",
       "\t<tr><th scope=col>&lt;chr&gt;</th><th scope=col>&lt;dbl&gt;</th><th scope=col>&lt;chr&gt;</th><th scope=col>&lt;chr&gt;</th><th scope=col>&lt;chr&gt;</th><th scope=col>&lt;chr&gt;</th><th scope=col>&lt;chr&gt;</th><th scope=col>&lt;dbl&gt;</th><th scope=col>&lt;dbl&gt;</th></tr>\n",
       "</thead>\n",
       "<tbody>\n",
       "\t<tr><td>AAACCCACAGGCTATT_1</td><td>1</td><td>Infected</td><td>no</td><td>Batch1</td><td>macrophage</td><td>IM_3</td><td>6.774730</td><td> 1.134033</td></tr>\n",
       "\t<tr><td>AAACCCAGTCCTACGG_1</td><td>4</td><td>Infected</td><td>no</td><td>Batch1</td><td>macrophage</td><td>IM_1</td><td>1.706974</td><td>-2.713674</td></tr>\n",
       "</tbody>\n",
       "</table>\n"
      ],
      "text/latex": [
       "A tibble: 2 × 9\n",
       "\\begin{tabular}{lllllllll}\n",
       " cell\\_id & seurat\\_clusters\\_article & treatment & protein & batch & cell\\_type & sub\\_cell\\_type\\_1 & umap\\_1 & umap\\_2\\\\\n",
       " <chr> & <dbl> & <chr> & <chr> & <chr> & <chr> & <chr> & <dbl> & <dbl>\\\\\n",
       "\\hline\n",
       "\t AAACCCACAGGCTATT\\_1 & 1 & Infected & no & Batch1 & macrophage & IM\\_3 & 6.774730 &  1.134033\\\\\n",
       "\t AAACCCAGTCCTACGG\\_1 & 4 & Infected & no & Batch1 & macrophage & IM\\_1 & 1.706974 & -2.713674\\\\\n",
       "\\end{tabular}\n"
      ],
      "text/markdown": [
       "\n",
       "A tibble: 2 × 9\n",
       "\n",
       "| cell_id &lt;chr&gt; | seurat_clusters_article &lt;dbl&gt; | treatment &lt;chr&gt; | protein &lt;chr&gt; | batch &lt;chr&gt; | cell_type &lt;chr&gt; | sub_cell_type_1 &lt;chr&gt; | umap_1 &lt;dbl&gt; | umap_2 &lt;dbl&gt; |\n",
       "|---|---|---|---|---|---|---|---|---|\n",
       "| AAACCCACAGGCTATT_1 | 1 | Infected | no | Batch1 | macrophage | IM_3 | 6.774730 |  1.134033 |\n",
       "| AAACCCAGTCCTACGG_1 | 4 | Infected | no | Batch1 | macrophage | IM_1 | 1.706974 | -2.713674 |\n",
       "\n"
      ],
      "text/plain": [
       "  cell_id            seurat_clusters_article treatment protein batch \n",
       "1 AAACCCACAGGCTATT_1 1                       Infected  no      Batch1\n",
       "2 AAACCCAGTCCTACGG_1 4                       Infected  no      Batch1\n",
       "  cell_type  sub_cell_type_1 umap_1   umap_2   \n",
       "1 macrophage IM_3            6.774730  1.134033\n",
       "2 macrophage IM_1            1.706974 -2.713674"
      ]
     },
     "metadata": {},
     "output_type": "display_data"
    },
    {
     "data": {
      "text/html": [
       "<table class=\"dataframe\">\n",
       "<caption>A grouped_df: 14 × 3</caption>\n",
       "<thead>\n",
       "\t<tr><th scope=col>seurat_clusters_article</th><th scope=col>cell_type</th><th scope=col>n</th></tr>\n",
       "\t<tr><th scope=col>&lt;dbl&gt;</th><th scope=col>&lt;chr&gt;</th><th scope=col>&lt;int&gt;</th></tr>\n",
       "</thead>\n",
       "<tbody>\n",
       "\t<tr><td> 0</td><td>macrophage    </td><td>3218</td></tr>\n",
       "\t<tr><td> 1</td><td>macrophage    </td><td>2861</td></tr>\n",
       "\t<tr><td> 2</td><td>macrophage    </td><td>2547</td></tr>\n",
       "\t<tr><td> 3</td><td>macrophage    </td><td>1896</td></tr>\n",
       "\t<tr><td> 4</td><td>macrophage    </td><td>1852</td></tr>\n",
       "\t<tr><td> 5</td><td>macrophage    </td><td>1843</td></tr>\n",
       "\t<tr><td> 6</td><td>macrophage    </td><td> 967</td></tr>\n",
       "\t<tr><td> 7</td><td>macrophage    </td><td> 536</td></tr>\n",
       "\t<tr><td> 8</td><td>monocyte      </td><td> 444</td></tr>\n",
       "\t<tr><td> 9</td><td>neutrophil    </td><td> 411</td></tr>\n",
       "\t<tr><td>10</td><td>dendritic cell</td><td> 171</td></tr>\n",
       "\t<tr><td>11</td><td>lymphocyte    </td><td> 137</td></tr>\n",
       "\t<tr><td>12</td><td>lymphocyte    </td><td> 129</td></tr>\n",
       "\t<tr><td>13</td><td>lymphocyte    </td><td>  89</td></tr>\n",
       "</tbody>\n",
       "</table>\n"
      ],
      "text/latex": [
       "A grouped\\_df: 14 × 3\n",
       "\\begin{tabular}{lll}\n",
       " seurat\\_clusters\\_article & cell\\_type & n\\\\\n",
       " <dbl> & <chr> & <int>\\\\\n",
       "\\hline\n",
       "\t  0 & macrophage     & 3218\\\\\n",
       "\t  1 & macrophage     & 2861\\\\\n",
       "\t  2 & macrophage     & 2547\\\\\n",
       "\t  3 & macrophage     & 1896\\\\\n",
       "\t  4 & macrophage     & 1852\\\\\n",
       "\t  5 & macrophage     & 1843\\\\\n",
       "\t  6 & macrophage     &  967\\\\\n",
       "\t  7 & macrophage     &  536\\\\\n",
       "\t  8 & monocyte       &  444\\\\\n",
       "\t  9 & neutrophil     &  411\\\\\n",
       "\t 10 & dendritic cell &  171\\\\\n",
       "\t 11 & lymphocyte     &  137\\\\\n",
       "\t 12 & lymphocyte     &  129\\\\\n",
       "\t 13 & lymphocyte     &   89\\\\\n",
       "\\end{tabular}\n"
      ],
      "text/markdown": [
       "\n",
       "A grouped_df: 14 × 3\n",
       "\n",
       "| seurat_clusters_article &lt;dbl&gt; | cell_type &lt;chr&gt; | n &lt;int&gt; |\n",
       "|---|---|---|\n",
       "|  0 | macrophage     | 3218 |\n",
       "|  1 | macrophage     | 2861 |\n",
       "|  2 | macrophage     | 2547 |\n",
       "|  3 | macrophage     | 1896 |\n",
       "|  4 | macrophage     | 1852 |\n",
       "|  5 | macrophage     | 1843 |\n",
       "|  6 | macrophage     |  967 |\n",
       "|  7 | macrophage     |  536 |\n",
       "|  8 | monocyte       |  444 |\n",
       "|  9 | neutrophil     |  411 |\n",
       "| 10 | dendritic cell |  171 |\n",
       "| 11 | lymphocyte     |  137 |\n",
       "| 12 | lymphocyte     |  129 |\n",
       "| 13 | lymphocyte     |   89 |\n",
       "\n"
      ],
      "text/plain": [
       "   seurat_clusters_article cell_type      n   \n",
       "1   0                      macrophage     3218\n",
       "2   1                      macrophage     2861\n",
       "3   2                      macrophage     2547\n",
       "4   3                      macrophage     1896\n",
       "5   4                      macrophage     1852\n",
       "6   5                      macrophage     1843\n",
       "7   6                      macrophage      967\n",
       "8   7                      macrophage      536\n",
       "9   8                      monocyte        444\n",
       "10  9                      neutrophil      411\n",
       "11 10                      dendritic cell  171\n",
       "12 11                      lymphocyte      137\n",
       "13 12                      lymphocyte      129\n",
       "14 13                      lymphocyte       89"
      ]
     },
     "metadata": {},
     "output_type": "display_data"
    }
   ],
   "source": [
    "df_ann = read_csv(\"mtb_ann.csv\")\n",
    "df_ann %>% head(2)\n",
    "df_ann %>% group_by(seurat_clusters_article,cell_type) %>% count"
   ]
  },
  {
   "cell_type": "code",
   "execution_count": 8,
   "id": "0f93835e-781c-4192-807b-be65b0dc9c3e",
   "metadata": {
    "tags": []
   },
   "outputs": [],
   "source": [
    "adata_count = read.csv('GSE167232_mtb_integrated.csv.gz',row.names = 1)"
   ]
  },
  {
   "cell_type": "code",
   "execution_count": 9,
   "id": "9e6076f6-7c88-4af6-81fd-afe4eaa42f38",
   "metadata": {},
   "outputs": [
    {
     "data": {
      "text/html": [
       "FALSE"
      ],
      "text/latex": [
       "FALSE"
      ],
      "text/markdown": [
       "FALSE"
      ],
      "text/plain": [
       "[1] FALSE"
      ]
     },
     "metadata": {},
     "output_type": "display_data"
    },
    {
     "data": {
      "text/html": [
       "FALSE"
      ],
      "text/latex": [
       "FALSE"
      ],
      "text/markdown": [
       "FALSE"
      ],
      "text/plain": [
       "[1] FALSE"
      ]
     },
     "metadata": {},
     "output_type": "display_data"
    }
   ],
   "source": [
    "colnames(adata_count) %>% duplicated %>% any\n",
    "colnames(adata_count) = str_c('Mtb_mtb',colnames(adata_count),sep = ';')\n",
    "colnames(adata_count) %>% duplicated %>% any"
   ]
  },
  {
   "cell_type": "code",
   "execution_count": 10,
   "id": "d910ef8d-71ab-4563-ba51-83e0c0b1d2e6",
   "metadata": {
    "tags": []
   },
   "outputs": [
    {
     "data": {
      "text/html": [
       "<style>\n",
       ".list-inline {list-style: none; margin:0; padding: 0}\n",
       ".list-inline>li {display: inline-block}\n",
       ".list-inline>li:not(:last-child)::after {content: \"\\00b7\"; padding: 0 .5ex}\n",
       "</style>\n",
       "<ol class=list-inline><li>'Mtb_mtb;AAACCCACAGGCTATT_1'</li><li>'Mtb_mtb;AAACCCAGTCCTACGG_1'</li></ol>\n"
      ],
      "text/latex": [
       "\\begin{enumerate*}\n",
       "\\item 'Mtb\\_mtb;AAACCCACAGGCTATT\\_1'\n",
       "\\item 'Mtb\\_mtb;AAACCCAGTCCTACGG\\_1'\n",
       "\\end{enumerate*}\n"
      ],
      "text/markdown": [
       "1. 'Mtb_mtb;AAACCCACAGGCTATT_1'\n",
       "2. 'Mtb_mtb;AAACCCAGTCCTACGG_1'\n",
       "\n",
       "\n"
      ],
      "text/plain": [
       "[1] \"Mtb_mtb;AAACCCACAGGCTATT_1\" \"Mtb_mtb;AAACCCAGTCCTACGG_1\""
      ]
     },
     "metadata": {},
     "output_type": "display_data"
    }
   ],
   "source": [
    "colnames(adata_count) %>% head(2)"
   ]
  },
  {
   "cell_type": "code",
   "execution_count": 11,
   "id": "b3064bb0-16a9-40b6-b1c5-36fdc6074684",
   "metadata": {
    "tags": []
   },
   "outputs": [
    {
     "name": "stderr",
     "output_type": "stream",
     "text": [
      "Warning message:\n",
      "“Data is of class data.frame. Coercing to dgCMatrix.”\n"
     ]
    },
    {
     "data": {
      "text/plain": [
       "An object of class Seurat \n",
       "22626 features across 17101 samples within 1 assay \n",
       "Active assay: RNA (22626 features, 0 variable features)\n",
       " 1 layer present: counts"
      ]
     },
     "metadata": {},
     "output_type": "display_data"
    }
   ],
   "source": [
    "adata <- CreateSeuratObject(counts = adata_count)\n",
    "adata@meta.data <- adata@meta.data %>% mutate(\n",
    "  cell_id = rownames(adata@meta.data), .before = 1\n",
    ")\n",
    "adata"
   ]
  },
  {
   "cell_type": "code",
   "execution_count": 12,
   "id": "06d9b85d-cad2-49f6-a96c-0992cc57d3d3",
   "metadata": {
    "tags": []
   },
   "outputs": [
    {
     "data": {
      "text/html": [
       "<table class=\"dataframe\">\n",
       "<caption>A tibble: 2 × 9</caption>\n",
       "<thead>\n",
       "\t<tr><th scope=col>cell_id</th><th scope=col>seurat_clusters_article</th><th scope=col>treatment</th><th scope=col>protein</th><th scope=col>batch</th><th scope=col>cell_type</th><th scope=col>sub_cell_type_1</th><th scope=col>umap_1</th><th scope=col>umap_2</th></tr>\n",
       "\t<tr><th scope=col>&lt;chr&gt;</th><th scope=col>&lt;dbl&gt;</th><th scope=col>&lt;chr&gt;</th><th scope=col>&lt;chr&gt;</th><th scope=col>&lt;chr&gt;</th><th scope=col>&lt;chr&gt;</th><th scope=col>&lt;chr&gt;</th><th scope=col>&lt;dbl&gt;</th><th scope=col>&lt;dbl&gt;</th></tr>\n",
       "</thead>\n",
       "<tbody>\n",
       "\t<tr><td>Mtb_mtb;AAACCCACAGGCTATT_1</td><td>1</td><td>Infected</td><td>no</td><td>Batch1</td><td>macrophage</td><td>IM_3</td><td>6.774730</td><td> 1.134033</td></tr>\n",
       "\t<tr><td>Mtb_mtb;AAACCCAGTCCTACGG_1</td><td>4</td><td>Infected</td><td>no</td><td>Batch1</td><td>macrophage</td><td>IM_1</td><td>1.706974</td><td>-2.713674</td></tr>\n",
       "</tbody>\n",
       "</table>\n"
      ],
      "text/latex": [
       "A tibble: 2 × 9\n",
       "\\begin{tabular}{lllllllll}\n",
       " cell\\_id & seurat\\_clusters\\_article & treatment & protein & batch & cell\\_type & sub\\_cell\\_type\\_1 & umap\\_1 & umap\\_2\\\\\n",
       " <chr> & <dbl> & <chr> & <chr> & <chr> & <chr> & <chr> & <dbl> & <dbl>\\\\\n",
       "\\hline\n",
       "\t Mtb\\_mtb;AAACCCACAGGCTATT\\_1 & 1 & Infected & no & Batch1 & macrophage & IM\\_3 & 6.774730 &  1.134033\\\\\n",
       "\t Mtb\\_mtb;AAACCCAGTCCTACGG\\_1 & 4 & Infected & no & Batch1 & macrophage & IM\\_1 & 1.706974 & -2.713674\\\\\n",
       "\\end{tabular}\n"
      ],
      "text/markdown": [
       "\n",
       "A tibble: 2 × 9\n",
       "\n",
       "| cell_id &lt;chr&gt; | seurat_clusters_article &lt;dbl&gt; | treatment &lt;chr&gt; | protein &lt;chr&gt; | batch &lt;chr&gt; | cell_type &lt;chr&gt; | sub_cell_type_1 &lt;chr&gt; | umap_1 &lt;dbl&gt; | umap_2 &lt;dbl&gt; |\n",
       "|---|---|---|---|---|---|---|---|---|\n",
       "| Mtb_mtb;AAACCCACAGGCTATT_1 | 1 | Infected | no | Batch1 | macrophage | IM_3 | 6.774730 |  1.134033 |\n",
       "| Mtb_mtb;AAACCCAGTCCTACGG_1 | 4 | Infected | no | Batch1 | macrophage | IM_1 | 1.706974 | -2.713674 |\n",
       "\n"
      ],
      "text/plain": [
       "  cell_id                    seurat_clusters_article treatment protein batch \n",
       "1 Mtb_mtb;AAACCCACAGGCTATT_1 1                       Infected  no      Batch1\n",
       "2 Mtb_mtb;AAACCCAGTCCTACGG_1 4                       Infected  no      Batch1\n",
       "  cell_type  sub_cell_type_1 umap_1   umap_2   \n",
       "1 macrophage IM_3            6.774730  1.134033\n",
       "2 macrophage IM_1            1.706974 -2.713674"
      ]
     },
     "metadata": {},
     "output_type": "display_data"
    }
   ],
   "source": [
    "df_ann = df_ann %>% mutate(\n",
    "cell_id = str_c('Mtb_mtb',cell_id,sep = ';')\n",
    ")\n",
    "df_ann %>% head(2)"
   ]
  },
  {
   "cell_type": "code",
   "execution_count": 13,
   "id": "ba5ba85f-b4b7-4c7a-9800-fd690b56e778",
   "metadata": {
    "tags": []
   },
   "outputs": [
    {
     "data": {
      "text/html": [
       "<table class=\"dataframe\">\n",
       "<caption>A data.frame: 2 × 12</caption>\n",
       "<thead>\n",
       "\t<tr><th></th><th scope=col>cell_id</th><th scope=col>orig.ident</th><th scope=col>nCount_RNA</th><th scope=col>nFeature_RNA</th><th scope=col>seurat_clusters_article</th><th scope=col>treatment</th><th scope=col>protein</th><th scope=col>batch</th><th scope=col>cell_type</th><th scope=col>sub_cell_type_1</th><th scope=col>umap_1</th><th scope=col>umap_2</th></tr>\n",
       "\t<tr><th></th><th scope=col>&lt;chr&gt;</th><th scope=col>&lt;fct&gt;</th><th scope=col>&lt;dbl&gt;</th><th scope=col>&lt;int&gt;</th><th scope=col>&lt;dbl&gt;</th><th scope=col>&lt;chr&gt;</th><th scope=col>&lt;chr&gt;</th><th scope=col>&lt;chr&gt;</th><th scope=col>&lt;chr&gt;</th><th scope=col>&lt;chr&gt;</th><th scope=col>&lt;dbl&gt;</th><th scope=col>&lt;dbl&gt;</th></tr>\n",
       "</thead>\n",
       "<tbody>\n",
       "\t<tr><th scope=row>Mtb_mtb;AAACCCACAGGCTATT_1</th><td>Mtb_mtb;AAACCCACAGGCTATT_1</td><td>Mtb</td><td>9144</td><td>2176</td><td>1</td><td>Infected</td><td>no</td><td>Batch1</td><td>macrophage</td><td>IM_3</td><td>6.774730</td><td> 1.134033</td></tr>\n",
       "\t<tr><th scope=row>Mtb_mtb;AAACCCAGTCCTACGG_1</th><td>Mtb_mtb;AAACCCAGTCCTACGG_1</td><td>Mtb</td><td>1340</td><td> 694</td><td>4</td><td>Infected</td><td>no</td><td>Batch1</td><td>macrophage</td><td>IM_1</td><td>1.706974</td><td>-2.713674</td></tr>\n",
       "</tbody>\n",
       "</table>\n"
      ],
      "text/latex": [
       "A data.frame: 2 × 12\n",
       "\\begin{tabular}{r|llllllllllll}\n",
       "  & cell\\_id & orig.ident & nCount\\_RNA & nFeature\\_RNA & seurat\\_clusters\\_article & treatment & protein & batch & cell\\_type & sub\\_cell\\_type\\_1 & umap\\_1 & umap\\_2\\\\\n",
       "  & <chr> & <fct> & <dbl> & <int> & <dbl> & <chr> & <chr> & <chr> & <chr> & <chr> & <dbl> & <dbl>\\\\\n",
       "\\hline\n",
       "\tMtb\\_mtb;AAACCCACAGGCTATT\\_1 & Mtb\\_mtb;AAACCCACAGGCTATT\\_1 & Mtb & 9144 & 2176 & 1 & Infected & no & Batch1 & macrophage & IM\\_3 & 6.774730 &  1.134033\\\\\n",
       "\tMtb\\_mtb;AAACCCAGTCCTACGG\\_1 & Mtb\\_mtb;AAACCCAGTCCTACGG\\_1 & Mtb & 1340 &  694 & 4 & Infected & no & Batch1 & macrophage & IM\\_1 & 1.706974 & -2.713674\\\\\n",
       "\\end{tabular}\n"
      ],
      "text/markdown": [
       "\n",
       "A data.frame: 2 × 12\n",
       "\n",
       "| <!--/--> | cell_id &lt;chr&gt; | orig.ident &lt;fct&gt; | nCount_RNA &lt;dbl&gt; | nFeature_RNA &lt;int&gt; | seurat_clusters_article &lt;dbl&gt; | treatment &lt;chr&gt; | protein &lt;chr&gt; | batch &lt;chr&gt; | cell_type &lt;chr&gt; | sub_cell_type_1 &lt;chr&gt; | umap_1 &lt;dbl&gt; | umap_2 &lt;dbl&gt; |\n",
       "|---|---|---|---|---|---|---|---|---|---|---|---|---|\n",
       "| Mtb_mtb;AAACCCACAGGCTATT_1 | Mtb_mtb;AAACCCACAGGCTATT_1 | Mtb | 9144 | 2176 | 1 | Infected | no | Batch1 | macrophage | IM_3 | 6.774730 |  1.134033 |\n",
       "| Mtb_mtb;AAACCCAGTCCTACGG_1 | Mtb_mtb;AAACCCAGTCCTACGG_1 | Mtb | 1340 |  694 | 4 | Infected | no | Batch1 | macrophage | IM_1 | 1.706974 | -2.713674 |\n",
       "\n"
      ],
      "text/plain": [
       "                           cell_id                    orig.ident nCount_RNA\n",
       "Mtb_mtb;AAACCCACAGGCTATT_1 Mtb_mtb;AAACCCACAGGCTATT_1 Mtb        9144      \n",
       "Mtb_mtb;AAACCCAGTCCTACGG_1 Mtb_mtb;AAACCCAGTCCTACGG_1 Mtb        1340      \n",
       "                           nFeature_RNA seurat_clusters_article treatment\n",
       "Mtb_mtb;AAACCCACAGGCTATT_1 2176         1                       Infected \n",
       "Mtb_mtb;AAACCCAGTCCTACGG_1  694         4                       Infected \n",
       "                           protein batch  cell_type  sub_cell_type_1 umap_1  \n",
       "Mtb_mtb;AAACCCACAGGCTATT_1 no      Batch1 macrophage IM_3            6.774730\n",
       "Mtb_mtb;AAACCCAGTCCTACGG_1 no      Batch1 macrophage IM_1            1.706974\n",
       "                           umap_2   \n",
       "Mtb_mtb;AAACCCACAGGCTATT_1  1.134033\n",
       "Mtb_mtb;AAACCCAGTCCTACGG_1 -2.713674"
      ]
     },
     "metadata": {},
     "output_type": "display_data"
    }
   ],
   "source": [
    "adata@meta.data  = adata@meta.data %>% left_join(df_ann,by = 'cell_id')\n",
    "rownames(adata@meta.data ) = adata@meta.data$cell_id\n",
    "adata@meta.data %>% head(2)"
   ]
  },
  {
   "cell_type": "code",
   "execution_count": 14,
   "id": "ad4ca44a-81de-4560-9660-0666caf778d2",
   "metadata": {},
   "outputs": [
    {
     "data": {
      "text/html": [
       "<table class=\"dataframe\">\n",
       "<caption>A data.frame: 2 × 12</caption>\n",
       "<thead>\n",
       "\t<tr><th></th><th scope=col>orig.ident</th><th scope=col>nCount_RNA</th><th scope=col>nFeature_RNA</th><th scope=col>cell_id</th><th scope=col>_batch</th><th scope=col>treatment</th><th scope=col>batch</th><th scope=col>cell_type</th><th scope=col>sub_cell_type</th><th scope=col>seurat_clusters_article</th><th scope=col>umap_1</th><th scope=col>umap_2</th></tr>\n",
       "\t<tr><th></th><th scope=col>&lt;chr&gt;</th><th scope=col>&lt;dbl&gt;</th><th scope=col>&lt;int&gt;</th><th scope=col>&lt;chr&gt;</th><th scope=col>&lt;chr&gt;</th><th scope=col>&lt;chr&gt;</th><th scope=col>&lt;chr&gt;</th><th scope=col>&lt;chr&gt;</th><th scope=col>&lt;chr&gt;</th><th scope=col>&lt;dbl&gt;</th><th scope=col>&lt;dbl&gt;</th><th scope=col>&lt;dbl&gt;</th></tr>\n",
       "</thead>\n",
       "<tbody>\n",
       "\t<tr><th scope=row>Mtb_mtb;AAACCCACAGGCTATT_1</th><td>Mtb_mtb;AAACCCACAGGCTATT_1</td><td>9144</td><td>2176</td><td>Mtb_mtb;AAACCCACAGGCTATT_1</td><td>Batch1_Infected</td><td>Infected</td><td>Batch1</td><td>macrophage</td><td>IM_3</td><td>1</td><td>6.774730</td><td> 1.134033</td></tr>\n",
       "\t<tr><th scope=row>Mtb_mtb;AAACCCAGTCCTACGG_1</th><td>Mtb_mtb;AAACCCAGTCCTACGG_1</td><td>1340</td><td> 694</td><td>Mtb_mtb;AAACCCAGTCCTACGG_1</td><td>Batch1_Infected</td><td>Infected</td><td>Batch1</td><td>macrophage</td><td>IM_1</td><td>4</td><td>1.706974</td><td>-2.713674</td></tr>\n",
       "</tbody>\n",
       "</table>\n"
      ],
      "text/latex": [
       "A data.frame: 2 × 12\n",
       "\\begin{tabular}{r|llllllllllll}\n",
       "  & orig.ident & nCount\\_RNA & nFeature\\_RNA & cell\\_id & \\_batch & treatment & batch & cell\\_type & sub\\_cell\\_type & seurat\\_clusters\\_article & umap\\_1 & umap\\_2\\\\\n",
       "  & <chr> & <dbl> & <int> & <chr> & <chr> & <chr> & <chr> & <chr> & <chr> & <dbl> & <dbl> & <dbl>\\\\\n",
       "\\hline\n",
       "\tMtb\\_mtb;AAACCCACAGGCTATT\\_1 & Mtb\\_mtb;AAACCCACAGGCTATT\\_1 & 9144 & 2176 & Mtb\\_mtb;AAACCCACAGGCTATT\\_1 & Batch1\\_Infected & Infected & Batch1 & macrophage & IM\\_3 & 1 & 6.774730 &  1.134033\\\\\n",
       "\tMtb\\_mtb;AAACCCAGTCCTACGG\\_1 & Mtb\\_mtb;AAACCCAGTCCTACGG\\_1 & 1340 &  694 & Mtb\\_mtb;AAACCCAGTCCTACGG\\_1 & Batch1\\_Infected & Infected & Batch1 & macrophage & IM\\_1 & 4 & 1.706974 & -2.713674\\\\\n",
       "\\end{tabular}\n"
      ],
      "text/markdown": [
       "\n",
       "A data.frame: 2 × 12\n",
       "\n",
       "| <!--/--> | orig.ident &lt;chr&gt; | nCount_RNA &lt;dbl&gt; | nFeature_RNA &lt;int&gt; | cell_id &lt;chr&gt; | _batch &lt;chr&gt; | treatment &lt;chr&gt; | batch &lt;chr&gt; | cell_type &lt;chr&gt; | sub_cell_type &lt;chr&gt; | seurat_clusters_article &lt;dbl&gt; | umap_1 &lt;dbl&gt; | umap_2 &lt;dbl&gt; |\n",
       "|---|---|---|---|---|---|---|---|---|---|---|---|---|\n",
       "| Mtb_mtb;AAACCCACAGGCTATT_1 | Mtb_mtb;AAACCCACAGGCTATT_1 | 9144 | 2176 | Mtb_mtb;AAACCCACAGGCTATT_1 | Batch1_Infected | Infected | Batch1 | macrophage | IM_3 | 1 | 6.774730 |  1.134033 |\n",
       "| Mtb_mtb;AAACCCAGTCCTACGG_1 | Mtb_mtb;AAACCCAGTCCTACGG_1 | 1340 |  694 | Mtb_mtb;AAACCCAGTCCTACGG_1 | Batch1_Infected | Infected | Batch1 | macrophage | IM_1 | 4 | 1.706974 | -2.713674 |\n",
       "\n"
      ],
      "text/plain": [
       "                           orig.ident                 nCount_RNA nFeature_RNA\n",
       "Mtb_mtb;AAACCCACAGGCTATT_1 Mtb_mtb;AAACCCACAGGCTATT_1 9144       2176        \n",
       "Mtb_mtb;AAACCCAGTCCTACGG_1 Mtb_mtb;AAACCCAGTCCTACGG_1 1340        694        \n",
       "                           cell_id                    _batch          treatment\n",
       "Mtb_mtb;AAACCCACAGGCTATT_1 Mtb_mtb;AAACCCACAGGCTATT_1 Batch1_Infected Infected \n",
       "Mtb_mtb;AAACCCAGTCCTACGG_1 Mtb_mtb;AAACCCAGTCCTACGG_1 Batch1_Infected Infected \n",
       "                           batch  cell_type  sub_cell_type\n",
       "Mtb_mtb;AAACCCACAGGCTATT_1 Batch1 macrophage IM_3         \n",
       "Mtb_mtb;AAACCCAGTCCTACGG_1 Batch1 macrophage IM_1         \n",
       "                           seurat_clusters_article umap_1   umap_2   \n",
       "Mtb_mtb;AAACCCACAGGCTATT_1 1                       6.774730  1.134033\n",
       "Mtb_mtb;AAACCCAGTCCTACGG_1 4                       1.706974 -2.713674"
      ]
     },
     "metadata": {},
     "output_type": "display_data"
    }
   ],
   "source": [
    "adata@meta.data = adata@meta.data %>% mutate(\n",
    "    `_batch` = str_c(batch,treatment,sep = '_'),\n",
    "    `orig.ident` = cell_id\n",
    "    \n",
    ") %>% rename(sub_cell_type = sub_cell_type_1)\n",
    "\n",
    "\n",
    "adata@meta.data  = adata@meta.data %>% \n",
    "select(orig.ident,nCount_RNA,nFeature_RNA,cell_id,`_batch`,treatment,batch,cell_type,sub_cell_type,seurat_clusters_article,umap_1,umap_2)\n",
    "adata@meta.data %>% head(2)"
   ]
  },
  {
   "cell_type": "code",
   "execution_count": 15,
   "id": "6895d1be-5a28-4ffc-aaf6-44071044f3a8",
   "metadata": {
    "tags": []
   },
   "outputs": [
    {
     "data": {
      "text/html": [
       "<table class=\"dataframe\">\n",
       "<caption>A grouped_df: 7 × 3</caption>\n",
       "<thead>\n",
       "\t<tr><th scope=col>treatment</th><th scope=col>batch</th><th scope=col>n</th></tr>\n",
       "\t<tr><th scope=col>&lt;chr&gt;</th><th scope=col>&lt;chr&gt;</th><th scope=col>&lt;int&gt;</th></tr>\n",
       "</thead>\n",
       "<tbody>\n",
       "\t<tr><td>Bystander </td><td>Batch2</td><td>2220</td></tr>\n",
       "\t<tr><td>Bystander </td><td>Batch3</td><td>1522</td></tr>\n",
       "\t<tr><td>Infected  </td><td>Batch1</td><td>2848</td></tr>\n",
       "\t<tr><td>Infected  </td><td>Batch2</td><td>4831</td></tr>\n",
       "\t<tr><td>Infected  </td><td>Batch3</td><td>2869</td></tr>\n",
       "\t<tr><td>Uninfected</td><td>Batch2</td><td> 784</td></tr>\n",
       "\t<tr><td>Uninfected</td><td>Batch3</td><td>2027</td></tr>\n",
       "</tbody>\n",
       "</table>\n"
      ],
      "text/latex": [
       "A grouped\\_df: 7 × 3\n",
       "\\begin{tabular}{lll}\n",
       " treatment & batch & n\\\\\n",
       " <chr> & <chr> & <int>\\\\\n",
       "\\hline\n",
       "\t Bystander  & Batch2 & 2220\\\\\n",
       "\t Bystander  & Batch3 & 1522\\\\\n",
       "\t Infected   & Batch1 & 2848\\\\\n",
       "\t Infected   & Batch2 & 4831\\\\\n",
       "\t Infected   & Batch3 & 2869\\\\\n",
       "\t Uninfected & Batch2 &  784\\\\\n",
       "\t Uninfected & Batch3 & 2027\\\\\n",
       "\\end{tabular}\n"
      ],
      "text/markdown": [
       "\n",
       "A grouped_df: 7 × 3\n",
       "\n",
       "| treatment &lt;chr&gt; | batch &lt;chr&gt; | n &lt;int&gt; |\n",
       "|---|---|---|\n",
       "| Bystander  | Batch2 | 2220 |\n",
       "| Bystander  | Batch3 | 1522 |\n",
       "| Infected   | Batch1 | 2848 |\n",
       "| Infected   | Batch2 | 4831 |\n",
       "| Infected   | Batch3 | 2869 |\n",
       "| Uninfected | Batch2 |  784 |\n",
       "| Uninfected | Batch3 | 2027 |\n",
       "\n"
      ],
      "text/plain": [
       "  treatment  batch  n   \n",
       "1 Bystander  Batch2 2220\n",
       "2 Bystander  Batch3 1522\n",
       "3 Infected   Batch1 2848\n",
       "4 Infected   Batch2 4831\n",
       "5 Infected   Batch3 2869\n",
       "6 Uninfected Batch2  784\n",
       "7 Uninfected Batch3 2027"
      ]
     },
     "metadata": {},
     "output_type": "display_data"
    },
    {
     "data": {
      "text/html": [
       "<table class=\"dataframe\">\n",
       "<caption>A grouped_df: 7 × 2</caption>\n",
       "<thead>\n",
       "\t<tr><th scope=col>_batch</th><th scope=col>n</th></tr>\n",
       "\t<tr><th scope=col>&lt;chr&gt;</th><th scope=col>&lt;int&gt;</th></tr>\n",
       "</thead>\n",
       "<tbody>\n",
       "\t<tr><td>Batch1_Infected  </td><td>2848</td></tr>\n",
       "\t<tr><td>Batch2_Bystander </td><td>2220</td></tr>\n",
       "\t<tr><td>Batch2_Infected  </td><td>4831</td></tr>\n",
       "\t<tr><td>Batch2_Uninfected</td><td> 784</td></tr>\n",
       "\t<tr><td>Batch3_Bystander </td><td>1522</td></tr>\n",
       "\t<tr><td>Batch3_Infected  </td><td>2869</td></tr>\n",
       "\t<tr><td>Batch3_Uninfected</td><td>2027</td></tr>\n",
       "</tbody>\n",
       "</table>\n"
      ],
      "text/latex": [
       "A grouped\\_df: 7 × 2\n",
       "\\begin{tabular}{ll}\n",
       " \\_batch & n\\\\\n",
       " <chr> & <int>\\\\\n",
       "\\hline\n",
       "\t Batch1\\_Infected   & 2848\\\\\n",
       "\t Batch2\\_Bystander  & 2220\\\\\n",
       "\t Batch2\\_Infected   & 4831\\\\\n",
       "\t Batch2\\_Uninfected &  784\\\\\n",
       "\t Batch3\\_Bystander  & 1522\\\\\n",
       "\t Batch3\\_Infected   & 2869\\\\\n",
       "\t Batch3\\_Uninfected & 2027\\\\\n",
       "\\end{tabular}\n"
      ],
      "text/markdown": [
       "\n",
       "A grouped_df: 7 × 2\n",
       "\n",
       "| _batch &lt;chr&gt; | n &lt;int&gt; |\n",
       "|---|---|\n",
       "| Batch1_Infected   | 2848 |\n",
       "| Batch2_Bystander  | 2220 |\n",
       "| Batch2_Infected   | 4831 |\n",
       "| Batch2_Uninfected |  784 |\n",
       "| Batch3_Bystander  | 1522 |\n",
       "| Batch3_Infected   | 2869 |\n",
       "| Batch3_Uninfected | 2027 |\n",
       "\n"
      ],
      "text/plain": [
       "  _batch            n   \n",
       "1 Batch1_Infected   2848\n",
       "2 Batch2_Bystander  2220\n",
       "3 Batch2_Infected   4831\n",
       "4 Batch2_Uninfected  784\n",
       "5 Batch3_Bystander  1522\n",
       "6 Batch3_Infected   2869\n",
       "7 Batch3_Uninfected 2027"
      ]
     },
     "metadata": {},
     "output_type": "display_data"
    },
    {
     "data": {
      "text/html": [
       "<table class=\"dataframe\">\n",
       "<caption>A grouped_df: 5 × 2</caption>\n",
       "<thead>\n",
       "\t<tr><th scope=col>cell_type</th><th scope=col>n</th></tr>\n",
       "\t<tr><th scope=col>&lt;chr&gt;</th><th scope=col>&lt;int&gt;</th></tr>\n",
       "</thead>\n",
       "<tbody>\n",
       "\t<tr><td>dendritic cell</td><td>  171</td></tr>\n",
       "\t<tr><td>lymphocyte    </td><td>  355</td></tr>\n",
       "\t<tr><td>macrophage    </td><td>15720</td></tr>\n",
       "\t<tr><td>monocyte      </td><td>  444</td></tr>\n",
       "\t<tr><td>neutrophil    </td><td>  411</td></tr>\n",
       "</tbody>\n",
       "</table>\n"
      ],
      "text/latex": [
       "A grouped\\_df: 5 × 2\n",
       "\\begin{tabular}{ll}\n",
       " cell\\_type & n\\\\\n",
       " <chr> & <int>\\\\\n",
       "\\hline\n",
       "\t dendritic cell &   171\\\\\n",
       "\t lymphocyte     &   355\\\\\n",
       "\t macrophage     & 15720\\\\\n",
       "\t monocyte       &   444\\\\\n",
       "\t neutrophil     &   411\\\\\n",
       "\\end{tabular}\n"
      ],
      "text/markdown": [
       "\n",
       "A grouped_df: 5 × 2\n",
       "\n",
       "| cell_type &lt;chr&gt; | n &lt;int&gt; |\n",
       "|---|---|\n",
       "| dendritic cell |   171 |\n",
       "| lymphocyte     |   355 |\n",
       "| macrophage     | 15720 |\n",
       "| monocyte       |   444 |\n",
       "| neutrophil     |   411 |\n",
       "\n"
      ],
      "text/plain": [
       "  cell_type      n    \n",
       "1 dendritic cell   171\n",
       "2 lymphocyte       355\n",
       "3 macrophage     15720\n",
       "4 monocyte         444\n",
       "5 neutrophil       411"
      ]
     },
     "metadata": {},
     "output_type": "display_data"
    },
    {
     "data": {
      "text/html": [
       "<table class=\"dataframe\">\n",
       "<caption>A grouped_df: 12 × 2</caption>\n",
       "<thead>\n",
       "\t<tr><th scope=col>sub_cell_type</th><th scope=col>n</th></tr>\n",
       "\t<tr><th scope=col>&lt;chr&gt;</th><th scope=col>&lt;int&gt;</th></tr>\n",
       "</thead>\n",
       "<tbody>\n",
       "\t<tr><td>AM_1          </td><td>3218</td></tr>\n",
       "\t<tr><td>AM_2          </td><td>2547</td></tr>\n",
       "\t<tr><td>AM_3          </td><td>1843</td></tr>\n",
       "\t<tr><td>AM_4          </td><td> 967</td></tr>\n",
       "\t<tr><td>IM_1          </td><td>1852</td></tr>\n",
       "\t<tr><td>IM_2          </td><td>1896</td></tr>\n",
       "\t<tr><td>IM_3          </td><td>2861</td></tr>\n",
       "\t<tr><td>IM_4          </td><td> 536</td></tr>\n",
       "\t<tr><td>dendritic cell</td><td> 171</td></tr>\n",
       "\t<tr><td>lymphocyte    </td><td> 355</td></tr>\n",
       "\t<tr><td>monocyte      </td><td> 444</td></tr>\n",
       "\t<tr><td>neutrophil    </td><td> 411</td></tr>\n",
       "</tbody>\n",
       "</table>\n"
      ],
      "text/latex": [
       "A grouped\\_df: 12 × 2\n",
       "\\begin{tabular}{ll}\n",
       " sub\\_cell\\_type & n\\\\\n",
       " <chr> & <int>\\\\\n",
       "\\hline\n",
       "\t AM\\_1           & 3218\\\\\n",
       "\t AM\\_2           & 2547\\\\\n",
       "\t AM\\_3           & 1843\\\\\n",
       "\t AM\\_4           &  967\\\\\n",
       "\t IM\\_1           & 1852\\\\\n",
       "\t IM\\_2           & 1896\\\\\n",
       "\t IM\\_3           & 2861\\\\\n",
       "\t IM\\_4           &  536\\\\\n",
       "\t dendritic cell &  171\\\\\n",
       "\t lymphocyte     &  355\\\\\n",
       "\t monocyte       &  444\\\\\n",
       "\t neutrophil     &  411\\\\\n",
       "\\end{tabular}\n"
      ],
      "text/markdown": [
       "\n",
       "A grouped_df: 12 × 2\n",
       "\n",
       "| sub_cell_type &lt;chr&gt; | n &lt;int&gt; |\n",
       "|---|---|\n",
       "| AM_1           | 3218 |\n",
       "| AM_2           | 2547 |\n",
       "| AM_3           | 1843 |\n",
       "| AM_4           |  967 |\n",
       "| IM_1           | 1852 |\n",
       "| IM_2           | 1896 |\n",
       "| IM_3           | 2861 |\n",
       "| IM_4           |  536 |\n",
       "| dendritic cell |  171 |\n",
       "| lymphocyte     |  355 |\n",
       "| monocyte       |  444 |\n",
       "| neutrophil     |  411 |\n",
       "\n"
      ],
      "text/plain": [
       "   sub_cell_type  n   \n",
       "1  AM_1           3218\n",
       "2  AM_2           2547\n",
       "3  AM_3           1843\n",
       "4  AM_4            967\n",
       "5  IM_1           1852\n",
       "6  IM_2           1896\n",
       "7  IM_3           2861\n",
       "8  IM_4            536\n",
       "9  dendritic cell  171\n",
       "10 lymphocyte      355\n",
       "11 monocyte        444\n",
       "12 neutrophil      411"
      ]
     },
     "metadata": {},
     "output_type": "display_data"
    }
   ],
   "source": [
    "adata@meta.data %>% group_by(treatment,batch) %>% count\n",
    "adata@meta.data %>% group_by(`_batch`) %>% count\n",
    "adata@meta.data %>% group_by(cell_type) %>% count\n",
    "adata@meta.data %>% group_by(sub_cell_type) %>% count"
   ]
  },
  {
   "cell_type": "code",
   "execution_count": 16,
   "id": "b7a10170-3be1-4073-a919-764aa97a89b6",
   "metadata": {
    "tags": []
   },
   "outputs": [
    {
     "name": "stderr",
     "output_type": "stream",
     "text": [
      "Warning message in write.csv(., file.path(p_dir, sprintf(\"%sobs.csv\", prefixes)), :\n",
      "“attempt to set 'col.names' ignored”\n"
     ]
    },
    {
     "name": "stdout",
     "output_type": "stream",
     "text": [
      "[out] ../Mtb_m_all_GSE167232"
     ]
    }
   ],
   "source": [
    "p_out = '../Mtb_m_all_GSE167232'\n",
    "serurat_to_mtx(adata,p_out)"
   ]
  },
  {
   "cell_type": "code",
   "execution_count": 24,
   "id": "d59316e7-cd2e-4bf0-9fc1-97ec8c8d22da",
   "metadata": {
    "tags": []
   },
   "outputs": [
    {
     "data": {
      "text/html": [
       "<table class=\"dataframe\">\n",
       "<caption>A grouped_df: 1 × 2</caption>\n",
       "<thead>\n",
       "\t<tr><th scope=col>cell_type</th><th scope=col>n</th></tr>\n",
       "\t<tr><th scope=col>&lt;chr&gt;</th><th scope=col>&lt;int&gt;</th></tr>\n",
       "</thead>\n",
       "<tbody>\n",
       "\t<tr><td>macrophage</td><td>15720</td></tr>\n",
       "</tbody>\n",
       "</table>\n"
      ],
      "text/latex": [
       "A grouped\\_df: 1 × 2\n",
       "\\begin{tabular}{ll}\n",
       " cell\\_type & n\\\\\n",
       " <chr> & <int>\\\\\n",
       "\\hline\n",
       "\t macrophage & 15720\\\\\n",
       "\\end{tabular}\n"
      ],
      "text/markdown": [
       "\n",
       "A grouped_df: 1 × 2\n",
       "\n",
       "| cell_type &lt;chr&gt; | n &lt;int&gt; |\n",
       "|---|---|\n",
       "| macrophage | 15720 |\n",
       "\n"
      ],
      "text/plain": [
       "  cell_type  n    \n",
       "1 macrophage 15720"
      ]
     },
     "metadata": {},
     "output_type": "display_data"
    },
    {
     "data": {
      "text/html": [
       "<table class=\"dataframe\">\n",
       "<caption>A grouped_df: 8 × 2</caption>\n",
       "<thead>\n",
       "\t<tr><th scope=col>sub_cell_type</th><th scope=col>n</th></tr>\n",
       "\t<tr><th scope=col>&lt;chr&gt;</th><th scope=col>&lt;int&gt;</th></tr>\n",
       "</thead>\n",
       "<tbody>\n",
       "\t<tr><td>AM_1</td><td>3218</td></tr>\n",
       "\t<tr><td>AM_2</td><td>2547</td></tr>\n",
       "\t<tr><td>AM_3</td><td>1843</td></tr>\n",
       "\t<tr><td>AM_4</td><td> 967</td></tr>\n",
       "\t<tr><td>IM_1</td><td>1852</td></tr>\n",
       "\t<tr><td>IM_2</td><td>1896</td></tr>\n",
       "\t<tr><td>IM_3</td><td>2861</td></tr>\n",
       "\t<tr><td>IM_4</td><td> 536</td></tr>\n",
       "</tbody>\n",
       "</table>\n"
      ],
      "text/latex": [
       "A grouped\\_df: 8 × 2\n",
       "\\begin{tabular}{ll}\n",
       " sub\\_cell\\_type & n\\\\\n",
       " <chr> & <int>\\\\\n",
       "\\hline\n",
       "\t AM\\_1 & 3218\\\\\n",
       "\t AM\\_2 & 2547\\\\\n",
       "\t AM\\_3 & 1843\\\\\n",
       "\t AM\\_4 &  967\\\\\n",
       "\t IM\\_1 & 1852\\\\\n",
       "\t IM\\_2 & 1896\\\\\n",
       "\t IM\\_3 & 2861\\\\\n",
       "\t IM\\_4 &  536\\\\\n",
       "\\end{tabular}\n"
      ],
      "text/markdown": [
       "\n",
       "A grouped_df: 8 × 2\n",
       "\n",
       "| sub_cell_type &lt;chr&gt; | n &lt;int&gt; |\n",
       "|---|---|\n",
       "| AM_1 | 3218 |\n",
       "| AM_2 | 2547 |\n",
       "| AM_3 | 1843 |\n",
       "| AM_4 |  967 |\n",
       "| IM_1 | 1852 |\n",
       "| IM_2 | 1896 |\n",
       "| IM_3 | 2861 |\n",
       "| IM_4 |  536 |\n",
       "\n"
      ],
      "text/plain": [
       "  sub_cell_type n   \n",
       "1 AM_1          3218\n",
       "2 AM_2          2547\n",
       "3 AM_3          1843\n",
       "4 AM_4           967\n",
       "5 IM_1          1852\n",
       "6 IM_2          1896\n",
       "7 IM_3          2861\n",
       "8 IM_4           536"
      ]
     },
     "metadata": {},
     "output_type": "display_data"
    },
    {
     "data": {
      "text/html": [
       "<table class=\"dataframe\">\n",
       "<caption>A grouped_df: 8 × 2</caption>\n",
       "<thead>\n",
       "\t<tr><th scope=col>macr_cell_type</th><th scope=col>n</th></tr>\n",
       "\t<tr><th scope=col>&lt;chr&gt;</th><th scope=col>&lt;int&gt;</th></tr>\n",
       "</thead>\n",
       "<tbody>\n",
       "\t<tr><td>AM_1</td><td>3218</td></tr>\n",
       "\t<tr><td>AM_2</td><td>2547</td></tr>\n",
       "\t<tr><td>AM_3</td><td>1843</td></tr>\n",
       "\t<tr><td>AM_4</td><td> 967</td></tr>\n",
       "\t<tr><td>IM_1</td><td>1852</td></tr>\n",
       "\t<tr><td>IM_2</td><td>1896</td></tr>\n",
       "\t<tr><td>IM_3</td><td>2861</td></tr>\n",
       "\t<tr><td>IM_4</td><td> 536</td></tr>\n",
       "</tbody>\n",
       "</table>\n"
      ],
      "text/latex": [
       "A grouped\\_df: 8 × 2\n",
       "\\begin{tabular}{ll}\n",
       " macr\\_cell\\_type & n\\\\\n",
       " <chr> & <int>\\\\\n",
       "\\hline\n",
       "\t AM\\_1 & 3218\\\\\n",
       "\t AM\\_2 & 2547\\\\\n",
       "\t AM\\_3 & 1843\\\\\n",
       "\t AM\\_4 &  967\\\\\n",
       "\t IM\\_1 & 1852\\\\\n",
       "\t IM\\_2 & 1896\\\\\n",
       "\t IM\\_3 & 2861\\\\\n",
       "\t IM\\_4 &  536\\\\\n",
       "\\end{tabular}\n"
      ],
      "text/markdown": [
       "\n",
       "A grouped_df: 8 × 2\n",
       "\n",
       "| macr_cell_type &lt;chr&gt; | n &lt;int&gt; |\n",
       "|---|---|\n",
       "| AM_1 | 3218 |\n",
       "| AM_2 | 2547 |\n",
       "| AM_3 | 1843 |\n",
       "| AM_4 |  967 |\n",
       "| IM_1 | 1852 |\n",
       "| IM_2 | 1896 |\n",
       "| IM_3 | 2861 |\n",
       "| IM_4 |  536 |\n",
       "\n"
      ],
      "text/plain": [
       "  macr_cell_type n   \n",
       "1 AM_1           3218\n",
       "2 AM_2           2547\n",
       "3 AM_3           1843\n",
       "4 AM_4            967\n",
       "5 IM_1           1852\n",
       "6 IM_2           1896\n",
       "7 IM_3           2861\n",
       "8 IM_4            536"
      ]
     },
     "metadata": {},
     "output_type": "display_data"
    }
   ],
   "source": [
    "adata_mac = subset(adata,subset= cell_type == 'macrophage')\n",
    "adata_mac@meta.data = adata_mac@meta.data %>% mutate(\n",
    "    macr_cell_type = sub_cell_type,.after = sub_cell_type\n",
    ")\n",
    "adata_mac@meta.data %>% group_by(cell_type) %>% count\n",
    "adata_mac@meta.data %>% group_by(sub_cell_type) %>% count\n",
    "adata_mac@meta.data %>% group_by(macr_cell_type) %>% count"
   ]
  },
  {
   "cell_type": "code",
   "execution_count": 25,
   "id": "27feaf11-1884-472f-99f1-c3e3c3388baf",
   "metadata": {
    "tags": []
   },
   "outputs": [
    {
     "name": "stderr",
     "output_type": "stream",
     "text": [
      "Warning message in write.csv(., file.path(p_dir, sprintf(\"%sobs.csv\", prefixes)), :\n",
      "“attempt to set 'col.names' ignored”\n"
     ]
    },
    {
     "name": "stdout",
     "output_type": "stream",
     "text": [
      "[out] ../Mtb_m_macrophage_GSE167232"
     ]
    }
   ],
   "source": [
    "p_out = '../Mtb_m_macrophage_GSE167232'\n",
    "serurat_to_mtx(adata_mac,p_out)"
   ]
  },
  {
   "cell_type": "code",
   "execution_count": 26,
   "id": "06e8762a-85a5-4bc1-9f64-bda903ae309e",
   "metadata": {},
   "outputs": [
    {
     "name": "stdout",
     "output_type": "stream",
     "text": [
      "\n",
      "[finish]\n"
     ]
    }
   ],
   "source": [
    "cat(\"\\n[finish]\\n\")"
   ]
  }
 ],
 "metadata": {
  "kernelspec": {
   "display_name": "R_publish",
   "language": "R",
   "name": "r_publish"
  },
  "language_info": {
   "codemirror_mode": "r",
   "file_extension": ".r",
   "mimetype": "text/x-r-source",
   "name": "R",
   "pygments_lexer": "r",
   "version": "4.3.3"
  }
 },
 "nbformat": 4,
 "nbformat_minor": 5
}
