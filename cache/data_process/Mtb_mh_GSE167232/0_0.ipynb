{
 "cells": [
  {
   "cell_type": "markdown",
   "id": "80151b85-fbb2-4a11-b835-1f9b67cb1023",
   "metadata": {},
   "source": [
    "# mtb -> mouse\n",
    "# bal -> human"
   ]
  },
  {
   "cell_type": "code",
   "execution_count": 1,
   "id": "f0d8d9bd-044b-4f4f-93ab-271f684fcfcb",
   "metadata": {
    "tags": []
   },
   "outputs": [
    {
     "name": "stderr",
     "output_type": "stream",
     "text": [
      "── \u001b[1mAttaching core tidyverse packages\u001b[22m ──────────────────────── tidyverse 2.0.0 ──\n",
      "\u001b[32m✔\u001b[39m \u001b[34mdplyr    \u001b[39m 1.1.4     \u001b[32m✔\u001b[39m \u001b[34mreadr    \u001b[39m 2.1.5\n",
      "\u001b[32m✔\u001b[39m \u001b[34mforcats  \u001b[39m 1.0.0     \u001b[32m✔\u001b[39m \u001b[34mstringr  \u001b[39m 1.5.1\n",
      "\u001b[32m✔\u001b[39m \u001b[34mggplot2  \u001b[39m 3.5.0     \u001b[32m✔\u001b[39m \u001b[34mtibble   \u001b[39m 3.2.1\n",
      "\u001b[32m✔\u001b[39m \u001b[34mlubridate\u001b[39m 1.9.3     \u001b[32m✔\u001b[39m \u001b[34mtidyr    \u001b[39m 1.3.1\n",
      "\u001b[32m✔\u001b[39m \u001b[34mpurrr    \u001b[39m 1.0.2     \n",
      "── \u001b[1mConflicts\u001b[22m ────────────────────────────────────────── tidyverse_conflicts() ──\n",
      "\u001b[31m✖\u001b[39m \u001b[34mdplyr\u001b[39m::\u001b[32mfilter()\u001b[39m masks \u001b[34mstats\u001b[39m::filter()\n",
      "\u001b[31m✖\u001b[39m \u001b[34mdplyr\u001b[39m::\u001b[32mlag()\u001b[39m    masks \u001b[34mstats\u001b[39m::lag()\n",
      "\u001b[36mℹ\u001b[39m Use the conflicted package (\u001b[3m\u001b[34m<http://conflicted.r-lib.org/>\u001b[39m\u001b[23m) to force all conflicts to become errors\n",
      "Loading required package: SeuratObject\n",
      "\n",
      "Loading required package: sp\n",
      "\n",
      "‘SeuratObject’ was built under R 4.3.2 but the current version is\n",
      "4.3.3; it is recomended that you reinstall ‘SeuratObject’ as the ABI\n",
      "for R may have changed\n",
      "\n",
      "‘SeuratObject’ was built with package ‘Matrix’ 1.6.3 but the current\n",
      "version is 1.6.5; it is recomended that you reinstall ‘SeuratObject’ as\n",
      "the ABI for ‘Matrix’ may have changed\n",
      "\n",
      "\n",
      "Attaching package: ‘SeuratObject’\n",
      "\n",
      "\n",
      "The following object is masked from ‘package:base’:\n",
      "\n",
      "    intersect\n",
      "\n",
      "\n"
     ]
    }
   ],
   "source": [
    "library(tidyverse)\n",
    "library(Seurat)"
   ]
  },
  {
   "cell_type": "markdown",
   "id": "f42cba63-5d26-45ae-957d-408e4924928c",
   "metadata": {},
   "source": [
    "# bal"
   ]
  },
  {
   "cell_type": "code",
   "execution_count": 2,
   "id": "8366b71d-098d-459b-a070-773248cb0cf1",
   "metadata": {
    "tags": []
   },
   "outputs": [],
   "source": [
    "# adata_bal = readRDS(\"GSE167232_bal_integrated.RDS\")\n",
    "# adata_bal@assays$integrated\n",
    "# adata_bal@meta.data %>% head(2)\n",
    "# adata_bal@meta.data %>% group_by(seurat_clusters) %>% count\n",
    "# adata_bal@meta.data %>% group_by(Batch) %>% count\n",
    "# adata_bal@meta.data %>% group_by(orig.ident) %>% count\n",
    "\n",
    "# # # GSM5100069\tBAL - Subject_1\n",
    "# # # GSM5100070\tBAL - Subject_2_3\n",
    "# # # Human\n",
    "\n",
    "# adata_bal@meta.data = adata_bal@meta.data %>% mutate(\n",
    "#     cell_id = rownames(adata_bal@meta.data)\n",
    "# )\n",
    "# adata_bal@meta.data$cell_id %>% duplicated %>% any\n",
    "# adata_bal@meta.data %>% write_csv(\"GSE167232_bal_integrated_meta.csv\")\n",
    "# rm(adata_bal)"
   ]
  },
  {
   "cell_type": "markdown",
   "id": "f4f008a5-90f3-46fc-afa9-e974f8eb758e",
   "metadata": {},
   "source": [
    "# mtb"
   ]
  },
  {
   "cell_type": "code",
   "execution_count": 3,
   "id": "a459de0f-39d4-48f8-8876-a884d9dfde25",
   "metadata": {
    "tags": []
   },
   "outputs": [],
   "source": [
    "adata_mtb = readRDS(\"GSE167232_mtb_integrated.RDS\")"
   ]
  },
  {
   "cell_type": "code",
   "execution_count": 4,
   "id": "16a3fde3-9940-4555-b739-fdb67c2882cb",
   "metadata": {
    "tags": []
   },
   "outputs": [
    {
     "data": {
      "text/html": [
       "<style>\n",
       ".list-inline {list-style: none; margin:0; padding: 0}\n",
       ".list-inline>li {display: inline-block}\n",
       ".list-inline>li:not(:last-child)::after {content: \"\\00b7\"; padding: 0 .5ex}\n",
       "</style>\n",
       "<ol class=list-inline><li>17101</li><li>21</li></ol>\n"
      ],
      "text/latex": [
       "\\begin{enumerate*}\n",
       "\\item 17101\n",
       "\\item 21\n",
       "\\end{enumerate*}\n"
      ],
      "text/markdown": [
       "1. 17101\n",
       "2. 21\n",
       "\n",
       "\n"
      ],
      "text/plain": [
       "[1] 17101    21"
      ]
     },
     "metadata": {},
     "output_type": "display_data"
    }
   ],
   "source": [
    "adata_mtb@meta.data %>% dim"
   ]
  },
  {
   "cell_type": "code",
   "execution_count": 5,
   "id": "bf4a844e-bf97-45d4-a400-b7b54118f755",
   "metadata": {
    "tags": []
   },
   "outputs": [
    {
     "data": {
      "text/html": [
       "FALSE"
      ],
      "text/latex": [
       "FALSE"
      ],
      "text/markdown": [
       "FALSE"
      ],
      "text/plain": [
       "[1] FALSE"
      ]
     },
     "metadata": {},
     "output_type": "display_data"
    }
   ],
   "source": [
    "rownames(adata_mtb@meta.data) %>% duplicated() %>% any()\n",
    "adata_mtb@meta.data <- adata_mtb@meta.data %>% mutate(\n",
    "  cell_id = rownames(adata_mtb@meta.data),\n",
    "   seurat_clusters = as.character(seurat_clusters), \n",
    "    .before = 1)"
   ]
  },
  {
   "cell_type": "code",
   "execution_count": 6,
   "id": "ee1f4726-46f1-4e75-80b2-a13b5c4d9897",
   "metadata": {
    "tags": []
   },
   "outputs": [
    {
     "name": "stderr",
     "output_type": "stream",
     "text": [
      "\u001b[1mRows: \u001b[22m\u001b[34m8\u001b[39m \u001b[1mColumns: \u001b[22m\u001b[34m2\u001b[39m\n",
      "\u001b[36m──\u001b[39m \u001b[1mColumn specification\u001b[22m \u001b[36m────────────────────────────────────────────────────────\u001b[39m\n",
      "\u001b[1mDelimiter:\u001b[22m \",\"\n",
      "\u001b[31mchr\u001b[39m (1): cell_type\n",
      "\u001b[32mdbl\u001b[39m (1): count\n",
      "\n",
      "\u001b[36mℹ\u001b[39m Use `spec()` to retrieve the full column specification for this data.\n",
      "\u001b[36mℹ\u001b[39m Specify the column types or set `show_col_types = FALSE` to quiet this message.\n"
     ]
    }
   ],
   "source": [
    "df_cell_type = adata_mtb@meta.data %>% \n",
    "filter(Treatment == \"Infected\") %>% \n",
    "group_by(seurat_clusters) %>% count() %>% \n",
    "left_join(read_csv(\"table1.txt\"), by = c(\"n\" = \"count\")) %>%\n",
    "filter(!is.na(cell_type)) %>%select(seurat_clusters,cell_type)\n",
    "\n",
    "adata_mtb@meta.data = adata_mtb@meta.data %>% left_join(df_cell_type,by = 'seurat_clusters')"
   ]
  },
  {
   "cell_type": "code",
   "execution_count": 7,
   "id": "a8dcdc68-b5c4-4738-b4de-6dff0ddb4867",
   "metadata": {},
   "outputs": [
    {
     "data": {
      "text/html": [
       "<table class=\"dataframe\">\n",
       "<caption>A data.frame: 2 × 23</caption>\n",
       "<thead>\n",
       "\t<tr><th></th><th scope=col>cell_id</th><th scope=col>orig.ident</th><th scope=col>nCount_RNA</th><th scope=col>nFeature_RNA</th><th scope=col>nCount_ADT</th><th scope=col>nFeature_ADT</th><th scope=col>nCount_HTO</th><th scope=col>nFeature_HTO</th><th scope=col>percent.mt</th><th scope=col>MULTI_ID</th><th scope=col>⋯</th><th scope=col>Treatment</th><th scope=col>Protein</th><th scope=col>Batch</th><th scope=col>RNA_snn_res.0.7</th><th scope=col>seurat_clusters</th><th scope=col>RNA_snn_res.0.8</th><th scope=col>RNA_snn_res.0.9</th><th scope=col>RNA_snn_res.0.6</th><th scope=col>RNA_snn_res.0.5</th><th scope=col>cell_type</th></tr>\n",
       "\t<tr><th></th><th scope=col>&lt;chr&gt;</th><th scope=col>&lt;chr&gt;</th><th scope=col>&lt;dbl&gt;</th><th scope=col>&lt;int&gt;</th><th scope=col>&lt;dbl&gt;</th><th scope=col>&lt;int&gt;</th><th scope=col>&lt;dbl&gt;</th><th scope=col>&lt;int&gt;</th><th scope=col>&lt;dbl&gt;</th><th scope=col>&lt;chr&gt;</th><th scope=col>⋯</th><th scope=col>&lt;chr&gt;</th><th scope=col>&lt;chr&gt;</th><th scope=col>&lt;chr&gt;</th><th scope=col>&lt;fct&gt;</th><th scope=col>&lt;chr&gt;</th><th scope=col>&lt;fct&gt;</th><th scope=col>&lt;fct&gt;</th><th scope=col>&lt;fct&gt;</th><th scope=col>&lt;fct&gt;</th><th scope=col>&lt;chr&gt;</th></tr>\n",
       "</thead>\n",
       "<tbody>\n",
       "\t<tr><th scope=row>1</th><td>AAACCCACAGGCTATT_1</td><td>inf_1</td><td>9144</td><td>2176</td><td>107</td><td>4</td><td>798</td><td>3</td><td> 2.777778</td><td>gfp-hi</td><td>⋯</td><td>Infected</td><td>no</td><td>Batch1</td><td>0</td><td>1</td><td>0</td><td>0</td><td>1</td><td>2</td><td>IM_3</td></tr>\n",
       "\t<tr><th scope=row>2</th><td>AAACCCAGTCCTACGG_1</td><td>inf_1</td><td>1340</td><td> 694</td><td>121</td><td>4</td><td>372</td><td>3</td><td>24.925373</td><td>gfp-hi</td><td>⋯</td><td>Infected</td><td>no</td><td>Batch1</td><td>4</td><td>4</td><td>3</td><td>2</td><td>4</td><td>4</td><td>IM_1</td></tr>\n",
       "</tbody>\n",
       "</table>\n"
      ],
      "text/latex": [
       "A data.frame: 2 × 23\n",
       "\\begin{tabular}{r|lllllllllllllllllllll}\n",
       "  & cell\\_id & orig.ident & nCount\\_RNA & nFeature\\_RNA & nCount\\_ADT & nFeature\\_ADT & nCount\\_HTO & nFeature\\_HTO & percent.mt & MULTI\\_ID & ⋯ & Treatment & Protein & Batch & RNA\\_snn\\_res.0.7 & seurat\\_clusters & RNA\\_snn\\_res.0.8 & RNA\\_snn\\_res.0.9 & RNA\\_snn\\_res.0.6 & RNA\\_snn\\_res.0.5 & cell\\_type\\\\\n",
       "  & <chr> & <chr> & <dbl> & <int> & <dbl> & <int> & <dbl> & <int> & <dbl> & <chr> & ⋯ & <chr> & <chr> & <chr> & <fct> & <chr> & <fct> & <fct> & <fct> & <fct> & <chr>\\\\\n",
       "\\hline\n",
       "\t1 & AAACCCACAGGCTATT\\_1 & inf\\_1 & 9144 & 2176 & 107 & 4 & 798 & 3 &  2.777778 & gfp-hi & ⋯ & Infected & no & Batch1 & 0 & 1 & 0 & 0 & 1 & 2 & IM\\_3\\\\\n",
       "\t2 & AAACCCAGTCCTACGG\\_1 & inf\\_1 & 1340 &  694 & 121 & 4 & 372 & 3 & 24.925373 & gfp-hi & ⋯ & Infected & no & Batch1 & 4 & 4 & 3 & 2 & 4 & 4 & IM\\_1\\\\\n",
       "\\end{tabular}\n"
      ],
      "text/markdown": [
       "\n",
       "A data.frame: 2 × 23\n",
       "\n",
       "| <!--/--> | cell_id &lt;chr&gt; | orig.ident &lt;chr&gt; | nCount_RNA &lt;dbl&gt; | nFeature_RNA &lt;int&gt; | nCount_ADT &lt;dbl&gt; | nFeature_ADT &lt;int&gt; | nCount_HTO &lt;dbl&gt; | nFeature_HTO &lt;int&gt; | percent.mt &lt;dbl&gt; | MULTI_ID &lt;chr&gt; | ⋯ ⋯ | Treatment &lt;chr&gt; | Protein &lt;chr&gt; | Batch &lt;chr&gt; | RNA_snn_res.0.7 &lt;fct&gt; | seurat_clusters &lt;chr&gt; | RNA_snn_res.0.8 &lt;fct&gt; | RNA_snn_res.0.9 &lt;fct&gt; | RNA_snn_res.0.6 &lt;fct&gt; | RNA_snn_res.0.5 &lt;fct&gt; | cell_type &lt;chr&gt; |\n",
       "|---|---|---|---|---|---|---|---|---|---|---|---|---|---|---|---|---|---|---|---|---|---|\n",
       "| 1 | AAACCCACAGGCTATT_1 | inf_1 | 9144 | 2176 | 107 | 4 | 798 | 3 |  2.777778 | gfp-hi | ⋯ | Infected | no | Batch1 | 0 | 1 | 0 | 0 | 1 | 2 | IM_3 |\n",
       "| 2 | AAACCCAGTCCTACGG_1 | inf_1 | 1340 |  694 | 121 | 4 | 372 | 3 | 24.925373 | gfp-hi | ⋯ | Infected | no | Batch1 | 4 | 4 | 3 | 2 | 4 | 4 | IM_1 |\n",
       "\n"
      ],
      "text/plain": [
       "  cell_id            orig.ident nCount_RNA nFeature_RNA nCount_ADT nFeature_ADT\n",
       "1 AAACCCACAGGCTATT_1 inf_1      9144       2176         107        4           \n",
       "2 AAACCCAGTCCTACGG_1 inf_1      1340        694         121        4           \n",
       "  nCount_HTO nFeature_HTO percent.mt MULTI_ID ⋯ Treatment Protein Batch \n",
       "1 798        3             2.777778  gfp-hi   ⋯ Infected  no      Batch1\n",
       "2 372        3            24.925373  gfp-hi   ⋯ Infected  no      Batch1\n",
       "  RNA_snn_res.0.7 seurat_clusters RNA_snn_res.0.8 RNA_snn_res.0.9\n",
       "1 0               1               0               0              \n",
       "2 4               4               3               2              \n",
       "  RNA_snn_res.0.6 RNA_snn_res.0.5 cell_type\n",
       "1 1               2               IM_3     \n",
       "2 4               4               IM_1     "
      ]
     },
     "metadata": {},
     "output_type": "display_data"
    }
   ],
   "source": [
    "adata_mtb@meta.data %>% head(2)"
   ]
  },
  {
   "cell_type": "code",
   "execution_count": 8,
   "id": "1853b694-6f4c-4864-a539-7993fd2191c3",
   "metadata": {
    "tags": []
   },
   "outputs": [
    {
     "data": {
      "text/html": [
       "<style>\n",
       ".list-inline {list-style: none; margin:0; padding: 0}\n",
       ".list-inline>li {display: inline-block}\n",
       ".list-inline>li:not(:last-child)::after {content: \"\\00b7\"; padding: 0 .5ex}\n",
       "</style>\n",
       "<ol class=list-inline><li>'cell_id'</li><li>'orig.ident'</li><li>'nCount_RNA'</li><li>'nFeature_RNA'</li><li>'nCount_ADT'</li><li>'nFeature_ADT'</li><li>'nCount_HTO'</li><li>'nFeature_HTO'</li><li>'percent.mt'</li><li>'MULTI_ID'</li><li>'MULTI_classification'</li><li>'nCount_SCT'</li><li>'nFeature_SCT'</li><li>'Treatment'</li><li>'Protein'</li><li>'Batch'</li><li>'RNA_snn_res.0.7'</li><li>'seurat_clusters'</li><li>'RNA_snn_res.0.8'</li><li>'RNA_snn_res.0.9'</li><li>'RNA_snn_res.0.6'</li><li>'RNA_snn_res.0.5'</li><li>'cell_type'</li></ol>\n"
      ],
      "text/latex": [
       "\\begin{enumerate*}\n",
       "\\item 'cell\\_id'\n",
       "\\item 'orig.ident'\n",
       "\\item 'nCount\\_RNA'\n",
       "\\item 'nFeature\\_RNA'\n",
       "\\item 'nCount\\_ADT'\n",
       "\\item 'nFeature\\_ADT'\n",
       "\\item 'nCount\\_HTO'\n",
       "\\item 'nFeature\\_HTO'\n",
       "\\item 'percent.mt'\n",
       "\\item 'MULTI\\_ID'\n",
       "\\item 'MULTI\\_classification'\n",
       "\\item 'nCount\\_SCT'\n",
       "\\item 'nFeature\\_SCT'\n",
       "\\item 'Treatment'\n",
       "\\item 'Protein'\n",
       "\\item 'Batch'\n",
       "\\item 'RNA\\_snn\\_res.0.7'\n",
       "\\item 'seurat\\_clusters'\n",
       "\\item 'RNA\\_snn\\_res.0.8'\n",
       "\\item 'RNA\\_snn\\_res.0.9'\n",
       "\\item 'RNA\\_snn\\_res.0.6'\n",
       "\\item 'RNA\\_snn\\_res.0.5'\n",
       "\\item 'cell\\_type'\n",
       "\\end{enumerate*}\n"
      ],
      "text/markdown": [
       "1. 'cell_id'\n",
       "2. 'orig.ident'\n",
       "3. 'nCount_RNA'\n",
       "4. 'nFeature_RNA'\n",
       "5. 'nCount_ADT'\n",
       "6. 'nFeature_ADT'\n",
       "7. 'nCount_HTO'\n",
       "8. 'nFeature_HTO'\n",
       "9. 'percent.mt'\n",
       "10. 'MULTI_ID'\n",
       "11. 'MULTI_classification'\n",
       "12. 'nCount_SCT'\n",
       "13. 'nFeature_SCT'\n",
       "14. 'Treatment'\n",
       "15. 'Protein'\n",
       "16. 'Batch'\n",
       "17. 'RNA_snn_res.0.7'\n",
       "18. 'seurat_clusters'\n",
       "19. 'RNA_snn_res.0.8'\n",
       "20. 'RNA_snn_res.0.9'\n",
       "21. 'RNA_snn_res.0.6'\n",
       "22. 'RNA_snn_res.0.5'\n",
       "23. 'cell_type'\n",
       "\n",
       "\n"
      ],
      "text/plain": [
       " [1] \"cell_id\"              \"orig.ident\"           \"nCount_RNA\"          \n",
       " [4] \"nFeature_RNA\"         \"nCount_ADT\"           \"nFeature_ADT\"        \n",
       " [7] \"nCount_HTO\"           \"nFeature_HTO\"         \"percent.mt\"          \n",
       "[10] \"MULTI_ID\"             \"MULTI_classification\" \"nCount_SCT\"          \n",
       "[13] \"nFeature_SCT\"         \"Treatment\"            \"Protein\"             \n",
       "[16] \"Batch\"                \"RNA_snn_res.0.7\"      \"seurat_clusters\"     \n",
       "[19] \"RNA_snn_res.0.8\"      \"RNA_snn_res.0.9\"      \"RNA_snn_res.0.6\"     \n",
       "[22] \"RNA_snn_res.0.5\"      \"cell_type\"           "
      ]
     },
     "metadata": {},
     "output_type": "display_data"
    },
    {
     "data": {
      "text/html": [
       "<style>\n",
       ".list-inline {list-style: none; margin:0; padding: 0}\n",
       ".list-inline>li {display: inline-block}\n",
       ".list-inline>li:not(:last-child)::after {content: \"\\00b7\"; padding: 0 .5ex}\n",
       "</style>\n",
       "<ol class=list-inline><li>17101</li><li>23</li></ol>\n"
      ],
      "text/latex": [
       "\\begin{enumerate*}\n",
       "\\item 17101\n",
       "\\item 23\n",
       "\\end{enumerate*}\n"
      ],
      "text/markdown": [
       "1. 17101\n",
       "2. 23\n",
       "\n",
       "\n"
      ],
      "text/plain": [
       "[1] 17101    23"
      ]
     },
     "metadata": {},
     "output_type": "display_data"
    },
    {
     "data": {
      "text/html": [
       "<table class=\"dataframe\">\n",
       "<caption>A data.frame: 2 × 23</caption>\n",
       "<thead>\n",
       "\t<tr><th></th><th scope=col>cell_id</th><th scope=col>orig.ident</th><th scope=col>nCount_RNA</th><th scope=col>nFeature_RNA</th><th scope=col>nCount_ADT</th><th scope=col>nFeature_ADT</th><th scope=col>nCount_HTO</th><th scope=col>nFeature_HTO</th><th scope=col>percent.mt</th><th scope=col>MULTI_ID</th><th scope=col>⋯</th><th scope=col>Treatment</th><th scope=col>Protein</th><th scope=col>Batch</th><th scope=col>RNA_snn_res.0.7</th><th scope=col>seurat_clusters</th><th scope=col>RNA_snn_res.0.8</th><th scope=col>RNA_snn_res.0.9</th><th scope=col>RNA_snn_res.0.6</th><th scope=col>RNA_snn_res.0.5</th><th scope=col>cell_type</th></tr>\n",
       "\t<tr><th></th><th scope=col>&lt;chr&gt;</th><th scope=col>&lt;chr&gt;</th><th scope=col>&lt;dbl&gt;</th><th scope=col>&lt;int&gt;</th><th scope=col>&lt;dbl&gt;</th><th scope=col>&lt;int&gt;</th><th scope=col>&lt;dbl&gt;</th><th scope=col>&lt;int&gt;</th><th scope=col>&lt;dbl&gt;</th><th scope=col>&lt;chr&gt;</th><th scope=col>⋯</th><th scope=col>&lt;chr&gt;</th><th scope=col>&lt;chr&gt;</th><th scope=col>&lt;chr&gt;</th><th scope=col>&lt;fct&gt;</th><th scope=col>&lt;chr&gt;</th><th scope=col>&lt;fct&gt;</th><th scope=col>&lt;fct&gt;</th><th scope=col>&lt;fct&gt;</th><th scope=col>&lt;fct&gt;</th><th scope=col>&lt;chr&gt;</th></tr>\n",
       "</thead>\n",
       "<tbody>\n",
       "\t<tr><th scope=row>1</th><td>AAACCCACAGGCTATT_1</td><td>inf_1</td><td>9144</td><td>2176</td><td>107</td><td>4</td><td>798</td><td>3</td><td> 2.777778</td><td>gfp-hi</td><td>⋯</td><td>Infected</td><td>no</td><td>Batch1</td><td>0</td><td>1</td><td>0</td><td>0</td><td>1</td><td>2</td><td>IM_3</td></tr>\n",
       "\t<tr><th scope=row>2</th><td>AAACCCAGTCCTACGG_1</td><td>inf_1</td><td>1340</td><td> 694</td><td>121</td><td>4</td><td>372</td><td>3</td><td>24.925373</td><td>gfp-hi</td><td>⋯</td><td>Infected</td><td>no</td><td>Batch1</td><td>4</td><td>4</td><td>3</td><td>2</td><td>4</td><td>4</td><td>IM_1</td></tr>\n",
       "</tbody>\n",
       "</table>\n"
      ],
      "text/latex": [
       "A data.frame: 2 × 23\n",
       "\\begin{tabular}{r|lllllllllllllllllllll}\n",
       "  & cell\\_id & orig.ident & nCount\\_RNA & nFeature\\_RNA & nCount\\_ADT & nFeature\\_ADT & nCount\\_HTO & nFeature\\_HTO & percent.mt & MULTI\\_ID & ⋯ & Treatment & Protein & Batch & RNA\\_snn\\_res.0.7 & seurat\\_clusters & RNA\\_snn\\_res.0.8 & RNA\\_snn\\_res.0.9 & RNA\\_snn\\_res.0.6 & RNA\\_snn\\_res.0.5 & cell\\_type\\\\\n",
       "  & <chr> & <chr> & <dbl> & <int> & <dbl> & <int> & <dbl> & <int> & <dbl> & <chr> & ⋯ & <chr> & <chr> & <chr> & <fct> & <chr> & <fct> & <fct> & <fct> & <fct> & <chr>\\\\\n",
       "\\hline\n",
       "\t1 & AAACCCACAGGCTATT\\_1 & inf\\_1 & 9144 & 2176 & 107 & 4 & 798 & 3 &  2.777778 & gfp-hi & ⋯ & Infected & no & Batch1 & 0 & 1 & 0 & 0 & 1 & 2 & IM\\_3\\\\\n",
       "\t2 & AAACCCAGTCCTACGG\\_1 & inf\\_1 & 1340 &  694 & 121 & 4 & 372 & 3 & 24.925373 & gfp-hi & ⋯ & Infected & no & Batch1 & 4 & 4 & 3 & 2 & 4 & 4 & IM\\_1\\\\\n",
       "\\end{tabular}\n"
      ],
      "text/markdown": [
       "\n",
       "A data.frame: 2 × 23\n",
       "\n",
       "| <!--/--> | cell_id &lt;chr&gt; | orig.ident &lt;chr&gt; | nCount_RNA &lt;dbl&gt; | nFeature_RNA &lt;int&gt; | nCount_ADT &lt;dbl&gt; | nFeature_ADT &lt;int&gt; | nCount_HTO &lt;dbl&gt; | nFeature_HTO &lt;int&gt; | percent.mt &lt;dbl&gt; | MULTI_ID &lt;chr&gt; | ⋯ ⋯ | Treatment &lt;chr&gt; | Protein &lt;chr&gt; | Batch &lt;chr&gt; | RNA_snn_res.0.7 &lt;fct&gt; | seurat_clusters &lt;chr&gt; | RNA_snn_res.0.8 &lt;fct&gt; | RNA_snn_res.0.9 &lt;fct&gt; | RNA_snn_res.0.6 &lt;fct&gt; | RNA_snn_res.0.5 &lt;fct&gt; | cell_type &lt;chr&gt; |\n",
       "|---|---|---|---|---|---|---|---|---|---|---|---|---|---|---|---|---|---|---|---|---|---|\n",
       "| 1 | AAACCCACAGGCTATT_1 | inf_1 | 9144 | 2176 | 107 | 4 | 798 | 3 |  2.777778 | gfp-hi | ⋯ | Infected | no | Batch1 | 0 | 1 | 0 | 0 | 1 | 2 | IM_3 |\n",
       "| 2 | AAACCCAGTCCTACGG_1 | inf_1 | 1340 |  694 | 121 | 4 | 372 | 3 | 24.925373 | gfp-hi | ⋯ | Infected | no | Batch1 | 4 | 4 | 3 | 2 | 4 | 4 | IM_1 |\n",
       "\n"
      ],
      "text/plain": [
       "  cell_id            orig.ident nCount_RNA nFeature_RNA nCount_ADT nFeature_ADT\n",
       "1 AAACCCACAGGCTATT_1 inf_1      9144       2176         107        4           \n",
       "2 AAACCCAGTCCTACGG_1 inf_1      1340        694         121        4           \n",
       "  nCount_HTO nFeature_HTO percent.mt MULTI_ID ⋯ Treatment Protein Batch \n",
       "1 798        3             2.777778  gfp-hi   ⋯ Infected  no      Batch1\n",
       "2 372        3            24.925373  gfp-hi   ⋯ Infected  no      Batch1\n",
       "  RNA_snn_res.0.7 seurat_clusters RNA_snn_res.0.8 RNA_snn_res.0.9\n",
       "1 0               1               0               0              \n",
       "2 4               4               3               2              \n",
       "  RNA_snn_res.0.6 RNA_snn_res.0.5 cell_type\n",
       "1 1               2               IM_3     \n",
       "2 4               4               IM_1     "
      ]
     },
     "metadata": {},
     "output_type": "display_data"
    },
    {
     "data": {
      "text/html": [
       "<table class=\"dataframe\">\n",
       "<caption>A grouped_df: 5 × 2</caption>\n",
       "<thead>\n",
       "\t<tr><th scope=col>orig.ident</th><th scope=col>n</th></tr>\n",
       "\t<tr><th scope=col>&lt;chr&gt;</th><th scope=col>&lt;int&gt;</th></tr>\n",
       "</thead>\n",
       "<tbody>\n",
       "\t<tr><td>inf_1    </td><td>2848</td></tr>\n",
       "\t<tr><td>inf_2    </td><td>4831</td></tr>\n",
       "\t<tr><td>inf_3    </td><td>2869</td></tr>\n",
       "\t<tr><td>mtb_unin </td><td>3004</td></tr>\n",
       "\t<tr><td>mtb_unin2</td><td>3549</td></tr>\n",
       "</tbody>\n",
       "</table>\n"
      ],
      "text/latex": [
       "A grouped\\_df: 5 × 2\n",
       "\\begin{tabular}{ll}\n",
       " orig.ident & n\\\\\n",
       " <chr> & <int>\\\\\n",
       "\\hline\n",
       "\t inf\\_1     & 2848\\\\\n",
       "\t inf\\_2     & 4831\\\\\n",
       "\t inf\\_3     & 2869\\\\\n",
       "\t mtb\\_unin  & 3004\\\\\n",
       "\t mtb\\_unin2 & 3549\\\\\n",
       "\\end{tabular}\n"
      ],
      "text/markdown": [
       "\n",
       "A grouped_df: 5 × 2\n",
       "\n",
       "| orig.ident &lt;chr&gt; | n &lt;int&gt; |\n",
       "|---|---|\n",
       "| inf_1     | 2848 |\n",
       "| inf_2     | 4831 |\n",
       "| inf_3     | 2869 |\n",
       "| mtb_unin  | 3004 |\n",
       "| mtb_unin2 | 3549 |\n",
       "\n"
      ],
      "text/plain": [
       "  orig.ident n   \n",
       "1 inf_1      2848\n",
       "2 inf_2      4831\n",
       "3 inf_3      2869\n",
       "4 mtb_unin   3004\n",
       "5 mtb_unin2  3549"
      ]
     },
     "metadata": {},
     "output_type": "display_data"
    },
    {
     "data": {
      "text/html": [
       "<table class=\"dataframe\">\n",
       "<caption>A grouped_df: 4 × 2</caption>\n",
       "<thead>\n",
       "\t<tr><th scope=col>MULTI_ID</th><th scope=col>n</th></tr>\n",
       "\t<tr><th scope=col>&lt;chr&gt;</th><th scope=col>&lt;int&gt;</th></tr>\n",
       "</thead>\n",
       "<tbody>\n",
       "\t<tr><td>bystander </td><td>3742</td></tr>\n",
       "\t<tr><td>gfp-hi    </td><td>4434</td></tr>\n",
       "\t<tr><td>gfp-low   </td><td>6114</td></tr>\n",
       "\t<tr><td>uninfected</td><td>2811</td></tr>\n",
       "</tbody>\n",
       "</table>\n"
      ],
      "text/latex": [
       "A grouped\\_df: 4 × 2\n",
       "\\begin{tabular}{ll}\n",
       " MULTI\\_ID & n\\\\\n",
       " <chr> & <int>\\\\\n",
       "\\hline\n",
       "\t bystander  & 3742\\\\\n",
       "\t gfp-hi     & 4434\\\\\n",
       "\t gfp-low    & 6114\\\\\n",
       "\t uninfected & 2811\\\\\n",
       "\\end{tabular}\n"
      ],
      "text/markdown": [
       "\n",
       "A grouped_df: 4 × 2\n",
       "\n",
       "| MULTI_ID &lt;chr&gt; | n &lt;int&gt; |\n",
       "|---|---|\n",
       "| bystander  | 3742 |\n",
       "| gfp-hi     | 4434 |\n",
       "| gfp-low    | 6114 |\n",
       "| uninfected | 2811 |\n",
       "\n"
      ],
      "text/plain": [
       "  MULTI_ID   n   \n",
       "1 bystander  3742\n",
       "2 gfp-hi     4434\n",
       "3 gfp-low    6114\n",
       "4 uninfected 2811"
      ]
     },
     "metadata": {},
     "output_type": "display_data"
    },
    {
     "data": {
      "text/html": [
       "<table class=\"dataframe\">\n",
       "<caption>A grouped_df: 3 × 2</caption>\n",
       "<thead>\n",
       "\t<tr><th scope=col>Treatment</th><th scope=col>n</th></tr>\n",
       "\t<tr><th scope=col>&lt;chr&gt;</th><th scope=col>&lt;int&gt;</th></tr>\n",
       "</thead>\n",
       "<tbody>\n",
       "\t<tr><td>Bystander </td><td> 3742</td></tr>\n",
       "\t<tr><td>Infected  </td><td>10548</td></tr>\n",
       "\t<tr><td>Uninfected</td><td> 2811</td></tr>\n",
       "</tbody>\n",
       "</table>\n"
      ],
      "text/latex": [
       "A grouped\\_df: 3 × 2\n",
       "\\begin{tabular}{ll}\n",
       " Treatment & n\\\\\n",
       " <chr> & <int>\\\\\n",
       "\\hline\n",
       "\t Bystander  &  3742\\\\\n",
       "\t Infected   & 10548\\\\\n",
       "\t Uninfected &  2811\\\\\n",
       "\\end{tabular}\n"
      ],
      "text/markdown": [
       "\n",
       "A grouped_df: 3 × 2\n",
       "\n",
       "| Treatment &lt;chr&gt; | n &lt;int&gt; |\n",
       "|---|---|\n",
       "| Bystander  |  3742 |\n",
       "| Infected   | 10548 |\n",
       "| Uninfected |  2811 |\n",
       "\n"
      ],
      "text/plain": [
       "  Treatment  n    \n",
       "1 Bystander   3742\n",
       "2 Infected   10548\n",
       "3 Uninfected  2811"
      ]
     },
     "metadata": {},
     "output_type": "display_data"
    },
    {
     "data": {
      "text/html": [
       "<table class=\"dataframe\">\n",
       "<caption>A grouped_df: 2 × 2</caption>\n",
       "<thead>\n",
       "\t<tr><th scope=col>Protein</th><th scope=col>n</th></tr>\n",
       "\t<tr><th scope=col>&lt;chr&gt;</th><th scope=col>&lt;int&gt;</th></tr>\n",
       "</thead>\n",
       "<tbody>\n",
       "\t<tr><td>no </td><td> 2848</td></tr>\n",
       "\t<tr><td>yes</td><td>14253</td></tr>\n",
       "</tbody>\n",
       "</table>\n"
      ],
      "text/latex": [
       "A grouped\\_df: 2 × 2\n",
       "\\begin{tabular}{ll}\n",
       " Protein & n\\\\\n",
       " <chr> & <int>\\\\\n",
       "\\hline\n",
       "\t no  &  2848\\\\\n",
       "\t yes & 14253\\\\\n",
       "\\end{tabular}\n"
      ],
      "text/markdown": [
       "\n",
       "A grouped_df: 2 × 2\n",
       "\n",
       "| Protein &lt;chr&gt; | n &lt;int&gt; |\n",
       "|---|---|\n",
       "| no  |  2848 |\n",
       "| yes | 14253 |\n",
       "\n"
      ],
      "text/plain": [
       "  Protein n    \n",
       "1 no       2848\n",
       "2 yes     14253"
      ]
     },
     "metadata": {},
     "output_type": "display_data"
    },
    {
     "data": {
      "text/html": [
       "<table class=\"dataframe\">\n",
       "<caption>A grouped_df: 3 × 2</caption>\n",
       "<thead>\n",
       "\t<tr><th scope=col>Batch</th><th scope=col>n</th></tr>\n",
       "\t<tr><th scope=col>&lt;chr&gt;</th><th scope=col>&lt;int&gt;</th></tr>\n",
       "</thead>\n",
       "<tbody>\n",
       "\t<tr><td>Batch1</td><td>2848</td></tr>\n",
       "\t<tr><td>Batch2</td><td>7835</td></tr>\n",
       "\t<tr><td>Batch3</td><td>6418</td></tr>\n",
       "</tbody>\n",
       "</table>\n"
      ],
      "text/latex": [
       "A grouped\\_df: 3 × 2\n",
       "\\begin{tabular}{ll}\n",
       " Batch & n\\\\\n",
       " <chr> & <int>\\\\\n",
       "\\hline\n",
       "\t Batch1 & 2848\\\\\n",
       "\t Batch2 & 7835\\\\\n",
       "\t Batch3 & 6418\\\\\n",
       "\\end{tabular}\n"
      ],
      "text/markdown": [
       "\n",
       "A grouped_df: 3 × 2\n",
       "\n",
       "| Batch &lt;chr&gt; | n &lt;int&gt; |\n",
       "|---|---|\n",
       "| Batch1 | 2848 |\n",
       "| Batch2 | 7835 |\n",
       "| Batch3 | 6418 |\n",
       "\n"
      ],
      "text/plain": [
       "  Batch  n   \n",
       "1 Batch1 2848\n",
       "2 Batch2 7835\n",
       "3 Batch3 6418"
      ]
     },
     "metadata": {},
     "output_type": "display_data"
    }
   ],
   "source": [
    "adata_mtb@meta.data %>% colnames\n",
    "adata_mtb@meta.data %>% dim\n",
    "adata_mtb@meta.data %>% head(2)\n",
    "adata_mtb@meta.data %>% group_by(orig.ident) %>% count\n",
    "adata_mtb@meta.data %>% group_by(MULTI_ID) %>% count\n",
    "adata_mtb@meta.data %>% group_by(Treatment) %>% count\n",
    "adata_mtb@meta.data %>% group_by(Protein) %>% count\n",
    "adata_mtb@meta.data %>% group_by(Batch) %>% count"
   ]
  },
  {
   "cell_type": "code",
   "execution_count": 9,
   "id": "681d75b1-56b0-44e9-9370-2f64e4edc433",
   "metadata": {
    "tags": []
   },
   "outputs": [
    {
     "data": {
      "text/html": [
       "<table class=\"dataframe\">\n",
       "<caption>A grouped_df: 28 × 4</caption>\n",
       "<thead>\n",
       "\t<tr><th scope=col>seurat_clusters</th><th scope=col>cell_type</th><th scope=col>MULTI_ID</th><th scope=col>n</th></tr>\n",
       "\t<tr><th scope=col>&lt;chr&gt;</th><th scope=col>&lt;chr&gt;</th><th scope=col>&lt;chr&gt;</th><th scope=col>&lt;int&gt;</th></tr>\n",
       "</thead>\n",
       "<tbody>\n",
       "\t<tr><td>0 </td><td>AM_1</td><td>gfp-hi </td><td> 253</td></tr>\n",
       "\t<tr><td>0 </td><td>AM_1</td><td>gfp-low</td><td>1615</td></tr>\n",
       "\t<tr><td>1 </td><td>IM_3</td><td>gfp-hi </td><td>1837</td></tr>\n",
       "\t<tr><td>1 </td><td>IM_3</td><td>gfp-low</td><td> 599</td></tr>\n",
       "\t<tr><td>10</td><td>NA  </td><td>gfp-hi </td><td>  49</td></tr>\n",
       "\t<tr><td>10</td><td>NA  </td><td>gfp-low</td><td>  61</td></tr>\n",
       "\t<tr><td>11</td><td>NA  </td><td>gfp-hi </td><td>  42</td></tr>\n",
       "\t<tr><td>11</td><td>NA  </td><td>gfp-low</td><td>  64</td></tr>\n",
       "\t<tr><td>12</td><td>NA  </td><td>gfp-hi </td><td>  20</td></tr>\n",
       "\t<tr><td>12</td><td>NA  </td><td>gfp-low</td><td>  32</td></tr>\n",
       "\t<tr><td>13</td><td>NA  </td><td>gfp-hi </td><td>  38</td></tr>\n",
       "\t<tr><td>13</td><td>NA  </td><td>gfp-low</td><td>  27</td></tr>\n",
       "\t<tr><td>2 </td><td>AM_2</td><td>gfp-hi </td><td> 400</td></tr>\n",
       "\t<tr><td>2 </td><td>AM_2</td><td>gfp-low</td><td> 378</td></tr>\n",
       "\t<tr><td>3 </td><td>IM_2</td><td>gfp-hi </td><td> 546</td></tr>\n",
       "\t<tr><td>3 </td><td>IM_2</td><td>gfp-low</td><td> 855</td></tr>\n",
       "\t<tr><td>4 </td><td>IM_1</td><td>gfp-hi </td><td> 668</td></tr>\n",
       "\t<tr><td>4 </td><td>IM_1</td><td>gfp-low</td><td> 728</td></tr>\n",
       "\t<tr><td>5 </td><td>AM_3</td><td>gfp-hi </td><td>  85</td></tr>\n",
       "\t<tr><td>5 </td><td>AM_3</td><td>gfp-low</td><td> 920</td></tr>\n",
       "\t<tr><td>6 </td><td>AM_4</td><td>gfp-hi </td><td>  40</td></tr>\n",
       "\t<tr><td>6 </td><td>AM_4</td><td>gfp-low</td><td> 269</td></tr>\n",
       "\t<tr><td>7 </td><td>IM_4</td><td>gfp-hi </td><td> 222</td></tr>\n",
       "\t<tr><td>7 </td><td>IM_4</td><td>gfp-low</td><td> 163</td></tr>\n",
       "\t<tr><td>8 </td><td>NA  </td><td>gfp-hi </td><td> 103</td></tr>\n",
       "\t<tr><td>8 </td><td>NA  </td><td>gfp-low</td><td> 157</td></tr>\n",
       "\t<tr><td>9 </td><td>NA  </td><td>gfp-hi </td><td> 131</td></tr>\n",
       "\t<tr><td>9 </td><td>NA  </td><td>gfp-low</td><td> 246</td></tr>\n",
       "</tbody>\n",
       "</table>\n"
      ],
      "text/latex": [
       "A grouped\\_df: 28 × 4\n",
       "\\begin{tabular}{llll}\n",
       " seurat\\_clusters & cell\\_type & MULTI\\_ID & n\\\\\n",
       " <chr> & <chr> & <chr> & <int>\\\\\n",
       "\\hline\n",
       "\t 0  & AM\\_1 & gfp-hi  &  253\\\\\n",
       "\t 0  & AM\\_1 & gfp-low & 1615\\\\\n",
       "\t 1  & IM\\_3 & gfp-hi  & 1837\\\\\n",
       "\t 1  & IM\\_3 & gfp-low &  599\\\\\n",
       "\t 10 & NA   & gfp-hi  &   49\\\\\n",
       "\t 10 & NA   & gfp-low &   61\\\\\n",
       "\t 11 & NA   & gfp-hi  &   42\\\\\n",
       "\t 11 & NA   & gfp-low &   64\\\\\n",
       "\t 12 & NA   & gfp-hi  &   20\\\\\n",
       "\t 12 & NA   & gfp-low &   32\\\\\n",
       "\t 13 & NA   & gfp-hi  &   38\\\\\n",
       "\t 13 & NA   & gfp-low &   27\\\\\n",
       "\t 2  & AM\\_2 & gfp-hi  &  400\\\\\n",
       "\t 2  & AM\\_2 & gfp-low &  378\\\\\n",
       "\t 3  & IM\\_2 & gfp-hi  &  546\\\\\n",
       "\t 3  & IM\\_2 & gfp-low &  855\\\\\n",
       "\t 4  & IM\\_1 & gfp-hi  &  668\\\\\n",
       "\t 4  & IM\\_1 & gfp-low &  728\\\\\n",
       "\t 5  & AM\\_3 & gfp-hi  &   85\\\\\n",
       "\t 5  & AM\\_3 & gfp-low &  920\\\\\n",
       "\t 6  & AM\\_4 & gfp-hi  &   40\\\\\n",
       "\t 6  & AM\\_4 & gfp-low &  269\\\\\n",
       "\t 7  & IM\\_4 & gfp-hi  &  222\\\\\n",
       "\t 7  & IM\\_4 & gfp-low &  163\\\\\n",
       "\t 8  & NA   & gfp-hi  &  103\\\\\n",
       "\t 8  & NA   & gfp-low &  157\\\\\n",
       "\t 9  & NA   & gfp-hi  &  131\\\\\n",
       "\t 9  & NA   & gfp-low &  246\\\\\n",
       "\\end{tabular}\n"
      ],
      "text/markdown": [
       "\n",
       "A grouped_df: 28 × 4\n",
       "\n",
       "| seurat_clusters &lt;chr&gt; | cell_type &lt;chr&gt; | MULTI_ID &lt;chr&gt; | n &lt;int&gt; |\n",
       "|---|---|---|---|\n",
       "| 0  | AM_1 | gfp-hi  |  253 |\n",
       "| 0  | AM_1 | gfp-low | 1615 |\n",
       "| 1  | IM_3 | gfp-hi  | 1837 |\n",
       "| 1  | IM_3 | gfp-low |  599 |\n",
       "| 10 | NA   | gfp-hi  |   49 |\n",
       "| 10 | NA   | gfp-low |   61 |\n",
       "| 11 | NA   | gfp-hi  |   42 |\n",
       "| 11 | NA   | gfp-low |   64 |\n",
       "| 12 | NA   | gfp-hi  |   20 |\n",
       "| 12 | NA   | gfp-low |   32 |\n",
       "| 13 | NA   | gfp-hi  |   38 |\n",
       "| 13 | NA   | gfp-low |   27 |\n",
       "| 2  | AM_2 | gfp-hi  |  400 |\n",
       "| 2  | AM_2 | gfp-low |  378 |\n",
       "| 3  | IM_2 | gfp-hi  |  546 |\n",
       "| 3  | IM_2 | gfp-low |  855 |\n",
       "| 4  | IM_1 | gfp-hi  |  668 |\n",
       "| 4  | IM_1 | gfp-low |  728 |\n",
       "| 5  | AM_3 | gfp-hi  |   85 |\n",
       "| 5  | AM_3 | gfp-low |  920 |\n",
       "| 6  | AM_4 | gfp-hi  |   40 |\n",
       "| 6  | AM_4 | gfp-low |  269 |\n",
       "| 7  | IM_4 | gfp-hi  |  222 |\n",
       "| 7  | IM_4 | gfp-low |  163 |\n",
       "| 8  | NA   | gfp-hi  |  103 |\n",
       "| 8  | NA   | gfp-low |  157 |\n",
       "| 9  | NA   | gfp-hi  |  131 |\n",
       "| 9  | NA   | gfp-low |  246 |\n",
       "\n"
      ],
      "text/plain": [
       "   seurat_clusters cell_type MULTI_ID n   \n",
       "1  0               AM_1      gfp-hi    253\n",
       "2  0               AM_1      gfp-low  1615\n",
       "3  1               IM_3      gfp-hi   1837\n",
       "4  1               IM_3      gfp-low   599\n",
       "5  10              NA        gfp-hi     49\n",
       "6  10              NA        gfp-low    61\n",
       "7  11              NA        gfp-hi     42\n",
       "8  11              NA        gfp-low    64\n",
       "9  12              NA        gfp-hi     20\n",
       "10 12              NA        gfp-low    32\n",
       "11 13              NA        gfp-hi     38\n",
       "12 13              NA        gfp-low    27\n",
       "13 2               AM_2      gfp-hi    400\n",
       "14 2               AM_2      gfp-low   378\n",
       "15 3               IM_2      gfp-hi    546\n",
       "16 3               IM_2      gfp-low   855\n",
       "17 4               IM_1      gfp-hi    668\n",
       "18 4               IM_1      gfp-low   728\n",
       "19 5               AM_3      gfp-hi     85\n",
       "20 5               AM_3      gfp-low   920\n",
       "21 6               AM_4      gfp-hi     40\n",
       "22 6               AM_4      gfp-low   269\n",
       "23 7               IM_4      gfp-hi    222\n",
       "24 7               IM_4      gfp-low   163\n",
       "25 8               NA        gfp-hi    103\n",
       "26 8               NA        gfp-low   157\n",
       "27 9               NA        gfp-hi    131\n",
       "28 9               NA        gfp-low   246"
      ]
     },
     "metadata": {},
     "output_type": "display_data"
    },
    {
     "data": {
      "text/html": [
       "FALSE"
      ],
      "text/latex": [
       "FALSE"
      ],
      "text/markdown": [
       "FALSE"
      ],
      "text/plain": [
       "[1] FALSE"
      ]
     },
     "metadata": {},
     "output_type": "display_data"
    }
   ],
   "source": [
    "# adata_mtb@meta.data %>% group_by(seurat_clusters,cell_type) %>% count\n",
    "adata_mtb@meta.data %>%\n",
    "filter(Treatment == \"Infected\") %>% group_by(seurat_clusters,cell_type,MULTI_ID) %>% count\n",
    "adata_mtb@meta.data$cell_id %>% duplicated %>% any"
   ]
  },
  {
   "cell_type": "code",
   "execution_count": 10,
   "id": "02531184-c70a-4baf-bae2-f12be768b405",
   "metadata": {
    "tags": []
   },
   "outputs": [
    {
     "data": {
      "text/html": [
       "<table class=\"dataframe\">\n",
       "<caption>A grouped_df: 0 × 2</caption>\n",
       "<thead>\n",
       "\t<tr><th scope=col>cell_id</th><th scope=col>n</th></tr>\n",
       "\t<tr><th scope=col>&lt;chr&gt;</th><th scope=col>&lt;int&gt;</th></tr>\n",
       "</thead>\n",
       "<tbody>\n",
       "</tbody>\n",
       "</table>\n"
      ],
      "text/latex": [
       "A grouped\\_df: 0 × 2\n",
       "\\begin{tabular}{ll}\n",
       " cell\\_id & n\\\\\n",
       " <chr> & <int>\\\\\n",
       "\\hline\n",
       "\\end{tabular}\n"
      ],
      "text/markdown": [
       "\n",
       "A grouped_df: 0 × 2\n",
       "\n",
       "| cell_id &lt;chr&gt; | n &lt;int&gt; |\n",
       "|---|---|\n",
       "\n"
      ],
      "text/plain": [
       "     cell_id n"
      ]
     },
     "metadata": {},
     "output_type": "display_data"
    }
   ],
   "source": [
    "adata_mtb@meta.data %>% group_by(cell_id) %>% count %>% filter(n >1)"
   ]
  },
  {
   "cell_type": "code",
   "execution_count": 11,
   "id": "5014ce5e-9c7d-4603-ab92-37604c08887b",
   "metadata": {},
   "outputs": [
    {
     "data": {
      "text/html": [
       "<table class=\"dataframe\">\n",
       "<caption>A data.frame: 2 × 23</caption>\n",
       "<thead>\n",
       "\t<tr><th></th><th scope=col>cell_id</th><th scope=col>orig.ident</th><th scope=col>nCount_RNA</th><th scope=col>nFeature_RNA</th><th scope=col>nCount_ADT</th><th scope=col>nFeature_ADT</th><th scope=col>nCount_HTO</th><th scope=col>nFeature_HTO</th><th scope=col>percent.mt</th><th scope=col>MULTI_ID</th><th scope=col>⋯</th><th scope=col>Treatment</th><th scope=col>Protein</th><th scope=col>Batch</th><th scope=col>RNA_snn_res.0.7</th><th scope=col>seurat_clusters</th><th scope=col>RNA_snn_res.0.8</th><th scope=col>RNA_snn_res.0.9</th><th scope=col>RNA_snn_res.0.6</th><th scope=col>RNA_snn_res.0.5</th><th scope=col>cell_type</th></tr>\n",
       "\t<tr><th></th><th scope=col>&lt;chr&gt;</th><th scope=col>&lt;chr&gt;</th><th scope=col>&lt;dbl&gt;</th><th scope=col>&lt;int&gt;</th><th scope=col>&lt;dbl&gt;</th><th scope=col>&lt;int&gt;</th><th scope=col>&lt;dbl&gt;</th><th scope=col>&lt;int&gt;</th><th scope=col>&lt;dbl&gt;</th><th scope=col>&lt;chr&gt;</th><th scope=col>⋯</th><th scope=col>&lt;chr&gt;</th><th scope=col>&lt;chr&gt;</th><th scope=col>&lt;chr&gt;</th><th scope=col>&lt;fct&gt;</th><th scope=col>&lt;chr&gt;</th><th scope=col>&lt;fct&gt;</th><th scope=col>&lt;fct&gt;</th><th scope=col>&lt;fct&gt;</th><th scope=col>&lt;fct&gt;</th><th scope=col>&lt;chr&gt;</th></tr>\n",
       "</thead>\n",
       "<tbody>\n",
       "\t<tr><th scope=row>1</th><td>AAACCCACAGGCTATT_1</td><td>inf_1</td><td>9144</td><td>2176</td><td>107</td><td>4</td><td>798</td><td>3</td><td> 2.777778</td><td>gfp-hi</td><td>⋯</td><td>Infected</td><td>no</td><td>Batch1</td><td>0</td><td>1</td><td>0</td><td>0</td><td>1</td><td>2</td><td>IM_3</td></tr>\n",
       "\t<tr><th scope=row>2</th><td>AAACCCAGTCCTACGG_1</td><td>inf_1</td><td>1340</td><td> 694</td><td>121</td><td>4</td><td>372</td><td>3</td><td>24.925373</td><td>gfp-hi</td><td>⋯</td><td>Infected</td><td>no</td><td>Batch1</td><td>4</td><td>4</td><td>3</td><td>2</td><td>4</td><td>4</td><td>IM_1</td></tr>\n",
       "</tbody>\n",
       "</table>\n"
      ],
      "text/latex": [
       "A data.frame: 2 × 23\n",
       "\\begin{tabular}{r|lllllllllllllllllllll}\n",
       "  & cell\\_id & orig.ident & nCount\\_RNA & nFeature\\_RNA & nCount\\_ADT & nFeature\\_ADT & nCount\\_HTO & nFeature\\_HTO & percent.mt & MULTI\\_ID & ⋯ & Treatment & Protein & Batch & RNA\\_snn\\_res.0.7 & seurat\\_clusters & RNA\\_snn\\_res.0.8 & RNA\\_snn\\_res.0.9 & RNA\\_snn\\_res.0.6 & RNA\\_snn\\_res.0.5 & cell\\_type\\\\\n",
       "  & <chr> & <chr> & <dbl> & <int> & <dbl> & <int> & <dbl> & <int> & <dbl> & <chr> & ⋯ & <chr> & <chr> & <chr> & <fct> & <chr> & <fct> & <fct> & <fct> & <fct> & <chr>\\\\\n",
       "\\hline\n",
       "\t1 & AAACCCACAGGCTATT\\_1 & inf\\_1 & 9144 & 2176 & 107 & 4 & 798 & 3 &  2.777778 & gfp-hi & ⋯ & Infected & no & Batch1 & 0 & 1 & 0 & 0 & 1 & 2 & IM\\_3\\\\\n",
       "\t2 & AAACCCAGTCCTACGG\\_1 & inf\\_1 & 1340 &  694 & 121 & 4 & 372 & 3 & 24.925373 & gfp-hi & ⋯ & Infected & no & Batch1 & 4 & 4 & 3 & 2 & 4 & 4 & IM\\_1\\\\\n",
       "\\end{tabular}\n"
      ],
      "text/markdown": [
       "\n",
       "A data.frame: 2 × 23\n",
       "\n",
       "| <!--/--> | cell_id &lt;chr&gt; | orig.ident &lt;chr&gt; | nCount_RNA &lt;dbl&gt; | nFeature_RNA &lt;int&gt; | nCount_ADT &lt;dbl&gt; | nFeature_ADT &lt;int&gt; | nCount_HTO &lt;dbl&gt; | nFeature_HTO &lt;int&gt; | percent.mt &lt;dbl&gt; | MULTI_ID &lt;chr&gt; | ⋯ ⋯ | Treatment &lt;chr&gt; | Protein &lt;chr&gt; | Batch &lt;chr&gt; | RNA_snn_res.0.7 &lt;fct&gt; | seurat_clusters &lt;chr&gt; | RNA_snn_res.0.8 &lt;fct&gt; | RNA_snn_res.0.9 &lt;fct&gt; | RNA_snn_res.0.6 &lt;fct&gt; | RNA_snn_res.0.5 &lt;fct&gt; | cell_type &lt;chr&gt; |\n",
       "|---|---|---|---|---|---|---|---|---|---|---|---|---|---|---|---|---|---|---|---|---|---|\n",
       "| 1 | AAACCCACAGGCTATT_1 | inf_1 | 9144 | 2176 | 107 | 4 | 798 | 3 |  2.777778 | gfp-hi | ⋯ | Infected | no | Batch1 | 0 | 1 | 0 | 0 | 1 | 2 | IM_3 |\n",
       "| 2 | AAACCCAGTCCTACGG_1 | inf_1 | 1340 |  694 | 121 | 4 | 372 | 3 | 24.925373 | gfp-hi | ⋯ | Infected | no | Batch1 | 4 | 4 | 3 | 2 | 4 | 4 | IM_1 |\n",
       "\n"
      ],
      "text/plain": [
       "  cell_id            orig.ident nCount_RNA nFeature_RNA nCount_ADT nFeature_ADT\n",
       "1 AAACCCACAGGCTATT_1 inf_1      9144       2176         107        4           \n",
       "2 AAACCCAGTCCTACGG_1 inf_1      1340        694         121        4           \n",
       "  nCount_HTO nFeature_HTO percent.mt MULTI_ID ⋯ Treatment Protein Batch \n",
       "1 798        3             2.777778  gfp-hi   ⋯ Infected  no      Batch1\n",
       "2 372        3            24.925373  gfp-hi   ⋯ Infected  no      Batch1\n",
       "  RNA_snn_res.0.7 seurat_clusters RNA_snn_res.0.8 RNA_snn_res.0.9\n",
       "1 0               1               0               0              \n",
       "2 4               4               3               2              \n",
       "  RNA_snn_res.0.6 RNA_snn_res.0.5 cell_type\n",
       "1 1               2               IM_3     \n",
       "2 4               4               IM_1     "
      ]
     },
     "metadata": {},
     "output_type": "display_data"
    },
    {
     "data": {
      "text/html": [
       "<style>\n",
       ".list-inline {list-style: none; margin:0; padding: 0}\n",
       ".list-inline>li {display: inline-block}\n",
       ".list-inline>li:not(:last-child)::after {content: \"\\00b7\"; padding: 0 .5ex}\n",
       "</style>\n",
       "<ol class=list-inline><li>17101</li><li>23</li></ol>\n"
      ],
      "text/latex": [
       "\\begin{enumerate*}\n",
       "\\item 17101\n",
       "\\item 23\n",
       "\\end{enumerate*}\n"
      ],
      "text/markdown": [
       "1. 17101\n",
       "2. 23\n",
       "\n",
       "\n"
      ],
      "text/plain": [
       "[1] 17101    23"
      ]
     },
     "metadata": {},
     "output_type": "display_data"
    }
   ],
   "source": [
    "adata_mtb@meta.data %>% head(2)\n",
    "adata_mtb@meta.data %>% dim\n",
    "adata_mtb@meta.data %>% write_csv(\"GSE167232_mtb_integrated_meta.csv\")"
   ]
  },
  {
   "cell_type": "code",
   "execution_count": 9,
   "id": "a49571b7-0674-449e-9d7f-79174e356c75",
   "metadata": {},
   "outputs": [
    {
     "name": "stderr",
     "output_type": "stream",
     "text": [
      "\u001b[1mRows: \u001b[22m\u001b[34m17101\u001b[39m \u001b[1mColumns: \u001b[22m\u001b[34m23\u001b[39m\n",
      "\u001b[36m──\u001b[39m \u001b[1mColumn specification\u001b[22m \u001b[36m────────────────────────────────────────────────────────\u001b[39m\n",
      "\u001b[1mDelimiter:\u001b[22m \",\"\n",
      "\u001b[31mchr\u001b[39m  (8): cell_id, orig.ident, MULTI_ID, MULTI_classification, Treatment, Pr...\n",
      "\u001b[32mdbl\u001b[39m (15): nCount_RNA, nFeature_RNA, nCount_ADT, nFeature_ADT, nCount_HTO, nF...\n",
      "\n",
      "\u001b[36mℹ\u001b[39m Use `spec()` to retrieve the full column specification for this data.\n",
      "\u001b[36mℹ\u001b[39m Specify the column types or set `show_col_types = FALSE` to quiet this message.\n",
      "\u001b[1m\u001b[22m`summarise()` has grouped output by 'seurat_clusters'. You can override using\n",
      "the `.groups` argument.\n"
     ]
    },
    {
     "data": {
      "text/html": [
       "<table class=\"dataframe\">\n",
       "<caption>A grouped_df: 14 × 3</caption>\n",
       "<thead>\n",
       "\t<tr><th scope=col>seurat_clusters</th><th scope=col>cell_type</th><th scope=col>count</th></tr>\n",
       "\t<tr><th scope=col>&lt;dbl&gt;</th><th scope=col>&lt;chr&gt;</th><th scope=col>&lt;int&gt;</th></tr>\n",
       "</thead>\n",
       "<tbody>\n",
       "\t<tr><td> 0</td><td>AM_1</td><td>3218</td></tr>\n",
       "\t<tr><td> 1</td><td>IM_3</td><td>2861</td></tr>\n",
       "\t<tr><td> 2</td><td>AM_2</td><td>2547</td></tr>\n",
       "\t<tr><td> 3</td><td>IM_2</td><td>1896</td></tr>\n",
       "\t<tr><td> 4</td><td>IM_1</td><td>1852</td></tr>\n",
       "\t<tr><td> 5</td><td>AM_3</td><td>1843</td></tr>\n",
       "\t<tr><td> 6</td><td>AM_4</td><td> 967</td></tr>\n",
       "\t<tr><td> 7</td><td>IM_4</td><td> 536</td></tr>\n",
       "\t<tr><td> 8</td><td>NA  </td><td> 444</td></tr>\n",
       "\t<tr><td> 9</td><td>NA  </td><td> 411</td></tr>\n",
       "\t<tr><td>10</td><td>NA  </td><td> 171</td></tr>\n",
       "\t<tr><td>11</td><td>NA  </td><td> 137</td></tr>\n",
       "\t<tr><td>12</td><td>NA  </td><td> 129</td></tr>\n",
       "\t<tr><td>13</td><td>NA  </td><td>  89</td></tr>\n",
       "</tbody>\n",
       "</table>\n"
      ],
      "text/latex": [
       "A grouped\\_df: 14 × 3\n",
       "\\begin{tabular}{lll}\n",
       " seurat\\_clusters & cell\\_type & count\\\\\n",
       " <dbl> & <chr> & <int>\\\\\n",
       "\\hline\n",
       "\t  0 & AM\\_1 & 3218\\\\\n",
       "\t  1 & IM\\_3 & 2861\\\\\n",
       "\t  2 & AM\\_2 & 2547\\\\\n",
       "\t  3 & IM\\_2 & 1896\\\\\n",
       "\t  4 & IM\\_1 & 1852\\\\\n",
       "\t  5 & AM\\_3 & 1843\\\\\n",
       "\t  6 & AM\\_4 &  967\\\\\n",
       "\t  7 & IM\\_4 &  536\\\\\n",
       "\t  8 & NA   &  444\\\\\n",
       "\t  9 & NA   &  411\\\\\n",
       "\t 10 & NA   &  171\\\\\n",
       "\t 11 & NA   &  137\\\\\n",
       "\t 12 & NA   &  129\\\\\n",
       "\t 13 & NA   &   89\\\\\n",
       "\\end{tabular}\n"
      ],
      "text/markdown": [
       "\n",
       "A grouped_df: 14 × 3\n",
       "\n",
       "| seurat_clusters &lt;dbl&gt; | cell_type &lt;chr&gt; | count &lt;int&gt; |\n",
       "|---|---|---|\n",
       "|  0 | AM_1 | 3218 |\n",
       "|  1 | IM_3 | 2861 |\n",
       "|  2 | AM_2 | 2547 |\n",
       "|  3 | IM_2 | 1896 |\n",
       "|  4 | IM_1 | 1852 |\n",
       "|  5 | AM_3 | 1843 |\n",
       "|  6 | AM_4 |  967 |\n",
       "|  7 | IM_4 |  536 |\n",
       "|  8 | NA   |  444 |\n",
       "|  9 | NA   |  411 |\n",
       "| 10 | NA   |  171 |\n",
       "| 11 | NA   |  137 |\n",
       "| 12 | NA   |  129 |\n",
       "| 13 | NA   |   89 |\n",
       "\n"
      ],
      "text/plain": [
       "   seurat_clusters cell_type count\n",
       "1   0              AM_1      3218 \n",
       "2   1              IM_3      2861 \n",
       "3   2              AM_2      2547 \n",
       "4   3              IM_2      1896 \n",
       "5   4              IM_1      1852 \n",
       "6   5              AM_3      1843 \n",
       "7   6              AM_4       967 \n",
       "8   7              IM_4       536 \n",
       "9   8              NA         444 \n",
       "10  9              NA         411 \n",
       "11 10              NA         171 \n",
       "12 11              NA         137 \n",
       "13 12              NA         129 \n",
       "14 13              NA          89 "
      ]
     },
     "metadata": {},
     "output_type": "display_data"
    }
   ],
   "source": [
    "df = read_csv('GSE167232_mtb_integrated_meta.csv')\n",
    "df %>% \n",
    "    # filter(Treatment == \"Infected\") %>% \n",
    "    group_by(seurat_clusters,cell_type) %>% \n",
    "    summarise(\n",
    "        count = n())"
   ]
  },
  {
   "cell_type": "code",
   "execution_count": 12,
   "id": "3b43074f-3284-4e84-9faf-a2e9213d5a98",
   "metadata": {
    "tags": []
   },
   "outputs": [],
   "source": [
    "# read.csv(\"GSE167232_bal_integrated.csv.gz\")"
   ]
  }
 ],
 "metadata": {
  "kernelspec": {
   "display_name": "R_publish",
   "language": "R",
   "name": "r_publish"
  },
  "language_info": {
   "codemirror_mode": "r",
   "file_extension": ".r",
   "mimetype": "text/x-r-source",
   "name": "R",
   "pygments_lexer": "r",
   "version": "4.3.3"
  }
 },
 "nbformat": 4,
 "nbformat_minor": 5
}
