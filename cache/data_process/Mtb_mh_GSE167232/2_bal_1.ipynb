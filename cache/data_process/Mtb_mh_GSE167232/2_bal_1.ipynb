{
 "cells": [
  {
   "cell_type": "markdown",
   "id": "d5c1a0ed-3c16-4682-befc-b17dae4fdcec",
   "metadata": {},
   "source": [
    "\n",
    "+ seurat_clusters_article -> cell_type, sub_cell_type_1\n",
    "+ seuratObj ->  mtx\n",
    "    + rename cell -> add 'Mtb_bal;'"
   ]
  },
  {
   "cell_type": "code",
   "execution_count": 1,
   "id": "e2b42b80-cea3-411d-8862-12b366d768fe",
   "metadata": {
    "tags": []
   },
   "outputs": [
    {
     "name": "stderr",
     "output_type": "stream",
     "text": [
      "── \u001b[1mAttaching core tidyverse packages\u001b[22m ──────────────────────── tidyverse 2.0.0 ──\n",
      "\u001b[32m✔\u001b[39m \u001b[34mdplyr    \u001b[39m 1.1.4     \u001b[32m✔\u001b[39m \u001b[34mreadr    \u001b[39m 2.1.5\n",
      "\u001b[32m✔\u001b[39m \u001b[34mforcats  \u001b[39m 1.0.0     \u001b[32m✔\u001b[39m \u001b[34mstringr  \u001b[39m 1.5.1\n",
      "\u001b[32m✔\u001b[39m \u001b[34mggplot2  \u001b[39m 3.5.0     \u001b[32m✔\u001b[39m \u001b[34mtibble   \u001b[39m 3.2.1\n",
      "\u001b[32m✔\u001b[39m \u001b[34mlubridate\u001b[39m 1.9.3     \u001b[32m✔\u001b[39m \u001b[34mtidyr    \u001b[39m 1.3.1\n",
      "\u001b[32m✔\u001b[39m \u001b[34mpurrr    \u001b[39m 1.0.2     \n",
      "── \u001b[1mConflicts\u001b[22m ────────────────────────────────────────── tidyverse_conflicts() ──\n",
      "\u001b[31m✖\u001b[39m \u001b[34mdplyr\u001b[39m::\u001b[32mfilter()\u001b[39m masks \u001b[34mstats\u001b[39m::filter()\n",
      "\u001b[31m✖\u001b[39m \u001b[34mdplyr\u001b[39m::\u001b[32mlag()\u001b[39m    masks \u001b[34mstats\u001b[39m::lag()\n",
      "\u001b[36mℹ\u001b[39m Use the conflicted package (\u001b[3m\u001b[34m<http://conflicted.r-lib.org/>\u001b[39m\u001b[23m) to force all conflicts to become errors\n",
      "Loading required package: SeuratObject\n",
      "\n",
      "Loading required package: sp\n",
      "\n",
      "‘SeuratObject’ was built under R 4.3.2 but the current version is\n",
      "4.3.3; it is recomended that you reinstall ‘SeuratObject’ as the ABI\n",
      "for R may have changed\n",
      "\n",
      "‘SeuratObject’ was built with package ‘Matrix’ 1.6.3 but the current\n",
      "version is 1.6.5; it is recomended that you reinstall ‘SeuratObject’ as\n",
      "the ABI for ‘Matrix’ may have changed\n",
      "\n",
      "\n",
      "Attaching package: ‘SeuratObject’\n",
      "\n",
      "\n",
      "The following object is masked from ‘package:base’:\n",
      "\n",
      "    intersect\n",
      "\n",
      "\n"
     ]
    }
   ],
   "source": [
    "library(tidyverse)\n",
    "library(Seurat)\n",
    "library(IRdisplay)"
   ]
  },
  {
   "cell_type": "markdown",
   "id": "fe12ae54-d721-4285-b92f-ae86a407a0e0",
   "metadata": {},
   "source": [
    "# find cell_type"
   ]
  },
  {
   "cell_type": "code",
   "execution_count": 2,
   "id": "4c4563bc-90fc-4ae0-ba6a-60db80d9776b",
   "metadata": {
    "tags": []
   },
   "outputs": [
    {
     "name": "stdout",
     "output_type": "stream",
     "text": [
      "0 \n"
     ]
    },
    {
     "name": "stderr",
     "output_type": "stream",
     "text": [
      "\u001b[1mRows: \u001b[22m\u001b[34m6001\u001b[39m \u001b[1mColumns: \u001b[22m\u001b[34m7\u001b[39m\n",
      "\u001b[36m──\u001b[39m \u001b[1mColumn specification\u001b[22m \u001b[36m────────────────────────────────────────────────────────\u001b[39m\n",
      "\u001b[1mDelimiter:\u001b[22m \",\"\n",
      "\u001b[31mchr\u001b[39m (1): gene_name\n",
      "\u001b[32mdbl\u001b[39m (6): group, p_val, avg_log2FC, pct.1, pct.2, p_val_adj\n",
      "\n",
      "\u001b[36mℹ\u001b[39m Use `spec()` to retrieve the full column specification for this data.\n",
      "\u001b[36mℹ\u001b[39m Specify the column types or set `show_col_types = FALSE` to quiet this message.\n"
     ]
    },
    {
     "name": "stdout",
     "output_type": "stream",
     "text": [
      "1 \n"
     ]
    },
    {
     "name": "stderr",
     "output_type": "stream",
     "text": [
      "\u001b[1mRows: \u001b[22m\u001b[34m6017\u001b[39m \u001b[1mColumns: \u001b[22m\u001b[34m7\u001b[39m\n",
      "\u001b[36m──\u001b[39m \u001b[1mColumn specification\u001b[22m \u001b[36m────────────────────────────────────────────────────────\u001b[39m\n",
      "\u001b[1mDelimiter:\u001b[22m \",\"\n",
      "\u001b[31mchr\u001b[39m (1): gene_name\n",
      "\u001b[32mdbl\u001b[39m (6): group, p_val, avg_log2FC, pct.1, pct.2, p_val_adj\n",
      "\n",
      "\u001b[36mℹ\u001b[39m Use `spec()` to retrieve the full column specification for this data.\n",
      "\u001b[36mℹ\u001b[39m Specify the column types or set `show_col_types = FALSE` to quiet this message.\n"
     ]
    },
    {
     "name": "stdout",
     "output_type": "stream",
     "text": [
      "2 \n"
     ]
    },
    {
     "name": "stderr",
     "output_type": "stream",
     "text": [
      "\u001b[1mRows: \u001b[22m\u001b[34m1810\u001b[39m \u001b[1mColumns: \u001b[22m\u001b[34m7\u001b[39m\n",
      "\u001b[36m──\u001b[39m \u001b[1mColumn specification\u001b[22m \u001b[36m────────────────────────────────────────────────────────\u001b[39m\n",
      "\u001b[1mDelimiter:\u001b[22m \",\"\n",
      "\u001b[31mchr\u001b[39m (1): gene_name\n",
      "\u001b[32mdbl\u001b[39m (6): group, p_val, avg_log2FC, pct.1, pct.2, p_val_adj\n",
      "\n",
      "\u001b[36mℹ\u001b[39m Use `spec()` to retrieve the full column specification for this data.\n",
      "\u001b[36mℹ\u001b[39m Specify the column types or set `show_col_types = FALSE` to quiet this message.\n"
     ]
    },
    {
     "name": "stdout",
     "output_type": "stream",
     "text": [
      "3 \n"
     ]
    },
    {
     "name": "stderr",
     "output_type": "stream",
     "text": [
      "\u001b[1mRows: \u001b[22m\u001b[34m1571\u001b[39m \u001b[1mColumns: \u001b[22m\u001b[34m7\u001b[39m\n",
      "\u001b[36m──\u001b[39m \u001b[1mColumn specification\u001b[22m \u001b[36m────────────────────────────────────────────────────────\u001b[39m\n",
      "\u001b[1mDelimiter:\u001b[22m \",\"\n",
      "\u001b[31mchr\u001b[39m (1): gene_name\n",
      "\u001b[32mdbl\u001b[39m (6): group, p_val, avg_log2FC, pct.1, pct.2, p_val_adj\n",
      "\n",
      "\u001b[36mℹ\u001b[39m Use `spec()` to retrieve the full column specification for this data.\n",
      "\u001b[36mℹ\u001b[39m Specify the column types or set `show_col_types = FALSE` to quiet this message.\n"
     ]
    },
    {
     "name": "stdout",
     "output_type": "stream",
     "text": [
      "4 \n"
     ]
    },
    {
     "name": "stderr",
     "output_type": "stream",
     "text": [
      "\u001b[1mRows: \u001b[22m\u001b[34m195\u001b[39m \u001b[1mColumns: \u001b[22m\u001b[34m7\u001b[39m\n",
      "\u001b[36m──\u001b[39m \u001b[1mColumn specification\u001b[22m \u001b[36m────────────────────────────────────────────────────────\u001b[39m\n",
      "\u001b[1mDelimiter:\u001b[22m \",\"\n",
      "\u001b[31mchr\u001b[39m (1): gene_name\n",
      "\u001b[32mdbl\u001b[39m (6): group, p_val, avg_log2FC, pct.1, pct.2, p_val_adj\n",
      "\n",
      "\u001b[36mℹ\u001b[39m Use `spec()` to retrieve the full column specification for this data.\n",
      "\u001b[36mℹ\u001b[39m Specify the column types or set `show_col_types = FALSE` to quiet this message.\n"
     ]
    },
    {
     "name": "stdout",
     "output_type": "stream",
     "text": [
      "5 \n"
     ]
    },
    {
     "name": "stderr",
     "output_type": "stream",
     "text": [
      "\u001b[1mRows: \u001b[22m\u001b[34m1206\u001b[39m \u001b[1mColumns: \u001b[22m\u001b[34m7\u001b[39m\n",
      "\u001b[36m──\u001b[39m \u001b[1mColumn specification\u001b[22m \u001b[36m────────────────────────────────────────────────────────\u001b[39m\n",
      "\u001b[1mDelimiter:\u001b[22m \",\"\n",
      "\u001b[31mchr\u001b[39m (1): gene_name\n",
      "\u001b[32mdbl\u001b[39m (6): group, p_val, avg_log2FC, pct.1, pct.2, p_val_adj\n",
      "\n",
      "\u001b[36mℹ\u001b[39m Use `spec()` to retrieve the full column specification for this data.\n",
      "\u001b[36mℹ\u001b[39m Specify the column types or set `show_col_types = FALSE` to quiet this message.\n"
     ]
    },
    {
     "name": "stdout",
     "output_type": "stream",
     "text": [
      "6 \n"
     ]
    },
    {
     "name": "stderr",
     "output_type": "stream",
     "text": [
      "\u001b[1mRows: \u001b[22m\u001b[34m41\u001b[39m \u001b[1mColumns: \u001b[22m\u001b[34m7\u001b[39m\n",
      "\u001b[36m──\u001b[39m \u001b[1mColumn specification\u001b[22m \u001b[36m────────────────────────────────────────────────────────\u001b[39m\n",
      "\u001b[1mDelimiter:\u001b[22m \",\"\n",
      "\u001b[31mchr\u001b[39m (1): gene_name\n",
      "\u001b[32mdbl\u001b[39m (6): group, p_val, avg_log2FC, pct.1, pct.2, p_val_adj\n",
      "\n",
      "\u001b[36mℹ\u001b[39m Use `spec()` to retrieve the full column specification for this data.\n",
      "\u001b[36mℹ\u001b[39m Specify the column types or set `show_col_types = FALSE` to quiet this message.\n"
     ]
    },
    {
     "name": "stdout",
     "output_type": "stream",
     "text": [
      "7 \n"
     ]
    },
    {
     "name": "stderr",
     "output_type": "stream",
     "text": [
      "\u001b[1mRows: \u001b[22m\u001b[34m707\u001b[39m \u001b[1mColumns: \u001b[22m\u001b[34m7\u001b[39m\n",
      "\u001b[36m──\u001b[39m \u001b[1mColumn specification\u001b[22m \u001b[36m────────────────────────────────────────────────────────\u001b[39m\n",
      "\u001b[1mDelimiter:\u001b[22m \",\"\n",
      "\u001b[31mchr\u001b[39m (1): gene_name\n",
      "\u001b[32mdbl\u001b[39m (6): group, p_val, avg_log2FC, pct.1, pct.2, p_val_adj\n",
      "\n",
      "\u001b[36mℹ\u001b[39m Use `spec()` to retrieve the full column specification for this data.\n",
      "\u001b[36mℹ\u001b[39m Specify the column types or set `show_col_types = FALSE` to quiet this message.\n"
     ]
    }
   ],
   "source": [
    "markers = NULL\n",
    "for(group in 0:7){\n",
    "    cat(group,'\\n')\n",
    "    p_out <- file.path(\"markers\", sprintf(\"bal_%d.csv\", group))\n",
    "    temp_df =  read_csv(p_out) %>% filter(p_val_adj < 0.01) %>% arrange(desc(avg_log2FC))\n",
    "    # temp_df %>% rename(group = gourp) %>% write_csv(p_out)\n",
    "    \n",
    "    if(is.null(markers)){\n",
    "        markers = temp_df\n",
    "    }else{\n",
    "            markers = bind_rows(markers,temp_df)\n",
    "    }\n",
    "\n",
    "    \n",
    "}\n"
   ]
  },
  {
   "cell_type": "code",
   "execution_count": 3,
   "id": "2c5f8c34-2743-4b2a-b82d-eb4c32a37873",
   "metadata": {},
   "outputs": [
    {
     "data": {
      "text/html": [
       "<table class=\"dataframe\">\n",
       "<caption>A tibble: 2 × 7</caption>\n",
       "<thead>\n",
       "\t<tr><th scope=col>group</th><th scope=col>gene_name</th><th scope=col>p_val</th><th scope=col>avg_log2FC</th><th scope=col>pct.1</th><th scope=col>pct.2</th><th scope=col>p_val_adj</th></tr>\n",
       "\t<tr><th scope=col>&lt;dbl&gt;</th><th scope=col>&lt;chr&gt;</th><th scope=col>&lt;dbl&gt;</th><th scope=col>&lt;dbl&gt;</th><th scope=col>&lt;dbl&gt;</th><th scope=col>&lt;dbl&gt;</th><th scope=col>&lt;dbl&gt;</th></tr>\n",
       "</thead>\n",
       "<tbody>\n",
       "\t<tr><td>0</td><td>TMEM217  </td><td>3.240912e-10</td><td>2.609121</td><td>0.011</td><td>0.002</td><td>6.686325e-06</td></tr>\n",
       "\t<tr><td>0</td><td>TMPRSS11E</td><td>4.354097e-42</td><td>2.029160</td><td>0.052</td><td>0.007</td><td>8.982938e-38</td></tr>\n",
       "</tbody>\n",
       "</table>\n"
      ],
      "text/latex": [
       "A tibble: 2 × 7\n",
       "\\begin{tabular}{lllllll}\n",
       " group & gene\\_name & p\\_val & avg\\_log2FC & pct.1 & pct.2 & p\\_val\\_adj\\\\\n",
       " <dbl> & <chr> & <dbl> & <dbl> & <dbl> & <dbl> & <dbl>\\\\\n",
       "\\hline\n",
       "\t 0 & TMEM217   & 3.240912e-10 & 2.609121 & 0.011 & 0.002 & 6.686325e-06\\\\\n",
       "\t 0 & TMPRSS11E & 4.354097e-42 & 2.029160 & 0.052 & 0.007 & 8.982938e-38\\\\\n",
       "\\end{tabular}\n"
      ],
      "text/markdown": [
       "\n",
       "A tibble: 2 × 7\n",
       "\n",
       "| group &lt;dbl&gt; | gene_name &lt;chr&gt; | p_val &lt;dbl&gt; | avg_log2FC &lt;dbl&gt; | pct.1 &lt;dbl&gt; | pct.2 &lt;dbl&gt; | p_val_adj &lt;dbl&gt; |\n",
       "|---|---|---|---|---|---|---|\n",
       "| 0 | TMEM217   | 3.240912e-10 | 2.609121 | 0.011 | 0.002 | 6.686325e-06 |\n",
       "| 0 | TMPRSS11E | 4.354097e-42 | 2.029160 | 0.052 | 0.007 | 8.982938e-38 |\n",
       "\n"
      ],
      "text/plain": [
       "  group gene_name p_val        avg_log2FC pct.1 pct.2 p_val_adj   \n",
       "1 0     TMEM217   3.240912e-10 2.609121   0.011 0.002 6.686325e-06\n",
       "2 0     TMPRSS11E 4.354097e-42 2.029160   0.052 0.007 8.982938e-38"
      ]
     },
     "metadata": {},
     "output_type": "display_data"
    },
    {
     "data": {
      "text/html": [
       "<table class=\"dataframe\">\n",
       "<caption>A grouped_df: 8 × 2</caption>\n",
       "<thead>\n",
       "\t<tr><th scope=col>group</th><th scope=col>n</th></tr>\n",
       "\t<tr><th scope=col>&lt;dbl&gt;</th><th scope=col>&lt;int&gt;</th></tr>\n",
       "</thead>\n",
       "<tbody>\n",
       "\t<tr><td>0</td><td>6001</td></tr>\n",
       "\t<tr><td>1</td><td>6017</td></tr>\n",
       "\t<tr><td>2</td><td>1810</td></tr>\n",
       "\t<tr><td>3</td><td>1571</td></tr>\n",
       "\t<tr><td>4</td><td> 195</td></tr>\n",
       "\t<tr><td>5</td><td>1206</td></tr>\n",
       "\t<tr><td>6</td><td>  41</td></tr>\n",
       "\t<tr><td>7</td><td> 707</td></tr>\n",
       "</tbody>\n",
       "</table>\n"
      ],
      "text/latex": [
       "A grouped\\_df: 8 × 2\n",
       "\\begin{tabular}{ll}\n",
       " group & n\\\\\n",
       " <dbl> & <int>\\\\\n",
       "\\hline\n",
       "\t 0 & 6001\\\\\n",
       "\t 1 & 6017\\\\\n",
       "\t 2 & 1810\\\\\n",
       "\t 3 & 1571\\\\\n",
       "\t 4 &  195\\\\\n",
       "\t 5 & 1206\\\\\n",
       "\t 6 &   41\\\\\n",
       "\t 7 &  707\\\\\n",
       "\\end{tabular}\n"
      ],
      "text/markdown": [
       "\n",
       "A grouped_df: 8 × 2\n",
       "\n",
       "| group &lt;dbl&gt; | n &lt;int&gt; |\n",
       "|---|---|\n",
       "| 0 | 6001 |\n",
       "| 1 | 6017 |\n",
       "| 2 | 1810 |\n",
       "| 3 | 1571 |\n",
       "| 4 |  195 |\n",
       "| 5 | 1206 |\n",
       "| 6 |   41 |\n",
       "| 7 |  707 |\n",
       "\n"
      ],
      "text/plain": [
       "  group n   \n",
       "1 0     6001\n",
       "2 1     6017\n",
       "3 2     1810\n",
       "4 3     1571\n",
       "5 4      195\n",
       "6 5     1206\n",
       "7 6       41\n",
       "8 7      707"
      ]
     },
     "metadata": {},
     "output_type": "display_data"
    }
   ],
   "source": [
    "markers %>% head(2)\n",
    "markers  %>% group_by(group) %>% count"
   ]
  },
  {
   "cell_type": "code",
   "execution_count": 4,
   "id": "a3ebd8a6-5134-4273-8ffb-39adeb851eb6",
   "metadata": {
    "tags": []
   },
   "outputs": [
    {
     "data": {
      "text/html": [
       "<table class=\"dataframe\">\n",
       "<caption>A tibble: 10 × 7</caption>\n",
       "<thead>\n",
       "\t<tr><th scope=col>group</th><th scope=col>gene_name</th><th scope=col>p_val</th><th scope=col>avg_log2FC</th><th scope=col>pct.1</th><th scope=col>pct.2</th><th scope=col>p_val_adj</th></tr>\n",
       "\t<tr><th scope=col>&lt;dbl&gt;</th><th scope=col>&lt;chr&gt;</th><th scope=col>&lt;dbl&gt;</th><th scope=col>&lt;dbl&gt;</th><th scope=col>&lt;dbl&gt;</th><th scope=col>&lt;dbl&gt;</th><th scope=col>&lt;dbl&gt;</th></tr>\n",
       "</thead>\n",
       "<tbody>\n",
       "\t<tr><td>1</td><td>ZFP57  </td><td>1.153038e-13</td><td>3.660679</td><td>0.013</td><td>0.002</td><td>2.378833e-09</td></tr>\n",
       "\t<tr><td>1</td><td>FGFR1  </td><td>3.222484e-15</td><td>2.827522</td><td>0.033</td><td>0.011</td><td>6.648307e-11</td></tr>\n",
       "\t<tr><td>1</td><td>FADS2  </td><td>3.676613e-09</td><td>2.481059</td><td>0.023</td><td>0.009</td><td>7.585220e-05</td></tr>\n",
       "\t<tr><td>1</td><td>ATP2A3 </td><td>1.568145e-09</td><td>2.471397</td><td>0.022</td><td>0.008</td><td>3.235241e-05</td></tr>\n",
       "\t<tr><td>1</td><td>MATK   </td><td>2.556965e-11</td><td>2.042400</td><td>0.022</td><td>0.007</td><td>5.275274e-07</td></tr>\n",
       "\t<tr><td>1</td><td>LAIR2  </td><td>2.810622e-76</td><td>1.998084</td><td>0.159</td><td>0.051</td><td>5.798593e-72</td></tr>\n",
       "\t<tr><td>1</td><td>EMP1   </td><td>4.754130e-18</td><td>1.975094</td><td>0.039</td><td>0.013</td><td>9.808246e-14</td></tr>\n",
       "\t<tr><td>1</td><td>GPX3   </td><td>7.865502e-33</td><td>1.896422</td><td>0.182</td><td>0.108</td><td>1.622732e-28</td></tr>\n",
       "\t<tr><td>1</td><td>SPOCD1 </td><td>1.453588e-26</td><td>1.856334</td><td>0.229</td><td>0.167</td><td>2.998897e-22</td></tr>\n",
       "\t<tr><td>1</td><td>EHBP1L1</td><td>3.609487e-95</td><td>1.766355</td><td>0.421</td><td>0.293</td><td>7.446733e-91</td></tr>\n",
       "</tbody>\n",
       "</table>\n"
      ],
      "text/latex": [
       "A tibble: 10 × 7\n",
       "\\begin{tabular}{lllllll}\n",
       " group & gene\\_name & p\\_val & avg\\_log2FC & pct.1 & pct.2 & p\\_val\\_adj\\\\\n",
       " <dbl> & <chr> & <dbl> & <dbl> & <dbl> & <dbl> & <dbl>\\\\\n",
       "\\hline\n",
       "\t 1 & ZFP57   & 1.153038e-13 & 3.660679 & 0.013 & 0.002 & 2.378833e-09\\\\\n",
       "\t 1 & FGFR1   & 3.222484e-15 & 2.827522 & 0.033 & 0.011 & 6.648307e-11\\\\\n",
       "\t 1 & FADS2   & 3.676613e-09 & 2.481059 & 0.023 & 0.009 & 7.585220e-05\\\\\n",
       "\t 1 & ATP2A3  & 1.568145e-09 & 2.471397 & 0.022 & 0.008 & 3.235241e-05\\\\\n",
       "\t 1 & MATK    & 2.556965e-11 & 2.042400 & 0.022 & 0.007 & 5.275274e-07\\\\\n",
       "\t 1 & LAIR2   & 2.810622e-76 & 1.998084 & 0.159 & 0.051 & 5.798593e-72\\\\\n",
       "\t 1 & EMP1    & 4.754130e-18 & 1.975094 & 0.039 & 0.013 & 9.808246e-14\\\\\n",
       "\t 1 & GPX3    & 7.865502e-33 & 1.896422 & 0.182 & 0.108 & 1.622732e-28\\\\\n",
       "\t 1 & SPOCD1  & 1.453588e-26 & 1.856334 & 0.229 & 0.167 & 2.998897e-22\\\\\n",
       "\t 1 & EHBP1L1 & 3.609487e-95 & 1.766355 & 0.421 & 0.293 & 7.446733e-91\\\\\n",
       "\\end{tabular}\n"
      ],
      "text/markdown": [
       "\n",
       "A tibble: 10 × 7\n",
       "\n",
       "| group &lt;dbl&gt; | gene_name &lt;chr&gt; | p_val &lt;dbl&gt; | avg_log2FC &lt;dbl&gt; | pct.1 &lt;dbl&gt; | pct.2 &lt;dbl&gt; | p_val_adj &lt;dbl&gt; |\n",
       "|---|---|---|---|---|---|---|\n",
       "| 1 | ZFP57   | 1.153038e-13 | 3.660679 | 0.013 | 0.002 | 2.378833e-09 |\n",
       "| 1 | FGFR1   | 3.222484e-15 | 2.827522 | 0.033 | 0.011 | 6.648307e-11 |\n",
       "| 1 | FADS2   | 3.676613e-09 | 2.481059 | 0.023 | 0.009 | 7.585220e-05 |\n",
       "| 1 | ATP2A3  | 1.568145e-09 | 2.471397 | 0.022 | 0.008 | 3.235241e-05 |\n",
       "| 1 | MATK    | 2.556965e-11 | 2.042400 | 0.022 | 0.007 | 5.275274e-07 |\n",
       "| 1 | LAIR2   | 2.810622e-76 | 1.998084 | 0.159 | 0.051 | 5.798593e-72 |\n",
       "| 1 | EMP1    | 4.754130e-18 | 1.975094 | 0.039 | 0.013 | 9.808246e-14 |\n",
       "| 1 | GPX3    | 7.865502e-33 | 1.896422 | 0.182 | 0.108 | 1.622732e-28 |\n",
       "| 1 | SPOCD1  | 1.453588e-26 | 1.856334 | 0.229 | 0.167 | 2.998897e-22 |\n",
       "| 1 | EHBP1L1 | 3.609487e-95 | 1.766355 | 0.421 | 0.293 | 7.446733e-91 |\n",
       "\n"
      ],
      "text/plain": [
       "   group gene_name p_val        avg_log2FC pct.1 pct.2 p_val_adj   \n",
       "1  1     ZFP57     1.153038e-13 3.660679   0.013 0.002 2.378833e-09\n",
       "2  1     FGFR1     3.222484e-15 2.827522   0.033 0.011 6.648307e-11\n",
       "3  1     FADS2     3.676613e-09 2.481059   0.023 0.009 7.585220e-05\n",
       "4  1     ATP2A3    1.568145e-09 2.471397   0.022 0.008 3.235241e-05\n",
       "5  1     MATK      2.556965e-11 2.042400   0.022 0.007 5.275274e-07\n",
       "6  1     LAIR2     2.810622e-76 1.998084   0.159 0.051 5.798593e-72\n",
       "7  1     EMP1      4.754130e-18 1.975094   0.039 0.013 9.808246e-14\n",
       "8  1     GPX3      7.865502e-33 1.896422   0.182 0.108 1.622732e-28\n",
       "9  1     SPOCD1    1.453588e-26 1.856334   0.229 0.167 2.998897e-22\n",
       "10 1     EHBP1L1   3.609487e-95 1.766355   0.421 0.293 7.446733e-91"
      ]
     },
     "metadata": {},
     "output_type": "display_data"
    }
   ],
   "source": [
    "# 0, CD63 -> AM_1\n",
    "# markers %>% filter(group == 11)\n",
    "\n",
    "markers %>% filter(group == 1 )%>% head(10)"
   ]
  },
  {
   "cell_type": "markdown",
   "id": "7dc77349-10a0-4ead-9772-548e7ad2cb83",
   "metadata": {},
   "source": [
    ">  human_AM_4\n",
    "MKI67,TOP2A,TK1,CENPF,RRM2,PCLAF,UBE2C,CLSPN,CENPM,TYMS,ASPM,BIRC5,CDK1,HELLS,ATAD2,TCF19,TPX2,FAM111B\n",
    "\n",
    "\n",
    "> human_AM_2\n",
    "MT-ND2,MT-ND4,MT-ND1,MT-ND5,CTSD,MT-CO1,MT-CYB,MT-CO2\n",
    "\n",
    "> human_IM_1\n",
    "CCL17,CLEC10A,F13A1,LIMD2,RASSF2,FCGR2B,SERPINF1,CORO1A,TMEM176B,MARCKS,ZFP36L1,MEF2C\n",
    "\n",
    "> AM_IM1\n",
    "ICAM1,MARCKS,TNIP3,NFKBIA,C15orf48,CXCL3,CXCL8,IL1B,CCL3,TNFAIP6,SOD2,CCL20,CCL4L2,CCL4\n",
    "\n",
    "> human_AI \n",
    "APOE,LYZ,FABP4,SCD,RPS4X,MGST1,HP,RPS26,RPL32,RPL14,RPL13,RPS3A,CAMP,RPL5,RPS23,RPS8,RPL7A,RPL24\n",
    "\n",
    "\n",
    "> AM_MT\n",
    "MT2A,MT1G,MT1X,MT1E,MT1M,MT1H,MT1F,MT1A\n",
    "\n",
    "> human_AM_2\n",
    " MTRNR2L12,MTRNR2L8,POLR2J3.1,PNISR,NKTR,NPIPB5,DDHD1,GCC2,MTRNR2L10,ARGLU1,N4BP2L2,DDX17,DDX5,RSRP1,WSB1,SMG1,ZNF207,TNFAIP2,CCNL1,MTRNR2L1,HNRNPH1,ATG16L2,ZEB2,RUFY3,CHD9,SREK1,AAK1,RBM6,IFI30,SRSF11,RASSF4,FOXP1,NABP1\n",
    " \n",
    " \n",
    "> AM_1\n",
    "MYL12A,LGALS3,NDUFA4,S100A9,HLA-DRB5,ATP5MC3,CD52,MYL12B,RPS4Y1,S100A11,ARPC3,COX7B\n",
    "\n",
    "\n",
    "> AM_2_exclusive\n",
    "MTRNR2L12,MTRNR2L8,POLR2J3.1,PNISR,NKTR,NPIPB5,DDHD1,GCC2,MTRNR2L10,ARGLU1,N4BP2L2,DDX17,DDX5,RSRP1,WSB1,SMG1,ZNF207,TNFAIP2,CCNL1,MTRNR2L1"
   ]
  },
  {
   "cell_type": "code",
   "execution_count": 5,
   "id": "3a8c8ade-f425-4068-a067-25c72d54ccba",
   "metadata": {
    "tags": []
   },
   "outputs": [
    {
     "data": {
      "text/html": [
       "<table class=\"dataframe\">\n",
       "<caption>A spec_tbl_df: 11 × 7</caption>\n",
       "<thead>\n",
       "\t<tr><th scope=col>group</th><th scope=col>gene_name</th><th scope=col>p_val</th><th scope=col>avg_log2FC</th><th scope=col>pct.1</th><th scope=col>pct.2</th><th scope=col>p_val_adj</th></tr>\n",
       "\t<tr><th scope=col>&lt;dbl&gt;</th><th scope=col>&lt;chr&gt;</th><th scope=col>&lt;dbl&gt;</th><th scope=col>&lt;dbl&gt;</th><th scope=col>&lt;dbl&gt;</th><th scope=col>&lt;dbl&gt;</th><th scope=col>&lt;dbl&gt;</th></tr>\n",
       "</thead>\n",
       "<tbody>\n",
       "\t<tr><td>1</td><td>MT-ND2</td><td>0.000000e+00</td><td>1.322873</td><td>0.984</td><td>0.997</td><td>0.000000e+00</td></tr>\n",
       "\t<tr><td>1</td><td>MT-ND4</td><td>0.000000e+00</td><td>1.168561</td><td>0.994</td><td>1.000</td><td>0.000000e+00</td></tr>\n",
       "\t<tr><td>1</td><td>MT-ND5</td><td>0.000000e+00</td><td>1.100028</td><td>0.961</td><td>0.981</td><td>0.000000e+00</td></tr>\n",
       "\t<tr><td>1</td><td>MT-ND1</td><td>0.000000e+00</td><td>1.063367</td><td>0.995</td><td>0.999</td><td>0.000000e+00</td></tr>\n",
       "\t<tr><td>7</td><td>MT-ND5</td><td>3.158575e-13</td><td>1.700701</td><td>0.944</td><td>0.975</td><td>6.516456e-09</td></tr>\n",
       "\t<tr><td>7</td><td>MT-CO1</td><td>1.793555e-16</td><td>1.375111</td><td>1.000</td><td>1.000</td><td>3.700283e-12</td></tr>\n",
       "\t<tr><td>7</td><td>MT-ND2</td><td>2.756087e-14</td><td>1.351663</td><td>1.000</td><td>0.993</td><td>5.686083e-10</td></tr>\n",
       "\t<tr><td>7</td><td>MT-CO2</td><td>7.560387e-16</td><td>1.223689</td><td>1.000</td><td>1.000</td><td>1.559783e-11</td></tr>\n",
       "\t<tr><td>7</td><td>MT-ND4</td><td>2.466245e-14</td><td>1.220862</td><td>1.000</td><td>0.998</td><td>5.088111e-10</td></tr>\n",
       "\t<tr><td>7</td><td>MT-ND1</td><td>6.288391e-15</td><td>1.217354</td><td>1.000</td><td>0.998</td><td>1.297358e-10</td></tr>\n",
       "\t<tr><td>7</td><td>MT-CYB</td><td>1.263994e-11</td><td>1.024799</td><td>1.000</td><td>0.999</td><td>2.607746e-07</td></tr>\n",
       "</tbody>\n",
       "</table>\n"
      ],
      "text/latex": [
       "A spec\\_tbl\\_df: 11 × 7\n",
       "\\begin{tabular}{lllllll}\n",
       " group & gene\\_name & p\\_val & avg\\_log2FC & pct.1 & pct.2 & p\\_val\\_adj\\\\\n",
       " <dbl> & <chr> & <dbl> & <dbl> & <dbl> & <dbl> & <dbl>\\\\\n",
       "\\hline\n",
       "\t 1 & MT-ND2 & 0.000000e+00 & 1.322873 & 0.984 & 0.997 & 0.000000e+00\\\\\n",
       "\t 1 & MT-ND4 & 0.000000e+00 & 1.168561 & 0.994 & 1.000 & 0.000000e+00\\\\\n",
       "\t 1 & MT-ND5 & 0.000000e+00 & 1.100028 & 0.961 & 0.981 & 0.000000e+00\\\\\n",
       "\t 1 & MT-ND1 & 0.000000e+00 & 1.063367 & 0.995 & 0.999 & 0.000000e+00\\\\\n",
       "\t 7 & MT-ND5 & 3.158575e-13 & 1.700701 & 0.944 & 0.975 & 6.516456e-09\\\\\n",
       "\t 7 & MT-CO1 & 1.793555e-16 & 1.375111 & 1.000 & 1.000 & 3.700283e-12\\\\\n",
       "\t 7 & MT-ND2 & 2.756087e-14 & 1.351663 & 1.000 & 0.993 & 5.686083e-10\\\\\n",
       "\t 7 & MT-CO2 & 7.560387e-16 & 1.223689 & 1.000 & 1.000 & 1.559783e-11\\\\\n",
       "\t 7 & MT-ND4 & 2.466245e-14 & 1.220862 & 1.000 & 0.998 & 5.088111e-10\\\\\n",
       "\t 7 & MT-ND1 & 6.288391e-15 & 1.217354 & 1.000 & 0.998 & 1.297358e-10\\\\\n",
       "\t 7 & MT-CYB & 1.263994e-11 & 1.024799 & 1.000 & 0.999 & 2.607746e-07\\\\\n",
       "\\end{tabular}\n"
      ],
      "text/markdown": [
       "\n",
       "A spec_tbl_df: 11 × 7\n",
       "\n",
       "| group &lt;dbl&gt; | gene_name &lt;chr&gt; | p_val &lt;dbl&gt; | avg_log2FC &lt;dbl&gt; | pct.1 &lt;dbl&gt; | pct.2 &lt;dbl&gt; | p_val_adj &lt;dbl&gt; |\n",
       "|---|---|---|---|---|---|---|\n",
       "| 1 | MT-ND2 | 0.000000e+00 | 1.322873 | 0.984 | 0.997 | 0.000000e+00 |\n",
       "| 1 | MT-ND4 | 0.000000e+00 | 1.168561 | 0.994 | 1.000 | 0.000000e+00 |\n",
       "| 1 | MT-ND5 | 0.000000e+00 | 1.100028 | 0.961 | 0.981 | 0.000000e+00 |\n",
       "| 1 | MT-ND1 | 0.000000e+00 | 1.063367 | 0.995 | 0.999 | 0.000000e+00 |\n",
       "| 7 | MT-ND5 | 3.158575e-13 | 1.700701 | 0.944 | 0.975 | 6.516456e-09 |\n",
       "| 7 | MT-CO1 | 1.793555e-16 | 1.375111 | 1.000 | 1.000 | 3.700283e-12 |\n",
       "| 7 | MT-ND2 | 2.756087e-14 | 1.351663 | 1.000 | 0.993 | 5.686083e-10 |\n",
       "| 7 | MT-CO2 | 7.560387e-16 | 1.223689 | 1.000 | 1.000 | 1.559783e-11 |\n",
       "| 7 | MT-ND4 | 2.466245e-14 | 1.220862 | 1.000 | 0.998 | 5.088111e-10 |\n",
       "| 7 | MT-ND1 | 6.288391e-15 | 1.217354 | 1.000 | 0.998 | 1.297358e-10 |\n",
       "| 7 | MT-CYB | 1.263994e-11 | 1.024799 | 1.000 | 0.999 | 2.607746e-07 |\n",
       "\n"
      ],
      "text/plain": [
       "   group gene_name p_val        avg_log2FC pct.1 pct.2 p_val_adj   \n",
       "1  1     MT-ND2    0.000000e+00 1.322873   0.984 0.997 0.000000e+00\n",
       "2  1     MT-ND4    0.000000e+00 1.168561   0.994 1.000 0.000000e+00\n",
       "3  1     MT-ND5    0.000000e+00 1.100028   0.961 0.981 0.000000e+00\n",
       "4  1     MT-ND1    0.000000e+00 1.063367   0.995 0.999 0.000000e+00\n",
       "5  7     MT-ND5    3.158575e-13 1.700701   0.944 0.975 6.516456e-09\n",
       "6  7     MT-CO1    1.793555e-16 1.375111   1.000 1.000 3.700283e-12\n",
       "7  7     MT-ND2    2.756087e-14 1.351663   1.000 0.993 5.686083e-10\n",
       "8  7     MT-CO2    7.560387e-16 1.223689   1.000 1.000 1.559783e-11\n",
       "9  7     MT-ND4    2.466245e-14 1.220862   1.000 0.998 5.088111e-10\n",
       "10 7     MT-ND1    6.288391e-15 1.217354   1.000 0.998 1.297358e-10\n",
       "11 7     MT-CYB    1.263994e-11 1.024799   1.000 0.999 2.607746e-07"
      ]
     },
     "metadata": {},
     "output_type": "display_data"
    }
   ],
   "source": [
    "# query_gene = str_split('',',')[[1]]\n",
    "# markers %>% filter(gene_name %in% query_gene,avg_log2FC > 1)\n",
    "\n",
    "# AM_1,0\n",
    "# query_gene = str_split('MYL12A,LGALS3,NDUFA4,S100A9,HLA-DRB5,ATP5MC3,CD52,MYL12B,RPS4Y1,S100A11,ARPC3,COX7B',',')[[1]]\n",
    "# markers %>% filter(gene_name %in% query_gene,avg_log2FC > 1)\n",
    "\n",
    "# AI,2\n",
    "# query_gene = str_split('APOE,LYZ,FABP4,SCD,RPS4X,MGST1,HP,RPS26,RPL32,RPL14,RPL13,RPS3A,CAMP,RPL5,RPS23,RPS8,RPL7A,RPL24',',')[[1]]\n",
    "# markers %>% filter(gene_name %in% query_gene,avg_log2FC > 1)\n",
    "\n",
    "# AM_4,3\n",
    "# query_gene = str_split('MKI67,TOP2A,TK1,CENPF,RRM2,PCLAF,UBE2C,CLSPN,CENPM,TYMS,ASPM,BIRC5,CDK1,HELLS,ATAD2,TCF19,TPX2,FAM111B',',')[[1]]\n",
    "# markers %>% filter(gene_name %in% query_gene,avg_log2FC > 0)\n",
    "\n",
    "\n",
    "# AM_IM1,4\n",
    "# query_gene = str_split('ICAM1,MARCKS,TNIP3,NFKBIA,C15orf48,CXCL3,CXCL8,IL1B,CCL3,TNFAIP6,SOD2,CCL20,CCL4L2,CCL4',',')[[1]]\n",
    "# markers %>% filter(gene_name %in% query_gene,avg_log2FC > 1)\n",
    "\n",
    "# IM_1,5\n",
    "# query_gene = str_split('CCL17,CLEC10A,F13A1,LIMD2,RASSF2,FCGR2B,SERPINF1,CORO1A,TMEM176B,MARCKS,ZFP36L1,MEF2C',',')[[1]]\n",
    "# markers %>% filter(gene_name %in% query_gene,avg_log2FC > 1)\n",
    "\n",
    "# AM_MT,6\n",
    "# query_gene = str_split('MT2A,MT1G,MT1X,MT1E,MT1M,MT1H,MT1F,MT1A',',')[[1]]\n",
    "# markers %>% filter(gene_name %in% query_gene,avg_log2FC > 1)\n",
    "\n",
    "# AM_2_exclusive,7\n",
    "# query_gene = str_split('MTRNR2L12,MTRNR2L8,POLR2J3.1,PNISR,NKTR,NPIPB5,DDHD1,GCC2,MTRNR2L10,ARGLU1,N4BP2L2,DDX17,DDX5,RSRP1,WSB1,SMG1,ZNF207,TNFAIP2,CCNL1,MTRNR2L1,HNRNPH1,ATG16L2,ZEB2,RUFY3,CHD9,SREK1,AAK1,RBM6,IFI30,SRSF11,RASSF4,FOXP1,NABP1',',')[[1]]\n",
    "# markers %>% filter(gene_name %in% query_gene,avg_log2FC > 1)\n",
    "\n",
    "# human_AM_2,1?7\n",
    "query_gene = str_split('MT-ND2,MT-ND4,MT-ND1,MT-ND5,CTSD,MT-CO1,MT-CYB,MT-CO2',',')[[1]]\n",
    "markers %>% filter(gene_name %in% query_gene,avg_log2FC > 1)\n"
   ]
  },
  {
   "cell_type": "markdown",
   "id": "84bda19d-39d0-49ae-88b6-5daa2287dc0a",
   "metadata": {},
   "source": [
    "# Seruat -> mtx"
   ]
  },
  {
   "cell_type": "code",
   "execution_count": 6,
   "id": "8f8baa49-5d0e-4067-9ce1-c070125bd56b",
   "metadata": {
    "scrolled": true,
    "tags": []
   },
   "outputs": [
    {
     "name": "stderr",
     "output_type": "stream",
     "text": [
      "\n",
      "Attaching package: ‘Matrix’\n",
      "\n",
      "\n",
      "The following objects are masked from ‘package:tidyr’:\n",
      "\n",
      "    expand, pack, unpack\n",
      "\n",
      "\n"
     ]
    },
    {
     "name": "stdout",
     "output_type": "stream",
     "text": [
      "\n",
      "> function----------------------------------------\n",
      "serurat_to_mtx\n",
      "\n",
      "> Map_Seruat function-----------------------------\n",
      "Map_Seruat_normalize\n",
      "Map_Seruat_cluster\n",
      "Map_Seruat_mapquery\n",
      "Map_Seruat_example\t\t[example]\n",
      "precess_after_Seurat\n",
      "run_Seurat\t\t\t[simply]\n",
      "\n",
      "> other-------------------------------------------\n",
      "get_path_varmap\n"
     ]
    }
   ],
   "source": [
    "source(file.path('~/link/res_publish','func_r_map_seurat.r'))"
   ]
  },
  {
   "cell_type": "code",
   "execution_count": 7,
   "id": "54c5a2f7-be97-4f03-99e3-aa47688d01a4",
   "metadata": {
    "tags": []
   },
   "outputs": [
    {
     "name": "stderr",
     "output_type": "stream",
     "text": [
      "\u001b[1mRows: \u001b[22m\u001b[34m10357\u001b[39m \u001b[1mColumns: \u001b[22m\u001b[34m7\u001b[39m\n",
      "\u001b[36m──\u001b[39m \u001b[1mColumn specification\u001b[22m \u001b[36m────────────────────────────────────────────────────────\u001b[39m\n",
      "\u001b[1mDelimiter:\u001b[22m \",\"\n",
      "\u001b[31mchr\u001b[39m (4): cell_id, batch, cell_type, sub_cell_type_1\n",
      "\u001b[32mdbl\u001b[39m (3): seurat_clusters_article, umap_1, umap_2\n",
      "\n",
      "\u001b[36mℹ\u001b[39m Use `spec()` to retrieve the full column specification for this data.\n",
      "\u001b[36mℹ\u001b[39m Specify the column types or set `show_col_types = FALSE` to quiet this message.\n"
     ]
    },
    {
     "data": {
      "text/html": [
       "<table class=\"dataframe\">\n",
       "<caption>A tibble: 2 × 7</caption>\n",
       "<thead>\n",
       "\t<tr><th scope=col>cell_id</th><th scope=col>batch</th><th scope=col>seurat_clusters_article</th><th scope=col>cell_type</th><th scope=col>sub_cell_type_1</th><th scope=col>umap_1</th><th scope=col>umap_2</th></tr>\n",
       "\t<tr><th scope=col>&lt;chr&gt;</th><th scope=col>&lt;chr&gt;</th><th scope=col>&lt;dbl&gt;</th><th scope=col>&lt;chr&gt;</th><th scope=col>&lt;chr&gt;</th><th scope=col>&lt;dbl&gt;</th><th scope=col>&lt;dbl&gt;</th></tr>\n",
       "</thead>\n",
       "<tbody>\n",
       "\t<tr><td>AAACCCAAGTGCACCC_1</td><td>Subject 1</td><td>7</td><td>macrophage</td><td>AM_2_exclusive</td><td>1.432929</td><td> 6.731284</td></tr>\n",
       "\t<tr><td>AAACCCAGTGAGCTCC_1</td><td>Subject 1</td><td>0</td><td>macrophage</td><td>AM_1          </td><td>2.396438</td><td>-2.110921</td></tr>\n",
       "</tbody>\n",
       "</table>\n"
      ],
      "text/latex": [
       "A tibble: 2 × 7\n",
       "\\begin{tabular}{lllllll}\n",
       " cell\\_id & batch & seurat\\_clusters\\_article & cell\\_type & sub\\_cell\\_type\\_1 & umap\\_1 & umap\\_2\\\\\n",
       " <chr> & <chr> & <dbl> & <chr> & <chr> & <dbl> & <dbl>\\\\\n",
       "\\hline\n",
       "\t AAACCCAAGTGCACCC\\_1 & Subject 1 & 7 & macrophage & AM\\_2\\_exclusive & 1.432929 &  6.731284\\\\\n",
       "\t AAACCCAGTGAGCTCC\\_1 & Subject 1 & 0 & macrophage & AM\\_1           & 2.396438 & -2.110921\\\\\n",
       "\\end{tabular}\n"
      ],
      "text/markdown": [
       "\n",
       "A tibble: 2 × 7\n",
       "\n",
       "| cell_id &lt;chr&gt; | batch &lt;chr&gt; | seurat_clusters_article &lt;dbl&gt; | cell_type &lt;chr&gt; | sub_cell_type_1 &lt;chr&gt; | umap_1 &lt;dbl&gt; | umap_2 &lt;dbl&gt; |\n",
       "|---|---|---|---|---|---|---|\n",
       "| AAACCCAAGTGCACCC_1 | Subject 1 | 7 | macrophage | AM_2_exclusive | 1.432929 |  6.731284 |\n",
       "| AAACCCAGTGAGCTCC_1 | Subject 1 | 0 | macrophage | AM_1           | 2.396438 | -2.110921 |\n",
       "\n"
      ],
      "text/plain": [
       "  cell_id            batch     seurat_clusters_article cell_type \n",
       "1 AAACCCAAGTGCACCC_1 Subject 1 7                       macrophage\n",
       "2 AAACCCAGTGAGCTCC_1 Subject 1 0                       macrophage\n",
       "  sub_cell_type_1 umap_1   umap_2   \n",
       "1 AM_2_exclusive  1.432929  6.731284\n",
       "2 AM_1            2.396438 -2.110921"
      ]
     },
     "metadata": {},
     "output_type": "display_data"
    },
    {
     "data": {
      "text/html": [
       "<table class=\"dataframe\">\n",
       "<caption>A grouped_df: 8 × 3</caption>\n",
       "<thead>\n",
       "\t<tr><th scope=col>seurat_clusters_article</th><th scope=col>sub_cell_type_1</th><th scope=col>n</th></tr>\n",
       "\t<tr><th scope=col>&lt;dbl&gt;</th><th scope=col>&lt;chr&gt;</th><th scope=col>&lt;int&gt;</th></tr>\n",
       "</thead>\n",
       "<tbody>\n",
       "\t<tr><td>0</td><td>AM_1          </td><td>5154</td></tr>\n",
       "\t<tr><td>1</td><td>AM_2          </td><td>3157</td></tr>\n",
       "\t<tr><td>2</td><td>AI            </td><td>1410</td></tr>\n",
       "\t<tr><td>3</td><td>AM_4          </td><td> 281</td></tr>\n",
       "\t<tr><td>4</td><td>AM_IM1        </td><td> 162</td></tr>\n",
       "\t<tr><td>5</td><td>IM_1          </td><td> 108</td></tr>\n",
       "\t<tr><td>6</td><td>AM_MT         </td><td>  49</td></tr>\n",
       "\t<tr><td>7</td><td>AM_2_exclusive</td><td>  36</td></tr>\n",
       "</tbody>\n",
       "</table>\n"
      ],
      "text/latex": [
       "A grouped\\_df: 8 × 3\n",
       "\\begin{tabular}{lll}\n",
       " seurat\\_clusters\\_article & sub\\_cell\\_type\\_1 & n\\\\\n",
       " <dbl> & <chr> & <int>\\\\\n",
       "\\hline\n",
       "\t 0 & AM\\_1           & 5154\\\\\n",
       "\t 1 & AM\\_2           & 3157\\\\\n",
       "\t 2 & AI             & 1410\\\\\n",
       "\t 3 & AM\\_4           &  281\\\\\n",
       "\t 4 & AM\\_IM1         &  162\\\\\n",
       "\t 5 & IM\\_1           &  108\\\\\n",
       "\t 6 & AM\\_MT          &   49\\\\\n",
       "\t 7 & AM\\_2\\_exclusive &   36\\\\\n",
       "\\end{tabular}\n"
      ],
      "text/markdown": [
       "\n",
       "A grouped_df: 8 × 3\n",
       "\n",
       "| seurat_clusters_article &lt;dbl&gt; | sub_cell_type_1 &lt;chr&gt; | n &lt;int&gt; |\n",
       "|---|---|---|\n",
       "| 0 | AM_1           | 5154 |\n",
       "| 1 | AM_2           | 3157 |\n",
       "| 2 | AI             | 1410 |\n",
       "| 3 | AM_4           |  281 |\n",
       "| 4 | AM_IM1         |  162 |\n",
       "| 5 | IM_1           |  108 |\n",
       "| 6 | AM_MT          |   49 |\n",
       "| 7 | AM_2_exclusive |   36 |\n",
       "\n"
      ],
      "text/plain": [
       "  seurat_clusters_article sub_cell_type_1 n   \n",
       "1 0                       AM_1            5154\n",
       "2 1                       AM_2            3157\n",
       "3 2                       AI              1410\n",
       "4 3                       AM_4             281\n",
       "5 4                       AM_IM1           162\n",
       "6 5                       IM_1             108\n",
       "7 6                       AM_MT             49\n",
       "8 7                       AM_2_exclusive    36"
      ]
     },
     "metadata": {},
     "output_type": "display_data"
    }
   ],
   "source": [
    "df_ann = read_csv(\"bal_ann.csv\")\n",
    "df_ann %>% head(2)\n",
    "df_ann %>% group_by(seurat_clusters_article,sub_cell_type_1) %>% count"
   ]
  },
  {
   "cell_type": "code",
   "execution_count": 8,
   "id": "0f93835e-781c-4192-807b-be65b0dc9c3e",
   "metadata": {
    "tags": []
   },
   "outputs": [],
   "source": [
    "adata_count = read.csv('GSE167232_bal_integrated.csv.gz',row.names = 1)"
   ]
  },
  {
   "cell_type": "code",
   "execution_count": 9,
   "id": "4920a5d5-4dee-4976-9735-2771e9ce2fd8",
   "metadata": {
    "tags": []
   },
   "outputs": [
    {
     "data": {
      "text/html": [
       "FALSE"
      ],
      "text/latex": [
       "FALSE"
      ],
      "text/markdown": [
       "FALSE"
      ],
      "text/plain": [
       "[1] FALSE"
      ]
     },
     "metadata": {},
     "output_type": "display_data"
    },
    {
     "data": {
      "text/html": [
       "FALSE"
      ],
      "text/latex": [
       "FALSE"
      ],
      "text/markdown": [
       "FALSE"
      ],
      "text/plain": [
       "[1] FALSE"
      ]
     },
     "metadata": {},
     "output_type": "display_data"
    }
   ],
   "source": [
    "colnames(adata_count) %>% duplicated %>% any\n",
    "colnames(adata_count) = str_c('Mtb_bal',colnames(adata_count),sep = ';')\n",
    "colnames(adata_count) %>% duplicated %>% any"
   ]
  },
  {
   "cell_type": "code",
   "execution_count": 10,
   "id": "b3064bb0-16a9-40b6-b1c5-36fdc6074684",
   "metadata": {
    "tags": []
   },
   "outputs": [
    {
     "name": "stderr",
     "output_type": "stream",
     "text": [
      "Warning message:\n",
      "“Data is of class data.frame. Coercing to dgCMatrix.”\n"
     ]
    },
    {
     "data": {
      "text/plain": [
       "An object of class Seurat \n",
       "20631 features across 10357 samples within 1 assay \n",
       "Active assay: RNA (20631 features, 0 variable features)\n",
       " 1 layer present: counts"
      ]
     },
     "metadata": {},
     "output_type": "display_data"
    }
   ],
   "source": [
    "adata <- CreateSeuratObject(counts = adata_count)\n",
    "adata@meta.data <- adata@meta.data %>% mutate(\n",
    "  cell_id = rownames(adata@meta.data), .before = 1\n",
    ")\n",
    "\n",
    "adata"
   ]
  },
  {
   "cell_type": "code",
   "execution_count": 11,
   "id": "a9a2bb21-c895-4227-abb7-c5f45c1050d0",
   "metadata": {
    "tags": []
   },
   "outputs": [
    {
     "data": {
      "text/html": [
       "<table class=\"dataframe\">\n",
       "<caption>A tibble: 6 × 7</caption>\n",
       "<thead>\n",
       "\t<tr><th scope=col>cell_id</th><th scope=col>batch</th><th scope=col>seurat_clusters_article</th><th scope=col>cell_type</th><th scope=col>sub_cell_type_1</th><th scope=col>umap_1</th><th scope=col>umap_2</th></tr>\n",
       "\t<tr><th scope=col>&lt;chr&gt;</th><th scope=col>&lt;chr&gt;</th><th scope=col>&lt;dbl&gt;</th><th scope=col>&lt;chr&gt;</th><th scope=col>&lt;chr&gt;</th><th scope=col>&lt;dbl&gt;</th><th scope=col>&lt;dbl&gt;</th></tr>\n",
       "</thead>\n",
       "<tbody>\n",
       "\t<tr><td>Mtb_bal;AAACCCAAGTGCACCC_1</td><td>Subject 1</td><td>7</td><td>macrophage</td><td>AM_2_exclusive</td><td>1.4329291</td><td> 6.731284</td></tr>\n",
       "\t<tr><td>Mtb_bal;AAACCCAGTGAGCTCC_1</td><td>Subject 1</td><td>0</td><td>macrophage</td><td>AM_1          </td><td>2.3964381</td><td>-2.110921</td></tr>\n",
       "\t<tr><td>Mtb_bal;AAACCCAGTTCTTAGG_1</td><td>Subject 1</td><td>1</td><td>macrophage</td><td>AM_2          </td><td>0.9477591</td><td> 4.732689</td></tr>\n",
       "\t<tr><td>Mtb_bal;AAACGAACATACATCG_1</td><td>Subject 1</td><td>1</td><td>macrophage</td><td>AM_2          </td><td>0.7723368</td><td> 4.046975</td></tr>\n",
       "\t<tr><td>Mtb_bal;AAACGCTAGTCGAATA_1</td><td>Subject 1</td><td>1</td><td>macrophage</td><td>AM_2          </td><td>1.6108452</td><td> 3.760695</td></tr>\n",
       "\t<tr><td>Mtb_bal;AAACGCTAGTTTAGGA_1</td><td>Subject 1</td><td>1</td><td>macrophage</td><td>AM_2          </td><td>0.7937615</td><td> 4.901186</td></tr>\n",
       "</tbody>\n",
       "</table>\n"
      ],
      "text/latex": [
       "A tibble: 6 × 7\n",
       "\\begin{tabular}{lllllll}\n",
       " cell\\_id & batch & seurat\\_clusters\\_article & cell\\_type & sub\\_cell\\_type\\_1 & umap\\_1 & umap\\_2\\\\\n",
       " <chr> & <chr> & <dbl> & <chr> & <chr> & <dbl> & <dbl>\\\\\n",
       "\\hline\n",
       "\t Mtb\\_bal;AAACCCAAGTGCACCC\\_1 & Subject 1 & 7 & macrophage & AM\\_2\\_exclusive & 1.4329291 &  6.731284\\\\\n",
       "\t Mtb\\_bal;AAACCCAGTGAGCTCC\\_1 & Subject 1 & 0 & macrophage & AM\\_1           & 2.3964381 & -2.110921\\\\\n",
       "\t Mtb\\_bal;AAACCCAGTTCTTAGG\\_1 & Subject 1 & 1 & macrophage & AM\\_2           & 0.9477591 &  4.732689\\\\\n",
       "\t Mtb\\_bal;AAACGAACATACATCG\\_1 & Subject 1 & 1 & macrophage & AM\\_2           & 0.7723368 &  4.046975\\\\\n",
       "\t Mtb\\_bal;AAACGCTAGTCGAATA\\_1 & Subject 1 & 1 & macrophage & AM\\_2           & 1.6108452 &  3.760695\\\\\n",
       "\t Mtb\\_bal;AAACGCTAGTTTAGGA\\_1 & Subject 1 & 1 & macrophage & AM\\_2           & 0.7937615 &  4.901186\\\\\n",
       "\\end{tabular}\n"
      ],
      "text/markdown": [
       "\n",
       "A tibble: 6 × 7\n",
       "\n",
       "| cell_id &lt;chr&gt; | batch &lt;chr&gt; | seurat_clusters_article &lt;dbl&gt; | cell_type &lt;chr&gt; | sub_cell_type_1 &lt;chr&gt; | umap_1 &lt;dbl&gt; | umap_2 &lt;dbl&gt; |\n",
       "|---|---|---|---|---|---|---|\n",
       "| Mtb_bal;AAACCCAAGTGCACCC_1 | Subject 1 | 7 | macrophage | AM_2_exclusive | 1.4329291 |  6.731284 |\n",
       "| Mtb_bal;AAACCCAGTGAGCTCC_1 | Subject 1 | 0 | macrophage | AM_1           | 2.3964381 | -2.110921 |\n",
       "| Mtb_bal;AAACCCAGTTCTTAGG_1 | Subject 1 | 1 | macrophage | AM_2           | 0.9477591 |  4.732689 |\n",
       "| Mtb_bal;AAACGAACATACATCG_1 | Subject 1 | 1 | macrophage | AM_2           | 0.7723368 |  4.046975 |\n",
       "| Mtb_bal;AAACGCTAGTCGAATA_1 | Subject 1 | 1 | macrophage | AM_2           | 1.6108452 |  3.760695 |\n",
       "| Mtb_bal;AAACGCTAGTTTAGGA_1 | Subject 1 | 1 | macrophage | AM_2           | 0.7937615 |  4.901186 |\n",
       "\n"
      ],
      "text/plain": [
       "  cell_id                    batch     seurat_clusters_article cell_type \n",
       "1 Mtb_bal;AAACCCAAGTGCACCC_1 Subject 1 7                       macrophage\n",
       "2 Mtb_bal;AAACCCAGTGAGCTCC_1 Subject 1 0                       macrophage\n",
       "3 Mtb_bal;AAACCCAGTTCTTAGG_1 Subject 1 1                       macrophage\n",
       "4 Mtb_bal;AAACGAACATACATCG_1 Subject 1 1                       macrophage\n",
       "5 Mtb_bal;AAACGCTAGTCGAATA_1 Subject 1 1                       macrophage\n",
       "6 Mtb_bal;AAACGCTAGTTTAGGA_1 Subject 1 1                       macrophage\n",
       "  sub_cell_type_1 umap_1    umap_2   \n",
       "1 AM_2_exclusive  1.4329291  6.731284\n",
       "2 AM_1            2.3964381 -2.110921\n",
       "3 AM_2            0.9477591  4.732689\n",
       "4 AM_2            0.7723368  4.046975\n",
       "5 AM_2            1.6108452  3.760695\n",
       "6 AM_2            0.7937615  4.901186"
      ]
     },
     "metadata": {},
     "output_type": "display_data"
    }
   ],
   "source": [
    "df_ann = df_ann %>% mutate(\n",
    "cell_id = str_c('Mtb_bal',cell_id,sep = ';')\n",
    ")\n",
    "df_ann %>% head"
   ]
  },
  {
   "cell_type": "code",
   "execution_count": 12,
   "id": "7b189ac0-e163-4fa7-8ca5-0d747c772ab8",
   "metadata": {
    "tags": []
   },
   "outputs": [
    {
     "data": {
      "text/html": [
       "<table class=\"dataframe\">\n",
       "<caption>A data.frame: 2 × 10</caption>\n",
       "<thead>\n",
       "\t<tr><th></th><th scope=col>cell_id</th><th scope=col>orig.ident</th><th scope=col>nCount_RNA</th><th scope=col>nFeature_RNA</th><th scope=col>batch</th><th scope=col>seurat_clusters_article</th><th scope=col>cell_type</th><th scope=col>sub_cell_type_1</th><th scope=col>umap_1</th><th scope=col>umap_2</th></tr>\n",
       "\t<tr><th></th><th scope=col>&lt;chr&gt;</th><th scope=col>&lt;fct&gt;</th><th scope=col>&lt;dbl&gt;</th><th scope=col>&lt;int&gt;</th><th scope=col>&lt;chr&gt;</th><th scope=col>&lt;dbl&gt;</th><th scope=col>&lt;chr&gt;</th><th scope=col>&lt;chr&gt;</th><th scope=col>&lt;dbl&gt;</th><th scope=col>&lt;dbl&gt;</th></tr>\n",
       "</thead>\n",
       "<tbody>\n",
       "\t<tr><th scope=row>Mtb_bal;AAACCCAAGTGCACCC_1</th><td>Mtb_bal;AAACCCAAGTGCACCC_1</td><td>Mtb</td><td>2561</td><td>1432</td><td>Subject 1</td><td>7</td><td>macrophage</td><td>AM_2_exclusive</td><td>1.432929</td><td> 6.731284</td></tr>\n",
       "\t<tr><th scope=row>Mtb_bal;AAACCCAGTGAGCTCC_1</th><td>Mtb_bal;AAACCCAGTGAGCTCC_1</td><td>Mtb</td><td>6745</td><td>2497</td><td>Subject 1</td><td>0</td><td>macrophage</td><td>AM_1          </td><td>2.396438</td><td>-2.110921</td></tr>\n",
       "</tbody>\n",
       "</table>\n"
      ],
      "text/latex": [
       "A data.frame: 2 × 10\n",
       "\\begin{tabular}{r|llllllllll}\n",
       "  & cell\\_id & orig.ident & nCount\\_RNA & nFeature\\_RNA & batch & seurat\\_clusters\\_article & cell\\_type & sub\\_cell\\_type\\_1 & umap\\_1 & umap\\_2\\\\\n",
       "  & <chr> & <fct> & <dbl> & <int> & <chr> & <dbl> & <chr> & <chr> & <dbl> & <dbl>\\\\\n",
       "\\hline\n",
       "\tMtb\\_bal;AAACCCAAGTGCACCC\\_1 & Mtb\\_bal;AAACCCAAGTGCACCC\\_1 & Mtb & 2561 & 1432 & Subject 1 & 7 & macrophage & AM\\_2\\_exclusive & 1.432929 &  6.731284\\\\\n",
       "\tMtb\\_bal;AAACCCAGTGAGCTCC\\_1 & Mtb\\_bal;AAACCCAGTGAGCTCC\\_1 & Mtb & 6745 & 2497 & Subject 1 & 0 & macrophage & AM\\_1           & 2.396438 & -2.110921\\\\\n",
       "\\end{tabular}\n"
      ],
      "text/markdown": [
       "\n",
       "A data.frame: 2 × 10\n",
       "\n",
       "| <!--/--> | cell_id &lt;chr&gt; | orig.ident &lt;fct&gt; | nCount_RNA &lt;dbl&gt; | nFeature_RNA &lt;int&gt; | batch &lt;chr&gt; | seurat_clusters_article &lt;dbl&gt; | cell_type &lt;chr&gt; | sub_cell_type_1 &lt;chr&gt; | umap_1 &lt;dbl&gt; | umap_2 &lt;dbl&gt; |\n",
       "|---|---|---|---|---|---|---|---|---|---|---|\n",
       "| Mtb_bal;AAACCCAAGTGCACCC_1 | Mtb_bal;AAACCCAAGTGCACCC_1 | Mtb | 2561 | 1432 | Subject 1 | 7 | macrophage | AM_2_exclusive | 1.432929 |  6.731284 |\n",
       "| Mtb_bal;AAACCCAGTGAGCTCC_1 | Mtb_bal;AAACCCAGTGAGCTCC_1 | Mtb | 6745 | 2497 | Subject 1 | 0 | macrophage | AM_1           | 2.396438 | -2.110921 |\n",
       "\n"
      ],
      "text/plain": [
       "                           cell_id                    orig.ident nCount_RNA\n",
       "Mtb_bal;AAACCCAAGTGCACCC_1 Mtb_bal;AAACCCAAGTGCACCC_1 Mtb        2561      \n",
       "Mtb_bal;AAACCCAGTGAGCTCC_1 Mtb_bal;AAACCCAGTGAGCTCC_1 Mtb        6745      \n",
       "                           nFeature_RNA batch     seurat_clusters_article\n",
       "Mtb_bal;AAACCCAAGTGCACCC_1 1432         Subject 1 7                      \n",
       "Mtb_bal;AAACCCAGTGAGCTCC_1 2497         Subject 1 0                      \n",
       "                           cell_type  sub_cell_type_1 umap_1   umap_2   \n",
       "Mtb_bal;AAACCCAAGTGCACCC_1 macrophage AM_2_exclusive  1.432929  6.731284\n",
       "Mtb_bal;AAACCCAGTGAGCTCC_1 macrophage AM_1            2.396438 -2.110921"
      ]
     },
     "metadata": {},
     "output_type": "display_data"
    }
   ],
   "source": [
    "adata@meta.data = adata@meta.data %>% left_join(df_ann,by = 'cell_id')\n",
    "rownames(adata@meta.data ) = adata@meta.data$cell_id\n",
    "adata@meta.data %>% head(2)"
   ]
  },
  {
   "cell_type": "code",
   "execution_count": 13,
   "id": "cdc29d26-6f22-4e14-a48b-8dc0a3e0a605",
   "metadata": {},
   "outputs": [
    {
     "data": {
      "text/html": [
       "<style>\n",
       ".list-inline {list-style: none; margin:0; padding: 0}\n",
       ".list-inline>li {display: inline-block}\n",
       ".list-inline>li:not(:last-child)::after {content: \"\\00b7\"; padding: 0 .5ex}\n",
       "</style>\n",
       "<ol class=list-inline><li>'cell_id'</li><li>'orig.ident'</li><li>'nCount_RNA'</li><li>'nFeature_RNA'</li><li>'batch'</li><li>'seurat_clusters_article'</li><li>'cell_type'</li><li>'sub_cell_type_1'</li><li>'umap_1'</li><li>'umap_2'</li></ol>\n"
      ],
      "text/latex": [
       "\\begin{enumerate*}\n",
       "\\item 'cell\\_id'\n",
       "\\item 'orig.ident'\n",
       "\\item 'nCount\\_RNA'\n",
       "\\item 'nFeature\\_RNA'\n",
       "\\item 'batch'\n",
       "\\item 'seurat\\_clusters\\_article'\n",
       "\\item 'cell\\_type'\n",
       "\\item 'sub\\_cell\\_type\\_1'\n",
       "\\item 'umap\\_1'\n",
       "\\item 'umap\\_2'\n",
       "\\end{enumerate*}\n"
      ],
      "text/markdown": [
       "1. 'cell_id'\n",
       "2. 'orig.ident'\n",
       "3. 'nCount_RNA'\n",
       "4. 'nFeature_RNA'\n",
       "5. 'batch'\n",
       "6. 'seurat_clusters_article'\n",
       "7. 'cell_type'\n",
       "8. 'sub_cell_type_1'\n",
       "9. 'umap_1'\n",
       "10. 'umap_2'\n",
       "\n",
       "\n"
      ],
      "text/plain": [
       " [1] \"cell_id\"                 \"orig.ident\"             \n",
       " [3] \"nCount_RNA\"              \"nFeature_RNA\"           \n",
       " [5] \"batch\"                   \"seurat_clusters_article\"\n",
       " [7] \"cell_type\"               \"sub_cell_type_1\"        \n",
       " [9] \"umap_1\"                  \"umap_2\"                 "
      ]
     },
     "metadata": {},
     "output_type": "display_data"
    },
    {
     "data": {
      "text/html": [
       "<table class=\"dataframe\">\n",
       "<caption>A data.frame: 2 × 10</caption>\n",
       "<thead>\n",
       "\t<tr><th></th><th scope=col>cell_id</th><th scope=col>orig.ident</th><th scope=col>nCount_RNA</th><th scope=col>nFeature_RNA</th><th scope=col>batch</th><th scope=col>seurat_clusters_article</th><th scope=col>cell_type</th><th scope=col>sub_cell_type_1</th><th scope=col>umap_1</th><th scope=col>umap_2</th></tr>\n",
       "\t<tr><th></th><th scope=col>&lt;chr&gt;</th><th scope=col>&lt;fct&gt;</th><th scope=col>&lt;dbl&gt;</th><th scope=col>&lt;int&gt;</th><th scope=col>&lt;chr&gt;</th><th scope=col>&lt;dbl&gt;</th><th scope=col>&lt;chr&gt;</th><th scope=col>&lt;chr&gt;</th><th scope=col>&lt;dbl&gt;</th><th scope=col>&lt;dbl&gt;</th></tr>\n",
       "</thead>\n",
       "<tbody>\n",
       "\t<tr><th scope=row>Mtb_bal;AAACCCAAGTGCACCC_1</th><td>Mtb_bal;AAACCCAAGTGCACCC_1</td><td>Mtb</td><td>2561</td><td>1432</td><td>Subject 1</td><td>7</td><td>macrophage</td><td>AM_2_exclusive</td><td>1.432929</td><td> 6.731284</td></tr>\n",
       "\t<tr><th scope=row>Mtb_bal;AAACCCAGTGAGCTCC_1</th><td>Mtb_bal;AAACCCAGTGAGCTCC_1</td><td>Mtb</td><td>6745</td><td>2497</td><td>Subject 1</td><td>0</td><td>macrophage</td><td>AM_1          </td><td>2.396438</td><td>-2.110921</td></tr>\n",
       "</tbody>\n",
       "</table>\n"
      ],
      "text/latex": [
       "A data.frame: 2 × 10\n",
       "\\begin{tabular}{r|llllllllll}\n",
       "  & cell\\_id & orig.ident & nCount\\_RNA & nFeature\\_RNA & batch & seurat\\_clusters\\_article & cell\\_type & sub\\_cell\\_type\\_1 & umap\\_1 & umap\\_2\\\\\n",
       "  & <chr> & <fct> & <dbl> & <int> & <chr> & <dbl> & <chr> & <chr> & <dbl> & <dbl>\\\\\n",
       "\\hline\n",
       "\tMtb\\_bal;AAACCCAAGTGCACCC\\_1 & Mtb\\_bal;AAACCCAAGTGCACCC\\_1 & Mtb & 2561 & 1432 & Subject 1 & 7 & macrophage & AM\\_2\\_exclusive & 1.432929 &  6.731284\\\\\n",
       "\tMtb\\_bal;AAACCCAGTGAGCTCC\\_1 & Mtb\\_bal;AAACCCAGTGAGCTCC\\_1 & Mtb & 6745 & 2497 & Subject 1 & 0 & macrophage & AM\\_1           & 2.396438 & -2.110921\\\\\n",
       "\\end{tabular}\n"
      ],
      "text/markdown": [
       "\n",
       "A data.frame: 2 × 10\n",
       "\n",
       "| <!--/--> | cell_id &lt;chr&gt; | orig.ident &lt;fct&gt; | nCount_RNA &lt;dbl&gt; | nFeature_RNA &lt;int&gt; | batch &lt;chr&gt; | seurat_clusters_article &lt;dbl&gt; | cell_type &lt;chr&gt; | sub_cell_type_1 &lt;chr&gt; | umap_1 &lt;dbl&gt; | umap_2 &lt;dbl&gt; |\n",
       "|---|---|---|---|---|---|---|---|---|---|---|\n",
       "| Mtb_bal;AAACCCAAGTGCACCC_1 | Mtb_bal;AAACCCAAGTGCACCC_1 | Mtb | 2561 | 1432 | Subject 1 | 7 | macrophage | AM_2_exclusive | 1.432929 |  6.731284 |\n",
       "| Mtb_bal;AAACCCAGTGAGCTCC_1 | Mtb_bal;AAACCCAGTGAGCTCC_1 | Mtb | 6745 | 2497 | Subject 1 | 0 | macrophage | AM_1           | 2.396438 | -2.110921 |\n",
       "\n"
      ],
      "text/plain": [
       "                           cell_id                    orig.ident nCount_RNA\n",
       "Mtb_bal;AAACCCAAGTGCACCC_1 Mtb_bal;AAACCCAAGTGCACCC_1 Mtb        2561      \n",
       "Mtb_bal;AAACCCAGTGAGCTCC_1 Mtb_bal;AAACCCAGTGAGCTCC_1 Mtb        6745      \n",
       "                           nFeature_RNA batch     seurat_clusters_article\n",
       "Mtb_bal;AAACCCAAGTGCACCC_1 1432         Subject 1 7                      \n",
       "Mtb_bal;AAACCCAGTGAGCTCC_1 2497         Subject 1 0                      \n",
       "                           cell_type  sub_cell_type_1 umap_1   umap_2   \n",
       "Mtb_bal;AAACCCAAGTGCACCC_1 macrophage AM_2_exclusive  1.432929  6.731284\n",
       "Mtb_bal;AAACCCAGTGAGCTCC_1 macrophage AM_1            2.396438 -2.110921"
      ]
     },
     "metadata": {},
     "output_type": "display_data"
    }
   ],
   "source": [
    "adata@meta.data %>% colnames\n",
    "adata@meta.data %>% head(2)"
   ]
  },
  {
   "cell_type": "code",
   "execution_count": 14,
   "id": "6a5cea6e-eb5e-423c-93b7-359a82aa5b29",
   "metadata": {},
   "outputs": [
    {
     "data": {
      "text/html": [
       "<table class=\"dataframe\">\n",
       "<caption>A data.frame: 6 × 10</caption>\n",
       "<thead>\n",
       "\t<tr><th></th><th scope=col>orig.ident</th><th scope=col>nCount_RNA</th><th scope=col>nFeature_RNA</th><th scope=col>cell_id</th><th scope=col>_batch</th><th scope=col>cell_type</th><th scope=col>sub_cell_type</th><th scope=col>seurat_clusters_article</th><th scope=col>umap_1</th><th scope=col>umap_2</th></tr>\n",
       "\t<tr><th></th><th scope=col>&lt;chr&gt;</th><th scope=col>&lt;dbl&gt;</th><th scope=col>&lt;int&gt;</th><th scope=col>&lt;chr&gt;</th><th scope=col>&lt;chr&gt;</th><th scope=col>&lt;chr&gt;</th><th scope=col>&lt;chr&gt;</th><th scope=col>&lt;dbl&gt;</th><th scope=col>&lt;dbl&gt;</th><th scope=col>&lt;dbl&gt;</th></tr>\n",
       "</thead>\n",
       "<tbody>\n",
       "\t<tr><th scope=row>Mtb_bal;AAACCCAAGTGCACCC_1</th><td>Mtb_bal;AAACCCAAGTGCACCC_1</td><td>2561</td><td>1432</td><td>Mtb_bal;AAACCCAAGTGCACCC_1</td><td>Subject 1</td><td>macrophage</td><td>AM_2_exclusive</td><td>7</td><td>1.4329291</td><td> 6.731284</td></tr>\n",
       "\t<tr><th scope=row>Mtb_bal;AAACCCAGTGAGCTCC_1</th><td>Mtb_bal;AAACCCAGTGAGCTCC_1</td><td>6745</td><td>2497</td><td>Mtb_bal;AAACCCAGTGAGCTCC_1</td><td>Subject 1</td><td>macrophage</td><td>AM_1          </td><td>0</td><td>2.3964381</td><td>-2.110921</td></tr>\n",
       "\t<tr><th scope=row>Mtb_bal;AAACCCAGTTCTTAGG_1</th><td>Mtb_bal;AAACCCAGTTCTTAGG_1</td><td>3705</td><td>1703</td><td>Mtb_bal;AAACCCAGTTCTTAGG_1</td><td>Subject 1</td><td>macrophage</td><td>AM_2          </td><td>1</td><td>0.9477591</td><td> 4.732689</td></tr>\n",
       "\t<tr><th scope=row>Mtb_bal;AAACGAACATACATCG_1</th><td>Mtb_bal;AAACGAACATACATCG_1</td><td>4242</td><td>1995</td><td>Mtb_bal;AAACGAACATACATCG_1</td><td>Subject 1</td><td>macrophage</td><td>AM_2          </td><td>1</td><td>0.7723368</td><td> 4.046975</td></tr>\n",
       "\t<tr><th scope=row>Mtb_bal;AAACGCTAGTCGAATA_1</th><td>Mtb_bal;AAACGCTAGTCGAATA_1</td><td>2861</td><td>1532</td><td>Mtb_bal;AAACGCTAGTCGAATA_1</td><td>Subject 1</td><td>macrophage</td><td>AM_2          </td><td>1</td><td>1.6108452</td><td> 3.760695</td></tr>\n",
       "\t<tr><th scope=row>Mtb_bal;AAACGCTAGTTTAGGA_1</th><td>Mtb_bal;AAACGCTAGTTTAGGA_1</td><td>2016</td><td>1119</td><td>Mtb_bal;AAACGCTAGTTTAGGA_1</td><td>Subject 1</td><td>macrophage</td><td>AM_2          </td><td>1</td><td>0.7937615</td><td> 4.901186</td></tr>\n",
       "</tbody>\n",
       "</table>\n"
      ],
      "text/latex": [
       "A data.frame: 6 × 10\n",
       "\\begin{tabular}{r|llllllllll}\n",
       "  & orig.ident & nCount\\_RNA & nFeature\\_RNA & cell\\_id & \\_batch & cell\\_type & sub\\_cell\\_type & seurat\\_clusters\\_article & umap\\_1 & umap\\_2\\\\\n",
       "  & <chr> & <dbl> & <int> & <chr> & <chr> & <chr> & <chr> & <dbl> & <dbl> & <dbl>\\\\\n",
       "\\hline\n",
       "\tMtb\\_bal;AAACCCAAGTGCACCC\\_1 & Mtb\\_bal;AAACCCAAGTGCACCC\\_1 & 2561 & 1432 & Mtb\\_bal;AAACCCAAGTGCACCC\\_1 & Subject 1 & macrophage & AM\\_2\\_exclusive & 7 & 1.4329291 &  6.731284\\\\\n",
       "\tMtb\\_bal;AAACCCAGTGAGCTCC\\_1 & Mtb\\_bal;AAACCCAGTGAGCTCC\\_1 & 6745 & 2497 & Mtb\\_bal;AAACCCAGTGAGCTCC\\_1 & Subject 1 & macrophage & AM\\_1           & 0 & 2.3964381 & -2.110921\\\\\n",
       "\tMtb\\_bal;AAACCCAGTTCTTAGG\\_1 & Mtb\\_bal;AAACCCAGTTCTTAGG\\_1 & 3705 & 1703 & Mtb\\_bal;AAACCCAGTTCTTAGG\\_1 & Subject 1 & macrophage & AM\\_2           & 1 & 0.9477591 &  4.732689\\\\\n",
       "\tMtb\\_bal;AAACGAACATACATCG\\_1 & Mtb\\_bal;AAACGAACATACATCG\\_1 & 4242 & 1995 & Mtb\\_bal;AAACGAACATACATCG\\_1 & Subject 1 & macrophage & AM\\_2           & 1 & 0.7723368 &  4.046975\\\\\n",
       "\tMtb\\_bal;AAACGCTAGTCGAATA\\_1 & Mtb\\_bal;AAACGCTAGTCGAATA\\_1 & 2861 & 1532 & Mtb\\_bal;AAACGCTAGTCGAATA\\_1 & Subject 1 & macrophage & AM\\_2           & 1 & 1.6108452 &  3.760695\\\\\n",
       "\tMtb\\_bal;AAACGCTAGTTTAGGA\\_1 & Mtb\\_bal;AAACGCTAGTTTAGGA\\_1 & 2016 & 1119 & Mtb\\_bal;AAACGCTAGTTTAGGA\\_1 & Subject 1 & macrophage & AM\\_2           & 1 & 0.7937615 &  4.901186\\\\\n",
       "\\end{tabular}\n"
      ],
      "text/markdown": [
       "\n",
       "A data.frame: 6 × 10\n",
       "\n",
       "| <!--/--> | orig.ident &lt;chr&gt; | nCount_RNA &lt;dbl&gt; | nFeature_RNA &lt;int&gt; | cell_id &lt;chr&gt; | _batch &lt;chr&gt; | cell_type &lt;chr&gt; | sub_cell_type &lt;chr&gt; | seurat_clusters_article &lt;dbl&gt; | umap_1 &lt;dbl&gt; | umap_2 &lt;dbl&gt; |\n",
       "|---|---|---|---|---|---|---|---|---|---|---|\n",
       "| Mtb_bal;AAACCCAAGTGCACCC_1 | Mtb_bal;AAACCCAAGTGCACCC_1 | 2561 | 1432 | Mtb_bal;AAACCCAAGTGCACCC_1 | Subject 1 | macrophage | AM_2_exclusive | 7 | 1.4329291 |  6.731284 |\n",
       "| Mtb_bal;AAACCCAGTGAGCTCC_1 | Mtb_bal;AAACCCAGTGAGCTCC_1 | 6745 | 2497 | Mtb_bal;AAACCCAGTGAGCTCC_1 | Subject 1 | macrophage | AM_1           | 0 | 2.3964381 | -2.110921 |\n",
       "| Mtb_bal;AAACCCAGTTCTTAGG_1 | Mtb_bal;AAACCCAGTTCTTAGG_1 | 3705 | 1703 | Mtb_bal;AAACCCAGTTCTTAGG_1 | Subject 1 | macrophage | AM_2           | 1 | 0.9477591 |  4.732689 |\n",
       "| Mtb_bal;AAACGAACATACATCG_1 | Mtb_bal;AAACGAACATACATCG_1 | 4242 | 1995 | Mtb_bal;AAACGAACATACATCG_1 | Subject 1 | macrophage | AM_2           | 1 | 0.7723368 |  4.046975 |\n",
       "| Mtb_bal;AAACGCTAGTCGAATA_1 | Mtb_bal;AAACGCTAGTCGAATA_1 | 2861 | 1532 | Mtb_bal;AAACGCTAGTCGAATA_1 | Subject 1 | macrophage | AM_2           | 1 | 1.6108452 |  3.760695 |\n",
       "| Mtb_bal;AAACGCTAGTTTAGGA_1 | Mtb_bal;AAACGCTAGTTTAGGA_1 | 2016 | 1119 | Mtb_bal;AAACGCTAGTTTAGGA_1 | Subject 1 | macrophage | AM_2           | 1 | 0.7937615 |  4.901186 |\n",
       "\n"
      ],
      "text/plain": [
       "                           orig.ident                 nCount_RNA nFeature_RNA\n",
       "Mtb_bal;AAACCCAAGTGCACCC_1 Mtb_bal;AAACCCAAGTGCACCC_1 2561       1432        \n",
       "Mtb_bal;AAACCCAGTGAGCTCC_1 Mtb_bal;AAACCCAGTGAGCTCC_1 6745       2497        \n",
       "Mtb_bal;AAACCCAGTTCTTAGG_1 Mtb_bal;AAACCCAGTTCTTAGG_1 3705       1703        \n",
       "Mtb_bal;AAACGAACATACATCG_1 Mtb_bal;AAACGAACATACATCG_1 4242       1995        \n",
       "Mtb_bal;AAACGCTAGTCGAATA_1 Mtb_bal;AAACGCTAGTCGAATA_1 2861       1532        \n",
       "Mtb_bal;AAACGCTAGTTTAGGA_1 Mtb_bal;AAACGCTAGTTTAGGA_1 2016       1119        \n",
       "                           cell_id                    _batch    cell_type \n",
       "Mtb_bal;AAACCCAAGTGCACCC_1 Mtb_bal;AAACCCAAGTGCACCC_1 Subject 1 macrophage\n",
       "Mtb_bal;AAACCCAGTGAGCTCC_1 Mtb_bal;AAACCCAGTGAGCTCC_1 Subject 1 macrophage\n",
       "Mtb_bal;AAACCCAGTTCTTAGG_1 Mtb_bal;AAACCCAGTTCTTAGG_1 Subject 1 macrophage\n",
       "Mtb_bal;AAACGAACATACATCG_1 Mtb_bal;AAACGAACATACATCG_1 Subject 1 macrophage\n",
       "Mtb_bal;AAACGCTAGTCGAATA_1 Mtb_bal;AAACGCTAGTCGAATA_1 Subject 1 macrophage\n",
       "Mtb_bal;AAACGCTAGTTTAGGA_1 Mtb_bal;AAACGCTAGTTTAGGA_1 Subject 1 macrophage\n",
       "                           sub_cell_type  seurat_clusters_article umap_1   \n",
       "Mtb_bal;AAACCCAAGTGCACCC_1 AM_2_exclusive 7                       1.4329291\n",
       "Mtb_bal;AAACCCAGTGAGCTCC_1 AM_1           0                       2.3964381\n",
       "Mtb_bal;AAACCCAGTTCTTAGG_1 AM_2           1                       0.9477591\n",
       "Mtb_bal;AAACGAACATACATCG_1 AM_2           1                       0.7723368\n",
       "Mtb_bal;AAACGCTAGTCGAATA_1 AM_2           1                       1.6108452\n",
       "Mtb_bal;AAACGCTAGTTTAGGA_1 AM_2           1                       0.7937615\n",
       "                           umap_2   \n",
       "Mtb_bal;AAACCCAAGTGCACCC_1  6.731284\n",
       "Mtb_bal;AAACCCAGTGAGCTCC_1 -2.110921\n",
       "Mtb_bal;AAACCCAGTTCTTAGG_1  4.732689\n",
       "Mtb_bal;AAACGAACATACATCG_1  4.046975\n",
       "Mtb_bal;AAACGCTAGTCGAATA_1  3.760695\n",
       "Mtb_bal;AAACGCTAGTTTAGGA_1  4.901186"
      ]
     },
     "metadata": {},
     "output_type": "display_data"
    }
   ],
   "source": [
    "adata@meta.data = adata@meta.data %>% \n",
    "rename(`_batch` = batch,sub_cell_type = sub_cell_type_1) %>%\n",
    "mutate(\n",
    "    `orig.ident` = cell_id\n",
    ") %>%\n",
    "select(orig.ident,nCount_RNA,nFeature_RNA,cell_id,`_batch`,cell_type,sub_cell_type,seurat_clusters_article,umap_1,umap_2)\n",
    "adata@meta.data %>% head"
   ]
  },
  {
   "cell_type": "code",
   "execution_count": 15,
   "id": "46e47ff1-ead9-465c-9ac2-0cc28eb93cb9",
   "metadata": {},
   "outputs": [
    {
     "data": {
      "text/html": [
       "<table class=\"dataframe\">\n",
       "<caption>A grouped_df: 1 × 2</caption>\n",
       "<thead>\n",
       "\t<tr><th scope=col>cell_type</th><th scope=col>n</th></tr>\n",
       "\t<tr><th scope=col>&lt;chr&gt;</th><th scope=col>&lt;int&gt;</th></tr>\n",
       "</thead>\n",
       "<tbody>\n",
       "\t<tr><td>macrophage</td><td>10357</td></tr>\n",
       "</tbody>\n",
       "</table>\n"
      ],
      "text/latex": [
       "A grouped\\_df: 1 × 2\n",
       "\\begin{tabular}{ll}\n",
       " cell\\_type & n\\\\\n",
       " <chr> & <int>\\\\\n",
       "\\hline\n",
       "\t macrophage & 10357\\\\\n",
       "\\end{tabular}\n"
      ],
      "text/markdown": [
       "\n",
       "A grouped_df: 1 × 2\n",
       "\n",
       "| cell_type &lt;chr&gt; | n &lt;int&gt; |\n",
       "|---|---|\n",
       "| macrophage | 10357 |\n",
       "\n"
      ],
      "text/plain": [
       "  cell_type  n    \n",
       "1 macrophage 10357"
      ]
     },
     "metadata": {},
     "output_type": "display_data"
    },
    {
     "data": {
      "text/html": [
       "<table class=\"dataframe\">\n",
       "<caption>A grouped_df: 8 × 2</caption>\n",
       "<thead>\n",
       "\t<tr><th scope=col>sub_cell_type</th><th scope=col>n</th></tr>\n",
       "\t<tr><th scope=col>&lt;chr&gt;</th><th scope=col>&lt;int&gt;</th></tr>\n",
       "</thead>\n",
       "<tbody>\n",
       "\t<tr><td>AI            </td><td>1410</td></tr>\n",
       "\t<tr><td>AM_1          </td><td>5154</td></tr>\n",
       "\t<tr><td>AM_2          </td><td>3157</td></tr>\n",
       "\t<tr><td>AM_2_exclusive</td><td>  36</td></tr>\n",
       "\t<tr><td>AM_4          </td><td> 281</td></tr>\n",
       "\t<tr><td>AM_IM1        </td><td> 162</td></tr>\n",
       "\t<tr><td>AM_MT         </td><td>  49</td></tr>\n",
       "\t<tr><td>IM_1          </td><td> 108</td></tr>\n",
       "</tbody>\n",
       "</table>\n"
      ],
      "text/latex": [
       "A grouped\\_df: 8 × 2\n",
       "\\begin{tabular}{ll}\n",
       " sub\\_cell\\_type & n\\\\\n",
       " <chr> & <int>\\\\\n",
       "\\hline\n",
       "\t AI             & 1410\\\\\n",
       "\t AM\\_1           & 5154\\\\\n",
       "\t AM\\_2           & 3157\\\\\n",
       "\t AM\\_2\\_exclusive &   36\\\\\n",
       "\t AM\\_4           &  281\\\\\n",
       "\t AM\\_IM1         &  162\\\\\n",
       "\t AM\\_MT          &   49\\\\\n",
       "\t IM\\_1           &  108\\\\\n",
       "\\end{tabular}\n"
      ],
      "text/markdown": [
       "\n",
       "A grouped_df: 8 × 2\n",
       "\n",
       "| sub_cell_type &lt;chr&gt; | n &lt;int&gt; |\n",
       "|---|---|\n",
       "| AI             | 1410 |\n",
       "| AM_1           | 5154 |\n",
       "| AM_2           | 3157 |\n",
       "| AM_2_exclusive |   36 |\n",
       "| AM_4           |  281 |\n",
       "| AM_IM1         |  162 |\n",
       "| AM_MT          |   49 |\n",
       "| IM_1           |  108 |\n",
       "\n"
      ],
      "text/plain": [
       "  sub_cell_type  n   \n",
       "1 AI             1410\n",
       "2 AM_1           5154\n",
       "3 AM_2           3157\n",
       "4 AM_2_exclusive   36\n",
       "5 AM_4            281\n",
       "6 AM_IM1          162\n",
       "7 AM_MT            49\n",
       "8 IM_1            108"
      ]
     },
     "metadata": {},
     "output_type": "display_data"
    },
    {
     "data": {
      "text/html": [
       "<table class=\"dataframe\">\n",
       "<caption>A grouped_df: 1 × 2</caption>\n",
       "<thead>\n",
       "\t<tr><th scope=col>macr_cell_type</th><th scope=col>n</th></tr>\n",
       "\t<tr><th scope=col>&lt;chr&gt;</th><th scope=col>&lt;int&gt;</th></tr>\n",
       "</thead>\n",
       "<tbody>\n",
       "\t<tr><td>macrophage</td><td>10357</td></tr>\n",
       "</tbody>\n",
       "</table>\n"
      ],
      "text/latex": [
       "A grouped\\_df: 1 × 2\n",
       "\\begin{tabular}{ll}\n",
       " macr\\_cell\\_type & n\\\\\n",
       " <chr> & <int>\\\\\n",
       "\\hline\n",
       "\t macrophage & 10357\\\\\n",
       "\\end{tabular}\n"
      ],
      "text/markdown": [
       "\n",
       "A grouped_df: 1 × 2\n",
       "\n",
       "| macr_cell_type &lt;chr&gt; | n &lt;int&gt; |\n",
       "|---|---|\n",
       "| macrophage | 10357 |\n",
       "\n"
      ],
      "text/plain": [
       "  macr_cell_type n    \n",
       "1 macrophage     10357"
      ]
     },
     "metadata": {},
     "output_type": "display_data"
    }
   ],
   "source": [
    "adata = subset(adata,subset= cell_type == 'macrophage')\n",
    "adata@meta.data = adata@meta.data %>% mutate(\n",
    "    macr_cell_type = cell_type,.after = sub_cell_type\n",
    ")\n",
    "\n",
    "adata@meta.data %>% group_by(cell_type) %>% count\n",
    "adata@meta.data %>% group_by(sub_cell_type) %>% count\n",
    "adata@meta.data %>% group_by(macr_cell_type ) %>% count"
   ]
  },
  {
   "cell_type": "code",
   "execution_count": 16,
   "id": "b7a10170-3be1-4073-a919-764aa97a89b6",
   "metadata": {
    "tags": []
   },
   "outputs": [
    {
     "name": "stderr",
     "output_type": "stream",
     "text": [
      "Warning message in write.csv(., file.path(p_dir, sprintf(\"%sobs.csv\", prefixes)), :\n",
      "“attempt to set 'col.names' ignored”\n"
     ]
    },
    {
     "name": "stdout",
     "output_type": "stream",
     "text": [
      "[out] ../Mtb_h_macrophage_GSE167232"
     ]
    }
   ],
   "source": [
    "p_out = '../Mtb_h_macrophage_GSE167232'\n",
    "serurat_to_mtx(adata,p_out)"
   ]
  },
  {
   "cell_type": "code",
   "execution_count": 17,
   "id": "13cdcdef-c8d1-4bc6-8fb3-315d4447a0d9",
   "metadata": {},
   "outputs": [
    {
     "name": "stdout",
     "output_type": "stream",
     "text": [
      "\n",
      "[finish]\n"
     ]
    }
   ],
   "source": [
    "cat('\\n[finish]\\n')"
   ]
  }
 ],
 "metadata": {
  "kernelspec": {
   "display_name": "R_publish",
   "language": "R",
   "name": "r_publish"
  },
  "language_info": {
   "codemirror_mode": "r",
   "file_extension": ".r",
   "mimetype": "text/x-r-source",
   "name": "R",
   "pygments_lexer": "r",
   "version": "4.3.3"
  }
 },
 "nbformat": 4,
 "nbformat_minor": 5
}
