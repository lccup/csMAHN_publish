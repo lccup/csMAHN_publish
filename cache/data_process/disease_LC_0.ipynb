{
 "cells": [
  {
   "cell_type": "markdown",
   "id": "7d28ed9e-610a-4daf-a54a-bb854f163dc2",
   "metadata": {},
   "source": [
    "# disease_LC_0\n",
    "\n",
    "整理GSE127465数据集,最后输出`cache/parameter_LC.csv`\n",
    "\n",
    "更新时间 2024年3月26日\n",
    "\n",
    "# [PMC6620049](https://www.ncbi.nlm.nih.gov/pmc/articles/PMC6620049/)\n",
    "\n",
    "> [GSE127465](https://www.ncbi.nlm.nih.gov/geo/query/acc.cgi?acc=GSE127465)\n",
    "\n",
    "|sp|tissue|status|\n",
    "|:-:|:-:|:-:|\n",
    "|h|blood|tumor|\n",
    "|h|liver|tumor|\n",
    "|m|liver|tumor|\n",
    "|m|liver|healthy|\n",
    "\n",
    "\n",
    "+ immue cell 大类群\n",
    "+ immue cell 亚类\n",
    "    + Neutrophil\n",
    "    + Dendritic Cells\n",
    "    + Monocyte"
   ]
  },
  {
   "cell_type": "code",
   "execution_count": 1,
   "id": "617b4fcc-7f29-40f6-b912-4aca085dbd51",
   "metadata": {},
   "outputs": [],
   "source": [
    "import sys\n",
    "from pathlib import Path\n",
    "p_root = Path('~/link/res_publish').expanduser()\n",
    "None if str(p_root) in sys.path else sys.path.append(str(p_root))"
   ]
  },
  {
   "cell_type": "code",
   "execution_count": null,
   "id": "0e41ded1-4adf-45a1-9239-737a145743eb",
   "metadata": {},
   "outputs": [],
   "source": [
    "from func import *"
   ]
  },
  {
   "cell_type": "code",
   "execution_count": null,
   "id": "76782c34-6620-409e-82a0-81969f81df94",
   "metadata": {},
   "outputs": [],
   "source": [
    "p_root_item = p_cache.joinpath('disease','LC_GSE127465')\n",
    "\n",
    "def limite_func(adata, key, value):\n",
    "    adata = adata.copy()\n",
    "    adata = adata[adata.obs[key].str.match(value)]\n",
    "    return adata\n",
    "\n",
    "\n",
    "map_limite_func = {\n",
    "\n",
    "    \"allImm\": lambda adata: adata,\n",
    "    \n",
    "    \"DendriticCells\": lambda adata: limite_func(\n",
    "        adata, key=\"sub_cell_type\", value=\"p?(Mono)?DC\\\\d?\"\n",
    "    ),\n",
    "\n",
    "    \"Monocyte\": lambda adata: limite_func(\n",
    "        adata, key=\"sub_cell_type\", value=\"Mono\\\\d\"\n",
    "    ),\n",
    "    \"Neutrophils\": lambda adata: limite_func(\n",
    "        adata, key=\"cell_type\", value=\"^Neutrophils$\"\n",
    "    ),\n",
    "}"
   ]
  },
  {
   "cell_type": "code",
   "execution_count": null,
   "id": "c41a1596-42a7-4089-b708-d3a816f4fe40",
   "metadata": {},
   "outputs": [],
   "source": [
    "df_path = pd.DataFrame({\n",
    "    'path': p_root_item.joinpath('GSE127465_RAW').iterdir()\n",
    "})\n",
    "df_path['name'] = df_path['path'].apply(lambda x: x.name)\n",
    "df_path = df_path[df_path['path'].apply(lambda x: x.match('*raw_counts*'))]\n",
    "df_path = df_path.join(df_path['name'].str.extract(\n",
    "    '^(?P<gsm_id>GSM\\\\d+)_(?P<sp>[^_]+)_(?P<sample>.+)_raw_counts.tsv.gz'))\n",
    "display(df_path.head(2), df_path.shape)"
   ]
  },
  {
   "cell_type": "code",
   "execution_count": null,
   "id": "4de8f106-6100-4981-bbdb-e278f42dff46",
   "metadata": {},
   "outputs": [],
   "source": [
    "html_table = pd.read_csv(\n",
    "    'GSE127465_html_table.csv',\n",
    "    index_col=None,\n",
    "    header=None,\n",
    "    names=[\n",
    "        'gsm_id',\n",
    "        'tag'])\n",
    "html_table = html_table.join(html_table['tag'].str.extract(\n",
    "    '^(?P<sample_fullname>\\\\w+) \\\\[(?P<sp>[^_]+)_(?P<sample>\\\\w+)]'))\n",
    "display(html_table.head(2), html_table.shape)\n",
    "[print('{}\\t{} is unique'.format(html_table[_].is_unique, _))\n",
    " for _ in html_table.columns]\n",
    "\n",
    "df_path = df_path.merge(html_table.loc[:, 'gsm_id,sample_fullname'.split(\n",
    "    ',')], on='gsm_id').sort_values(['sp', 'sample'])"
   ]
  },
  {
   "cell_type": "code",
   "execution_count": null,
   "id": "34a0b238-6fcc-4a55-80c7-9beed6b4782d",
   "metadata": {},
   "outputs": [],
   "source": [
    "df_path['tissue'] = 'lung'\n",
    "df_path['tissue'] = df_path['tissue'].mask(\n",
    "    df_path['sample_fullname'].str.contains('blood'), 'blood')\n",
    "df_path['status'] = ''\n",
    "df_path['status'] = df_path['status'].mask(\n",
    "    df_path['sample_fullname'].str.contains('healthy'), 'healthy')\n",
    "df_path['status'] = df_path['status'].mask(\n",
    "    df_path['sample_fullname'].str.contains('patient'), 'tumor')\n",
    "df_path['status'] = df_path['status'].mask(\n",
    "    df_path['sample_fullname'].str.contains('tumor'), 'tumor')\n",
    "df_path['individual'] = df_path['sample_fullname']\\\n",
    "    .str.extract('([mousepaint]+_\\\\d)', expand=False)\\\n",
    "    .str.replace('patient', 'human', regex=False)\\\n",
    "    .apply(lambda x: '{}{}'.format(x[0], x[-1]))\n",
    "df_path['repeat'] = df_path['sample'].str.extract('(\\\\d)$', expand=False)\n",
    "df_path['_batch'] = df_path.apply(lambda row: '{}{}{}_{}'.format(\n",
    "    row['individual'], row['status'][0], row['tissue'][0], row['repeat']\n",
    "), axis=1)"
   ]
  },
  {
   "cell_type": "code",
   "execution_count": null,
   "id": "a33f74e3-cb15-4a91-b64f-084ce0182cd8",
   "metadata": {},
   "outputs": [],
   "source": [
    "df_path.loc[:, '_batch,sp,individual,status,tissue,repeat'.split(\n",
    "    ',')].head(2)"
   ]
  },
  {
   "cell_type": "markdown",
   "id": "e1d245a6-b2fc-40ec-b97d-e8a1fd3675fe",
   "metadata": {},
   "source": [
    "# human"
   ]
  },
  {
   "cell_type": "code",
   "execution_count": null,
   "id": "bdfb3a43-8570-4c6d-96a4-926c58b516c9",
   "metadata": {},
   "outputs": [],
   "source": [
    "df_meta_h = pd.read_csv(\n",
    "    p_root_item.joinpath('GSE127465_human_cell_metadata_54773x25.tsv.gz'),\n",
    "    sep='\\t',\n",
    "    index_col=None)\n",
    "\n",
    "print(*df_meta_h.columns, sep='\\n')\n",
    "df_meta_h = df_meta_h.loc[:,\n",
    "                          'Barcode,Library,Patient,Major cell type,Minor subset,used_in_NSCLC_immune,x_NSCLC_immune,y_NSCLC_immune'.split(',')]\n",
    "df_meta_h = pd.merge(\n",
    "    df_path.loc[:, 'sample,_batch,sp,individual,status,tissue,repeat'.split(',')],\n",
    "    df_meta_h,\n",
    "    left_on='sample', right_on='Library'\n",
    ")\n",
    "\n",
    "_temp = df_meta_h.apply(\n",
    "    lambda row: '{Barcode};{Library}'.format(\n",
    "        **row), axis=1)\n",
    "assert _temp.is_unique, '[Error] not unique'\n",
    "df_meta_h.index = _temp.to_numpy()\n",
    "del _temp\n",
    "display(df_meta_h.head(2), df_meta_h.shape)\n",
    "\n",
    "df_path_h = df_path.query(\"sp == 'human'\")"
   ]
  },
  {
   "cell_type": "code",
   "execution_count": null,
   "id": "d83f92ae-1df1-44d1-a853-88330ec49966",
   "metadata": {},
   "outputs": [],
   "source": [
    "df_path_h.index = np.arange(df_path_h.shape[0])\n",
    "p_temp_h = p_cache.joinpath('disease', 'temp_LC_h.h5ad')\n",
    "adata_h = None\n",
    "if p_temp_h.exists():\n",
    "    adata_h = sc.read_h5ad(p_temp_h)\n",
    "else:\n",
    "    res_h = {}\n",
    "    for _i, _row in df_path_h.iterrows():\n",
    "        print('\\r[{}/{}]{}'.format(_i+1,\n",
    "                                   df_path_h.shape[0],\n",
    "                                   _row['sample']).ljust(75, '-'), end='')\n",
    "        _adata = None\n",
    "        _adata = sc.read_csv(_row['path'], delimiter='\\t')\n",
    "        res_h.update({\n",
    "            _row['sample']: _adata\n",
    "        })\n",
    "    print('sample\\tobs_unique\\tvar_unique')\n",
    "    for k, v in res_h.items():\n",
    "        print(\n",
    "            '{}\\t{}\\t{}'.format(\n",
    "                k,\n",
    "                v.obs.index.is_unique,\n",
    "                v.var.index.is_unique))\n",
    "\n",
    "    adata_h = sc.concat(res_h, index_unique=';')\n",
    "    adata_h.X = csr_matrix(adata_h.X)\n",
    "    display(type(adata_h.X))\n",
    "    del res_h\n",
    "    display(\n",
    "        adata_h.obs.head(2),\n",
    "        adata_h.obs.shape,\n",
    "        adata_h.obs.index.is_unique,\n",
    "        adata_h.var.head(2),\n",
    "        adata_h.var.shape,\n",
    "        adata_h.var.index.is_unique)\n",
    "\n",
    "    display(\n",
    "        pd.Series(\n",
    "            df_meta_h.index.isin(\n",
    "                adata_h.obs.index)).value_counts(), pd.Series(\n",
    "            adata_h.obs.index.isin(\n",
    "                df_meta_h.index)).value_counts())\n",
    "    adata_h = adata_h[adata_h.obs.index.isin(df_meta_h.index)]\n",
    "    adata_h.obs = adata_h.obs.loc[:, []].join(df_meta_h)\n",
    "\n",
    "    adata_h.write_h5ad(p_temp_h)\n",
    "    print('[out] {}'.format(p_temp_h.name))\n",
    "adata_h.obs = adata_h.obs.apply(lambda x: x.astype(str) if x.dtype.name == 'category' else x)\n",
    "display(adata_h, adata_h.obs.head(2))"
   ]
  },
  {
   "cell_type": "code",
   "execution_count": null,
   "id": "43581445-bcb6-4dcc-b7f6-27d1059ec4ef",
   "metadata": {},
   "outputs": [],
   "source": [
    "adata_h.obs['barcode'] = adata_h.obs.index.str.extract(\n",
    "    '(\\\\w+);', expand=False)\n",
    "_temp = adata_h.obs.apply(\n",
    "    lambda row: '{barcode};{_batch}'.format(\n",
    "        **row), axis=1)\n",
    "assert _temp.is_unique, '[Error] not unique'\n",
    "adata_h.obs.index = _temp\n",
    "display(adata_h.obs.head(2), adata_h.obs.shape)\n",
    "del _temp"
   ]
  },
  {
   "cell_type": "markdown",
   "id": "37a0ee87-8529-475e-86d0-579a01420faf",
   "metadata": {},
   "source": [
    "## human blood and lung cancer"
   ]
  },
  {
   "cell_type": "code",
   "execution_count": null,
   "id": "7f10efb5-c393-41df-ac79-ea8058b09314",
   "metadata": {},
   "outputs": [],
   "source": [
    "adata_hb = adata_h[adata_h.obs['tissue'] == 'blood', :]\n",
    "adata_hl = adata_h[adata_h.obs.index.isin(\n",
    "    adata_h.obs.query(\"used_in_NSCLC_immune & tissue == 'lung'\").index), :]\n",
    "display(adata_hb, adata_hl)"
   ]
  },
  {
   "cell_type": "code",
   "execution_count": null,
   "id": "8e924d15-9696-4bbf-8777-c6a516cb8eec",
   "metadata": {
    "scrolled": true
   },
   "outputs": [],
   "source": [
    "display(adata_hl.obs['Major cell type'].unique())\n",
    "adata_hl.obs['cell_type'] = adata_hl.obs['Major cell type'].str.replace(\n",
    "    '^t', '', regex=True)\n",
    "display(adata_hl.obs['cell_type'].unique())\n",
    "display(\n",
    "    group_agg(\n",
    "        adata_hl.obs, [\n",
    "            'Major cell type', 'cell_type'], {\n",
    "                'cell_type': ['count']}))\n",
    "assert not adata_hl.obs['cell_type'].isna().any(), '[Error] nan'\n",
    "\n",
    "display(adata_hl.obs['Minor subset'].unique())\n",
    "adata_hl.obs['sub_cell_type'] = adata_hl.obs['Minor subset'].str.replace(\n",
    "    '^t', '', regex=True)\n",
    "display(adata_hl.obs['sub_cell_type'].unique())\n",
    "display(\n",
    "    group_agg(\n",
    "        adata_hl.obs, [\n",
    "            'Minor subset', 'sub_cell_type'], {\n",
    "                'sub_cell_type': ['count']}))\n",
    "assert not adata_hl.obs['sub_cell_type'].isna().any(), '[Error] nan'"
   ]
  },
  {
   "cell_type": "code",
   "execution_count": null,
   "id": "bda84449-2ee3-4e42-ad63-2a5fc26b0f59",
   "metadata": {},
   "outputs": [],
   "source": [
    "adata_hl.obs = adata_hl.obs.loc[:,\n",
    "                                '_batch,cell_type,sub_cell_type,sp,individual,status,tissue,repeat,sample,Major cell type,Minor subset,used_in_NSCLC_immune,x_NSCLC_immune,y_NSCLC_immune'.split(',')]\n",
    "display(adata_hl.obs.head(2), adata_hl.obs.shape)"
   ]
  },
  {
   "cell_type": "code",
   "execution_count": null,
   "id": "7d0c2271-5250-47bc-9b20-7e89a47fa5e2",
   "metadata": {},
   "outputs": [],
   "source": [
    "for k, v in map_limite_func.items():\n",
    "    print(k.ljust(75, '-'))\n",
    "    _adata = v(adata_hl)\n",
    "    h5ad_to_mtx(_adata, p_cache.joinpath('disease', 'LC_h_{}'.format(k)))\n",
    "    display(_adata.obs['cell_type' if k == 'allImm' else 'sub_cell_type'].value_counts())\n",
    "print('\\n[finish]\\n'.center(100, '-'))"
   ]
  },
  {
   "cell_type": "code",
   "execution_count": null,
   "id": "940fe21d-c1f3-4548-bc27-3cf437396807",
   "metadata": {},
   "outputs": [],
   "source": [
    "del adata_h,adata_hb,adata_hl"
   ]
  },
  {
   "cell_type": "markdown",
   "id": "2645f940-7775-4596-ba65-03a3e75f7c74",
   "metadata": {},
   "source": [
    "# mouse"
   ]
  },
  {
   "cell_type": "code",
   "execution_count": null,
   "id": "3e5fe6d7-edfe-4dad-806b-3c73240b4ea8",
   "metadata": {},
   "outputs": [],
   "source": [
    "df_meta_m = pd.read_csv(\n",
    "    p_root_item.joinpath('GSE127465_mouse_cell_metadata_15939x12.tsv.gz'),\n",
    "    sep='\\t',\n",
    "    index_col=None)\n",
    "print(*df_meta_m.columns, sep='\\n')\n",
    "df_meta_m = df_meta_m.loc[:,\n",
    "                          'Barcode,Library,Major cell type,Minor subset,x,y'.split(',')]\n",
    "df_meta_m = pd.merge(\n",
    "    df_path.loc[:, 'sample,_batch,sp,individual,status,tissue,repeat'.split(',')],\n",
    "    df_meta_m,\n",
    "    left_on='sample', right_on='Library'\n",
    ")\n",
    "\n",
    "_temp = df_meta_m.apply(\n",
    "    lambda row: '{Barcode};{Library}'.format(\n",
    "        **row), axis=1)\n",
    "assert _temp.is_unique, '[Error] not unique'\n",
    "df_meta_m.index = _temp.to_numpy()\n",
    "del _temp\n",
    "display(df_meta_m.head(2), df_meta_m.shape)\n",
    "\n",
    "df_path_m = df_path.query(\"sp == 'mouse'\")"
   ]
  },
  {
   "cell_type": "code",
   "execution_count": null,
   "id": "a1cd44c2-2800-4d50-bb12-5f45f4471315",
   "metadata": {},
   "outputs": [],
   "source": [
    "df_path_m.index = np.arange(df_path_m.shape[0])\n",
    "p_temp_m = p_cache.joinpath('disease', 'temp_LC_m.h5ad')\n",
    "adata_m = None\n",
    "if p_temp_m.exists():\n",
    "    adata_m = sc.read_h5ad(p_temp_m)\n",
    "else:\n",
    "    res_m = {}\n",
    "    for _i, _row in df_path_m.iterrows():\n",
    "        print('\\r[{}/{}]{}'.format(_i+1,\n",
    "                                   df_path_m.shape[0],\n",
    "                                   _row['sample']).ljust(75, '-'), end='')\n",
    "        _adata = None\n",
    "        _adata = sc.read_csv(_row['path'], delimiter='\\t')\n",
    "        res_m.update({\n",
    "            _row['sample']: _adata\n",
    "        })\n",
    "    print('sample\\tobs_unique\\tvar_unique')\n",
    "    for k, v in res_m.items():\n",
    "        print(\n",
    "            '{}\\t{}\\t{}'.format(\n",
    "                k,\n",
    "                v.obs.index.is_unique,\n",
    "                v.var.index.is_unique))\n",
    "    adata_m = sc.concat(res_m, index_unique=';')\n",
    "    adata_m.X = csr_matrix(adata_m.X)\n",
    "    display(type(adata_m.X))\n",
    "    del res_m\n",
    "    display(\n",
    "        adata_m.obs.head(2),\n",
    "        adata_m.obs.shape,\n",
    "        adata_m.obs.index.is_unique,\n",
    "        adata_m.var.head(2),\n",
    "        adata_m.var.shape,\n",
    "        adata_m.var.index.is_unique)\n",
    "    \n",
    "    display(pd.Series(df_meta_m.index.isin(adata_m.obs.index)).value_counts(),\n",
    "            pd.Series(adata_m.obs.index.isin(df_meta_m.index)).value_counts())\n",
    "    adata_m = adata_m[adata_m.obs.index.isin(df_meta_m.index)]\n",
    "    adata_m.obs = adata_m.obs.loc[:, []].join(df_meta_m)\n",
    "    adata_m.write_h5ad(p_temp_m)\n",
    "    print('[out] {}'.format(p_temp_h.name))\n",
    "adata_m.obs = adata_m.obs.apply(lambda x: x.astype(str) if x.dtype.name == 'category' else x)\n",
    "display(adata_m,adata_m.obs.head(2))"
   ]
  },
  {
   "cell_type": "code",
   "execution_count": null,
   "id": "21eebbda-d454-4f08-b6a0-c2ffc15eabc0",
   "metadata": {},
   "outputs": [],
   "source": [
    "adata_m.obs['barcode'] = adata_m.obs.index.str.extract(\n",
    "    '(\\\\w+);', expand=False)\n",
    "_temp = adata_m.obs.apply(\n",
    "    lambda row: '{barcode};{_batch}'.format(\n",
    "        **row), axis=1)\n",
    "assert _temp.is_unique, '[Error] not unique'\n",
    "adata_m.obs.index = _temp\n",
    "display(adata_m.obs.head(2), adata_m.obs.shape)\n",
    "del _temp"
   ]
  },
  {
   "cell_type": "code",
   "execution_count": null,
   "id": "f9c89dea-7daa-4400-a60f-e6e8d9dcdc49",
   "metadata": {},
   "outputs": [],
   "source": [
    "adata_m.obs['cell_type'] = adata_m.obs['Major cell type']\n",
    "adata_m.obs['sub_cell_type'] = adata_m.obs['Minor subset']\n",
    "adata_m.obs = adata_m.obs.loc[:,\n",
    "                                '_batch,cell_type,sub_cell_type,sp,individual,status,tissue,repeat,sample,Major cell type,Minor subset,x,y'.split(',')]\n",
    "display(adata_m.obs.head(2), adata_m.obs.shape)"
   ]
  },
  {
   "cell_type": "markdown",
   "id": "2e416474-2e2b-4b25-ba94-73ae25489fcd",
   "metadata": {},
   "source": [
    "## mouse heathly and lung canner"
   ]
  },
  {
   "cell_type": "code",
   "execution_count": null,
   "id": "d87ea9bc-cc3f-4b32-9b30-8bb5518e015e",
   "metadata": {},
   "outputs": [],
   "source": [
    "display(adata_m.obs['status'].value_counts())\n",
    "adata_mt = adata_m[adata_m.obs['status'] == 'tumor', :]\n",
    "adata_mh = adata_m[adata_m.obs['status'] == 'healthy', :]\n",
    "display(adata_mt,adata_mh)"
   ]
  },
  {
   "cell_type": "code",
   "execution_count": null,
   "id": "be64666a-7872-4a64-9285-0a96db05bc82",
   "metadata": {
    "scrolled": true
   },
   "outputs": [],
   "source": [
    "for k, v in map_limite_func.items():\n",
    "    print(k.ljust(75, '-'))\n",
    "    _adata = v(adata_mt)\n",
    "    h5ad_to_mtx(_adata, p_cache.joinpath('disease', 'LC_m_{}'.format(k)))\n",
    "    display(_adata.obs.shape,_adata.obs['cell_type' if k == 'allImm' else 'sub_cell_type'].value_counts())\n",
    "print('\\n[finish]\\n'.center(100, '-'))"
   ]
  },
  {
   "cell_type": "code",
   "execution_count": null,
   "id": "c3bea2f4-124e-4092-b659-4b50e9b2d6a0",
   "metadata": {},
   "outputs": [],
   "source": [
    "del adata_m,adata_mh,adata_mt,_adata"
   ]
  },
  {
   "cell_type": "markdown",
   "id": "e588fa51-0efc-4b30-8680-ff3b6a3ef94e",
   "metadata": {},
   "source": [
    "# info and parameters"
   ]
  },
  {
   "cell_type": "code",
   "execution_count": null,
   "id": "b0aa483e-aa34-4247-8c79-54e01b8376f2",
   "metadata": {},
   "outputs": [],
   "source": [
    "info = pd.DataFrame({\n",
    "    'path': p_cache.joinpath('disease').iterdir()\n",
    "})\n",
    "info['name'] = info['path'].apply(lambda x: x.name)\n",
    "info = info[info['name'] != 'LC_GSE127465'\t]\n",
    "info = info[info['path'].apply(lambda x: x.match('*/LC_*'))]\n",
    "info = info.join(info['name'].str.extract(\n",
    "    \"LC_(?P<sp_simple>[hm])_(?P<tag>\\\\w+)\"))\n",
    "info['name'] = info.apply(lambda row: 'LC{}{}'.format(row['sp_simple'],\n",
    "                                       {\n",
    "    'allImm': 'all',\n",
    "    'Monocyte': 'Mono',\n",
    "    'Neutrophils': 'Neu',\n",
    "    'DendriticCells': 'DCs'\n",
    "}.setdefault(row['tag'], '')), axis=1)\n",
    "info['sp'] = info['sp_simple'].map(map_sp)\n",
    "info['tissue'] = 'LC'\n",
    "info= info.loc[:,'tissue,sp,path,name,sp_simple,tag'.split(',')]\n",
    "info['path'] = info['path'].apply(lambda x:x.relative_to(p_cache))\n",
    "info.to_csv(p_cache.joinpath('info_LC.csv'),index=False)\n",
    "info"
   ]
  },
  {
   "cell_type": "code",
   "execution_count": null,
   "id": "7dbaea35-dc12-469e-b5f9-789baea8611d",
   "metadata": {},
   "outputs": [],
   "source": [
    "df_para = pd.merge(\n",
    "    info.query(\"sp == 'human'\"),\n",
    "info.query(\"sp == 'mouse'\"),\n",
    "on=['tissue','tag'],suffixes=('_ref','_que')\n",
    ")\n",
    "df_para['key_cell_type'] = df_para['tag'].apply(lambda x:\"cell_type\" if x == \"allImm\" else \"sub_cell_type\")\n",
    "df_para = df_para.drop(columns=['tag'])\n",
    "df_para['tissue'] = 'LC'\n",
    "display(df_para)\n",
    "print(*df_para.columns,sep='\\n')"
   ]
  },
  {
   "cell_type": "code",
   "execution_count": null,
   "id": "8b3a7400-47dd-40b9-b139-fd53654f5923",
   "metadata": {},
   "outputs": [],
   "source": [
    "df_para.to_csv(p_cache.joinpath('parameter_LC.csv'),index=False)\n",
    "print(\"\\n[finish]\\n\".center(100,\"-\"))"
   ]
  }
 ],
 "metadata": {
  "kernelspec": {
   "display_name": "publish",
   "language": "python",
   "name": "publish"
  },
  "language_info": {
   "codemirror_mode": {
    "name": "ipython",
    "version": 3
   },
   "file_extension": ".py",
   "mimetype": "text/x-python",
   "name": "python",
   "nbconvert_exporter": "python",
   "pygments_lexer": "ipython3",
   "version": "3.9.18"
  }
 },
 "nbformat": 4,
 "nbformat_minor": 5
}
