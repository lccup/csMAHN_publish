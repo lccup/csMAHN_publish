{
 "cells": [
  {
   "cell_type": "code",
   "execution_count": 1,
   "id": "f6286288-ef74-4b69-9c48-7ba656dc8197",
   "metadata": {},
   "outputs": [],
   "source": [
    "import sys\n",
    "from pathlib import Path\n",
    "p_root = Path('~/link/res_publish').expanduser()\n",
    "None if str(p_root) in sys.path else sys.path.append(str(p_root))"
   ]
  },
  {
   "cell_type": "code",
   "execution_count": null,
   "id": "a978e058-f462-470a-abc1-b78b6644bf7e",
   "metadata": {
    "scrolled": true
   },
   "outputs": [
    {
     "name": "stderr",
     "output_type": "stream",
     "text": [
      "2024-08-23 19:34:26.834068: I tensorflow/core/platform/cpu_feature_guard.cc:182] This TensorFlow binary is optimized to use available CPU instructions in performance-critical operations.\n",
      "To enable the following instructions: SSE4.1 SSE4.2 AVX AVX2 AVX512F FMA, in other operations, rebuild TensorFlow with the appropriate compiler flags.\n"
     ]
    }
   ],
   "source": [
    "from func import *\n",
    "from utils.general import *\n",
    "import utils as ut\n",
    "pl = ut.pl"
   ]
  },
  {
   "cell_type": "code",
   "execution_count": null,
   "id": "f0c88726-46bb-4510-ad9c-6253e42d5d52",
   "metadata": {},
   "outputs": [],
   "source": [
    "info = pd.read_csv('info_COVID.csv')\n",
    "info = ut.df.reindex_with_unique_col(info,'name')\n",
    "info"
   ]
  },
  {
   "cell_type": "code",
   "execution_count": null,
   "id": "3c52c3be-1206-4d61-ad96-890deb86b839",
   "metadata": {},
   "outputs": [],
   "source": [
    "info.loc['COVID-ma,COVID-ma-mar'.split(','),\n",
    "    'sp,path,name,sp_simple'.split(',')]\\\n",
    "    .rename(columns = lambda x: 'que_{}'.format(x))\\\n",
    "    .reset_index(drop=True)"
   ]
  },
  {
   "cell_type": "code",
   "execution_count": null,
   "id": "e8c194fb-d0a9-4b97-9d64-f0f95c70fc5f",
   "metadata": {},
   "outputs": [],
   "source": [
    "df_para = pd.concat([info.loc['COVID-ma,COVID-ma-mar,COVID-ma-c,COVID-ma-mar-c'.split(','),\n",
    "    'sp,path,name,sp_simple'.split(',')]\\\n",
    "    .rename(columns = lambda x: '{}_ref'.format(x))\\\n",
    "    .reset_index(drop=True),\n",
    "info.loc['COVID-hu,COVID-hu-mar,COVID-hu,COVID-hu-mar'.split(','),\n",
    "    'sp,path,name,sp_simple'.split(',')]\\\n",
    "    .rename(columns = lambda x: '{}_que'.format(x))\\\n",
    "    .reset_index(drop=True)],axis=1)\n",
    "df_para['tissue'] = \"COVID\"\n",
    "df_para['key_cell_type'] = df_para['name_ref'].map({\n",
    "    'COVID-hu':'cell_type','COVID-hu-mar':'sub_cell_type',\n",
    "    'COVID-ma':'cell_type','COVID-ma-mar':'sub_cell_type',\n",
    "    'COVID-ma-c':'cell_type','COVID-ma-mar-c':'sub_cell_type'\n",
    "})\n",
    "df_para = df_para.loc[:,'tissue,sp_ref,path_ref,name_ref,sp_simple_ref,sp_que,path_que,name_que,sp_simple_que,key_cell_type'.split(',')]\n",
    "ut.df.show(df_para,5)\n",
    "df_para.to_csv('parameter_COVID.csv',index=False)\n",
    "print('[out] {}'.format('parameter_COVID.csv'))"
   ]
  }
 ],
 "metadata": {
  "kernelspec": {
   "display_name": "publish",
   "language": "python",
   "name": "publish"
  },
  "language_info": {
   "codemirror_mode": {
    "name": "ipython",
    "version": 3
   },
   "file_extension": ".py",
   "mimetype": "text/x-python",
   "name": "python",
   "nbconvert_exporter": "python",
   "pygments_lexer": "ipython3",
   "version": "3.9.18"
  }
 },
 "nbformat": 4,
 "nbformat_minor": 5
}
