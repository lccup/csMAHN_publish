{
 "cells": [
  {
   "cell_type": "markdown",
   "id": "c3c21988-e7bd-413a-b8eb-245db749fb8b",
   "metadata": {},
   "source": [
    "# update_df_varmap\n",
    "\n",
    "维护`homo/df_varmap.csv`,该文件中存储源于biomart的物种间同源信息的文件路径\n",
    "\n",
    "最后更新2024年4月2日\n",
    "\n",
    "# [biomart](https://www.ensembl.org/biomart/martview)"
   ]
  },
  {
   "cell_type": "code",
   "execution_count": 1,
   "id": "cee615ff-a702-4b9e-bca0-119008bf008c",
   "metadata": {
    "tags": []
   },
   "outputs": [],
   "source": [
    "import sys\n",
    "from pathlib import Path\n",
    "p_root = Path('.').absolute().parent\n",
    "None if str(p_root) in sys.path else sys.path.append(str(p_root))"
   ]
  },
  {
   "cell_type": "code",
   "execution_count": 2,
   "id": "118b8414-ae1d-49dd-9c38-7022a38c79fb",
   "metadata": {},
   "outputs": [
    {
     "name": "stderr",
     "output_type": "stream",
     "text": [
      "/public/workspace/licanchengup/apps/miniconda3/envs/publish/lib/python3.9/site-packages/tqdm/auto.py:21: TqdmWarning: IProgress not found. Please update jupyter and ipywidgets. See https://ipywidgets.readthedocs.io/en/stable/user_install.html\n",
      "  from .autonotebook import tqdm as notebook_tqdm\n",
      "2024-04-02 12:43:44.701507: I tensorflow/core/platform/cpu_feature_guard.cc:182] This TensorFlow binary is optimized to use available CPU instructions in performance-critical operations.\n",
      "To enable the following instructions: SSE4.1 SSE4.2 AVX AVX2 AVX512F FMA, in other operations, rebuild TensorFlow with the appropriate compiler flags.\n"
     ]
    },
    {
     "name": "stdout",
     "output_type": "stream",
     "text": [
      "\n",
      "-------------------------help-------------------------\n",
      "> parameter\n",
      "    p_root\t[name] res_publish\n",
      "        p_run, p_plot, p_res, p_cache\n",
      "    p_df_varmap\n",
      "    map_sp_reverse\n",
      "    rng\n",
      "> run\n",
      "    run_cross_species_models\n",
      "    h5ad_to_mtx\n",
      "    load_adata\n",
      "    get_path_varmap\n",
      "    find_path_from_para\n",
      "    load_normalized_adata\n",
      "\n",
      "> res\n",
      "    get_test_result_df\n",
      "    get_res_obs\n",
      "    show_umap\n",
      "\n",
      "> plot\n",
      "    get_color_map\n",
      "    show_color_map\n",
      "    show_color\n",
      "    plot_umap\n",
      "    savefig\n",
      "\n"
     ]
    }
   ],
   "source": [
    "from func import group_agg,pd,np"
   ]
  },
  {
   "cell_type": "code",
   "execution_count": 3,
   "id": "cb580138-f06f-4cd5-973f-a8a7da7a907f",
   "metadata": {},
   "outputs": [
    {
     "data": {
      "text/html": [
       "<style type=\"text/css\">\n",
       "</style>\n",
       "<table id=\"T_71991\">\n",
       "  <thead>\n",
       "    <tr>\n",
       "      <th class=\"index_name level0\" >is_reverse</th>\n",
       "      <th id=\"T_71991_level0_col0\" class=\"col_heading level0 col0\" >False</th>\n",
       "      <th id=\"T_71991_level0_col1\" class=\"col_heading level0 col1\" >True</th>\n",
       "    </tr>\n",
       "    <tr>\n",
       "      <th class=\"index_name level0\" >tag</th>\n",
       "      <th class=\"blank col0\" >&nbsp;</th>\n",
       "      <th class=\"blank col1\" >&nbsp;</th>\n",
       "    </tr>\n",
       "  </thead>\n",
       "  <tbody>\n",
       "    <tr>\n",
       "      <th id=\"T_71991_level0_row0\" class=\"row_heading level0 row0\" >chicken_to_zebrafish</th>\n",
       "      <td id=\"T_71991_row0_col0\" class=\"data row0 col0\" >1</td>\n",
       "      <td id=\"T_71991_row0_col1\" class=\"data row0 col1\" >1</td>\n",
       "    </tr>\n",
       "    <tr>\n",
       "      <th id=\"T_71991_level0_row1\" class=\"row_heading level0 row1\" >human_to_macaque</th>\n",
       "      <td id=\"T_71991_row1_col0\" class=\"data row1 col0\" >1</td>\n",
       "      <td id=\"T_71991_row1_col1\" class=\"data row1 col1\" >1</td>\n",
       "    </tr>\n",
       "    <tr>\n",
       "      <th id=\"T_71991_level0_row2\" class=\"row_heading level0 row2\" >human_to_mouse</th>\n",
       "      <td id=\"T_71991_row2_col0\" class=\"data row2 col0\" >1</td>\n",
       "      <td id=\"T_71991_row2_col1\" class=\"data row2 col1\" >1</td>\n",
       "    </tr>\n",
       "    <tr>\n",
       "      <th id=\"T_71991_level0_row3\" class=\"row_heading level0 row3\" >human_to_zebrafish</th>\n",
       "      <td id=\"T_71991_row3_col0\" class=\"data row3 col0\" >1</td>\n",
       "      <td id=\"T_71991_row3_col1\" class=\"data row3 col1\" >1</td>\n",
       "    </tr>\n",
       "    <tr>\n",
       "      <th id=\"T_71991_level0_row4\" class=\"row_heading level0 row4\" >macaque_to_mouse</th>\n",
       "      <td id=\"T_71991_row4_col0\" class=\"data row4 col0\" >1</td>\n",
       "      <td id=\"T_71991_row4_col1\" class=\"data row4 col1\" >1</td>\n",
       "    </tr>\n",
       "    <tr>\n",
       "      <th id=\"T_71991_level0_row5\" class=\"row_heading level0 row5\" >macaque_to_pig</th>\n",
       "      <td id=\"T_71991_row5_col0\" class=\"data row5 col0\" >1</td>\n",
       "      <td id=\"T_71991_row5_col1\" class=\"data row5 col1\" >1</td>\n",
       "    </tr>\n",
       "    <tr>\n",
       "      <th id=\"T_71991_level0_row6\" class=\"row_heading level0 row6\" >mouse_to_pig</th>\n",
       "      <td id=\"T_71991_row6_col0\" class=\"data row6 col0\" >1</td>\n",
       "      <td id=\"T_71991_row6_col1\" class=\"data row6 col1\" >1</td>\n",
       "    </tr>\n",
       "    <tr>\n",
       "      <th id=\"T_71991_level0_row7\" class=\"row_heading level0 row7\" >mouse_to_zebrafish</th>\n",
       "      <td id=\"T_71991_row7_col0\" class=\"data row7 col0\" >1</td>\n",
       "      <td id=\"T_71991_row7_col1\" class=\"data row7 col1\" >1</td>\n",
       "    </tr>\n",
       "    <tr>\n",
       "      <th id=\"T_71991_level0_row8\" class=\"row_heading level0 row8\" >xenopus_to_zebrafish</th>\n",
       "      <td id=\"T_71991_row8_col0\" class=\"data row8 col0\" >1</td>\n",
       "      <td id=\"T_71991_row8_col1\" class=\"data row8 col1\" >1</td>\n",
       "    </tr>\n",
       "  </tbody>\n",
       "</table>\n"
      ],
      "text/plain": [
       "<pandas.io.formats.style.Styler at 0x7fc9182bab20>"
      ]
     },
     "metadata": {},
     "output_type": "display_data"
    },
    {
     "data": {
      "text/html": [
       "<div>\n",
       "<style scoped>\n",
       "    .dataframe tbody tr th:only-of-type {\n",
       "        vertical-align: middle;\n",
       "    }\n",
       "\n",
       "    .dataframe tbody tr th {\n",
       "        vertical-align: top;\n",
       "    }\n",
       "\n",
       "    .dataframe thead th {\n",
       "        text-align: right;\n",
       "    }\n",
       "</style>\n",
       "<table border=\"1\" class=\"dataframe\">\n",
       "  <thead>\n",
       "    <tr style=\"text-align: right;\">\n",
       "      <th></th>\n",
       "      <th>path</th>\n",
       "      <th>name</th>\n",
       "      <th>sp_ref</th>\n",
       "      <th>sp_que</th>\n",
       "      <th>tag</th>\n",
       "      <th>is_reverse</th>\n",
       "    </tr>\n",
       "  </thead>\n",
       "  <tbody>\n",
       "    <tr>\n",
       "      <th>0</th>\n",
       "      <td>zebrafish_to_mouse.txt</td>\n",
       "      <td>zebrafish_to_mouse</td>\n",
       "      <td>zebrafish</td>\n",
       "      <td>mouse</td>\n",
       "      <td>mouse_to_zebrafish</td>\n",
       "      <td>True</td>\n",
       "    </tr>\n",
       "    <tr>\n",
       "      <th>1</th>\n",
       "      <td>zebrafish_to_xenopus.txt</td>\n",
       "      <td>zebrafish_to_xenopus</td>\n",
       "      <td>zebrafish</td>\n",
       "      <td>xenopus</td>\n",
       "      <td>xenopus_to_zebrafish</td>\n",
       "      <td>True</td>\n",
       "    </tr>\n",
       "  </tbody>\n",
       "</table>\n",
       "</div>"
      ],
      "text/plain": [
       "                       path                  name     sp_ref   sp_que  \\\n",
       "0    zebrafish_to_mouse.txt    zebrafish_to_mouse  zebrafish    mouse   \n",
       "1  zebrafish_to_xenopus.txt  zebrafish_to_xenopus  zebrafish  xenopus   \n",
       "\n",
       "                    tag  is_reverse  \n",
       "0    mouse_to_zebrafish        True  \n",
       "1  xenopus_to_zebrafish        True  "
      ]
     },
     "metadata": {},
     "output_type": "display_data"
    },
    {
     "data": {
      "text/plain": [
       "(18, 6)"
      ]
     },
     "metadata": {},
     "output_type": "display_data"
    }
   ],
   "source": [
    "df = pd.DataFrame(\n",
    "    {'path': p_root.joinpath('homo').iterdir()}\n",
    ")\n",
    "df['path'] = df['path'].apply(lambda x:x.relative_to(p_root.joinpath('homo')))\n",
    "df = df[df['path'].apply(lambda x: x.match('*_to_*'))]\n",
    "df['name'] = df['path'].apply(lambda x: x.stem)\n",
    "\n",
    "df = df.join(df['name'].str.extract(\n",
    "    '^(?P<sp_ref>[^_]+)_to_(?P<sp_que>[^_]+)$'))\n",
    "df['tag'] = df['name'].str.split('_to_').apply(np.sort).str.join('_to_')\n",
    "df['is_reverse'] = df.eval('tag != name')\n",
    "display(group_agg(df, 'tag,is_reverse'.split(','), {'is_reverse': ['count']}).pivot(\n",
    "    index='tag', columns='is_reverse', values='is_reverse_count'\n",
    ").style.highlight_null(color='red'))\n",
    "display(df.head(2), df.shape)"
   ]
  },
  {
   "cell_type": "code",
   "execution_count": 4,
   "id": "9bba2454-89de-4e73-acf7-257912c8644e",
   "metadata": {},
   "outputs": [
    {
     "data": {
      "text/plain": [
       "PosixPath('/public/workspace/licanchengup/download/res_publish')"
      ]
     },
     "execution_count": 4,
     "metadata": {},
     "output_type": "execute_result"
    }
   ],
   "source": [
    "p_root"
   ]
  },
  {
   "cell_type": "code",
   "execution_count": 5,
   "id": "e064fd1e-c1a5-4f11-9bf1-fff1b83e145f",
   "metadata": {},
   "outputs": [
    {
     "name": "stdout",
     "output_type": "stream",
     "text": [
      "---------------------------------------------\n",
      "[finish]\n",
      "---------------------------------------------\n"
     ]
    }
   ],
   "source": [
    "df.loc[:, 'path,name,sp_ref,sp_que'.split(',')].to_csv(\n",
    "    p_root.joinpath('homo','df_varmap.csv'), index=False)\n",
    "print('\\n[finish]\\n'.center(100,'-'))"
   ]
  }
 ],
 "metadata": {
  "kernelspec": {
   "display_name": "publish",
   "language": "python",
   "name": "publish"
  },
  "language_info": {
   "codemirror_mode": {
    "name": "ipython",
    "version": 3
   },
   "file_extension": ".py",
   "mimetype": "text/x-python",
   "name": "python",
   "nbconvert_exporter": "python",
   "pygments_lexer": "ipython3",
   "version": "3.9.18"
  }
 },
 "nbformat": 4,
 "nbformat_minor": 5
}
